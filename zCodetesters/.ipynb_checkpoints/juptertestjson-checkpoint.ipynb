{
 "cells": [
  {
   "cell_type": "markdown",
   "metadata": {},
   "source": [
    "# Get index with http"
   ]
  },
  {
   "cell_type": "code",
   "execution_count": null,
   "metadata": {},
   "outputs": [],
   "source": [
    "#get data index from piserver\n",
    "URL= \"http://192.168.178.40:5000/getIndex\"\n",
    "r = requests.get(url=URL)\n",
    "data= r.json()\n",
    "print(data)"
   ]
  },
  {
   "cell_type": "code",
   "execution_count": 38,
   "metadata": {},
   "outputs": [
    {
     "name": "stdout",
     "output_type": "stream",
     "text": [
      "name\n",
      "workout_03_11_165537.csv\n",
      "workout_03_11_170135.csv\n",
      "workout_03_11_170703.csv\n",
      "workout_03_11_171701.csv\n"
     ]
    }
   ],
   "source": [
    "#print laatste sessie namen\n",
    "for x in data:\n",
    "    print(x[0])"
   ]
  },
  {
   "cell_type": "code",
   "execution_count": 28,
   "metadata": {},
   "outputs": [
    {
     "name": "stdout",
     "output_type": "stream",
     "text": [
      "['workout_03_11_171701.csv', '0.0', '3', '1572801403.829611', '1572801421.222805', '0.0', '1000', '2019-11-03 17:16:43', '2019-11-03 17:17:01']\n",
      "['workout_03_11_170703.csv', '0.0', '3', '1572800818.8495665', '1572800823.188799', '0.0', '1000', '2019-11-03 17:06:58', '2019-11-03 17:07:03']\n",
      "['workout_03_11_170135.csv', '0.0', '3', '1572800492.5053627', '1572800495.9321349', '0.0', '1000', '2019-11-03 17:01:32', '2019-11-03 17:01:35']\n"
     ]
    }
   ],
   "source": [
    "#print sesie info van de laatste 3 sessies (list begint bij 0, negative [-x] means start from bottom)\n",
    "print(data[-1])\n",
    "print(data[-2])\n",
    "print(data[-3])"
   ]
  },
  {
   "cell_type": "code",
   "execution_count": 36,
   "metadata": {},
   "outputs": [
    {
     "name": "stdout",
     "output_type": "stream",
     "text": [
      "start time 2019-11-03 17:16:43\n",
      "end time 2019-11-03 17:17:01\n"
     ]
    }
   ],
   "source": [
    "#print sesie begin & endtime van laatste sessie\n",
    "print(\"start time:\",data[-1][-2])\n",
    "print(\"end time:\",data[-1][8])"
   ]
  },
  {
   "cell_type": "markdown",
   "metadata": {},
   "source": [
    "# Get session data"
   ]
  },
  {
   "cell_type": "markdown",
   "metadata": {},
   "source": [
    "Get session data, if no arguments are given defaultdata.csv will be returend wich is the latest data session"
   ]
  },
  {
   "cell_type": "code",
   "execution_count": null,
   "metadata": {},
   "outputs": [],
   "source": [
    "URL= \"http://192.168.178.40:5000/getSessionData\"\n",
    "r = requests.get(url=URL)\n",
    "session_data = r.json()\n",
    "print(session_data)"
   ]
  },
  {
   "cell_type": "markdown",
   "metadata": {},
   "source": [
    "Get second last session data, url has to be expaned by \"?dataname.csv\""
   ]
  },
  {
   "cell_type": "code",
   "execution_count": 43,
   "metadata": {},
   "outputs": [
    {
     "name": "stdout",
     "output_type": "stream",
     "text": [
      "get data from url: http://192.168.178.40:5000/getSessionData?workout_03_11_171701.csv\n",
      "[['theta', 'v', 'darc', 'distance'], ['4.81', '-0.0', '0.0', '0.0'], ['4.81', '-0.0', '0.0', '0.0'], ['4.81', '-0.0', '0.0', '0.0'], ['4.81', '-0.0', '0.0', '0.0'], ['4.81', '-0.0', '0.0', '0.0'], ['4.81', '-0.0', '0.0', '0.0'], ['4.81', '-0.0', '0.0', '0.0'], ['4.81', '-0.0', '0.0', '0.0'], ['4.81', '-0.0', '0.0', '0.0'], ['4.81', '-0.0', '0.0', '0.0'], ['4.81', '-0.0', '0.0', '0.0'], ['4.81', '-0.0', '0.0', '0.0'], ['4.81', '-0.0', '0.0', '0.0'], ['4.81', '-0.0', '0.0', '0.0'], ['4.81', '-0.0', '0.0', '0.0'], ['4.81', '-0.0', '0.0', '0.0'], ['4.81', '-0.0', '0.0', '0.0'], ['4.81', '-0.0', '0.0', '0.0'], ['4.81', '-0.324', '0.02', '0.02'], ['10.31', '-3.456', '0.19', '0.21'], ['349.5', '-1.8', '0.1', '0.31'], ['21.44', '-28.764000000000003', '1.6', '1.9100000000000001'], ['42.75', '-27.215999999999998', '1.51', '3.42'], ['32.94', '-28.368', '1.58', '5.0'], ['17.25', '0.6120000000000001', '-0.03', '5.03'], ['352.38', '32.04', '-1.78', '6.8100000000000005'], ['5.81', '0.036000000000000004', '-0.0', '6.8100000000000005'], ['1.56', '-0.25200000000000006', '0.01', '6.82'], ['358.19', '-1.728', '0.1', '6.92'], ['354.94', '-1.116', '0.06', '6.9799999999999995'], ['7.0', '-0.0', '0.0', '6.9799999999999995'], ['7.0', '-0.0', '0.0', '6.9799999999999995'], ['7.0', '-0.0', '0.0', '6.9799999999999995'], ['7.0', '-0.0', '0.0', '6.9799999999999995'], ['7.0', '-0.0', '0.0', '6.9799999999999995'], ['7.0', '-0.0', '0.0', '6.9799999999999995'], ['7.0', '-0.0', '0.0', '6.9799999999999995']]\n"
     ]
    }
   ],
   "source": [
    "#get data index from piserver\n",
    "URL= \"http://192.168.178.40:5000/getSessionData?\" + data[-2][0]\n",
    "r = requests.get(url=URL)\n",
    "print(\"get data from url:\",URL)\n",
    "session_data = r.json()\n",
    "print(session_data)"
   ]
  },
  {
   "cell_type": "code",
   "execution_count": null,
   "metadata": {},
   "outputs": [],
   "source": []
  }
 ],
 "metadata": {
  "kernelspec": {
   "display_name": "Python 3",
   "language": "python",
   "name": "python3"
  },
  "language_info": {
   "codemirror_mode": {
    "name": "ipython",
    "version": 3
   },
   "file_extension": ".py",
   "mimetype": "text/x-python",
   "name": "python",
   "nbconvert_exporter": "python",
   "pygments_lexer": "ipython3",
   "version": "3.7.4"
  }
 },
 "nbformat": 4,
 "nbformat_minor": 2
}
