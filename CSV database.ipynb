{
 "cells": [
  {
   "cell_type": "markdown",
   "metadata": {
    "extensions": {
     "jupyter_dashboards": {
      "version": 1,
      "views": {
       "grid_default": {
        "col": 0,
        "height": 4,
        "hidden": false,
        "row": 0,
        "width": 4
       },
       "report_default": {}
      }
     }
    }
   },
   "source": [
    "# Example of Data Analysis with DCD Hub Data"
   ]
  },
  {
   "cell_type": "markdown",
   "metadata": {
    "extensions": {
     "jupyter_dashboards": {
      "version": 1,
      "views": {
       "grid_default": {
        "col": 4,
        "height": 4,
        "hidden": false,
        "row": 0,
        "width": 4
       },
       "report_default": {}
      }
     }
    }
   },
   "source": [
    "First, we import the Python SDK"
   ]
  },
  {
   "cell_type": "code",
   "execution_count": 1,
   "metadata": {
    "extensions": {
     "jupyter_dashboards": {
      "version": 1,
      "views": {
       "grid_default": {
        "hidden": true
       },
       "report_default": {}
      }
     }
    }
   },
   "outputs": [],
   "source": [
    "from dcd.entities.thing import Thing"
   ]
  },
  {
   "cell_type": "markdown",
   "metadata": {
    "extensions": {
     "jupyter_dashboards": {
      "version": 1,
      "views": {
       "grid_default": {
        "col": 8,
        "height": 4,
        "hidden": false,
        "row": 0,
        "width": 4
       },
       "report_default": {}
      }
     }
    }
   },
   "source": [
    "We provide the thing ID and access token (replace with yours)"
   ]
  },
  {
   "cell_type": "code",
   "execution_count": 2,
   "metadata": {
    "extensions": {
     "jupyter_dashboards": {
      "version": 1,
      "views": {
       "grid_default": {
        "hidden": true
       },
       "report_default": {}
      }
     }
    }
   },
   "outputs": [],
   "source": [
    "from dotenv import load_dotenv\n",
    "import os\n",
    "load_dotenv()\n",
    "THING_ID = os.environ['THING_ID']\n",
    "THING_TOKEN = os.environ['THING_TOKEN']"
   ]
  },
  {
   "cell_type": "markdown",
   "metadata": {
    "extensions": {
     "jupyter_dashboards": {
      "version": 1,
      "views": {
       "grid_default": {
        "col": 0,
        "height": 4,
        "hidden": false,
        "row": 4,
        "width": 4
       },
       "report_default": {}
      }
     }
    }
   },
   "source": [
    "We instantiate a Thing with its credential, then we fetch its details"
   ]
  },
  {
   "cell_type": "code",
   "execution_count": 3,
   "metadata": {
    "extensions": {
     "jupyter_dashboards": {
      "version": 1,
      "views": {
       "grid_default": {
        "col": 4,
        "height": 51,
        "hidden": false,
        "row": 4,
        "width": 4
       },
       "report_default": {}
      }
     }
    }
   },
   "outputs": [
    {
     "name": "stderr",
     "output_type": "stream",
     "text": [
      "INFO:dcd:things:wheelchair_speed-e706:Initialising MQTT connection for Thing 'dcd:things:wheelchair_speed-e706'\n",
      "DEBUG:urllib3.connectionpool:Starting new HTTPS connection (1): dwd.tudelft.nl:443\n",
      "INFO:dcd:things:wheelchair_speed-e706:Connection successful\n",
      "DEBUG:urllib3.connectionpool:https://dwd.tudelft.nl:443 \"GET /api/things/dcd:things:wheelchair_speed-e706 HTTP/1.1\" 200 6724\n"
     ]
    },
    {
     "name": "stdout",
     "output_type": "stream",
     "text": [
      "DigiCertCA.crt exist.\n",
      "{'thing': {'id': 'dcd:things:wheelchair_speed-e706', 'name': 'Wheelchair_speed', 'description': '', 'type': 'Speed', 'properties': [{'type': 'THREE_DIMENSIONS', 'name': 'My Random Property', 'description': '', 'dimensions': [{'name': 'Value1', 'description': '', 'unit': ''}, {'name': 'Value2', 'description': '', 'unit': ''}, {'name': 'Value3', 'description': '', 'unit': ''}, {'name': 'Value1', 'description': '', 'unit': ''}, {'name': 'Value2', 'description': '', 'unit': ''}, {'name': 'Value3', 'description': '', 'unit': ''}], 'id': 'my-random-property-5f3c', 'classes': [], 'values': [], 'entityId': 'dcd:things:wheelchair_speed-e706', 'readAt': 1572361628746, 'registeredAt': 1571392699000}, {'type': 'ONE_DIMENSION', 'name': 'one', 'description': '', 'dimensions': [{'name': 'Value', 'description': '', 'unit': ''}], 'id': 'one-28d7', 'classes': [], 'values': [], 'entityId': 'dcd:things:wheelchair_speed-e706', 'readAt': 1572361628746, 'registeredAt': 1571994791000}, {'type': 'THREE_DIMENSIONS', 'name': 'RANDOM SHIT', 'description': '', 'dimensions': [{'name': 'Value1', 'description': '', 'unit': ''}, {'name': 'Value2', 'description': '', 'unit': ''}, {'name': 'Value3', 'description': '', 'unit': ''}, {'name': 'Value1', 'description': '', 'unit': ''}, {'name': 'Value2', 'description': '', 'unit': ''}, {'name': 'Value3', 'description': '', 'unit': ''}], 'id': 'random-shit-aa03', 'classes': [], 'values': [], 'entityId': 'dcd:things:wheelchair_speed-e706', 'readAt': 1572361628746, 'registeredAt': 1571994791000}, {'type': 'TWO_DIMENSIONS', 'name': 'Rotation', 'description': '', 'dimensions': [{'name': 'Value1', 'description': '', 'unit': ''}, {'name': 'Value2', 'description': '', 'unit': ''}, {'name': 'Value1', 'description': '', 'unit': ''}, {'name': 'Value2', 'description': '', 'unit': ''}], 'id': 'rotation-7ecd', 'classes': [], 'values': [], 'entityId': 'dcd:things:wheelchair_speed-e706', 'readAt': 1572361628746, 'registeredAt': 1571753516000}, {'type': 'ONE_DIMENSION', 'name': 'Speed', 'description': '', 'dimensions': [{'name': 'Value', 'description': '', 'unit': ''}], 'id': 'speed-83ac', 'classes': [], 'values': [], 'entityId': 'dcd:things:wheelchair_speed-e706', 'readAt': 1572361628746, 'registeredAt': 1571753522000}, {'type': 'THREE_DIMENSIONS', 'name': 'three', 'description': '', 'dimensions': [{'name': 'Value1', 'description': '', 'unit': ''}, {'name': 'Value2', 'description': '', 'unit': ''}, {'name': 'Value3', 'description': '', 'unit': ''}, {'name': 'Value1', 'description': '', 'unit': ''}, {'name': 'Value2', 'description': '', 'unit': ''}, {'name': 'Value3', 'description': '', 'unit': ''}], 'id': 'three-ad01', 'classes': [], 'values': [], 'entityId': 'dcd:things:wheelchair_speed-e706', 'readAt': 1572361628746, 'registeredAt': 1571994791000}, {'type': 'TWO_DIMENSIONS', 'name': 'two', 'description': '', 'dimensions': [{'name': 'Value1', 'description': '', 'unit': ''}, {'name': 'Value2', 'description': '', 'unit': ''}, {'name': 'Value1', 'description': '', 'unit': ''}, {'name': 'Value2', 'description': '', 'unit': ''}], 'id': 'two-4069', 'classes': [], 'values': [], 'entityId': 'dcd:things:wheelchair_speed-e706', 'readAt': 1572361628746, 'registeredAt': 1571994791000}, {'type': 'THREE_DIMENSIONS', 'name': 'Wheelchair Speed', 'description': '', 'dimensions': [{'name': 'Value1', 'description': '', 'unit': ''}, {'name': 'Value2', 'description': '', 'unit': ''}, {'name': 'Value3', 'description': '', 'unit': ''}, {'name': 'Value1', 'description': '', 'unit': ''}, {'name': 'Value2', 'description': '', 'unit': ''}, {'name': 'Value3', 'description': '', 'unit': ''}], 'id': 'wheelchair-speed-0933', 'classes': [], 'values': [], 'entityId': 'dcd:things:wheelchair_speed-e706', 'readAt': 1572361628746, 'registeredAt': 1571753506000}], 'registeredAt': '2019-10-18T09:54:38.000Z', 'readAt': 1572361628742, 'keys': {}}}\n"
     ]
    }
   ],
   "source": [
    "my_thing = Thing(thing_id=THING_ID, token=THING_TOKEN)\n",
    "my_thing.read()"
   ]
  },
  {
   "cell_type": "markdown",
   "metadata": {
    "extensions": {
     "jupyter_dashboards": {
      "version": 1,
      "views": {
       "grid_default": {
        "col": 8,
        "height": 4,
        "hidden": false,
        "row": 4,
        "width": 4
       },
       "report_default": {}
      }
     }
    }
   },
   "source": [
    "What does a Thing look like?"
   ]
  },
  {
   "cell_type": "code",
   "execution_count": 4,
   "metadata": {
    "extensions": {
     "jupyter_dashboards": {
      "version": 1,
      "views": {
       "grid_default": {
        "col": 0,
        "height": 60,
        "hidden": false,
        "row": 8,
        "width": 4
       },
       "report_default": {}
      }
     }
    }
   },
   "outputs": [
    {
     "data": {
      "text/plain": [
       "{'id': 'dcd:things:wheelchair_speed-e706',\n",
       " 'name': 'Wheelchair_speed',\n",
       " 'description': '',\n",
       " 'type': 'Speed',\n",
       " 'properties': [{'id': 'my-random-property-5f3c',\n",
       "   'name': 'My Random Property',\n",
       "   'description': '',\n",
       "   'type': 'THREE_DIMENSIONS',\n",
       "   'dimensions': [{'name': 'Value1', 'description': '', 'unit': ''},\n",
       "    {'name': 'Value2', 'description': '', 'unit': ''},\n",
       "    {'name': 'Value3', 'description': '', 'unit': ''},\n",
       "    {'name': 'Value1', 'description': '', 'unit': ''},\n",
       "    {'name': 'Value2', 'description': '', 'unit': ''},\n",
       "    {'name': 'Value3', 'description': '', 'unit': ''}]},\n",
       "  {'id': 'one-28d7',\n",
       "   'name': 'one',\n",
       "   'description': '',\n",
       "   'type': 'ONE_DIMENSION',\n",
       "   'dimensions': [{'name': 'Value', 'description': '', 'unit': ''}]},\n",
       "  {'id': 'random-shit-aa03',\n",
       "   'name': 'RANDOM SHIT',\n",
       "   'description': '',\n",
       "   'type': 'THREE_DIMENSIONS',\n",
       "   'dimensions': [{'name': 'Value1', 'description': '', 'unit': ''},\n",
       "    {'name': 'Value2', 'description': '', 'unit': ''},\n",
       "    {'name': 'Value3', 'description': '', 'unit': ''},\n",
       "    {'name': 'Value1', 'description': '', 'unit': ''},\n",
       "    {'name': 'Value2', 'description': '', 'unit': ''},\n",
       "    {'name': 'Value3', 'description': '', 'unit': ''}]},\n",
       "  {'id': 'rotation-7ecd',\n",
       "   'name': 'Rotation',\n",
       "   'description': '',\n",
       "   'type': 'TWO_DIMENSIONS',\n",
       "   'dimensions': [{'name': 'Value1', 'description': '', 'unit': ''},\n",
       "    {'name': 'Value2', 'description': '', 'unit': ''},\n",
       "    {'name': 'Value1', 'description': '', 'unit': ''},\n",
       "    {'name': 'Value2', 'description': '', 'unit': ''}]},\n",
       "  {'id': 'speed-83ac',\n",
       "   'name': 'Speed',\n",
       "   'description': '',\n",
       "   'type': 'ONE_DIMENSION',\n",
       "   'dimensions': [{'name': 'Value', 'description': '', 'unit': ''}]},\n",
       "  {'id': 'three-ad01',\n",
       "   'name': 'three',\n",
       "   'description': '',\n",
       "   'type': 'THREE_DIMENSIONS',\n",
       "   'dimensions': [{'name': 'Value1', 'description': '', 'unit': ''},\n",
       "    {'name': 'Value2', 'description': '', 'unit': ''},\n",
       "    {'name': 'Value3', 'description': '', 'unit': ''},\n",
       "    {'name': 'Value1', 'description': '', 'unit': ''},\n",
       "    {'name': 'Value2', 'description': '', 'unit': ''},\n",
       "    {'name': 'Value3', 'description': '', 'unit': ''}]},\n",
       "  {'id': 'two-4069',\n",
       "   'name': 'two',\n",
       "   'description': '',\n",
       "   'type': 'TWO_DIMENSIONS',\n",
       "   'dimensions': [{'name': 'Value1', 'description': '', 'unit': ''},\n",
       "    {'name': 'Value2', 'description': '', 'unit': ''},\n",
       "    {'name': 'Value1', 'description': '', 'unit': ''},\n",
       "    {'name': 'Value2', 'description': '', 'unit': ''}]},\n",
       "  {'id': 'wheelchair-speed-0933',\n",
       "   'name': 'Wheelchair Speed',\n",
       "   'description': '',\n",
       "   'type': 'THREE_DIMENSIONS',\n",
       "   'dimensions': [{'name': 'Value1', 'description': '', 'unit': ''},\n",
       "    {'name': 'Value2', 'description': '', 'unit': ''},\n",
       "    {'name': 'Value3', 'description': '', 'unit': ''},\n",
       "    {'name': 'Value1', 'description': '', 'unit': ''},\n",
       "    {'name': 'Value2', 'description': '', 'unit': ''},\n",
       "    {'name': 'Value3', 'description': '', 'unit': ''}]}]}"
      ]
     },
     "execution_count": 4,
     "metadata": {},
     "output_type": "execute_result"
    }
   ],
   "source": [
    "my_thing.to_json()"
   ]
  },
  {
   "cell_type": "markdown",
   "metadata": {
    "extensions": {
     "jupyter_dashboards": {
      "version": 1,
      "views": {
       "grid_default": {
        "col": 8,
        "height": 4,
        "hidden": false,
        "row": 8,
        "width": 4
       },
       "report_default": {}
      }
     }
    }
   },
   "source": [
    "Which property do we want to explore and over which time frame?"
   ]
  },
  {
   "cell_type": "code",
   "execution_count": 5,
   "metadata": {
    "extensions": {
     "jupyter_dashboards": {
      "version": 1,
      "views": {
       "grid_default": {
        "hidden": true
       },
       "report_default": {}
      }
     }
    }
   },
   "outputs": [],
   "source": [
    "from datetime import datetime, timedelta\n",
    "# What dates?\n",
    "now = datetime.now()\n",
    "now_minus_10 = now + timedelta(minutes = -10)\n",
    "START_DATE = datetime.strftime(now_minus_10, \"%Y-%m-%d %H:%M:%S\")\n",
    "END_DATE = datetime.strftime(now, \"%Y-%m-%d %H:%M:%S\")\n",
    "\n",
    "DATE_FORMAT = '%Y-%m-%d %H:%M:%S'\n",
    "from_ts = datetime.timestamp(datetime.strptime(START_DATE, DATE_FORMAT)) * 1000\n",
    "to_ts = datetime.timestamp(datetime.strptime(END_DATE, DATE_FORMAT)) * 1000"
   ]
  },
  {
   "cell_type": "markdown",
   "metadata": {
    "extensions": {
     "jupyter_dashboards": {
      "version": 1,
      "views": {
       "grid_default": {
        "col": 8,
        "height": 4,
        "hidden": false,
        "row": 12,
        "width": 4
       },
       "report_default": {}
      }
     }
    }
   },
   "source": [
    "Let's find this property and read the data."
   ]
  },
  {
   "cell_type": "code",
   "execution_count": 6,
   "metadata": {
    "extensions": {
     "jupyter_dashboards": {
      "version": 1,
      "views": {
       "grid_default": {
        "hidden": true
       },
       "report_default": {}
      }
     }
    }
   },
   "outputs": [
    {
     "name": "stderr",
     "output_type": "stream",
     "text": [
      "DEBUG:urllib3.connectionpool:Starting new HTTPS connection (1): dwd.tudelft.nl:443\n",
      "DEBUG:urllib3.connectionpool:https://dwd.tudelft.nl:443 \"GET /api/things/dcd:things:wheelchair_speed-e706/properties/one-28d7?from=1572361038000.0&to=1572361638000.0 HTTP/1.1\" 200 17419\n"
     ]
    }
   ],
   "source": [
    "PROPERTY_NAME = \"one\"\n",
    "\n",
    "my_property = my_thing.find_property_by_name(PROPERTY_NAME)\n",
    "my_property.read(from_ts, to_ts)"
   ]
  },
  {
   "cell_type": "markdown",
   "metadata": {
    "extensions": {
     "jupyter_dashboards": {
      "version": 1,
      "views": {
       "grid_default": {
        "col": 8,
        "height": 4,
        "hidden": false,
        "row": 16,
        "width": 4
       },
       "report_default": {}
      }
     }
    }
   },
   "source": [
    "How many data point did we get?"
   ]
  },
  {
   "cell_type": "code",
   "execution_count": 7,
   "metadata": {
    "extensions": {
     "jupyter_dashboards": {
      "version": 1,
      "views": {
       "grid_default": {
        "col": 8,
        "height": 4,
        "hidden": false,
        "row": 20,
        "width": 4
       },
       "report_default": {}
      }
     }
    }
   },
   "outputs": [
    {
     "name": "stdout",
     "output_type": "stream",
     "text": [
      "300\n"
     ]
    }
   ],
   "source": [
    "print(len(my_property.values))"
   ]
  },
  {
   "cell_type": "markdown",
   "metadata": {
    "extensions": {
     "jupyter_dashboards": {
      "version": 1,
      "views": {
       "grid_default": {
        "col": 8,
        "height": 4,
        "hidden": false,
        "row": 24,
        "width": 4
       },
       "report_default": {}
      }
     }
    }
   },
   "source": [
    "Display values"
   ]
  },
  {
   "cell_type": "code",
   "execution_count": 8,
   "metadata": {
    "extensions": {
     "jupyter_dashboards": {
      "version": 1,
      "views": {
       "grid_default": {
        "col": 8,
        "height": 18,
        "hidden": false,
        "row": 28,
        "width": 4
       },
       "report_default": {}
      }
     }
    }
   },
   "outputs": [
    {
     "data": {
      "text/plain": [
       "[[1572361038868, 0.449422],\n",
       " [1572361040870, 0.708227],\n",
       " [1572361042873, 0.600971],\n",
       " [1572361044876, 0.605841],\n",
       " [1572361046880, 0.177872],\n",
       " [1572361048885, 0.429413],\n",
       " [1572361050891, 0.254338],\n",
       " [1572361052894, 0.54525],\n",
       " [1572361054898, 0.247568],\n",
       " [1572361056901, 0.128198],\n",
       " [1572361058905, 0.11376],\n",
       " [1572361060907, 0.6281],\n",
       " [1572361062908, 0.505196],\n",
       " [1572361064910, 0.0328754],\n",
       " [1572361066913, 0.498223],\n",
       " [1572361068916, 0.935215],\n",
       " [1572361070922, 0.759552],\n",
       " [1572361072923, 0.436234],\n",
       " [1572361074927, 0.637195],\n",
       " [1572361076932, 0.868225],\n",
       " [1572361078934, 0.765366],\n",
       " [1572361080938, 0.861195],\n",
       " [1572361082939, 0.274259],\n",
       " [1572361084942, 0.808008],\n",
       " [1572361086946, 0.405959],\n",
       " [1572361088947, 0.367253],\n",
       " [1572361090953, 0.798251],\n",
       " [1572361092957, 0.866846],\n",
       " [1572361094959, 0.100617],\n",
       " [1572361096964, 0.312556],\n",
       " [1572361098970, 0.826026],\n",
       " [1572361100974, 0.484295],\n",
       " [1572361102976, 0.371362],\n",
       " [1572361104982, 0.18743],\n",
       " [1572361106983, 0.199079],\n",
       " [1572361108984, 0.663194],\n",
       " [1572361110991, 0.464825],\n",
       " [1572361112992, 0.43637],\n",
       " [1572361114998, 0.199386],\n",
       " [1572361116999, 0.379196],\n",
       " [1572361119001, 0.879841],\n",
       " [1572361121005, 0.158829],\n",
       " [1572361123010, 0.502322],\n",
       " [1572361125015, 0.178133],\n",
       " [1572361127019, 0.686413],\n",
       " [1572361129020, 0.472596],\n",
       " [1572361131023, 0.766448],\n",
       " [1572361133029, 0.108324],\n",
       " [1572361135034, 0.924703],\n",
       " [1572361137035, 0.287374],\n",
       " [1572361139041, 0.642502],\n",
       " [1572361141042, 0.788871],\n",
       " [1572361143044, 0.717733],\n",
       " [1572361145047, 0.676729],\n",
       " [1572361147052, 0.851813],\n",
       " [1572361149057, 0.470466],\n",
       " [1572361151058, 0.388378],\n",
       " [1572361153063, 0.733735],\n",
       " [1572361155067, 0.488993],\n",
       " [1572361157069, 0.136034],\n",
       " [1572361159071, 0.0593674],\n",
       " [1572361161076, 0.809445],\n",
       " [1572361163082, 0.500321],\n",
       " [1572361165083, 0.166135],\n",
       " [1572361167089, 0.19113],\n",
       " [1572361169090, 0.288329],\n",
       " [1572361171093, 0.0142334],\n",
       " [1572361173094, 0.629637],\n",
       " [1572361175099, 0.966479],\n",
       " [1572361177104, 0.649158],\n",
       " [1572361179105, 0.701448],\n",
       " [1572361181110, 0.54455],\n",
       " [1572361183111, 0.0826025],\n",
       " [1572361185115, 0.44187],\n",
       " [1572361187120, 0.346814],\n",
       " [1572361189124, 0.967656],\n",
       " [1572361191125, 0.0620248],\n",
       " [1572361193131, 0.943911],\n",
       " [1572361195132, 0.848358],\n",
       " [1572361197138, 0.929363],\n",
       " [1572361199142, 0.50773],\n",
       " [1572361201143, 0.982088],\n",
       " [1572361203144, 0.426726],\n",
       " [1572361205146, 0.851525],\n",
       " [1572361207151, 0.246679],\n",
       " [1572361209153, 0.176145],\n",
       " [1572361211157, 0.393506],\n",
       " [1572361213161, 0.887243],\n",
       " [1572361215164, 0.482811],\n",
       " [1572361217168, 0.0599142],\n",
       " [1572361219172, 0.487173],\n",
       " [1572361221174, 0.216416],\n",
       " [1572361223175, 0.240853],\n",
       " [1572361225180, 0.971619],\n",
       " [1572361227182, 0.260925],\n",
       " [1572361229183, 0.302375],\n",
       " [1572361231187, 0.631765],\n",
       " [1572361233191, 0.518933],\n",
       " [1572361235193, 0.917037],\n",
       " [1572361237194, 0.311127],\n",
       " [1572361239196, 0.838595],\n",
       " [1572361241199, 0.296754],\n",
       " [1572361243203, 0.148051],\n",
       " [1572361245207, 0.520208],\n",
       " [1572361247209, 0.518675],\n",
       " [1572361249212, 0.999005],\n",
       " [1572361251215, 0.992071],\n",
       " [1572361253216, 0.583056],\n",
       " [1572361255221, 0.685776],\n",
       " [1572361257223, 0.229189],\n",
       " [1572361259225, 0.830737],\n",
       " [1572361261229, 0.512445],\n",
       " [1572361263231, 0.915887],\n",
       " [1572361265233, 0.691613],\n",
       " [1572361267235, 0.298957],\n",
       " [1572361269238, 0.934497],\n",
       " [1572361271241, 0.606407],\n",
       " [1572361273243, 0.673591],\n",
       " [1572361275245, 0.154626],\n",
       " [1572361277247, 0.616905],\n",
       " [1572361279252, 0.268373],\n",
       " [1572361281256, 0.129038],\n",
       " [1572361283261, 0.152763],\n",
       " [1572361285262, 0.677102],\n",
       " [1572361287265, 0.612035],\n",
       " [1572361289271, 0.578804],\n",
       " [1572361291273, 0.264974],\n",
       " [1572361293278, 0.167067],\n",
       " [1572361295279, 0.320907],\n",
       " [1572361297283, 0.607772],\n",
       " [1572361299284, 0.0673451],\n",
       " [1572361301291, 0.176088],\n",
       " [1572361303292, 0.211459],\n",
       " [1572361305293, 0.280639],\n",
       " [1572361307295, 0.896758],\n",
       " [1572361309297, 0.719428],\n",
       " [1572361311301, 0.0865646],\n",
       " [1572361313303, 0.11887],\n",
       " [1572361315305, 0.517316],\n",
       " [1572361317311, 0.425622],\n",
       " [1572361319317, 0.905869],\n",
       " [1572361321320, 0.0316906],\n",
       " [1572361323322, 0.598025],\n",
       " [1572361325323, 0.0793588],\n",
       " [1572361327325, 0.908485],\n",
       " [1572361329328, 0.324714],\n",
       " [1572361331330, 0.899461],\n",
       " [1572361333331, 0.522637],\n",
       " [1572361335333, 0.960741],\n",
       " [1572361337336, 0.651172],\n",
       " [1572361339340, 0.486188],\n",
       " [1572361341344, 0.3463],\n",
       " [1572361343350, 0.534685],\n",
       " [1572361345352, 0.0040804],\n",
       " [1572361347354, 0.251907],\n",
       " [1572361349360, 0.972011],\n",
       " [1572361351365, 0.123137],\n",
       " [1572361353366, 0.618115],\n",
       " [1572361355368, 0.674778],\n",
       " [1572361357369, 0.272396],\n",
       " [1572361359375, 0.48821],\n",
       " [1572361361380, 0.494264],\n",
       " [1572361363381, 0.736635],\n",
       " [1572361365384, 0.760216],\n",
       " [1572361367385, 0.203903],\n",
       " [1572361369389, 0.471709],\n",
       " [1572361371393, 0.644974],\n",
       " [1572361373394, 0.2653],\n",
       " [1572361375396, 0.999092],\n",
       " [1572361377399, 0.132396],\n",
       " [1572361379404, 0.458651],\n",
       " [1572361381407, 0.391886],\n",
       " [1572361383410, 0.485886],\n",
       " [1572361385415, 0.562988],\n",
       " [1572361387417, 0.509988],\n",
       " [1572361389421, 0.595403],\n",
       " [1572361391427, 0.592639],\n",
       " [1572361393428, 0.0313336],\n",
       " [1572361395432, 0.0521144],\n",
       " [1572361397434, 0.83273],\n",
       " [1572361399440, 0.0225279],\n",
       " [1572361401442, 0.929444],\n",
       " [1572361403444, 0.319147],\n",
       " [1572361405448, 0.141561],\n",
       " [1572361407453, 0.395837],\n",
       " [1572361409455, 0.0624674],\n",
       " [1572361411458, 0.357716],\n",
       " [1572361413460, 0.431133],\n",
       " [1572361415465, 0.576589],\n",
       " [1572361417470, 0.226946],\n",
       " [1572361419473, 0.439797],\n",
       " [1572361421475, 0.863495],\n",
       " [1572361423478, 0.612937],\n",
       " [1572361425480, 0.345465],\n",
       " [1572361427486, 0.161121],\n",
       " [1572361429492, 0.266455],\n",
       " [1572361431493, 0.125515],\n",
       " [1572361433498, 0.220127],\n",
       " [1572361435500, 0.343411],\n",
       " [1572361437502, 0.93699],\n",
       " [1572361439506, 0.679601],\n",
       " [1572361441508, 0.639176],\n",
       " [1572361443511, 0.0667933],\n",
       " [1572361445516, 0.0537801],\n",
       " [1572361447517, 0.875422],\n",
       " [1572361449520, 0.382773],\n",
       " [1572361451525, 0.429006],\n",
       " [1572361453527, 0.355666],\n",
       " [1572361455528, 0.139585],\n",
       " [1572361457530, 0.759059],\n",
       " [1572361459531, 0.394181],\n",
       " [1572361461536, 0.34074],\n",
       " [1572361463538, 0.609072],\n",
       " [1572361465540, 0.354722],\n",
       " [1572361467543, 0.522039],\n",
       " [1572361469548, 0.313519],\n",
       " [1572361471553, 0.236778],\n",
       " [1572361473557, 0.385498],\n",
       " [1572361475560, 0.870961],\n",
       " [1572361477565, 0.273731],\n",
       " [1572361479567, 0.131509],\n",
       " [1572361481571, 0.369705],\n",
       " [1572361483573, 0.403407],\n",
       " [1572361485578, 0.933828],\n",
       " [1572361487580, 0.861521],\n",
       " [1572361489582, 0.652552],\n",
       " [1572361491587, 0.261146],\n",
       " [1572361493590, 0.905918],\n",
       " [1572361495595, 0.854317],\n",
       " [1572361497597, 0.854088],\n",
       " [1572361499598, 0.286203],\n",
       " [1572361501600, 0.158544],\n",
       " [1572361503601, 0.701342],\n",
       " [1572361505604, 0.291162],\n",
       " [1572361507608, 0.946867],\n",
       " [1572361509610, 0.934086],\n",
       " [1572361511614, 0.711818],\n",
       " [1572361513620, 0.672646],\n",
       " [1572361515625, 0.55825],\n",
       " [1572361517628, 0.772917],\n",
       " [1572361519634, 0.405971],\n",
       " [1572361521638, 0.505635],\n",
       " [1572361523642, 0.260196],\n",
       " [1572361525644, 0.510738],\n",
       " [1572361527648, 0.611825],\n",
       " [1572361529650, 0.0177747],\n",
       " [1572361531652, 0.568986],\n",
       " [1572361533653, 0.594734],\n",
       " [1572361535657, 0.16423],\n",
       " [1572361537662, 0.802805],\n",
       " [1572361539663, 0.287731],\n",
       " [1572361541669, 0.3989],\n",
       " [1572361543672, 0.350518],\n",
       " [1572361545674, 0.394094],\n",
       " [1572361547680, 0.00697238],\n",
       " [1572361549686, 0.537931],\n",
       " [1572361551687, 0.127659],\n",
       " [1572361553689, 0.542758],\n",
       " [1572361555691, 0.769488],\n",
       " [1572361557697, 0.038851],\n",
       " [1572361559703, 0.630292],\n",
       " [1572361561704, 0.174678],\n",
       " [1572361563705, 0.883698],\n",
       " [1572361565706, 0.104299],\n",
       " [1572361567710, 0.624324],\n",
       " [1572361569715, 0.231446],\n",
       " [1572361571721, 0.164678],\n",
       " [1572361573722, 0.425179],\n",
       " [1572361575724, 0.406636],\n",
       " [1572361577726, 0.326875],\n",
       " [1572361579727, 0.300479],\n",
       " [1572361581730, 0.406133],\n",
       " [1572361583735, 0.229977],\n",
       " [1572361585736, 0.815872],\n",
       " [1572361587740, 0.0205535],\n",
       " [1572361589741, 0.880226],\n",
       " [1572361591743, 0.227473],\n",
       " [1572361593745, 0.127957],\n",
       " [1572361595747, 0.182612],\n",
       " [1572361597749, 0.830201],\n",
       " [1572361599750, 0.207081],\n",
       " [1572361601754, 0.454333],\n",
       " [1572361603759, 0.714079],\n",
       " [1572361605761, 0.880538],\n",
       " [1572361607764, 0.722491],\n",
       " [1572361609769, 0.673093],\n",
       " [1572361611775, 0.125601],\n",
       " [1572361613781, 0.532255],\n",
       " [1572361615783, 0.0298459],\n",
       " [1572361617788, 0.675911],\n",
       " [1572361619790, 0.797566],\n",
       " [1572361621791, 0.807882],\n",
       " [1572361623792, 0.784257],\n",
       " [1572361625797, 0.655241],\n",
       " [1572361627798, 0.66773],\n",
       " [1572361629803, 0.966444],\n",
       " [1572361631804, 0.453447],\n",
       " [1572361633806, 0.801718],\n",
       " [1572361635807, 0.943934],\n",
       " [1572361637808, 0.238403]]"
      ]
     },
     "execution_count": 8,
     "metadata": {},
     "output_type": "execute_result"
    }
   ],
   "source": [
    "my_property.values"
   ]
  },
  {
   "cell_type": "code",
   "execution_count": 14,
   "metadata": {
    "extensions": {
     "jupyter_dashboards": {
      "version": 1,
      "views": {
       "grid_default": {
        "col": 8,
        "height": 12,
        "hidden": false,
        "row": 46,
        "width": 4
       },
       "report_default": {}
      }
     }
    }
   },
   "outputs": [
    {
     "name": "stdout",
     "output_type": "stream",
     "text": [
      "Tuesday 29 October 2019\n"
     ]
    },
    {
     "name": "stderr",
     "output_type": "stream",
     "text": [
      "INFO:dcd:things:wheelchair_speed-e706:Connection successful\n"
     ]
    }
   ],
   "source": [
    "import pandas as pd\n",
    "import os\n",
    "data = my_property.values\n",
    "df = pd.DataFrame(my_property.values, columns = ['time', 'velocity'])\n",
    "df.to_csv('test.csv')\n",
    "\n",
    "ct = datetime.now().strftime('%A %-d %B %Y')\n",
    "print(ct)\n",
    "nametag = 'Workout '+ct+'.csv'\n",
    "os.rename('test.csv', nametag)"
   ]
  },
  {
   "cell_type": "markdown",
   "metadata": {
    "extensions": {
     "jupyter_dashboards": {
      "version": 1,
      "views": {
       "grid_default": {
        "col": 4,
        "height": 4,
        "hidden": false,
        "row": 55,
        "width": 4
       },
       "report_default": {}
      }
     }
    }
   },
   "source": [
    "# From CSV"
   ]
  },
  {
   "cell_type": "code",
   "execution_count": 50,
   "metadata": {
    "extensions": {
     "jupyter_dashboards": {
      "version": 1,
      "views": {
       "grid_default": {
        "col": 8,
        "height": 28,
        "hidden": false,
        "row": 58,
        "width": 4
       },
       "report_default": {}
      }
     }
    },
    "pycharm": {
     "name": "#%%\n"
    }
   },
   "outputs": [
    {
     "data": {
      "text/html": [
       "<div>\n",
       "<style scoped>\n",
       "    .dataframe tbody tr th:only-of-type {\n",
       "        vertical-align: middle;\n",
       "    }\n",
       "\n",
       "    .dataframe tbody tr th {\n",
       "        vertical-align: top;\n",
       "    }\n",
       "\n",
       "    .dataframe thead th {\n",
       "        text-align: right;\n",
       "    }\n",
       "</style>\n",
       "<table border=\"1\" class=\"dataframe\">\n",
       "  <thead>\n",
       "    <tr style=\"text-align: right;\">\n",
       "      <th></th>\n",
       "      <th>time</th>\n",
       "      <th>velocity</th>\n",
       "    </tr>\n",
       "  </thead>\n",
       "  <tbody>\n",
       "    <tr>\n",
       "      <th>NaT</th>\n",
       "      <td>NaN</td>\n",
       "      <td>NaN</td>\n",
       "    </tr>\n",
       "    <tr>\n",
       "      <th>1970-01-01 00:00:00.000</th>\n",
       "      <td>1.572269e+12</td>\n",
       "      <td>0.665310</td>\n",
       "    </tr>\n",
       "    <tr>\n",
       "      <th>1970-01-01 00:00:00.001</th>\n",
       "      <td>1.572269e+12</td>\n",
       "      <td>0.273751</td>\n",
       "    </tr>\n",
       "    <tr>\n",
       "      <th>1970-01-01 00:00:00.002</th>\n",
       "      <td>1.572269e+12</td>\n",
       "      <td>0.657456</td>\n",
       "    </tr>\n",
       "    <tr>\n",
       "      <th>1970-01-01 00:00:00.003</th>\n",
       "      <td>1.572269e+12</td>\n",
       "      <td>0.996647</td>\n",
       "    </tr>\n",
       "    <tr>\n",
       "      <th>...</th>\n",
       "      <td>...</td>\n",
       "      <td>...</td>\n",
       "    </tr>\n",
       "    <tr>\n",
       "      <th>1970-01-01 00:00:00.294</th>\n",
       "      <td>1.572270e+12</td>\n",
       "      <td>0.792367</td>\n",
       "    </tr>\n",
       "    <tr>\n",
       "      <th>1970-01-01 00:00:00.295</th>\n",
       "      <td>1.572270e+12</td>\n",
       "      <td>0.376382</td>\n",
       "    </tr>\n",
       "    <tr>\n",
       "      <th>1970-01-01 00:00:00.296</th>\n",
       "      <td>1.572270e+12</td>\n",
       "      <td>0.135379</td>\n",
       "    </tr>\n",
       "    <tr>\n",
       "      <th>1970-01-01 00:00:00.297</th>\n",
       "      <td>1.572270e+12</td>\n",
       "      <td>0.466731</td>\n",
       "    </tr>\n",
       "    <tr>\n",
       "      <th>1970-01-01 00:00:00.298</th>\n",
       "      <td>1.572270e+12</td>\n",
       "      <td>0.337107</td>\n",
       "    </tr>\n",
       "  </tbody>\n",
       "</table>\n",
       "<p>300 rows × 2 columns</p>\n",
       "</div>"
      ],
      "text/plain": [
       "                                 time  velocity\n",
       "NaT                               NaN       NaN\n",
       "1970-01-01 00:00:00.000  1.572269e+12  0.665310\n",
       "1970-01-01 00:00:00.001  1.572269e+12  0.273751\n",
       "1970-01-01 00:00:00.002  1.572269e+12  0.657456\n",
       "1970-01-01 00:00:00.003  1.572269e+12  0.996647\n",
       "...                               ...       ...\n",
       "1970-01-01 00:00:00.294  1.572270e+12  0.792367\n",
       "1970-01-01 00:00:00.295  1.572270e+12  0.376382\n",
       "1970-01-01 00:00:00.296  1.572270e+12  0.135379\n",
       "1970-01-01 00:00:00.297  1.572270e+12  0.466731\n",
       "1970-01-01 00:00:00.298  1.572270e+12  0.337107\n",
       "\n",
       "[300 rows x 2 columns]"
      ]
     },
     "execution_count": 50,
     "metadata": {},
     "output_type": "execute_result"
    }
   ],
   "source": [
    "from numpy import genfromtxt\n",
    "import pandas as pd\n",
    "data = genfromtxt('Workout Monday 28 October 2019.csv', delimiter=',')\n",
    "data_frame = pd.DataFrame(data[:,1:], index = pd.DatetimeIndex(pd.to_datetime(data[:,0], unit='ms')), columns = ['time', 'velocity'])\n",
    "data_frame"
   ]
  },
  {
   "cell_type": "markdown",
   "metadata": {
    "extensions": {
     "jupyter_dashboards": {
      "version": 1,
      "views": {
       "grid_default": {
        "col": 0,
        "height": 4,
        "hidden": false,
        "row": 86,
        "width": 12
       },
       "report_default": {}
      }
     }
    }
   },
   "source": [
    "# Plot some charts with Matplotlib\n",
    "In this example we plot an histogram, distribution of all values and dimensions."
   ]
  },
  {
   "cell_type": "code",
   "execution_count": 38,
   "metadata": {
    "extensions": {
     "jupyter_dashboards": {
      "version": 1,
      "views": {
       "grid_default": {
        "hidden": true
       },
       "report_default": {}
      }
     }
    },
    "pycharm": {
     "name": "#%%\n"
    }
   },
   "outputs": [],
   "source": [
    "import numpy as np\n",
    "import matplotlib.pyplot as plt\n",
    "from matplotlib.pyplot import figure\n",
    "from numpy import ma\n",
    "data = np.array(my_property.values)"
   ]
  },
  {
   "cell_type": "code",
   "execution_count": 39,
   "metadata": {
    "extensions": {
     "jupyter_dashboards": {
      "version": 1,
      "views": {
       "grid_default": {
        "col": 4,
        "height": 12,
        "hidden": false,
        "row": 59,
        "width": 4
       },
       "report_default": {}
      }
     }
    },
    "pycharm": {
     "name": "#%%\n"
    }
   },
   "outputs": [
    {
     "data": {
      "text/plain": [
       "[<matplotlib.lines.Line2D at 0x129ff1250>]"
      ]
     },
     "execution_count": 39,
     "metadata": {},
     "output_type": "execute_result"
    },
    {
     "data": {
      "image/png": "[encoded data removed]",
      "text/plain": [
       "<Figure size 1080x360 with 1 Axes>"
      ]
     },
     "metadata": {
      "needs_background": "light"
     },
     "output_type": "display_data"
    }
   ],
   "source": [
    "figure(num=None, figsize=(15, 5))\n",
    "t = data_frame.index\n",
    "#plt.plot(t, data_frame.x, t, data_frame.y)\n",
    "plt.plot(t,data_frame.y)"
   ]
  },
  {
   "cell_type": "code",
   "execution_count": 41,
   "metadata": {
    "extensions": {
     "jupyter_dashboards": {
      "version": 1,
      "views": {
       "grid_default": {
        "col": 0,
        "height": 9,
        "hidden": false,
        "row": 68,
        "width": 4
       },
       "report_default": {}
      }
     }
    },
    "pycharm": {
     "name": "#%%\n"
    }
   },
   "outputs": [],
   "source": [
    "#plt.hist(data[:,:])\n",
    "#plt.show()"
   ]
  },
  {
   "cell_type": "markdown",
   "metadata": {
    "extensions": {
     "jupyter_dashboards": {
      "version": 1,
      "views": {
       "grid_default": {
        "col": 4,
        "height": 4,
        "hidden": false,
        "row": 71,
        "width": 4
       },
       "report_default": {}
      }
     }
    }
   },
   "source": [
    "# Generate statistics with NumPy and Pandas"
   ]
  },
  {
   "cell_type": "code",
   "execution_count": 42,
   "metadata": {
    "extensions": {
     "jupyter_dashboards": {
      "version": 1,
      "views": {
       "grid_default": {
        "hidden": true
       },
       "report_default": {}
      }
     }
    }
   },
   "outputs": [],
   "source": [
    "import numpy as np\n",
    "from scipy.stats import kurtosis, skew"
   ]
  },
  {
   "cell_type": "code",
   "execution_count": 43,
   "metadata": {
    "extensions": {
     "jupyter_dashboards": {
      "version": 1,
      "views": {
       "grid_default": {
        "col": 4,
        "height": 4,
        "hidden": false,
        "row": 75,
        "width": 4
       },
       "report_default": {}
      }
     }
    }
   },
   "outputs": [
    {
     "data": {
      "text/plain": [
       "array([0.00714962])"
      ]
     },
     "execution_count": 43,
     "metadata": {},
     "output_type": "execute_result"
    }
   ],
   "source": [
    "np.min(data[:,1:4], axis=0)"
   ]
  },
  {
   "cell_type": "code",
   "execution_count": 44,
   "metadata": {
    "extensions": {
     "jupyter_dashboards": {
      "version": 1,
      "views": {
       "grid_default": {
        "col": 0,
        "height": 4,
        "hidden": false,
        "row": 77,
        "width": 4
       },
       "report_default": {}
      }
     }
    }
   },
   "outputs": [
    {
     "data": {
      "text/plain": [
       "array([-0.04736197])"
      ]
     },
     "execution_count": 44,
     "metadata": {},
     "output_type": "execute_result"
    }
   ],
   "source": [
    "skew(data[:,1:4])"
   ]
  },
  {
   "cell_type": "markdown",
   "metadata": {
    "extensions": {
     "jupyter_dashboards": {
      "version": 1,
      "views": {
       "grid_default": {
        "col": 4,
        "height": 4,
        "hidden": false,
        "row": 79,
        "width": 4
       },
       "report_default": {}
      }
     }
    }
   },
   "source": [
    "You can select a column (slice) of data, or a subset of data. In the example below we select rows\n",
    "from 10 to 20 (10 in total) and the colum 1 to x (i.e skiping the first column representing the time)."
   ]
  },
  {
   "cell_type": "code",
   "execution_count": 45,
   "metadata": {
    "extensions": {
     "jupyter_dashboards": {
      "version": 1,
      "views": {
       "grid_default": {
        "col": 0,
        "height": 7,
        "hidden": false,
        "row": 90,
        "width": 4
       },
       "report_default": {}
      }
     }
    }
   },
   "outputs": [
    {
     "data": {
      "text/plain": [
       "array([[0.66531 ],\n",
       "       [0.273751],\n",
       "       [0.657456],\n",
       "       [0.996647],\n",
       "       [0.664451],\n",
       "       [0.6698  ],\n",
       "       [0.289665],\n",
       "       [0.480498],\n",
       "       [0.11529 ],\n",
       "       [0.708229]])"
      ]
     },
     "execution_count": 45,
     "metadata": {},
     "output_type": "execute_result"
    }
   ],
   "source": [
    "data[:10,1:]"
   ]
  },
  {
   "cell_type": "markdown",
   "metadata": {
    "extensions": {
     "jupyter_dashboards": {
      "version": 1,
      "views": {
       "grid_default": {
        "col": 0,
        "height": 4,
        "hidden": false,
        "row": 81,
        "width": 4
       },
       "report_default": {}
      }
     }
    }
   },
   "source": [
    "Out of the box, Pandas give you some statistics, do not forget to convert your array into a DataFrame."
   ]
  },
  {
   "cell_type": "code",
   "execution_count": 46,
   "metadata": {
    "extensions": {
     "jupyter_dashboards": {
      "version": 1,
      "views": {
       "grid_default": {
        "col": 4,
        "height": 9,
        "hidden": false,
        "row": 90,
        "width": 4
       },
       "report_default": {}
      }
     }
    }
   },
   "outputs": [
    {
     "data": {
      "text/html": [
       "<div>\n",
       "<style scoped>\n",
       "    .dataframe tbody tr th:only-of-type {\n",
       "        vertical-align: middle;\n",
       "    }\n",
       "\n",
       "    .dataframe tbody tr th {\n",
       "        vertical-align: top;\n",
       "    }\n",
       "\n",
       "    .dataframe thead th {\n",
       "        text-align: right;\n",
       "    }\n",
       "</style>\n",
       "<table border=\"1\" class=\"dataframe\">\n",
       "  <thead>\n",
       "    <tr style=\"text-align: right;\">\n",
       "      <th></th>\n",
       "      <th>0</th>\n",
       "    </tr>\n",
       "  </thead>\n",
       "  <tbody>\n",
       "    <tr>\n",
       "      <th>count</th>\n",
       "      <td>299.000000</td>\n",
       "    </tr>\n",
       "    <tr>\n",
       "      <th>mean</th>\n",
       "      <td>0.511929</td>\n",
       "    </tr>\n",
       "    <tr>\n",
       "      <th>std</th>\n",
       "      <td>0.291276</td>\n",
       "    </tr>\n",
       "    <tr>\n",
       "      <th>min</th>\n",
       "      <td>0.007150</td>\n",
       "    </tr>\n",
       "    <tr>\n",
       "      <th>25%</th>\n",
       "      <td>0.255531</td>\n",
       "    </tr>\n",
       "    <tr>\n",
       "      <th>50%</th>\n",
       "      <td>0.514969</td>\n",
       "    </tr>\n",
       "    <tr>\n",
       "      <th>75%</th>\n",
       "      <td>0.775477</td>\n",
       "    </tr>\n",
       "    <tr>\n",
       "      <th>max</th>\n",
       "      <td>0.997760</td>\n",
       "    </tr>\n",
       "  </tbody>\n",
       "</table>\n",
       "</div>"
      ],
      "text/plain": [
       "                0\n",
       "count  299.000000\n",
       "mean     0.511929\n",
       "std      0.291276\n",
       "min      0.007150\n",
       "25%      0.255531\n",
       "50%      0.514969\n",
       "75%      0.775477\n",
       "max      0.997760"
      ]
     },
     "execution_count": 46,
     "metadata": {},
     "output_type": "execute_result"
    }
   ],
   "source": [
    "data_frame = pd.DataFrame(data[:,1:], index = pd.DatetimeIndex(pd.to_datetime(data[:,0], unit='ms')))\n",
    "pd.DataFrame.describe(data_frame)"
   ]
  },
  {
   "cell_type": "code",
   "execution_count": 47,
   "metadata": {
    "extensions": {
     "jupyter_dashboards": {
      "version": 1,
      "views": {
       "grid_default": {
        "col": 8,
        "height": 27,
        "hidden": false,
        "row": 90,
        "width": 4
       },
       "report_default": {}
      }
     }
    }
   },
   "outputs": [
    {
     "data": {
      "text/html": [
       "<div>\n",
       "<style scoped>\n",
       "    .dataframe tbody tr th:only-of-type {\n",
       "        vertical-align: middle;\n",
       "    }\n",
       "\n",
       "    .dataframe tbody tr th {\n",
       "        vertical-align: top;\n",
       "    }\n",
       "\n",
       "    .dataframe thead th {\n",
       "        text-align: right;\n",
       "    }\n",
       "</style>\n",
       "<table border=\"1\" class=\"dataframe\">\n",
       "  <thead>\n",
       "    <tr style=\"text-align: right;\">\n",
       "      <th></th>\n",
       "      <th>0</th>\n",
       "    </tr>\n",
       "  </thead>\n",
       "  <tbody>\n",
       "    <tr>\n",
       "      <th>2019-10-28 13:28:27.685</th>\n",
       "      <td>NaN</td>\n",
       "    </tr>\n",
       "    <tr>\n",
       "      <th>2019-10-28 13:28:29.688</th>\n",
       "      <td>NaN</td>\n",
       "    </tr>\n",
       "    <tr>\n",
       "      <th>2019-10-28 13:28:31.689</th>\n",
       "      <td>NaN</td>\n",
       "    </tr>\n",
       "    <tr>\n",
       "      <th>2019-10-28 13:28:33.695</th>\n",
       "      <td>NaN</td>\n",
       "    </tr>\n",
       "    <tr>\n",
       "      <th>2019-10-28 13:28:35.697</th>\n",
       "      <td>NaN</td>\n",
       "    </tr>\n",
       "    <tr>\n",
       "      <th>...</th>\n",
       "      <td>...</td>\n",
       "    </tr>\n",
       "    <tr>\n",
       "      <th>2019-10-28 13:38:16.639</th>\n",
       "      <td>0.354704</td>\n",
       "    </tr>\n",
       "    <tr>\n",
       "      <th>2019-10-28 13:38:18.640</th>\n",
       "      <td>0.339820</td>\n",
       "    </tr>\n",
       "    <tr>\n",
       "      <th>2019-10-28 13:38:20.642</th>\n",
       "      <td>0.354992</td>\n",
       "    </tr>\n",
       "    <tr>\n",
       "      <th>2019-10-28 13:38:22.646</th>\n",
       "      <td>0.324643</td>\n",
       "    </tr>\n",
       "    <tr>\n",
       "      <th>2019-10-28 13:38:24.648</th>\n",
       "      <td>0.312672</td>\n",
       "    </tr>\n",
       "  </tbody>\n",
       "</table>\n",
       "<p>299 rows × 1 columns</p>\n",
       "</div>"
      ],
      "text/plain": [
       "                                0\n",
       "2019-10-28 13:28:27.685       NaN\n",
       "2019-10-28 13:28:29.688       NaN\n",
       "2019-10-28 13:28:31.689       NaN\n",
       "2019-10-28 13:28:33.695       NaN\n",
       "2019-10-28 13:28:35.697       NaN\n",
       "...                           ...\n",
       "2019-10-28 13:38:16.639  0.354704\n",
       "2019-10-28 13:38:18.640  0.339820\n",
       "2019-10-28 13:38:20.642  0.354992\n",
       "2019-10-28 13:38:22.646  0.324643\n",
       "2019-10-28 13:38:24.648  0.312672\n",
       "\n",
       "[299 rows x 1 columns]"
      ]
     },
     "execution_count": 47,
     "metadata": {},
     "output_type": "execute_result"
    }
   ],
   "source": [
    "data_frame.rolling(10).std()"
   ]
  },
  {
   "cell_type": "markdown",
   "metadata": {
    "extensions": {
     "jupyter_dashboards": {
      "version": 1,
      "views": {
       "grid_default": {
        "col": 0,
        "height": 4,
        "hidden": false,
        "row": 117,
        "width": 12
       },
       "report_default": {}
      }
     }
    }
   },
   "source": [
    "# Rolling / Sliding Window\n",
    "To apply statistics on a sliding (or rolling) window, we can use the rolling() function of a data frame. In the example below, we roll with a window size of 4 elements to apply a skew()"
   ]
  },
  {
   "cell_type": "code",
   "execution_count": 48,
   "metadata": {
    "extensions": {
     "jupyter_dashboards": {
      "version": 1,
      "views": {
       "grid_default": {
        "col": 0,
        "height": 9,
        "hidden": false,
        "row": 97,
        "width": 4
       },
       "report_default": {}
      }
     }
    }
   },
   "outputs": [
    {
     "data": {
      "image/png": "[encoded data removed]",
      "text/plain": [
       "<Figure size 432x288 with 1 Axes>"
      ]
     },
     "metadata": {
      "needs_background": "light"
     },
     "output_type": "display_data"
    }
   ],
   "source": [
    "rolling2s = data_frame.rolling('2s').std()\n",
    "plt.plot(rolling2s)\n",
    "plt.show()"
   ]
  },
  {
   "cell_type": "code",
   "execution_count": 49,
   "metadata": {
    "extensions": {
     "jupyter_dashboards": {
      "version": 1,
      "views": {
       "grid_default": {
        "col": 4,
        "height": 9,
        "hidden": false,
        "row": 99,
        "width": 4
       },
       "report_default": {}
      }
     }
    }
   },
   "outputs": [
    {
     "data": {
      "image/png": "[encoded data removed]",
      "text/plain": [
       "<Figure size 432x288 with 1 Axes>"
      ]
     },
     "metadata": {
      "needs_background": "light"
     },
     "output_type": "display_data"
    }
   ],
   "source": [
    "rolling100_data_points = data_frame.rolling(100).skew()\n",
    "plt.plot(rolling100_data_points)\n",
    "plt.show()"
   ]
  },
  {
   "cell_type": "markdown",
   "metadata": {
    "extensions": {
     "jupyter_dashboards": {
      "version": 1,
      "views": {
       "grid_default": {
        "col": 0,
        "height": 4,
        "hidden": false,
        "row": 106,
        "width": 4
       },
       "report_default": {}
      }
     }
    }
   },
   "source": [
    "# Zero Crossing"
   ]
  },
  {
   "cell_type": "code",
   "execution_count": 1,
   "metadata": {
    "extensions": {
     "jupyter_dashboards": {
      "version": 1,
      "views": {
       "grid_default": {
        "col": 4,
        "height": 9,
        "hidden": false,
        "row": 108,
        "width": 4
       },
       "report_default": {}
      }
     }
    }
   },
   "outputs": [
    {
     "ename": "NameError",
     "evalue": "name 'plt' is not defined",
     "output_type": "error",
     "traceback": [
      "\u001b[0;31m---------------------------------------------------------------------------\u001b[0m",
      "\u001b[0;31mNameError\u001b[0m                                 Traceback (most recent call last)",
      "\u001b[0;32m<ipython-input-1-39d437721077>\u001b[0m in \u001b[0;36m<module>\u001b[0;34m\u001b[0m\n\u001b[0;32m----> 1\u001b[0;31m \u001b[0mplt\u001b[0m\u001b[0;34m.\u001b[0m\u001b[0mhist\u001b[0m\u001b[0;34m(\u001b[0m\u001b[0mnp\u001b[0m\u001b[0;34m.\u001b[0m\u001b[0mwhere\u001b[0m\u001b[0;34m(\u001b[0m\u001b[0mnp\u001b[0m\u001b[0;34m.\u001b[0m\u001b[0mdiff\u001b[0m\u001b[0;34m(\u001b[0m\u001b[0mnp\u001b[0m\u001b[0;34m.\u001b[0m\u001b[0msign\u001b[0m\u001b[0;34m(\u001b[0m\u001b[0mdata\u001b[0m\u001b[0;34m[\u001b[0m\u001b[0;34m:\u001b[0m\u001b[0;34m,\u001b[0m\u001b[0;36m1\u001b[0m\u001b[0;34m]\u001b[0m\u001b[0;34m)\u001b[0m\u001b[0;34m)\u001b[0m\u001b[0;34m)\u001b[0m\u001b[0;34m)\u001b[0m\u001b[0;34m\u001b[0m\u001b[0;34m\u001b[0m\u001b[0m\n\u001b[0m\u001b[1;32m      2\u001b[0m \u001b[0mplt\u001b[0m\u001b[0;34m.\u001b[0m\u001b[0mshow\u001b[0m\u001b[0;34m(\u001b[0m\u001b[0;34m)\u001b[0m\u001b[0;34m\u001b[0m\u001b[0;34m\u001b[0m\u001b[0m\n",
      "\u001b[0;31mNameError\u001b[0m: name 'plt' is not defined"
     ]
    }
   ],
   "source": [
    "plt.hist(np.where(np.diff(np.sign(data[:,1]))))\n",
    "plt.show()"
   ]
  },
  {
   "cell_type": "markdown",
   "metadata": {
    "extensions": {
     "jupyter_dashboards": {
      "version": 1,
      "views": {
       "grid_default": {
        "col": 0,
        "height": 4,
        "hidden": false,
        "row": 121,
        "width": 5
       },
       "report_default": {}
      }
     }
    }
   },
   "source": [
    "https://docs.scipy.org/doc/scipy/reference/stats.html#discrete-distributions"
   ]
  }
 ],
 "metadata": {
  "extensions": {
   "jupyter_dashboards": {
    "activeView": "grid_default",
    "version": 1,
    "views": {
     "grid_default": {
      "cellMargin": 10,
      "defaultCellHeight": 20,
      "maxColumns": 12,
      "name": "grid",
      "type": "grid"
     },
     "report_default": {
      "name": "report",
      "type": "report"
     }
    }
   }
  },
  "kernelspec": {
   "display_name": "Python 3",
   "language": "python",
   "name": "python3"
  },
  "language_info": {
   "codemirror_mode": {
    "name": "ipython",
    "version": 3
   },
   "file_extension": ".py",
   "mimetype": "text/x-python",
   "name": "python",
   "nbconvert_exporter": "python",
   "pygments_lexer": "ipython3",
   "version": "3.7.4"
  },
  "pycharm": {
   "stem_cell": {
    "cell_type": "raw",
    "metadata": {
     "collapsed": false
    },
    "source": []
   }
  }
 },
 "nbformat": 4,
 "nbformat_minor": 2
}
