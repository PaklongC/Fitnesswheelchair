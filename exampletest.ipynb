{
 "cells": [
  {
   "cell_type": "markdown",
   "metadata": {
    "extensions": {
     "jupyter_dashboards": {
      "version": 1,
      "views": {
       "grid_default": {},
       "report_default": {}
      }
     }
    }
   },
   "source": [
    "# Example of Data Analysis with DCD Hub Data"
   ]
  },
  {
   "cell_type": "markdown",
   "metadata": {
    "extensions": {
     "jupyter_dashboards": {
      "version": 1,
      "views": {
       "grid_default": {},
       "report_default": {}
      }
     }
    }
   },
   "source": [
    "First, we import the Python SDK"
   ]
  },
  {
   "cell_type": "code",
<<<<<<< HEAD
   "execution_count": 1,
   "metadata": {
    "extensions": {
     "jupyter_dashboards": {
      "version": 1,
      "views": {
       "grid_default": {},
       "report_default": {}
      }
     }
    }
   },
=======
   "execution_count": 169,
   "metadata": {},
>>>>>>> 0e950895d49ea9ada2d17f6fab43eb85d5eea533
   "outputs": [],
   "source": [
    "from dcd.entities.thing import Thing"
   ]
  },
  {
   "cell_type": "markdown",
   "metadata": {
    "extensions": {
     "jupyter_dashboards": {
      "version": 1,
      "views": {
       "grid_default": {},
       "report_default": {}
      }
     }
    }
   },
   "source": [
    "We provide the thing ID and access token (replace with yours)"
   ]
  },
  {
   "cell_type": "code",
<<<<<<< HEAD
   "execution_count": 2,
   "metadata": {
    "extensions": {
     "jupyter_dashboards": {
      "version": 1,
      "views": {
       "grid_default": {},
       "report_default": {}
      }
     }
    }
   },
=======
   "execution_count": 170,
   "metadata": {},
>>>>>>> 0e950895d49ea9ada2d17f6fab43eb85d5eea533
   "outputs": [],
   "source": [
    "from dotenv import load_dotenv\n",
    "import os\n",
    "load_dotenv()\n",
    "THING_ID = os.environ['THING_ID']\n",
    "THING_TOKEN = os.environ['THING_TOKEN']"
   ]
  },
  {
   "cell_type": "markdown",
   "metadata": {
    "extensions": {
     "jupyter_dashboards": {
      "version": 1,
      "views": {
       "grid_default": {},
       "report_default": {}
      }
     }
    }
   },
   "source": [
    "We instantiate a Thing with its credential, then we fetch its details"
   ]
  },
  {
   "cell_type": "code",
<<<<<<< HEAD
   "execution_count": 3,
   "metadata": {
    "extensions": {
     "jupyter_dashboards": {
      "version": 1,
      "views": {
       "grid_default": {},
       "report_default": {}
      }
     }
    }
   },
=======
   "execution_count": 171,
   "metadata": {},
>>>>>>> 0e950895d49ea9ada2d17f6fab43eb85d5eea533
   "outputs": [
    {
     "name": "stderr",
     "output_type": "stream",
     "text": [
      "INFO:dcd:things:wheelchair_speed-e706:Initialising MQTT connection for Thing 'dcd:things:wheelchair_speed-e706'\n",
      "DEBUG:urllib3.connectionpool:Starting new HTTPS connection (1): dwd.tudelft.nl:443\n",
      "INFO:dcd:things:wheelchair_speed-e706:Connection successful\n",
      "DEBUG:urllib3.connectionpool:https://dwd.tudelft.nl:443 \"GET /api/things/dcd:things:wheelchair_speed-e706 HTTP/1.1\" 200 6724\n"
     ]
    },
    {
     "name": "stdout",
     "output_type": "stream",
     "text": [
      "DigiCertCA.crt exist.\n",
<<<<<<< HEAD
      "{'thing': {'id': 'dcd:things:wheelchair_speed-e706', 'name': 'Wheelchair_speed', 'description': '', 'type': 'Speed', 'properties': [{'type': 'THREE_DIMENSIONS', 'name': 'My Random Property', 'description': '', 'dimensions': [{'name': 'Value1', 'description': '', 'unit': ''}, {'name': 'Value2', 'description': '', 'unit': ''}, {'name': 'Value3', 'description': '', 'unit': ''}, {'name': 'Value1', 'description': '', 'unit': ''}, {'name': 'Value2', 'description': '', 'unit': ''}, {'name': 'Value3', 'description': '', 'unit': ''}], 'id': 'my-random-property-5f3c', 'classes': [], 'values': [], 'entityId': 'dcd:things:wheelchair_speed-e706', 'readAt': 1572257194767, 'registeredAt': 1571392699000}, {'type': 'ONE_DIMENSION', 'name': 'one', 'description': '', 'dimensions': [{'name': 'Value', 'description': '', 'unit': ''}], 'id': 'one-28d7', 'classes': [], 'values': [], 'entityId': 'dcd:things:wheelchair_speed-e706', 'readAt': 1572257194767, 'registeredAt': 1571994791000}, {'type': 'THREE_DIMENSIONS', 'name': 'RANDOM SHIT', 'description': '', 'dimensions': [{'name': 'Value1', 'description': '', 'unit': ''}, {'name': 'Value2', 'description': '', 'unit': ''}, {'name': 'Value3', 'description': '', 'unit': ''}, {'name': 'Value1', 'description': '', 'unit': ''}, {'name': 'Value2', 'description': '', 'unit': ''}, {'name': 'Value3', 'description': '', 'unit': ''}], 'id': 'random-shit-aa03', 'classes': [], 'values': [], 'entityId': 'dcd:things:wheelchair_speed-e706', 'readAt': 1572257194767, 'registeredAt': 1571994791000}, {'type': 'TWO_DIMENSIONS', 'name': 'Rotation', 'description': '', 'dimensions': [{'name': 'Value1', 'description': '', 'unit': ''}, {'name': 'Value2', 'description': '', 'unit': ''}, {'name': 'Value1', 'description': '', 'unit': ''}, {'name': 'Value2', 'description': '', 'unit': ''}], 'id': 'rotation-7ecd', 'classes': [], 'values': [], 'entityId': 'dcd:things:wheelchair_speed-e706', 'readAt': 1572257194767, 'registeredAt': 1571753516000}, {'type': 'ONE_DIMENSION', 'name': 'Speed', 'description': '', 'dimensions': [{'name': 'Value', 'description': '', 'unit': ''}], 'id': 'speed-83ac', 'classes': [], 'values': [], 'entityId': 'dcd:things:wheelchair_speed-e706', 'readAt': 1572257194767, 'registeredAt': 1571753522000}, {'type': 'THREE_DIMENSIONS', 'name': 'three', 'description': '', 'dimensions': [{'name': 'Value1', 'description': '', 'unit': ''}, {'name': 'Value2', 'description': '', 'unit': ''}, {'name': 'Value3', 'description': '', 'unit': ''}, {'name': 'Value1', 'description': '', 'unit': ''}, {'name': 'Value2', 'description': '', 'unit': ''}, {'name': 'Value3', 'description': '', 'unit': ''}], 'id': 'three-ad01', 'classes': [], 'values': [], 'entityId': 'dcd:things:wheelchair_speed-e706', 'readAt': 1572257194767, 'registeredAt': 1571994791000}, {'type': 'TWO_DIMENSIONS', 'name': 'two', 'description': '', 'dimensions': [{'name': 'Value1', 'description': '', 'unit': ''}, {'name': 'Value2', 'description': '', 'unit': ''}, {'name': 'Value1', 'description': '', 'unit': ''}, {'name': 'Value2', 'description': '', 'unit': ''}], 'id': 'two-4069', 'classes': [], 'values': [], 'entityId': 'dcd:things:wheelchair_speed-e706', 'readAt': 1572257194767, 'registeredAt': 1571994791000}, {'type': 'THREE_DIMENSIONS', 'name': 'Wheelchair Speed', 'description': '', 'dimensions': [{'name': 'Value1', 'description': '', 'unit': ''}, {'name': 'Value2', 'description': '', 'unit': ''}, {'name': 'Value3', 'description': '', 'unit': ''}, {'name': 'Value1', 'description': '', 'unit': ''}, {'name': 'Value2', 'description': '', 'unit': ''}, {'name': 'Value3', 'description': '', 'unit': ''}], 'id': 'wheelchair-speed-0933', 'classes': [], 'values': [], 'entityId': 'dcd:things:wheelchair_speed-e706', 'readAt': 1572257194767, 'registeredAt': 1571753506000}], 'registeredAt': '2019-10-18T09:54:38.000Z', 'readAt': 1572257194764, 'keys': {}}}\n"
=======
      "{'thing': {'id': 'dcd:things:wheelchair_speed-e706', 'name': 'Wheelchair_speed', 'description': '', 'type': 'Speed', 'properties': [{'type': 'THREE_DIMENSIONS', 'name': 'My Random Property', 'description': '', 'dimensions': [{'name': 'Value1', 'description': '', 'unit': ''}, {'name': 'Value2', 'description': '', 'unit': ''}, {'name': 'Value3', 'description': '', 'unit': ''}, {'name': 'Value1', 'description': '', 'unit': ''}, {'name': 'Value2', 'description': '', 'unit': ''}, {'name': 'Value3', 'description': '', 'unit': ''}], 'id': 'my-random-property-5f3c', 'classes': [], 'values': [], 'entityId': 'dcd:things:wheelchair_speed-e706', 'readAt': 1572263894644, 'registeredAt': 1571392699000}, {'type': 'ONE_DIMENSION', 'name': 'one', 'description': '', 'dimensions': [{'name': 'Value', 'description': '', 'unit': ''}], 'id': 'one-28d7', 'classes': [], 'values': [], 'entityId': 'dcd:things:wheelchair_speed-e706', 'readAt': 1572263894644, 'registeredAt': 1571994791000}, {'type': 'THREE_DIMENSIONS', 'name': 'RANDOM SHIT', 'description': '', 'dimensions': [{'name': 'Value1', 'description': '', 'unit': ''}, {'name': 'Value2', 'description': '', 'unit': ''}, {'name': 'Value3', 'description': '', 'unit': ''}, {'name': 'Value1', 'description': '', 'unit': ''}, {'name': 'Value2', 'description': '', 'unit': ''}, {'name': 'Value3', 'description': '', 'unit': ''}], 'id': 'random-shit-aa03', 'classes': [], 'values': [], 'entityId': 'dcd:things:wheelchair_speed-e706', 'readAt': 1572263894644, 'registeredAt': 1571994791000}, {'type': 'TWO_DIMENSIONS', 'name': 'Rotation', 'description': '', 'dimensions': [{'name': 'Value1', 'description': '', 'unit': ''}, {'name': 'Value2', 'description': '', 'unit': ''}, {'name': 'Value1', 'description': '', 'unit': ''}, {'name': 'Value2', 'description': '', 'unit': ''}], 'id': 'rotation-7ecd', 'classes': [], 'values': [], 'entityId': 'dcd:things:wheelchair_speed-e706', 'readAt': 1572263894644, 'registeredAt': 1571753516000}, {'type': 'ONE_DIMENSION', 'name': 'Speed', 'description': '', 'dimensions': [{'name': 'Value', 'description': '', 'unit': ''}], 'id': 'speed-83ac', 'classes': [], 'values': [], 'entityId': 'dcd:things:wheelchair_speed-e706', 'readAt': 1572263894644, 'registeredAt': 1571753522000}, {'type': 'THREE_DIMENSIONS', 'name': 'three', 'description': '', 'dimensions': [{'name': 'Value1', 'description': '', 'unit': ''}, {'name': 'Value2', 'description': '', 'unit': ''}, {'name': 'Value3', 'description': '', 'unit': ''}, {'name': 'Value1', 'description': '', 'unit': ''}, {'name': 'Value2', 'description': '', 'unit': ''}, {'name': 'Value3', 'description': '', 'unit': ''}], 'id': 'three-ad01', 'classes': [], 'values': [], 'entityId': 'dcd:things:wheelchair_speed-e706', 'readAt': 1572263894644, 'registeredAt': 1571994791000}, {'type': 'TWO_DIMENSIONS', 'name': 'two', 'description': '', 'dimensions': [{'name': 'Value1', 'description': '', 'unit': ''}, {'name': 'Value2', 'description': '', 'unit': ''}, {'name': 'Value1', 'description': '', 'unit': ''}, {'name': 'Value2', 'description': '', 'unit': ''}], 'id': 'two-4069', 'classes': [], 'values': [], 'entityId': 'dcd:things:wheelchair_speed-e706', 'readAt': 1572263894644, 'registeredAt': 1571994791000}, {'type': 'THREE_DIMENSIONS', 'name': 'Wheelchair Speed', 'description': '', 'dimensions': [{'name': 'Value1', 'description': '', 'unit': ''}, {'name': 'Value2', 'description': '', 'unit': ''}, {'name': 'Value3', 'description': '', 'unit': ''}, {'name': 'Value1', 'description': '', 'unit': ''}, {'name': 'Value2', 'description': '', 'unit': ''}, {'name': 'Value3', 'description': '', 'unit': ''}], 'id': 'wheelchair-speed-0933', 'classes': [], 'values': [], 'entityId': 'dcd:things:wheelchair_speed-e706', 'readAt': 1572263894644, 'registeredAt': 1571753506000}], 'registeredAt': '2019-10-18T09:54:38.000Z', 'readAt': 1572263894642, 'keys': {}}}\n"
>>>>>>> 0e950895d49ea9ada2d17f6fab43eb85d5eea533
     ]
    }
   ],
   "source": [
    "my_thing = Thing(thing_id=THING_ID, token=THING_TOKEN)\n",
    "my_thing.read()"
   ]
  },
  {
   "cell_type": "markdown",
   "metadata": {
    "extensions": {
     "jupyter_dashboards": {
      "version": 1,
      "views": {
       "grid_default": {},
       "report_default": {}
      }
     }
    }
   },
   "source": [
    "What does a Thing look like?"
   ]
  },
  {
   "cell_type": "code",
<<<<<<< HEAD
   "execution_count": 4,
   "metadata": {
    "extensions": {
     "jupyter_dashboards": {
      "version": 1,
      "views": {
       "grid_default": {},
       "report_default": {}
      }
     }
    }
   },
=======
   "execution_count": 172,
   "metadata": {},
>>>>>>> 0e950895d49ea9ada2d17f6fab43eb85d5eea533
   "outputs": [
    {
     "data": {
      "text/plain": [
       "{'id': 'dcd:things:wheelchair_speed-e706',\n",
       " 'name': 'Wheelchair_speed',\n",
       " 'description': '',\n",
       " 'type': 'Speed',\n",
       " 'properties': [{'id': 'my-random-property-5f3c',\n",
       "   'name': 'My Random Property',\n",
       "   'description': '',\n",
       "   'type': 'THREE_DIMENSIONS',\n",
       "   'dimensions': [{'name': 'Value1', 'description': '', 'unit': ''},\n",
       "    {'name': 'Value2', 'description': '', 'unit': ''},\n",
       "    {'name': 'Value3', 'description': '', 'unit': ''},\n",
       "    {'name': 'Value1', 'description': '', 'unit': ''},\n",
       "    {'name': 'Value2', 'description': '', 'unit': ''},\n",
       "    {'name': 'Value3', 'description': '', 'unit': ''}]},\n",
       "  {'id': 'one-28d7',\n",
       "   'name': 'one',\n",
       "   'description': '',\n",
       "   'type': 'ONE_DIMENSION',\n",
       "   'dimensions': [{'name': 'Value', 'description': '', 'unit': ''}]},\n",
       "  {'id': 'random-shit-aa03',\n",
       "   'name': 'RANDOM SHIT',\n",
       "   'description': '',\n",
       "   'type': 'THREE_DIMENSIONS',\n",
       "   'dimensions': [{'name': 'Value1', 'description': '', 'unit': ''},\n",
       "    {'name': 'Value2', 'description': '', 'unit': ''},\n",
       "    {'name': 'Value3', 'description': '', 'unit': ''},\n",
       "    {'name': 'Value1', 'description': '', 'unit': ''},\n",
       "    {'name': 'Value2', 'description': '', 'unit': ''},\n",
       "    {'name': 'Value3', 'description': '', 'unit': ''}]},\n",
       "  {'id': 'rotation-7ecd',\n",
       "   'name': 'Rotation',\n",
       "   'description': '',\n",
       "   'type': 'TWO_DIMENSIONS',\n",
       "   'dimensions': [{'name': 'Value1', 'description': '', 'unit': ''},\n",
       "    {'name': 'Value2', 'description': '', 'unit': ''},\n",
       "    {'name': 'Value1', 'description': '', 'unit': ''},\n",
       "    {'name': 'Value2', 'description': '', 'unit': ''}]},\n",
       "  {'id': 'speed-83ac',\n",
       "   'name': 'Speed',\n",
       "   'description': '',\n",
       "   'type': 'ONE_DIMENSION',\n",
       "   'dimensions': [{'name': 'Value', 'description': '', 'unit': ''}]},\n",
       "  {'id': 'three-ad01',\n",
       "   'name': 'three',\n",
       "   'description': '',\n",
       "   'type': 'THREE_DIMENSIONS',\n",
       "   'dimensions': [{'name': 'Value1', 'description': '', 'unit': ''},\n",
       "    {'name': 'Value2', 'description': '', 'unit': ''},\n",
       "    {'name': 'Value3', 'description': '', 'unit': ''},\n",
       "    {'name': 'Value1', 'description': '', 'unit': ''},\n",
       "    {'name': 'Value2', 'description': '', 'unit': ''},\n",
       "    {'name': 'Value3', 'description': '', 'unit': ''}]},\n",
       "  {'id': 'two-4069',\n",
       "   'name': 'two',\n",
       "   'description': '',\n",
       "   'type': 'TWO_DIMENSIONS',\n",
       "   'dimensions': [{'name': 'Value1', 'description': '', 'unit': ''},\n",
       "    {'name': 'Value2', 'description': '', 'unit': ''},\n",
       "    {'name': 'Value1', 'description': '', 'unit': ''},\n",
       "    {'name': 'Value2', 'description': '', 'unit': ''}]},\n",
       "  {'id': 'wheelchair-speed-0933',\n",
       "   'name': 'Wheelchair Speed',\n",
       "   'description': '',\n",
       "   'type': 'THREE_DIMENSIONS',\n",
       "   'dimensions': [{'name': 'Value1', 'description': '', 'unit': ''},\n",
       "    {'name': 'Value2', 'description': '', 'unit': ''},\n",
       "    {'name': 'Value3', 'description': '', 'unit': ''},\n",
       "    {'name': 'Value1', 'description': '', 'unit': ''},\n",
       "    {'name': 'Value2', 'description': '', 'unit': ''},\n",
       "    {'name': 'Value3', 'description': '', 'unit': ''}]}]}"
      ]
     },
<<<<<<< HEAD
     "execution_count": 4,
=======
     "execution_count": 172,
>>>>>>> 0e950895d49ea9ada2d17f6fab43eb85d5eea533
     "metadata": {},
     "output_type": "execute_result"
    }
   ],
   "source": [
    "my_thing.to_json()"
   ]
  },
  {
   "cell_type": "markdown",
   "metadata": {
    "extensions": {
     "jupyter_dashboards": {
      "version": 1,
      "views": {
       "grid_default": {},
       "report_default": {}
      }
     }
    }
   },
   "source": [
    "Which property do we want to explore and over which time frame?"
   ]
  },
  {
   "cell_type": "code",
<<<<<<< HEAD
   "execution_count": 6,
   "metadata": {
    "extensions": {
     "jupyter_dashboards": {
      "version": 1,
      "views": {
       "grid_default": {},
       "report_default": {}
      }
     }
    }
   },
=======
   "execution_count": 173,
   "metadata": {},
>>>>>>> 0e950895d49ea9ada2d17f6fab43eb85d5eea533
   "outputs": [],
   "source": [
    "from datetime import datetime, timedelta\n",
    "now = datetime.now()\n",
    "now_minus_10 = now + timedelta(minutes = -10)\n",
    "# What dates?\n",
    "START_DATE = datetime.strftime(now_minus_10, \"%Y-%m-%d %H:%M:%S\")\n",
    "END_DATE = datetime.strftime(now, \"%Y-%m-%d %H:%M:%S\")\n",
    "\n",
    "#from datetime import datetime\n",
    "DATE_FORMAT = '%Y-%m-%d %H:%M:%S'\n",
    "from_ts = datetime.timestamp(datetime.strptime(START_DATE, DATE_FORMAT)) * 1000\n",
    "to_ts = datetime.timestamp(datetime.strptime(END_DATE, DATE_FORMAT)) * 1000"
   ]
  },
  {
   "cell_type": "markdown",
   "metadata": {
    "extensions": {
     "jupyter_dashboards": {
      "version": 1,
      "views": {
       "grid_default": {},
       "report_default": {}
      }
     }
    }
   },
   "source": [
    "Let's find this property and read the data."
   ]
  },
  {
   "cell_type": "code",
<<<<<<< HEAD
   "execution_count": 7,
   "metadata": {
    "extensions": {
     "jupyter_dashboards": {
      "version": 1,
      "views": {
       "grid_default": {},
       "report_default": {}
      }
     }
    }
   },
=======
   "execution_count": 174,
   "metadata": {},
>>>>>>> 0e950895d49ea9ada2d17f6fab43eb85d5eea533
   "outputs": [
    {
     "name": "stderr",
     "output_type": "stream",
     "text": [
      "DEBUG:urllib3.connectionpool:Starting new HTTPS connection (1): dwd.tudelft.nl:443\n",
      "DEBUG:urllib3.connectionpool:https://dwd.tudelft.nl:443 \"GET /api/things/dcd:things:wheelchair_speed-e706/properties/one-28d7?from=1572263294000.0&to=1572263894000.0 HTTP/1.1\" 200 17362\n"
     ]
    }
   ],
   "source": [
    "PROPERTY_NAME = \"one\"\n",
    "\n",
    "my_property = my_thing.find_property_by_name(PROPERTY_NAME)\n",
    "my_property.read(from_ts, to_ts)"
   ]
  },
  {
   "cell_type": "markdown",
   "metadata": {
    "extensions": {
     "jupyter_dashboards": {
      "version": 1,
      "views": {
       "grid_default": {},
       "report_default": {}
      }
     }
    }
   },
   "source": [
    "How many data point did we get?"
   ]
  },
  {
   "cell_type": "code",
<<<<<<< HEAD
   "execution_count": 8,
   "metadata": {
    "extensions": {
     "jupyter_dashboards": {
      "version": 1,
      "views": {
       "grid_default": {},
       "report_default": {}
      }
     }
    }
   },
=======
   "execution_count": 175,
   "metadata": {},
>>>>>>> 0e950895d49ea9ada2d17f6fab43eb85d5eea533
   "outputs": [
    {
     "name": "stdout",
     "output_type": "stream",
     "text": [
      "299\n"
     ]
    }
   ],
   "source": [
    "print(len(my_property.values))"
   ]
  },
  {
   "cell_type": "markdown",
   "metadata": {
    "extensions": {
     "jupyter_dashboards": {
      "version": 1,
      "views": {
       "grid_default": {},
       "report_default": {}
      }
     }
    }
   },
   "source": [
    "Display values"
   ]
  },
  {
   "cell_type": "code",
<<<<<<< HEAD
   "execution_count": 9,
   "metadata": {
    "extensions": {
     "jupyter_dashboards": {
      "version": 1,
      "views": {
       "grid_default": {},
       "report_default": {}
      }
     }
    }
   },
=======
   "execution_count": 176,
   "metadata": {},
>>>>>>> 0e950895d49ea9ada2d17f6fab43eb85d5eea533
   "outputs": [
    {
     "data": {
      "text/plain": [
       "[[1572263295530, 0.284154],\n",
       " [1572263297534, 0.203448],\n",
       " [1572263299536, 0.577391],\n",
       " [1572263301541, 0.0246476],\n",
       " [1572263303545, 0.208632],\n",
       " [1572263305547, 0.73302],\n",
       " [1572263307552, 0.497543],\n",
       " [1572263309556, 0.180867],\n",
       " [1572263311559, 0.807159],\n",
       " [1572263313562, 0.938964],\n",
       " [1572263315564, 0.0325449],\n",
       " [1572263317565, 0.705058],\n",
       " [1572263319569, 0.511151],\n",
       " [1572263321571, 0.0530443],\n",
       " [1572263323577, 0.0421257],\n",
       " [1572263325583, 0.867713],\n",
       " [1572263327587, 0.399825],\n",
       " [1572263329591, 0.204258],\n",
       " [1572263331594, 0.595324],\n",
       " [1572263333597, 0.256769],\n",
       " [1572263335601, 0.590379],\n",
       " [1572263337606, 0.379572],\n",
       " [1572263339607, 0.626099],\n",
       " [1572263341609, 0.480144],\n",
       " [1572263343615, 0.445825],\n",
       " [1572263345617, 0.881593],\n",
       " [1572263347619, 0.820831],\n",
       " [1572263349625, 0.416592],\n",
       " [1572263351626, 0.558077],\n",
       " [1572263353628, 0.448651],\n",
       " [1572263355630, 0.252931],\n",
       " [1572263357631, 0.00122712],\n",
       " [1572263359634, 0.388582],\n",
       " [1572263361636, 0.0175575],\n",
       " [1572263363639, 0.762476],\n",
       " [1572263365643, 0.222105],\n",
       " [1572263367645, 0.255444],\n",
       " [1572263369649, 0.202482],\n",
       " [1572263371651, 0.0931266],\n",
       " [1572263373654, 0.563863],\n",
       " [1572263375658, 0.163811],\n",
       " [1572263377664, 0.558136],\n",
       " [1572263379666, 0.654077],\n",
       " [1572263381669, 0.140109],\n",
       " [1572263383671, 0.094575],\n",
       " [1572263385676, 0.53827],\n",
       " [1572263387681, 0.0450651],\n",
       " [1572263389684, 0.985803],\n",
       " [1572263391685, 0.0336776],\n",
       " [1572263393687, 0.468522],\n",
       " [1572263395688, 0.926658],\n",
       " [1572263397689, 0.642368],\n",
       " [1572263399691, 0.756201],\n",
       " [1572263401692, 0.560919],\n",
       " [1572263403694, 0.991607],\n",
       " [1572263405696, 0.672963],\n",
       " [1572263407700, 0.823625],\n",
       " [1572263409707, 0.951332],\n",
       " [1572263411710, 0.880126],\n",
       " [1572263413714, 0.131619],\n",
       " [1572263415716, 0.100981],\n",
       " [1572263417721, 0.285819],\n",
       " [1572263419726, 0.197806],\n",
       " [1572263421727, 0.217153],\n",
       " [1572263423729, 0.696026],\n",
       " [1572263425730, 0.809779],\n",
       " [1572263427732, 0.475279],\n",
       " [1572263429734, 0.644304],\n",
       " [1572263431737, 0.162868],\n",
       " [1572263433741, 0.424442],\n",
       " [1572263435742, 0.242409],\n",
       " [1572263437748, 0.371884],\n",
       " [1572263439749, 0.807276],\n",
       " [1572263441751, 0.854679],\n",
       " [1572263443752, 0.585958],\n",
       " [1572263445753, 0.869706],\n",
       " [1572263447759, 0.507548],\n",
       " [1572263449761, 0.892216],\n",
       " [1572263451762, 0.0345061],\n",
       " [1572263453765, 0.88342],\n",
       " [1572263455766, 0.557834],\n",
       " [1572263457768, 0.405083],\n",
       " [1572263459769, 0.0792443],\n",
       " [1572263461772, 0.0852331],\n",
       " [1572263463773, 0.943218],\n",
       " [1572263465775, 0.8025],\n",
       " [1572263467778, 0.70505],\n",
       " [1572263469784, 0.0182497],\n",
       " [1572263471786, 0.635582],\n",
       " [1572263473787, 0.769293],\n",
       " [1572263475792, 0.257672],\n",
       " [1572263477794, 0.9888],\n",
       " [1572263479796, 0.952538],\n",
       " [1572263481797, 0.547248],\n",
       " [1572263483799, 0.324455],\n",
       " [1572263485800, 0.699873],\n",
       " [1572263487803, 0.675802],\n",
       " [1572263489805, 0.874081],\n",
       " [1572263491809, 0.928091],\n",
       " [1572263493814, 0.194557],\n",
       " [1572263495815, 0.0802668],\n",
       " [1572263497821, 0.119693],\n",
       " [1572263499825, 0.529094],\n",
       " [1572263501826, 0.0628105],\n",
       " [1572263503828, 0.344641],\n",
       " [1572263505829, 0.117092],\n",
       " [1572263507831, 0.0778705],\n",
       " [1572263509835, 0.975319],\n",
       " [1572263511837, 0.79896],\n",
       " [1572263513839, 0.738741],\n",
       " [1572263515845, 0.50296],\n",
       " [1572263517851, 0.608854],\n",
       " [1572263519854, 0.836934],\n",
       " [1572263521856, 0.418714],\n",
       " [1572263523857, 0.410257],\n",
       " [1572263525859, 0.991468],\n",
       " [1572263527865, 0.494907],\n",
       " [1572263529866, 0.198228],\n",
       " [1572263531868, 0.870018],\n",
       " [1572263533870, 0.53869],\n",
       " [1572263535877, 0.791474],\n",
       " [1572263537881, 0.221347],\n",
       " [1572263539882, 0.20666],\n",
       " [1572263541883, 0.56632],\n",
       " [1572263543884, 0.906044],\n",
       " [1572263545890, 0.377887],\n",
       " [1572263547893, 0.055288],\n",
       " [1572263549894, 0.732392],\n",
       " [1572263551900, 0.175851],\n",
       " [1572263553901, 0.992637],\n",
       " [1572263555905, 0.638699],\n",
       " [1572263557906, 0.373603],\n",
       " [1572263559910, 0.916215],\n",
       " [1572263561913, 0.142473],\n",
       " [1572263563918, 0.00751042],\n",
       " [1572263565923, 0.804579],\n",
       " [1572263567928, 0.301237],\n",
       " [1572263569930, 0.520871],\n",
       " [1572263571934, 0.518019],\n",
       " [1572263573940, 0.581765],\n",
       " [1572263575942, 0.506043],\n",
       " [1572263577945, 0.458156],\n",
       " [1572263579948, 0.834427],\n",
       " [1572263581951, 0.829184],\n",
       " [1572263583956, 0.207478],\n",
       " [1572263585962, 0.865188],\n",
       " [1572263587964, 0.728338],\n",
       " [1572263589968, 0.977427],\n",
       " [1572263591974, 0.405455],\n",
       " [1572263593977, 0.480196],\n",
       " [1572263595978, 0.144873],\n",
       " [1572263597982, 0.132828],\n",
       " [1572263599985, 0.17968],\n",
       " [1572263601989, 0.277913],\n",
       " [1572263603990, 0.9644],\n",
       " [1572263605992, 0.0157676],\n",
       " [1572263607997, 0.0450501],\n",
       " [1572263609998, 0.950699],\n",
       " [1572263612000, 0.55315],\n",
       " [1572263614002, 0.245957],\n",
       " [1572263616008, 0.841954],\n",
       " [1572263618013, 0.00406343],\n",
       " [1572263620018, 0.090919],\n",
       " [1572263622020, 0.253067],\n",
       " [1572263624025, 0.561296],\n",
       " [1572263626031, 0.84181],\n",
       " [1572263628032, 0.635408],\n",
       " [1572263630035, 0.320754],\n",
       " [1572263632037, 0.89908],\n",
       " [1572263634042, 0.512903],\n",
       " [1572263636048, 0.717381],\n",
       " [1572263638051, 0.803755],\n",
       " [1572263640052, 0.553926],\n",
       " [1572263642059, 0.273695],\n",
       " [1572263644060, 0.0945658],\n",
       " [1572263646064, 0.452027],\n",
       " [1572263648068, 0.311056],\n",
       " [1572263650070, 0.0834952],\n",
       " [1572263652071, 0.173319],\n",
       " [1572263654072, 0.638871],\n",
       " [1572263656074, 0.122491],\n",
       " [1572263658077, 0.466278],\n",
       " [1572263660079, 0.669374],\n",
       " [1572263662083, 0.205175],\n",
       " [1572263664089, 0.90524],\n",
       " [1572263666090, 0.520499],\n",
       " [1572263668094, 0.430114],\n",
       " [1572263670095, 0.593565],\n",
       " [1572263672098, 0.970554],\n",
       " [1572263674099, 0.61686],\n",
       " [1572263676101, 0.68488],\n",
       " [1572263678106, 0.695689],\n",
       " [1572263680108, 0.549578],\n",
       " [1572263682115, 0.883652],\n",
       " [1572263684120, 0.373161],\n",
       " [1572263686124, 0.80559],\n",
       " [1572263688125, 0.158952],\n",
       " [1572263690129, 0.39861],\n",
       " [1572263692132, 0.0677225],\n",
       " [1572263694135, 0.844424],\n",
       " [1572263696137, 0.613145],\n",
       " [1572263698141, 0.911726],\n",
       " [1572263700142, 0.783779],\n",
       " [1572263702145, 0.0363954],\n",
       " [1572263704147, 0.767771],\n",
       " [1572263706148, 0.193277],\n",
       " [1572263708149, 0.724842],\n",
       " [1572263710154, 0.956124],\n",
       " [1572263712155, 0.902161],\n",
       " [1572263714157, 0.416291],\n",
       " [1572263716158, 0.174529],\n",
       " [1572263718162, 0.406351],\n",
       " [1572263720163, 0.498248],\n",
       " [1572263722164, 0.80541],\n",
       " [1572263724170, 0.436105],\n",
       " [1572263726173, 0.611796],\n",
       " [1572263728179, 0.0943077],\n",
       " [1572263730183, 0.449564],\n",
       " [1572263732184, 0.517905],\n",
       " [1572263734189, 0.528719],\n",
       " [1572263736194, 0.402129],\n",
       " [1572263738195, 0.445939],\n",
       " [1572263740197, 0.202061],\n",
       " [1572263742198, 0.0292729],\n",
       " [1572263744199, 0.581266],\n",
       " [1572263746201, 0.833417],\n",
       " [1572263748202, 0.47827],\n",
       " [1572263750204, 0.438859],\n",
       " [1572263752210, 0.774546],\n",
       " [1572263754211, 0.428635],\n",
       " [1572263756212, 0.652899],\n",
       " [1572263758214, 0.401366],\n",
       " [1572263760220, 0.726105],\n",
       " [1572263762224, 0.394045],\n",
       " [1572263764230, 0.123949],\n",
       " [1572263766231, 0.933906],\n",
       " [1572263768233, 0.0367545],\n",
       " [1572263770235, 0.81149],\n",
       " [1572263772236, 0.404865],\n",
       " [1572263774239, 0.278022],\n",
       " [1572263776243, 0.820436],\n",
       " [1572263778247, 0.943245],\n",
       " [1572263780251, 0.293559],\n",
       " [1572263782253, 0.725216],\n",
       " [1572263784259, 0.765473],\n",
       " [1572263786265, 0.964147],\n",
       " [1572263788271, 0.771251],\n",
       " [1572263790277, 0.902867],\n",
       " [1572263792278, 0.612148],\n",
       " [1572263794284, 0.685591],\n",
       " [1572263796288, 0.922854],\n",
       " [1572263798292, 0.870304],\n",
       " [1572263800294, 0.415629],\n",
       " [1572263802301, 0.402402],\n",
       " [1572263804302, 0.575533],\n",
       " [1572263806304, 0.152023],\n",
       " [1572263808305, 0.491059],\n",
       " [1572263810311, 0.945384],\n",
       " [1572263812316, 0.797572],\n",
       " [1572263814317, 0.189491],\n",
       " [1572263816320, 0.110856],\n",
       " [1572263818321, 0.601569],\n",
       " [1572263820322, 0.990292],\n",
       " [1572263822326, 0.890981],\n",
       " [1572263824329, 0.525977],\n",
       " [1572263826330, 0.7025],\n",
       " [1572263828336, 0.563477],\n",
       " [1572263830342, 0.505614],\n",
       " [1572263832347, 0.0422662],\n",
       " [1572263834348, 0.920568],\n",
       " [1572263836349, 0.768435],\n",
       " [1572263838354, 0.393627],\n",
       " [1572263840356, 0.975752],\n",
       " [1572263842357, 0.351845],\n",
       " [1572263844358, 0.161034],\n",
       " [1572263846360, 0.7322],\n",
       " [1572263848365, 0.345917],\n",
       " [1572263850366, 0.698827],\n",
       " [1572263852369, 0.453228],\n",
       " [1572263854370, 0.452454],\n",
       " [1572263856373, 0.254562],\n",
       " [1572263858374, 0.618714],\n",
       " [1572263860375, 0.47519],\n",
       " [1572263862382, 0.706635],\n",
       " [1572263864383, 0.890784],\n",
       " [1572263866386, 0.483209],\n",
       " [1572263868387, 0.660098],\n",
       " [1572263870388, 0.82045],\n",
       " [1572263872392, 0.586441],\n",
       " [1572263874394, 0.173631],\n",
       " [1572263876397, 0.802073],\n",
       " [1572263878403, 0.771682],\n",
       " [1572263880404, 0.468503],\n",
       " [1572263882406, 0.903559],\n",
       " [1572263884408, 0.862981],\n",
       " [1572263886413, 0.643675],\n",
       " [1572263888415, 0.219544],\n",
       " [1572263890419, 0.648536],\n",
       " [1572263892423, 0.476625]]"
      ]
     },
<<<<<<< HEAD
     "execution_count": 9,
=======
     "execution_count": 176,
>>>>>>> 0e950895d49ea9ada2d17f6fab43eb85d5eea533
     "metadata": {},
     "output_type": "execute_result"
    }
   ],
   "source": [
    "my_property.values"
   ]
  },
  {
   "cell_type": "code",
<<<<<<< HEAD
   "execution_count": 11,
   "metadata": {
    "extensions": {
     "jupyter_dashboards": {
      "version": 1,
      "views": {
       "grid_default": {},
       "report_default": {}
      }
     }
    }
   },
   "outputs": [],
   "source": [
    "import pandas as pd\n",
=======
   "execution_count": 180,
   "metadata": {},
   "outputs": [
    {
     "name": "stdout",
     "output_type": "stream",
     "text": [
      "Monday 28 October 2019\n"
     ]
    }
   ],
   "source": [
    "import pandas as pd\n",
    "import os\n",
>>>>>>> 0e950895d49ea9ada2d17f6fab43eb85d5eea533
    "data = my_property.values\n",
    "df = pd.DataFrame(my_property.values, columns = ['time', 'velocity'])\n",
    "df.to_csv('test.csv')\n",
    "ct = datetime.now().strftime('%A %-d %B %Y')\n",
    "print(ct)\n",
    "nametag = 'workout '+ct+'.csv'\n",
    "os.rename('test.csv', nametag)"
   ]
  },
  {
   "cell_type": "markdown",
   "metadata": {
    "extensions": {
     "jupyter_dashboards": {
      "version": 1,
      "views": {
       "grid_default": {},
       "report_default": {}
      }
     }
    }
   },
   "source": [
    "# From CSV"
   ]
  },
  {
   "cell_type": "code",
<<<<<<< HEAD
   "execution_count": 12,
=======
   "execution_count": 181,
>>>>>>> 0e950895d49ea9ada2d17f6fab43eb85d5eea533
   "metadata": {
    "extensions": {
     "jupyter_dashboards": {
      "version": 1,
      "views": {
       "grid_default": {},
       "report_default": {}
      }
     }
    },
    "pycharm": {
     "name": "#%%\n"
    }
   },
   "outputs": [
    {
     "data": {
      "text/html": [
       "<div>\n",
       "<style scoped>\n",
       "    .dataframe tbody tr th:only-of-type {\n",
       "        vertical-align: middle;\n",
       "    }\n",
       "\n",
       "    .dataframe tbody tr th {\n",
       "        vertical-align: top;\n",
       "    }\n",
       "\n",
       "    .dataframe thead th {\n",
       "        text-align: right;\n",
       "    }\n",
       "</style>\n",
       "<table border=\"1\" class=\"dataframe\">\n",
       "  <thead>\n",
       "    <tr style=\"text-align: right;\">\n",
       "      <th></th>\n",
       "      <th>x</th>\n",
       "      <th>y</th>\n",
       "    </tr>\n",
       "  </thead>\n",
       "  <tbody>\n",
       "    <tr>\n",
       "      <th>NaT</th>\n",
       "      <td>NaN</td>\n",
       "      <td>NaN</td>\n",
       "    </tr>\n",
       "    <tr>\n",
       "      <th>1970-01-01 00:00:00.000</th>\n",
       "      <td>1.572263e+12</td>\n",
       "      <td>0.284154</td>\n",
       "    </tr>\n",
       "    <tr>\n",
       "      <th>1970-01-01 00:00:00.001</th>\n",
       "      <td>1.572263e+12</td>\n",
       "      <td>0.203448</td>\n",
       "    </tr>\n",
       "    <tr>\n",
       "      <th>1970-01-01 00:00:00.002</th>\n",
       "      <td>1.572263e+12</td>\n",
       "      <td>0.577391</td>\n",
       "    </tr>\n",
       "    <tr>\n",
       "      <th>1970-01-01 00:00:00.003</th>\n",
       "      <td>1.572263e+12</td>\n",
       "      <td>0.024648</td>\n",
       "    </tr>\n",
       "    <tr>\n",
       "      <th>...</th>\n",
       "      <td>...</td>\n",
       "      <td>...</td>\n",
       "    </tr>\n",
       "    <tr>\n",
       "      <th>1970-01-01 00:00:00.294</th>\n",
       "      <td>1.572264e+12</td>\n",
       "      <td>0.862981</td>\n",
       "    </tr>\n",
       "    <tr>\n",
       "      <th>1970-01-01 00:00:00.295</th>\n",
       "      <td>1.572264e+12</td>\n",
       "      <td>0.643675</td>\n",
       "    </tr>\n",
       "    <tr>\n",
       "      <th>1970-01-01 00:00:00.296</th>\n",
       "      <td>1.572264e+12</td>\n",
       "      <td>0.219544</td>\n",
       "    </tr>\n",
       "    <tr>\n",
       "      <th>1970-01-01 00:00:00.297</th>\n",
       "      <td>1.572264e+12</td>\n",
       "      <td>0.648536</td>\n",
       "    </tr>\n",
       "    <tr>\n",
       "      <th>1970-01-01 00:00:00.298</th>\n",
       "      <td>1.572264e+12</td>\n",
       "      <td>0.476625</td>\n",
       "    </tr>\n",
       "  </tbody>\n",
       "</table>\n",
       "<p>300 rows × 2 columns</p>\n",
       "</div>"
      ],
      "text/plain": [
       "                                    x         y\n",
       "NaT                               NaN       NaN\n",
       "1970-01-01 00:00:00.000  1.572263e+12  0.284154\n",
       "1970-01-01 00:00:00.001  1.572263e+12  0.203448\n",
       "1970-01-01 00:00:00.002  1.572263e+12  0.577391\n",
       "1970-01-01 00:00:00.003  1.572263e+12  0.024648\n",
       "...                               ...       ...\n",
       "1970-01-01 00:00:00.294  1.572264e+12  0.862981\n",
       "1970-01-01 00:00:00.295  1.572264e+12  0.643675\n",
       "1970-01-01 00:00:00.296  1.572264e+12  0.219544\n",
       "1970-01-01 00:00:00.297  1.572264e+12  0.648536\n",
       "1970-01-01 00:00:00.298  1.572264e+12  0.476625\n",
       "\n",
       "[300 rows x 2 columns]"
      ]
     },
<<<<<<< HEAD
     "execution_count": 12,
=======
     "execution_count": 181,
>>>>>>> 0e950895d49ea9ada2d17f6fab43eb85d5eea533
     "metadata": {},
     "output_type": "execute_result"
    }
   ],
   "source": [
    "from numpy import genfromtxt\n",
    "data = genfromtxt('workout Monday 28 October 2019.csv', delimiter=',')\n",
    "data_frame = pd.DataFrame(data[:,1:], index = pd.DatetimeIndex(pd.to_datetime(data[:,0], unit='ms')), columns = ['x', 'y'])\n",
    "data_frame"
   ]
  },
  {
   "cell_type": "markdown",
   "metadata": {
    "extensions": {
     "jupyter_dashboards": {
      "version": 1,
      "views": {
       "grid_default": {},
       "report_default": {}
      }
     }
    }
   },
   "source": [
    "# Plot some charts with Matplotlib\n",
    "In this example we plot an histogram, distribution of all values and dimensions."
   ]
  },
  {
   "cell_type": "code",
<<<<<<< HEAD
   "execution_count": 13,
=======
   "execution_count": 182,
>>>>>>> 0e950895d49ea9ada2d17f6fab43eb85d5eea533
   "metadata": {
    "extensions": {
     "jupyter_dashboards": {
      "version": 1,
      "views": {
       "grid_default": {},
       "report_default": {}
      }
     }
    },
    "pycharm": {
     "name": "#%%\n"
    }
   },
   "outputs": [
    {
     "name": "stderr",
     "output_type": "stream",
     "text": [
      "DEBUG:matplotlib.pyplot:Loaded backend module://ipykernel.pylab.backend_inline version unknown.\n",
      "DEBUG:matplotlib.pyplot:Loaded backend module://ipykernel.pylab.backend_inline version unknown.\n"
     ]
    }
   ],
   "source": [
    "import numpy as np\n",
    "import matplotlib.pyplot as plt\n",
    "from matplotlib.pyplot import figure\n",
    "from numpy import ma\n",
    "data = np.array(my_property.values)"
   ]
  },
  {
   "cell_type": "code",
<<<<<<< HEAD
   "execution_count": 15,
=======
   "execution_count": 183,
>>>>>>> 0e950895d49ea9ada2d17f6fab43eb85d5eea533
   "metadata": {
    "extensions": {
     "jupyter_dashboards": {
      "version": 1,
      "views": {
       "grid_default": {},
       "report_default": {}
      }
     }
    },
    "pycharm": {
     "name": "#%%\n"
    }
   },
   "outputs": [
    {
     "data": {
      "text/plain": [
<<<<<<< HEAD
       "[<matplotlib.lines.Line2D at 0x1a3199670c8>]"
      ]
     },
     "execution_count": 15,
=======
       "[<matplotlib.lines.Line2D at 0x121035450>]"
      ]
     },
     "execution_count": 183,
>>>>>>> 0e950895d49ea9ada2d17f6fab43eb85d5eea533
     "metadata": {},
     "output_type": "execute_result"
    },
    {
     "data": {
<<<<<<< HEAD
      "image/png": "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\n",
=======
      "image/png": "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\n",
>>>>>>> 0e950895d49ea9ada2d17f6fab43eb85d5eea533
      "text/plain": [
       "<Figure size 1080x360 with 1 Axes>"
      ]
     },
     "metadata": {
      "needs_background": "light"
     },
     "output_type": "display_data"
    }
   ],
   "source": [
    "figure(num=None, figsize=(15, 5))\n",
    "t = data_frame.index\n",
    "#plt.plot(t, data_frame.x, t, data_frame.y)\n",
    "plt.plot(t,data_frame.y)"
   ]
  },
  {
   "cell_type": "code",
<<<<<<< HEAD
   "execution_count": 24,
=======
   "execution_count": 184,
>>>>>>> 0e950895d49ea9ada2d17f6fab43eb85d5eea533
   "metadata": {
    "extensions": {
     "jupyter_dashboards": {
      "version": 1,
      "views": {
       "grid_default": {},
       "report_default": {}
      }
     }
    },
    "pycharm": {
     "name": "#%%\n"
    }
   },
<<<<<<< HEAD
   "outputs": [
    {
     "data": {
      "image/png": "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\n",
      "text/plain": [
       "<Figure size 432x288 with 1 Axes>"
      ]
     },
     "metadata": {
      "needs_background": "light"
     },
     "output_type": "display_data"
    }
   ],
=======
   "outputs": [],
>>>>>>> 0e950895d49ea9ada2d17f6fab43eb85d5eea533
   "source": [
    "#plt.hist(data[:,:])\n",
    "#plt.show()"
   ]
  },
  {
   "cell_type": "markdown",
   "metadata": {
    "extensions": {
     "jupyter_dashboards": {
      "version": 1,
      "views": {
       "grid_default": {},
       "report_default": {}
      }
     }
    }
   },
   "source": [
    "# Generate statistics with NumPy and Pandas"
   ]
  },
  {
   "cell_type": "code",
<<<<<<< HEAD
   "execution_count": 25,
   "metadata": {
    "extensions": {
     "jupyter_dashboards": {
      "version": 1,
      "views": {
       "grid_default": {},
       "report_default": {}
      }
     }
    }
   },
=======
   "execution_count": 185,
   "metadata": {},
>>>>>>> 0e950895d49ea9ada2d17f6fab43eb85d5eea533
   "outputs": [],
   "source": [
    "import numpy as np\n",
    "from scipy.stats import kurtosis, skew"
   ]
  },
  {
   "cell_type": "code",
<<<<<<< HEAD
   "execution_count": 27,
   "metadata": {
    "extensions": {
     "jupyter_dashboards": {
      "version": 1,
      "views": {
       "grid_default": {},
       "report_default": {}
      }
     }
    }
   },
=======
   "execution_count": 186,
   "metadata": {},
>>>>>>> 0e950895d49ea9ada2d17f6fab43eb85d5eea533
   "outputs": [
    {
     "data": {
      "text/plain": [
<<<<<<< HEAD
       "array([0.0681447])"
      ]
     },
     "execution_count": 27,
=======
       "array([0.00122712])"
      ]
     },
     "execution_count": 186,
>>>>>>> 0e950895d49ea9ada2d17f6fab43eb85d5eea533
     "metadata": {},
     "output_type": "execute_result"
    }
   ],
   "source": [
    "np.min(data[:,1:4], axis=0)"
   ]
  },
  {
   "cell_type": "code",
<<<<<<< HEAD
   "execution_count": 29,
   "metadata": {
    "extensions": {
     "jupyter_dashboards": {
      "version": 1,
      "views": {
       "grid_default": {},
       "report_default": {}
      }
     }
    }
   },
=======
   "execution_count": 187,
   "metadata": {},
>>>>>>> 0e950895d49ea9ada2d17f6fab43eb85d5eea533
   "outputs": [
    {
     "data": {
      "text/plain": [
<<<<<<< HEAD
       "array([-0.06839997])"
      ]
     },
     "execution_count": 29,
=======
       "array([-0.10779254])"
      ]
     },
     "execution_count": 187,
>>>>>>> 0e950895d49ea9ada2d17f6fab43eb85d5eea533
     "metadata": {},
     "output_type": "execute_result"
    }
   ],
   "source": [
    "skew(data[:,1:4])"
   ]
  },
  {
   "cell_type": "markdown",
   "metadata": {
    "extensions": {
     "jupyter_dashboards": {
      "version": 1,
      "views": {
       "grid_default": {},
       "report_default": {}
      }
     }
    }
   },
   "source": [
    "You can select a column (slice) of data, or a subset of data. In the example below we select rows\n",
    "from 10 to 20 (10 in total) and the colum 1 to x (i.e skiping the first column representing the time)."
   ]
  },
  {
   "cell_type": "code",
<<<<<<< HEAD
   "execution_count": 30,
   "metadata": {
    "extensions": {
     "jupyter_dashboards": {
      "version": 1,
      "views": {
       "grid_default": {},
       "report_default": {}
      }
     }
    }
   },
=======
   "execution_count": 188,
   "metadata": {},
>>>>>>> 0e950895d49ea9ada2d17f6fab43eb85d5eea533
   "outputs": [
    {
     "data": {
      "text/plain": [
<<<<<<< HEAD
       "array([[0.664703],\n",
       "       [0.199614],\n",
       "       [0.231955],\n",
       "       [0.659064],\n",
       "       [0.836792],\n",
       "       [0.428476],\n",
       "       [0.858621],\n",
       "       [0.524137],\n",
       "       [0.997997],\n",
       "       [0.15736 ]])"
      ]
     },
     "execution_count": 30,
=======
       "array([[0.284154 ],\n",
       "       [0.203448 ],\n",
       "       [0.577391 ],\n",
       "       [0.0246476],\n",
       "       [0.208632 ],\n",
       "       [0.73302  ],\n",
       "       [0.497543 ],\n",
       "       [0.180867 ],\n",
       "       [0.807159 ],\n",
       "       [0.938964 ]])"
      ]
     },
     "execution_count": 188,
>>>>>>> 0e950895d49ea9ada2d17f6fab43eb85d5eea533
     "metadata": {},
     "output_type": "execute_result"
    }
   ],
   "source": [
    "data[:10,1:]"
   ]
  },
  {
   "cell_type": "markdown",
   "metadata": {
    "extensions": {
     "jupyter_dashboards": {
      "version": 1,
      "views": {
       "grid_default": {},
       "report_default": {}
      }
     }
    }
   },
   "source": [
    "Out of the box, Pandas give you some statistics, do not forget to convert your array into a DataFrame."
   ]
  },
  {
   "cell_type": "code",
<<<<<<< HEAD
   "execution_count": 31,
=======
   "execution_count": 189,
>>>>>>> 0e950895d49ea9ada2d17f6fab43eb85d5eea533
   "metadata": {
    "extensions": {
     "jupyter_dashboards": {
      "version": 1,
      "views": {
       "grid_default": {},
       "report_default": {}
      }
     }
    },
    "scrolled": true
   },
   "outputs": [
    {
     "data": {
      "text/html": [
       "<div>\n",
       "<style scoped>\n",
       "    .dataframe tbody tr th:only-of-type {\n",
       "        vertical-align: middle;\n",
       "    }\n",
       "\n",
       "    .dataframe tbody tr th {\n",
       "        vertical-align: top;\n",
       "    }\n",
       "\n",
       "    .dataframe thead th {\n",
       "        text-align: right;\n",
       "    }\n",
       "</style>\n",
       "<table border=\"1\" class=\"dataframe\">\n",
       "  <thead>\n",
       "    <tr style=\"text-align: right;\">\n",
       "      <th></th>\n",
       "      <th>0</th>\n",
       "    </tr>\n",
       "  </thead>\n",
       "  <tbody>\n",
       "    <tr>\n",
       "      <th>count</th>\n",
<<<<<<< HEAD
       "      <td>30.000000</td>\n",
       "    </tr>\n",
       "    <tr>\n",
       "      <th>mean</th>\n",
       "      <td>0.562043</td>\n",
       "    </tr>\n",
       "    <tr>\n",
       "      <th>std</th>\n",
       "      <td>0.305985</td>\n",
       "    </tr>\n",
       "    <tr>\n",
       "      <th>min</th>\n",
       "      <td>0.068145</td>\n",
       "    </tr>\n",
       "    <tr>\n",
       "      <th>25%</th>\n",
       "      <td>0.250455</td>\n",
       "    </tr>\n",
       "    <tr>\n",
       "      <th>50%</th>\n",
       "      <td>0.585795</td>\n",
       "    </tr>\n",
       "    <tr>\n",
       "      <th>75%</th>\n",
       "      <td>0.853466</td>\n",
       "    </tr>\n",
       "    <tr>\n",
       "      <th>max</th>\n",
       "      <td>0.999435</td>\n",
=======
       "      <td>299.000000</td>\n",
       "    </tr>\n",
       "    <tr>\n",
       "      <th>mean</th>\n",
       "      <td>0.516857</td>\n",
       "    </tr>\n",
       "    <tr>\n",
       "      <th>std</th>\n",
       "      <td>0.289322</td>\n",
       "    </tr>\n",
       "    <tr>\n",
       "      <th>min</th>\n",
       "      <td>0.001227</td>\n",
       "    </tr>\n",
       "    <tr>\n",
       "      <th>25%</th>\n",
       "      <td>0.255003</td>\n",
       "    </tr>\n",
       "    <tr>\n",
       "      <th>50%</th>\n",
       "      <td>0.520871</td>\n",
       "    </tr>\n",
       "    <tr>\n",
       "      <th>75%</th>\n",
       "      <td>0.771467</td>\n",
       "    </tr>\n",
       "    <tr>\n",
       "      <th>max</th>\n",
       "      <td>0.992637</td>\n",
>>>>>>> 0e950895d49ea9ada2d17f6fab43eb85d5eea533
       "    </tr>\n",
       "  </tbody>\n",
       "</table>\n",
       "</div>"
      ],
      "text/plain": [
<<<<<<< HEAD
       "               0\n",
       "count  30.000000\n",
       "mean    0.562043\n",
       "std     0.305985\n",
       "min     0.068145\n",
       "25%     0.250455\n",
       "50%     0.585795\n",
       "75%     0.853466\n",
       "max     0.999435"
      ]
     },
     "execution_count": 31,
=======
       "                0\n",
       "count  299.000000\n",
       "mean     0.516857\n",
       "std      0.289322\n",
       "min      0.001227\n",
       "25%      0.255003\n",
       "50%      0.520871\n",
       "75%      0.771467\n",
       "max      0.992637"
      ]
     },
     "execution_count": 189,
>>>>>>> 0e950895d49ea9ada2d17f6fab43eb85d5eea533
     "metadata": {},
     "output_type": "execute_result"
    }
   ],
   "source": [
    "data_frame = pd.DataFrame(data[:,1:], index = pd.DatetimeIndex(pd.to_datetime(data[:,0], unit='ms')))\n",
    "pd.DataFrame.describe(data_frame)"
   ]
  },
  {
   "cell_type": "code",
<<<<<<< HEAD
   "execution_count": 32,
   "metadata": {
    "extensions": {
     "jupyter_dashboards": {
      "version": 1,
      "views": {
       "grid_default": {},
       "report_default": {}
      }
     }
    }
   },
=======
   "execution_count": 190,
   "metadata": {},
>>>>>>> 0e950895d49ea9ada2d17f6fab43eb85d5eea533
   "outputs": [
    {
     "data": {
      "text/html": [
       "<div>\n",
       "<style scoped>\n",
       "    .dataframe tbody tr th:only-of-type {\n",
       "        vertical-align: middle;\n",
       "    }\n",
       "\n",
       "    .dataframe tbody tr th {\n",
       "        vertical-align: top;\n",
       "    }\n",
       "\n",
       "    .dataframe thead th {\n",
       "        text-align: right;\n",
       "    }\n",
       "</style>\n",
       "<table border=\"1\" class=\"dataframe\">\n",
       "  <thead>\n",
       "    <tr style=\"text-align: right;\">\n",
       "      <th></th>\n",
       "      <th>0</th>\n",
       "    </tr>\n",
       "  </thead>\n",
       "  <tbody>\n",
       "    <tr>\n",
<<<<<<< HEAD
       "      <th>2019-10-26 13:26:01.368</th>\n",
       "      <td>NaN</td>\n",
       "    </tr>\n",
       "    <tr>\n",
       "      <th>2019-10-26 13:26:03.373</th>\n",
       "      <td>NaN</td>\n",
       "    </tr>\n",
       "    <tr>\n",
       "      <th>2019-10-26 13:26:05.375</th>\n",
       "      <td>NaN</td>\n",
       "    </tr>\n",
       "    <tr>\n",
       "      <th>2019-10-26 13:26:07.378</th>\n",
       "      <td>NaN</td>\n",
       "    </tr>\n",
       "    <tr>\n",
       "      <th>2019-10-26 13:26:09.380</th>\n",
       "      <td>NaN</td>\n",
       "    </tr>\n",
       "    <tr>\n",
       "      <th>2019-10-26 13:26:11.381</th>\n",
       "      <td>NaN</td>\n",
       "    </tr>\n",
       "    <tr>\n",
       "      <th>2019-10-26 13:26:13.388</th>\n",
       "      <td>NaN</td>\n",
       "    </tr>\n",
       "    <tr>\n",
       "      <th>2019-10-26 13:26:15.390</th>\n",
       "      <td>NaN</td>\n",
       "    </tr>\n",
       "    <tr>\n",
       "      <th>2019-10-26 13:26:17.393</th>\n",
       "      <td>NaN</td>\n",
       "    </tr>\n",
       "    <tr>\n",
       "      <th>2019-10-26 13:26:19.400</th>\n",
       "      <td>0.297477</td>\n",
       "    </tr>\n",
       "    <tr>\n",
       "      <th>2019-10-26 13:26:21.406</th>\n",
       "      <td>0.295358</td>\n",
       "    </tr>\n",
       "    <tr>\n",
       "      <th>2019-10-26 13:26:23.413</th>\n",
       "      <td>0.298452</td>\n",
       "    </tr>\n",
       "    <tr>\n",
       "      <th>2019-10-26 13:26:25.419</th>\n",
       "      <td>0.295972</td>\n",
       "    </tr>\n",
       "    <tr>\n",
       "      <th>2019-10-26 13:26:27.425</th>\n",
       "      <td>0.298290</td>\n",
       "    </tr>\n",
       "    <tr>\n",
       "      <th>2019-10-26 13:26:29.432</th>\n",
       "      <td>0.303455</td>\n",
       "    </tr>\n",
       "    <tr>\n",
       "      <th>2019-10-26 13:26:31.438</th>\n",
       "      <td>0.313505</td>\n",
       "    </tr>\n",
       "    <tr>\n",
       "      <th>2019-10-26 13:26:33.443</th>\n",
       "      <td>0.308061</td>\n",
       "    </tr>\n",
       "    <tr>\n",
       "      <th>2019-10-26 13:26:35.450</th>\n",
       "      <td>0.308380</td>\n",
       "    </tr>\n",
       "    <tr>\n",
       "      <th>2019-10-26 13:26:37.454</th>\n",
       "      <td>0.305987</td>\n",
       "    </tr>\n",
       "    <tr>\n",
       "      <th>2019-10-26 13:26:39.459</th>\n",
       "      <td>0.276733</td>\n",
       "    </tr>\n",
       "    <tr>\n",
       "      <th>2019-10-26 13:26:41.461</th>\n",
       "      <td>0.300984</td>\n",
       "    </tr>\n",
       "    <tr>\n",
       "      <th>2019-10-26 13:26:43.464</th>\n",
       "      <td>0.277358</td>\n",
       "    </tr>\n",
       "    <tr>\n",
       "      <th>2019-10-26 13:26:45.467</th>\n",
       "      <td>0.274423</td>\n",
       "    </tr>\n",
       "    <tr>\n",
       "      <th>2019-10-26 13:26:47.471</th>\n",
       "      <td>0.302733</td>\n",
       "    </tr>\n",
       "    <tr>\n",
       "      <th>2019-10-26 13:26:49.478</th>\n",
       "      <td>0.296655</td>\n",
       "    </tr>\n",
       "    <tr>\n",
       "      <th>2019-10-26 13:26:51.480</th>\n",
       "      <td>0.325913</td>\n",
       "    </tr>\n",
       "    <tr>\n",
       "      <th>2019-10-26 13:26:53.483</th>\n",
       "      <td>0.342096</td>\n",
       "    </tr>\n",
       "    <tr>\n",
       "      <th>2019-10-26 13:26:55.490</th>\n",
       "      <td>0.363285</td>\n",
       "    </tr>\n",
       "    <tr>\n",
       "      <th>2019-10-26 13:26:57.496</th>\n",
       "      <td>0.335373</td>\n",
       "    </tr>\n",
       "    <tr>\n",
       "      <th>2019-10-26 13:26:59.501</th>\n",
       "      <td>0.367360</td>\n",
       "    </tr>\n",
       "  </tbody>\n",
       "</table>\n",
=======
       "      <th>2019-10-28 11:48:15.530</th>\n",
       "      <td>NaN</td>\n",
       "    </tr>\n",
       "    <tr>\n",
       "      <th>2019-10-28 11:48:17.534</th>\n",
       "      <td>NaN</td>\n",
       "    </tr>\n",
       "    <tr>\n",
       "      <th>2019-10-28 11:48:19.536</th>\n",
       "      <td>NaN</td>\n",
       "    </tr>\n",
       "    <tr>\n",
       "      <th>2019-10-28 11:48:21.541</th>\n",
       "      <td>NaN</td>\n",
       "    </tr>\n",
       "    <tr>\n",
       "      <th>2019-10-28 11:48:23.545</th>\n",
       "      <td>NaN</td>\n",
       "    </tr>\n",
       "    <tr>\n",
       "      <th>...</th>\n",
       "      <td>...</td>\n",
       "    </tr>\n",
       "    <tr>\n",
       "      <th>2019-10-28 11:58:04.408</th>\n",
       "      <td>0.228123</td>\n",
       "    </tr>\n",
       "    <tr>\n",
       "      <th>2019-10-28 11:58:06.413</th>\n",
       "      <td>0.220343</td>\n",
       "    </tr>\n",
       "    <tr>\n",
       "      <th>2019-10-28 11:58:08.415</th>\n",
       "      <td>0.262415</td>\n",
       "    </tr>\n",
       "    <tr>\n",
       "      <th>2019-10-28 11:58:10.419</th>\n",
       "      <td>0.253693</td>\n",
       "    </tr>\n",
       "    <tr>\n",
       "      <th>2019-10-28 11:58:12.423</th>\n",
       "      <td>0.257087</td>\n",
       "    </tr>\n",
       "  </tbody>\n",
       "</table>\n",
       "<p>299 rows × 1 columns</p>\n",
>>>>>>> 0e950895d49ea9ada2d17f6fab43eb85d5eea533
       "</div>"
      ],
      "text/plain": [
       "                                0\n",
<<<<<<< HEAD
       "2019-10-26 13:26:01.368       NaN\n",
       "2019-10-26 13:26:03.373       NaN\n",
       "2019-10-26 13:26:05.375       NaN\n",
       "2019-10-26 13:26:07.378       NaN\n",
       "2019-10-26 13:26:09.380       NaN\n",
       "2019-10-26 13:26:11.381       NaN\n",
       "2019-10-26 13:26:13.388       NaN\n",
       "2019-10-26 13:26:15.390       NaN\n",
       "2019-10-26 13:26:17.393       NaN\n",
       "2019-10-26 13:26:19.400  0.297477\n",
       "2019-10-26 13:26:21.406  0.295358\n",
       "2019-10-26 13:26:23.413  0.298452\n",
       "2019-10-26 13:26:25.419  0.295972\n",
       "2019-10-26 13:26:27.425  0.298290\n",
       "2019-10-26 13:26:29.432  0.303455\n",
       "2019-10-26 13:26:31.438  0.313505\n",
       "2019-10-26 13:26:33.443  0.308061\n",
       "2019-10-26 13:26:35.450  0.308380\n",
       "2019-10-26 13:26:37.454  0.305987\n",
       "2019-10-26 13:26:39.459  0.276733\n",
       "2019-10-26 13:26:41.461  0.300984\n",
       "2019-10-26 13:26:43.464  0.277358\n",
       "2019-10-26 13:26:45.467  0.274423\n",
       "2019-10-26 13:26:47.471  0.302733\n",
       "2019-10-26 13:26:49.478  0.296655\n",
       "2019-10-26 13:26:51.480  0.325913\n",
       "2019-10-26 13:26:53.483  0.342096\n",
       "2019-10-26 13:26:55.490  0.363285\n",
       "2019-10-26 13:26:57.496  0.335373\n",
       "2019-10-26 13:26:59.501  0.367360"
      ]
     },
     "execution_count": 32,
=======
       "2019-10-28 11:48:15.530       NaN\n",
       "2019-10-28 11:48:17.534       NaN\n",
       "2019-10-28 11:48:19.536       NaN\n",
       "2019-10-28 11:48:21.541       NaN\n",
       "2019-10-28 11:48:23.545       NaN\n",
       "...                           ...\n",
       "2019-10-28 11:58:04.408  0.228123\n",
       "2019-10-28 11:58:06.413  0.220343\n",
       "2019-10-28 11:58:08.415  0.262415\n",
       "2019-10-28 11:58:10.419  0.253693\n",
       "2019-10-28 11:58:12.423  0.257087\n",
       "\n",
       "[299 rows x 1 columns]"
      ]
     },
     "execution_count": 190,
>>>>>>> 0e950895d49ea9ada2d17f6fab43eb85d5eea533
     "metadata": {},
     "output_type": "execute_result"
    }
   ],
   "source": [
    "data_frame.rolling(10).std()"
   ]
  },
  {
   "cell_type": "markdown",
   "metadata": {
    "extensions": {
     "jupyter_dashboards": {
      "version": 1,
      "views": {
       "grid_default": {},
       "report_default": {}
      }
     }
    }
   },
   "source": [
    "# Rolling / Sliding Window\n",
    "To apply statistics on a sliding (or rolling) window, we can use the rolling() function of a data frame. In the example below, we roll with a window size of 4 elements to apply a skew()"
   ]
  },
  {
   "cell_type": "code",
<<<<<<< HEAD
   "execution_count": 33,
   "metadata": {
    "extensions": {
     "jupyter_dashboards": {
      "version": 1,
      "views": {
       "grid_default": {},
       "report_default": {}
      }
     }
    }
   },
   "outputs": [
    {
     "data": {
      "image/png": "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\n",
=======
   "execution_count": 191,
   "metadata": {},
   "outputs": [
    {
     "data": {
      "image/png": "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\n",
>>>>>>> 0e950895d49ea9ada2d17f6fab43eb85d5eea533
      "text/plain": [
       "<Figure size 432x288 with 1 Axes>"
      ]
     },
     "metadata": {
      "needs_background": "light"
     },
     "output_type": "display_data"
    }
   ],
   "source": [
    "rolling2s = data_frame.rolling('2s').std()\n",
    "plt.plot(rolling2s)\n",
    "plt.show()"
   ]
  },
  {
   "cell_type": "code",
<<<<<<< HEAD
   "execution_count": 32,
   "metadata": {
    "extensions": {
     "jupyter_dashboards": {
      "version": 1,
      "views": {
       "grid_default": {},
       "report_default": {}
      }
     }
    }
   },
=======
   "execution_count": 192,
   "metadata": {},
>>>>>>> 0e950895d49ea9ada2d17f6fab43eb85d5eea533
   "outputs": [
    {
     "data": {
      "image/png": "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\n",
      "text/plain": [
       "<Figure size 432x288 with 1 Axes>"
      ]
     },
     "metadata": {
      "needs_background": "light"
     },
     "output_type": "display_data"
    }
   ],
   "source": [
    "rolling100_data_points = data_frame.rolling(100).skew()\n",
    "plt.plot(rolling100_data_points)\n",
    "plt.show()"
   ]
  },
  {
   "cell_type": "markdown",
   "metadata": {
    "extensions": {
     "jupyter_dashboards": {
      "version": 1,
      "views": {
       "grid_default": {},
       "report_default": {}
      }
     }
    }
   },
   "source": [
    "# Zero Crossing"
   ]
  },
  {
   "cell_type": "code",
<<<<<<< HEAD
   "execution_count": null,
   "metadata": {
    "extensions": {
     "jupyter_dashboards": {
      "version": 1,
      "views": {
       "grid_default": {},
       "report_default": {}
      }
     }
    }
   },
   "outputs": [],
=======
   "execution_count": 193,
   "metadata": {},
   "outputs": [
    {
     "data": {
      "image/png": "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\n",
      "text/plain": [
       "<Figure size 432x288 with 1 Axes>"
      ]
     },
     "metadata": {
      "needs_background": "light"
     },
     "output_type": "display_data"
    },
    {
     "name": "stderr",
     "output_type": "stream",
     "text": [
      "INFO:dcd:things:wheelchair_speed-e706:Connection successful\n",
      "INFO:dcd:things:wheelchair_speed-e706:Connection successful\n",
      "INFO:dcd:things:wheelchair_speed-e706:Connection successful\n",
      "INFO:dcd:things:wheelchair_speed-e706:Connection successful\n",
      "INFO:dcd:things:wheelchair_speed-e706:Connection successful\n",
      "INFO:dcd:things:wheelchair_speed-e706:Connection successful\n",
      "INFO:dcd:things:wheelchair_speed-e706:Connection successful\n",
      "INFO:dcd:things:wheelchair_speed-e706:Connection successful\n",
      "INFO:dcd:things:wheelchair_speed-e706:Connection successful\n",
      "INFO:dcd:things:wheelchair_speed-e706:Connection successful\n",
      "INFO:dcd:things:wheelchair_speed-e706:Connection successful\n",
      "INFO:dcd:things:wheelchair_speed-e706:Connection successful\n"
     ]
    }
   ],
>>>>>>> 0e950895d49ea9ada2d17f6fab43eb85d5eea533
   "source": [
    "plt.hist(np.where(np.diff(np.sign(data[:,1]))))\n",
    "plt.show()"
   ]
  },
  {
   "cell_type": "markdown",
   "metadata": {
    "extensions": {
     "jupyter_dashboards": {
      "version": 1,
      "views": {
       "grid_default": {},
       "report_default": {}
      }
     }
    }
   },
   "source": [
    "https://docs.scipy.org/doc/scipy/reference/stats.html#discrete-distributions"
   ]
  }
 ],
 "metadata": {
  "extensions": {
   "jupyter_dashboards": {
    "activeView": "grid_default",
    "version": 1,
    "views": {
     "grid_default": {
      "cellMargin": 10,
      "defaultCellHeight": 20,
      "maxColumns": 12,
      "name": "grid",
      "type": "grid"
     },
     "report_default": {
      "name": "report",
      "type": "report"
     }
    }
   }
  },
  "kernelspec": {
   "display_name": "Python 3",
   "language": "python",
   "name": "python3"
  },
  "language_info": {
   "codemirror_mode": {
    "name": "ipython",
    "version": 3
   },
   "file_extension": ".py",
   "mimetype": "text/x-python",
   "name": "python",
   "nbconvert_exporter": "python",
   "pygments_lexer": "ipython3",
   "version": "3.7.4"
  },
  "pycharm": {
   "stem_cell": {
    "cell_type": "raw",
    "metadata": {
     "collapsed": false
    },
    "source": []
   }
  }
 },
 "nbformat": 4,
 "nbformat_minor": 2
}
