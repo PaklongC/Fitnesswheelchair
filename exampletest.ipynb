{
 "cells": [
  {
   "cell_type": "markdown",
   "metadata": {},
   "source": [
    "# Example of Data Analysis with DCD Hub Data"
   ]
  },
  {
   "cell_type": "markdown",
   "metadata": {},
   "source": [
    "First, we import the Python SDK"
   ]
  },
  {
   "cell_type": "code",
   "execution_count": 169,
   "metadata": {},
   "outputs": [],
   "source": [
    "from dcd.entities.thing import Thing"
   ]
  },
  {
   "cell_type": "markdown",
   "metadata": {},
   "source": [
    "We provide the thing ID and access token (replace with yours)"
   ]
  },
  {
   "cell_type": "code",
   "execution_count": 170,
   "metadata": {},
   "outputs": [],
   "source": [
    "from dotenv import load_dotenv\n",
    "import os\n",
    "load_dotenv()\n",
    "THING_ID = os.environ['THING_ID']\n",
    "THING_TOKEN = os.environ['THING_TOKEN']"
   ]
  },
  {
   "cell_type": "markdown",
   "metadata": {},
   "source": [
    "We instantiate a Thing with its credential, then we fetch its details"
   ]
  },
  {
   "cell_type": "code",
   "execution_count": 171,
   "metadata": {},
   "outputs": [
    {
     "name": "stderr",
     "output_type": "stream",
     "text": [
      "INFO:dcd:things:wheelchair_speed-e706:Initialising MQTT connection for Thing 'dcd:things:wheelchair_speed-e706'\n",
      "DEBUG:urllib3.connectionpool:Starting new HTTPS connection (1): dwd.tudelft.nl:443\n",
      "INFO:dcd:things:wheelchair_speed-e706:Connection successful\n",
      "DEBUG:urllib3.connectionpool:https://dwd.tudelft.nl:443 \"GET /api/things/dcd:things:wheelchair_speed-e706 HTTP/1.1\" 200 6724\n"
     ]
    },
    {
     "name": "stdout",
     "output_type": "stream",
     "text": [
      "DigiCertCA.crt exist.\n",
      "{'thing': {'id': 'dcd:things:wheelchair_speed-e706', 'name': 'Wheelchair_speed', 'description': '', 'type': 'Speed', 'properties': [{'type': 'THREE_DIMENSIONS', 'name': 'My Random Property', 'description': '', 'dimensions': [{'name': 'Value1', 'description': '', 'unit': ''}, {'name': 'Value2', 'description': '', 'unit': ''}, {'name': 'Value3', 'description': '', 'unit': ''}, {'name': 'Value1', 'description': '', 'unit': ''}, {'name': 'Value2', 'description': '', 'unit': ''}, {'name': 'Value3', 'description': '', 'unit': ''}], 'id': 'my-random-property-5f3c', 'classes': [], 'values': [], 'entityId': 'dcd:things:wheelchair_speed-e706', 'readAt': 1572263894644, 'registeredAt': 1571392699000}, {'type': 'ONE_DIMENSION', 'name': 'one', 'description': '', 'dimensions': [{'name': 'Value', 'description': '', 'unit': ''}], 'id': 'one-28d7', 'classes': [], 'values': [], 'entityId': 'dcd:things:wheelchair_speed-e706', 'readAt': 1572263894644, 'registeredAt': 1571994791000}, {'type': 'THREE_DIMENSIONS', 'name': 'RANDOM SHIT', 'description': '', 'dimensions': [{'name': 'Value1', 'description': '', 'unit': ''}, {'name': 'Value2', 'description': '', 'unit': ''}, {'name': 'Value3', 'description': '', 'unit': ''}, {'name': 'Value1', 'description': '', 'unit': ''}, {'name': 'Value2', 'description': '', 'unit': ''}, {'name': 'Value3', 'description': '', 'unit': ''}], 'id': 'random-shit-aa03', 'classes': [], 'values': [], 'entityId': 'dcd:things:wheelchair_speed-e706', 'readAt': 1572263894644, 'registeredAt': 1571994791000}, {'type': 'TWO_DIMENSIONS', 'name': 'Rotation', 'description': '', 'dimensions': [{'name': 'Value1', 'description': '', 'unit': ''}, {'name': 'Value2', 'description': '', 'unit': ''}, {'name': 'Value1', 'description': '', 'unit': ''}, {'name': 'Value2', 'description': '', 'unit': ''}], 'id': 'rotation-7ecd', 'classes': [], 'values': [], 'entityId': 'dcd:things:wheelchair_speed-e706', 'readAt': 1572263894644, 'registeredAt': 1571753516000}, {'type': 'ONE_DIMENSION', 'name': 'Speed', 'description': '', 'dimensions': [{'name': 'Value', 'description': '', 'unit': ''}], 'id': 'speed-83ac', 'classes': [], 'values': [], 'entityId': 'dcd:things:wheelchair_speed-e706', 'readAt': 1572263894644, 'registeredAt': 1571753522000}, {'type': 'THREE_DIMENSIONS', 'name': 'three', 'description': '', 'dimensions': [{'name': 'Value1', 'description': '', 'unit': ''}, {'name': 'Value2', 'description': '', 'unit': ''}, {'name': 'Value3', 'description': '', 'unit': ''}, {'name': 'Value1', 'description': '', 'unit': ''}, {'name': 'Value2', 'description': '', 'unit': ''}, {'name': 'Value3', 'description': '', 'unit': ''}], 'id': 'three-ad01', 'classes': [], 'values': [], 'entityId': 'dcd:things:wheelchair_speed-e706', 'readAt': 1572263894644, 'registeredAt': 1571994791000}, {'type': 'TWO_DIMENSIONS', 'name': 'two', 'description': '', 'dimensions': [{'name': 'Value1', 'description': '', 'unit': ''}, {'name': 'Value2', 'description': '', 'unit': ''}, {'name': 'Value1', 'description': '', 'unit': ''}, {'name': 'Value2', 'description': '', 'unit': ''}], 'id': 'two-4069', 'classes': [], 'values': [], 'entityId': 'dcd:things:wheelchair_speed-e706', 'readAt': 1572263894644, 'registeredAt': 1571994791000}, {'type': 'THREE_DIMENSIONS', 'name': 'Wheelchair Speed', 'description': '', 'dimensions': [{'name': 'Value1', 'description': '', 'unit': ''}, {'name': 'Value2', 'description': '', 'unit': ''}, {'name': 'Value3', 'description': '', 'unit': ''}, {'name': 'Value1', 'description': '', 'unit': ''}, {'name': 'Value2', 'description': '', 'unit': ''}, {'name': 'Value3', 'description': '', 'unit': ''}], 'id': 'wheelchair-speed-0933', 'classes': [], 'values': [], 'entityId': 'dcd:things:wheelchair_speed-e706', 'readAt': 1572263894644, 'registeredAt': 1571753506000}], 'registeredAt': '2019-10-18T09:54:38.000Z', 'readAt': 1572263894642, 'keys': {}}}\n"
     ]
    }
   ],
   "source": [
    "my_thing = Thing(thing_id=THING_ID, token=THING_TOKEN)\n",
    "my_thing.read()"
   ]
  },
  {
   "cell_type": "markdown",
   "metadata": {},
   "source": [
    "What does a Thing look like?"
   ]
  },
  {
   "cell_type": "code",
   "execution_count": 172,
   "metadata": {},
   "outputs": [
    {
     "data": {
      "text/plain": [
       "{'id': 'dcd:things:wheelchair_speed-e706',\n",
       " 'name': 'Wheelchair_speed',\n",
       " 'description': '',\n",
       " 'type': 'Speed',\n",
       " 'properties': [{'id': 'my-random-property-5f3c',\n",
       "   'name': 'My Random Property',\n",
       "   'description': '',\n",
       "   'type': 'THREE_DIMENSIONS',\n",
       "   'dimensions': [{'name': 'Value1', 'description': '', 'unit': ''},\n",
       "    {'name': 'Value2', 'description': '', 'unit': ''},\n",
       "    {'name': 'Value3', 'description': '', 'unit': ''},\n",
       "    {'name': 'Value1', 'description': '', 'unit': ''},\n",
       "    {'name': 'Value2', 'description': '', 'unit': ''},\n",
       "    {'name': 'Value3', 'description': '', 'unit': ''}]},\n",
       "  {'id': 'one-28d7',\n",
       "   'name': 'one',\n",
       "   'description': '',\n",
       "   'type': 'ONE_DIMENSION',\n",
       "   'dimensions': [{'name': 'Value', 'description': '', 'unit': ''}]},\n",
       "  {'id': 'random-shit-aa03',\n",
       "   'name': 'RANDOM SHIT',\n",
       "   'description': '',\n",
       "   'type': 'THREE_DIMENSIONS',\n",
       "   'dimensions': [{'name': 'Value1', 'description': '', 'unit': ''},\n",
       "    {'name': 'Value2', 'description': '', 'unit': ''},\n",
       "    {'name': 'Value3', 'description': '', 'unit': ''},\n",
       "    {'name': 'Value1', 'description': '', 'unit': ''},\n",
       "    {'name': 'Value2', 'description': '', 'unit': ''},\n",
       "    {'name': 'Value3', 'description': '', 'unit': ''}]},\n",
       "  {'id': 'rotation-7ecd',\n",
       "   'name': 'Rotation',\n",
       "   'description': '',\n",
       "   'type': 'TWO_DIMENSIONS',\n",
       "   'dimensions': [{'name': 'Value1', 'description': '', 'unit': ''},\n",
       "    {'name': 'Value2', 'description': '', 'unit': ''},\n",
       "    {'name': 'Value1', 'description': '', 'unit': ''},\n",
       "    {'name': 'Value2', 'description': '', 'unit': ''}]},\n",
       "  {'id': 'speed-83ac',\n",
       "   'name': 'Speed',\n",
       "   'description': '',\n",
       "   'type': 'ONE_DIMENSION',\n",
       "   'dimensions': [{'name': 'Value', 'description': '', 'unit': ''}]},\n",
       "  {'id': 'three-ad01',\n",
       "   'name': 'three',\n",
       "   'description': '',\n",
       "   'type': 'THREE_DIMENSIONS',\n",
       "   'dimensions': [{'name': 'Value1', 'description': '', 'unit': ''},\n",
       "    {'name': 'Value2', 'description': '', 'unit': ''},\n",
       "    {'name': 'Value3', 'description': '', 'unit': ''},\n",
       "    {'name': 'Value1', 'description': '', 'unit': ''},\n",
       "    {'name': 'Value2', 'description': '', 'unit': ''},\n",
       "    {'name': 'Value3', 'description': '', 'unit': ''}]},\n",
       "  {'id': 'two-4069',\n",
       "   'name': 'two',\n",
       "   'description': '',\n",
       "   'type': 'TWO_DIMENSIONS',\n",
       "   'dimensions': [{'name': 'Value1', 'description': '', 'unit': ''},\n",
       "    {'name': 'Value2', 'description': '', 'unit': ''},\n",
       "    {'name': 'Value1', 'description': '', 'unit': ''},\n",
       "    {'name': 'Value2', 'description': '', 'unit': ''}]},\n",
       "  {'id': 'wheelchair-speed-0933',\n",
       "   'name': 'Wheelchair Speed',\n",
       "   'description': '',\n",
       "   'type': 'THREE_DIMENSIONS',\n",
       "   'dimensions': [{'name': 'Value1', 'description': '', 'unit': ''},\n",
       "    {'name': 'Value2', 'description': '', 'unit': ''},\n",
       "    {'name': 'Value3', 'description': '', 'unit': ''},\n",
       "    {'name': 'Value1', 'description': '', 'unit': ''},\n",
       "    {'name': 'Value2', 'description': '', 'unit': ''},\n",
       "    {'name': 'Value3', 'description': '', 'unit': ''}]}]}"
      ]
     },
     "execution_count": 172,
     "metadata": {},
     "output_type": "execute_result"
    }
   ],
   "source": [
    "my_thing.to_json()"
   ]
  },
  {
   "cell_type": "markdown",
   "metadata": {},
   "source": [
    "Which property do we want to explore and over which time frame?"
   ]
  },
  {
   "cell_type": "code",
   "execution_count": 173,
   "metadata": {},
   "outputs": [],
   "source": [
    "from datetime import datetime, timedelta\n",
    "now = datetime.now()\n",
    "now_minus_10 = now + timedelta(minutes = -10)\n",
    "# What dates?\n",
    "START_DATE = datetime.strftime(now_minus_10, \"%Y-%m-%d %H:%M:%S\")\n",
    "END_DATE = datetime.strftime(now, \"%Y-%m-%d %H:%M:%S\")\n",
    "\n",
    "#from datetime import datetime\n",
    "DATE_FORMAT = '%Y-%m-%d %H:%M:%S'\n",
    "from_ts = datetime.timestamp(datetime.strptime(START_DATE, DATE_FORMAT)) * 1000\n",
    "to_ts = datetime.timestamp(datetime.strptime(END_DATE, DATE_FORMAT)) * 1000"
   ]
  },
  {
   "cell_type": "markdown",
   "metadata": {},
   "source": [
    "Let's find this property and read the data."
   ]
  },
  {
   "cell_type": "code",
   "execution_count": 174,
   "metadata": {},
   "outputs": [
    {
     "name": "stderr",
     "output_type": "stream",
     "text": [
      "DEBUG:urllib3.connectionpool:Starting new HTTPS connection (1): dwd.tudelft.nl:443\n",
      "DEBUG:urllib3.connectionpool:https://dwd.tudelft.nl:443 \"GET /api/things/dcd:things:wheelchair_speed-e706/properties/one-28d7?from=1572263294000.0&to=1572263894000.0 HTTP/1.1\" 200 17362\n"
     ]
    }
   ],
   "source": [
    "PROPERTY_NAME = \"one\"\n",
    "\n",
    "my_property = my_thing.find_property_by_name(PROPERTY_NAME)\n",
    "my_property.read(from_ts, to_ts)"
   ]
  },
  {
   "cell_type": "markdown",
   "metadata": {},
   "source": [
    "How many data point did we get?"
   ]
  },
  {
   "cell_type": "code",
   "execution_count": 175,
   "metadata": {},
   "outputs": [
    {
     "name": "stdout",
     "output_type": "stream",
     "text": [
      "299\n"
     ]
    }
   ],
   "source": [
    "print(len(my_property.values))"
   ]
  },
  {
   "cell_type": "markdown",
   "metadata": {},
   "source": [
    "Display values"
   ]
  },
  {
   "cell_type": "code",
   "execution_count": 176,
   "metadata": {},
   "outputs": [
    {
     "data": {
      "text/plain": [
       "[[1572263295530, 0.284154],\n",
       " [1572263297534, 0.203448],\n",
       " [1572263299536, 0.577391],\n",
       " [1572263301541, 0.0246476],\n",
       " [1572263303545, 0.208632],\n",
       " [1572263305547, 0.73302],\n",
       " [1572263307552, 0.497543],\n",
       " [1572263309556, 0.180867],\n",
       " [1572263311559, 0.807159],\n",
       " [1572263313562, 0.938964],\n",
       " [1572263315564, 0.0325449],\n",
       " [1572263317565, 0.705058],\n",
       " [1572263319569, 0.511151],\n",
       " [1572263321571, 0.0530443],\n",
       " [1572263323577, 0.0421257],\n",
       " [1572263325583, 0.867713],\n",
       " [1572263327587, 0.399825],\n",
       " [1572263329591, 0.204258],\n",
       " [1572263331594, 0.595324],\n",
       " [1572263333597, 0.256769],\n",
       " [1572263335601, 0.590379],\n",
       " [1572263337606, 0.379572],\n",
       " [1572263339607, 0.626099],\n",
       " [1572263341609, 0.480144],\n",
       " [1572263343615, 0.445825],\n",
       " [1572263345617, 0.881593],\n",
       " [1572263347619, 0.820831],\n",
       " [1572263349625, 0.416592],\n",
       " [1572263351626, 0.558077],\n",
       " [1572263353628, 0.448651],\n",
       " [1572263355630, 0.252931],\n",
       " [1572263357631, 0.00122712],\n",
       " [1572263359634, 0.388582],\n",
       " [1572263361636, 0.0175575],\n",
       " [1572263363639, 0.762476],\n",
       " [1572263365643, 0.222105],\n",
       " [1572263367645, 0.255444],\n",
       " [1572263369649, 0.202482],\n",
       " [1572263371651, 0.0931266],\n",
       " [1572263373654, 0.563863],\n",
       " [1572263375658, 0.163811],\n",
       " [1572263377664, 0.558136],\n",
       " [1572263379666, 0.654077],\n",
       " [1572263381669, 0.140109],\n",
       " [1572263383671, 0.094575],\n",
       " [1572263385676, 0.53827],\n",
       " [1572263387681, 0.0450651],\n",
       " [1572263389684, 0.985803],\n",
       " [1572263391685, 0.0336776],\n",
       " [1572263393687, 0.468522],\n",
       " [1572263395688, 0.926658],\n",
       " [1572263397689, 0.642368],\n",
       " [1572263399691, 0.756201],\n",
       " [1572263401692, 0.560919],\n",
       " [1572263403694, 0.991607],\n",
       " [1572263405696, 0.672963],\n",
       " [1572263407700, 0.823625],\n",
       " [1572263409707, 0.951332],\n",
       " [1572263411710, 0.880126],\n",
       " [1572263413714, 0.131619],\n",
       " [1572263415716, 0.100981],\n",
       " [1572263417721, 0.285819],\n",
       " [1572263419726, 0.197806],\n",
       " [1572263421727, 0.217153],\n",
       " [1572263423729, 0.696026],\n",
       " [1572263425730, 0.809779],\n",
       " [1572263427732, 0.475279],\n",
       " [1572263429734, 0.644304],\n",
       " [1572263431737, 0.162868],\n",
       " [1572263433741, 0.424442],\n",
       " [1572263435742, 0.242409],\n",
       " [1572263437748, 0.371884],\n",
       " [1572263439749, 0.807276],\n",
       " [1572263441751, 0.854679],\n",
       " [1572263443752, 0.585958],\n",
       " [1572263445753, 0.869706],\n",
       " [1572263447759, 0.507548],\n",
       " [1572263449761, 0.892216],\n",
       " [1572263451762, 0.0345061],\n",
       " [1572263453765, 0.88342],\n",
       " [1572263455766, 0.557834],\n",
       " [1572263457768, 0.405083],\n",
       " [1572263459769, 0.0792443],\n",
       " [1572263461772, 0.0852331],\n",
       " [1572263463773, 0.943218],\n",
       " [1572263465775, 0.8025],\n",
       " [1572263467778, 0.70505],\n",
       " [1572263469784, 0.0182497],\n",
       " [1572263471786, 0.635582],\n",
       " [1572263473787, 0.769293],\n",
       " [1572263475792, 0.257672],\n",
       " [1572263477794, 0.9888],\n",
       " [1572263479796, 0.952538],\n",
       " [1572263481797, 0.547248],\n",
       " [1572263483799, 0.324455],\n",
       " [1572263485800, 0.699873],\n",
       " [1572263487803, 0.675802],\n",
       " [1572263489805, 0.874081],\n",
       " [1572263491809, 0.928091],\n",
       " [1572263493814, 0.194557],\n",
       " [1572263495815, 0.0802668],\n",
       " [1572263497821, 0.119693],\n",
       " [1572263499825, 0.529094],\n",
       " [1572263501826, 0.0628105],\n",
       " [1572263503828, 0.344641],\n",
       " [1572263505829, 0.117092],\n",
       " [1572263507831, 0.0778705],\n",
       " [1572263509835, 0.975319],\n",
       " [1572263511837, 0.79896],\n",
       " [1572263513839, 0.738741],\n",
       " [1572263515845, 0.50296],\n",
       " [1572263517851, 0.608854],\n",
       " [1572263519854, 0.836934],\n",
       " [1572263521856, 0.418714],\n",
       " [1572263523857, 0.410257],\n",
       " [1572263525859, 0.991468],\n",
       " [1572263527865, 0.494907],\n",
       " [1572263529866, 0.198228],\n",
       " [1572263531868, 0.870018],\n",
       " [1572263533870, 0.53869],\n",
       " [1572263535877, 0.791474],\n",
       " [1572263537881, 0.221347],\n",
       " [1572263539882, 0.20666],\n",
       " [1572263541883, 0.56632],\n",
       " [1572263543884, 0.906044],\n",
       " [1572263545890, 0.377887],\n",
       " [1572263547893, 0.055288],\n",
       " [1572263549894, 0.732392],\n",
       " [1572263551900, 0.175851],\n",
       " [1572263553901, 0.992637],\n",
       " [1572263555905, 0.638699],\n",
       " [1572263557906, 0.373603],\n",
       " [1572263559910, 0.916215],\n",
       " [1572263561913, 0.142473],\n",
       " [1572263563918, 0.00751042],\n",
       " [1572263565923, 0.804579],\n",
       " [1572263567928, 0.301237],\n",
       " [1572263569930, 0.520871],\n",
       " [1572263571934, 0.518019],\n",
       " [1572263573940, 0.581765],\n",
       " [1572263575942, 0.506043],\n",
       " [1572263577945, 0.458156],\n",
       " [1572263579948, 0.834427],\n",
       " [1572263581951, 0.829184],\n",
       " [1572263583956, 0.207478],\n",
       " [1572263585962, 0.865188],\n",
       " [1572263587964, 0.728338],\n",
       " [1572263589968, 0.977427],\n",
       " [1572263591974, 0.405455],\n",
       " [1572263593977, 0.480196],\n",
       " [1572263595978, 0.144873],\n",
       " [1572263597982, 0.132828],\n",
       " [1572263599985, 0.17968],\n",
       " [1572263601989, 0.277913],\n",
       " [1572263603990, 0.9644],\n",
       " [1572263605992, 0.0157676],\n",
       " [1572263607997, 0.0450501],\n",
       " [1572263609998, 0.950699],\n",
       " [1572263612000, 0.55315],\n",
       " [1572263614002, 0.245957],\n",
       " [1572263616008, 0.841954],\n",
       " [1572263618013, 0.00406343],\n",
       " [1572263620018, 0.090919],\n",
       " [1572263622020, 0.253067],\n",
       " [1572263624025, 0.561296],\n",
       " [1572263626031, 0.84181],\n",
       " [1572263628032, 0.635408],\n",
       " [1572263630035, 0.320754],\n",
       " [1572263632037, 0.89908],\n",
       " [1572263634042, 0.512903],\n",
       " [1572263636048, 0.717381],\n",
       " [1572263638051, 0.803755],\n",
       " [1572263640052, 0.553926],\n",
       " [1572263642059, 0.273695],\n",
       " [1572263644060, 0.0945658],\n",
       " [1572263646064, 0.452027],\n",
       " [1572263648068, 0.311056],\n",
       " [1572263650070, 0.0834952],\n",
       " [1572263652071, 0.173319],\n",
       " [1572263654072, 0.638871],\n",
       " [1572263656074, 0.122491],\n",
       " [1572263658077, 0.466278],\n",
       " [1572263660079, 0.669374],\n",
       " [1572263662083, 0.205175],\n",
       " [1572263664089, 0.90524],\n",
       " [1572263666090, 0.520499],\n",
       " [1572263668094, 0.430114],\n",
       " [1572263670095, 0.593565],\n",
       " [1572263672098, 0.970554],\n",
       " [1572263674099, 0.61686],\n",
       " [1572263676101, 0.68488],\n",
       " [1572263678106, 0.695689],\n",
       " [1572263680108, 0.549578],\n",
       " [1572263682115, 0.883652],\n",
       " [1572263684120, 0.373161],\n",
       " [1572263686124, 0.80559],\n",
       " [1572263688125, 0.158952],\n",
       " [1572263690129, 0.39861],\n",
       " [1572263692132, 0.0677225],\n",
       " [1572263694135, 0.844424],\n",
       " [1572263696137, 0.613145],\n",
       " [1572263698141, 0.911726],\n",
       " [1572263700142, 0.783779],\n",
       " [1572263702145, 0.0363954],\n",
       " [1572263704147, 0.767771],\n",
       " [1572263706148, 0.193277],\n",
       " [1572263708149, 0.724842],\n",
       " [1572263710154, 0.956124],\n",
       " [1572263712155, 0.902161],\n",
       " [1572263714157, 0.416291],\n",
       " [1572263716158, 0.174529],\n",
       " [1572263718162, 0.406351],\n",
       " [1572263720163, 0.498248],\n",
       " [1572263722164, 0.80541],\n",
       " [1572263724170, 0.436105],\n",
       " [1572263726173, 0.611796],\n",
       " [1572263728179, 0.0943077],\n",
       " [1572263730183, 0.449564],\n",
       " [1572263732184, 0.517905],\n",
       " [1572263734189, 0.528719],\n",
       " [1572263736194, 0.402129],\n",
       " [1572263738195, 0.445939],\n",
       " [1572263740197, 0.202061],\n",
       " [1572263742198, 0.0292729],\n",
       " [1572263744199, 0.581266],\n",
       " [1572263746201, 0.833417],\n",
       " [1572263748202, 0.47827],\n",
       " [1572263750204, 0.438859],\n",
       " [1572263752210, 0.774546],\n",
       " [1572263754211, 0.428635],\n",
       " [1572263756212, 0.652899],\n",
       " [1572263758214, 0.401366],\n",
       " [1572263760220, 0.726105],\n",
       " [1572263762224, 0.394045],\n",
       " [1572263764230, 0.123949],\n",
       " [1572263766231, 0.933906],\n",
       " [1572263768233, 0.0367545],\n",
       " [1572263770235, 0.81149],\n",
       " [1572263772236, 0.404865],\n",
       " [1572263774239, 0.278022],\n",
       " [1572263776243, 0.820436],\n",
       " [1572263778247, 0.943245],\n",
       " [1572263780251, 0.293559],\n",
       " [1572263782253, 0.725216],\n",
       " [1572263784259, 0.765473],\n",
       " [1572263786265, 0.964147],\n",
       " [1572263788271, 0.771251],\n",
       " [1572263790277, 0.902867],\n",
       " [1572263792278, 0.612148],\n",
       " [1572263794284, 0.685591],\n",
       " [1572263796288, 0.922854],\n",
       " [1572263798292, 0.870304],\n",
       " [1572263800294, 0.415629],\n",
       " [1572263802301, 0.402402],\n",
       " [1572263804302, 0.575533],\n",
       " [1572263806304, 0.152023],\n",
       " [1572263808305, 0.491059],\n",
       " [1572263810311, 0.945384],\n",
       " [1572263812316, 0.797572],\n",
       " [1572263814317, 0.189491],\n",
       " [1572263816320, 0.110856],\n",
       " [1572263818321, 0.601569],\n",
       " [1572263820322, 0.990292],\n",
       " [1572263822326, 0.890981],\n",
       " [1572263824329, 0.525977],\n",
       " [1572263826330, 0.7025],\n",
       " [1572263828336, 0.563477],\n",
       " [1572263830342, 0.505614],\n",
       " [1572263832347, 0.0422662],\n",
       " [1572263834348, 0.920568],\n",
       " [1572263836349, 0.768435],\n",
       " [1572263838354, 0.393627],\n",
       " [1572263840356, 0.975752],\n",
       " [1572263842357, 0.351845],\n",
       " [1572263844358, 0.161034],\n",
       " [1572263846360, 0.7322],\n",
       " [1572263848365, 0.345917],\n",
       " [1572263850366, 0.698827],\n",
       " [1572263852369, 0.453228],\n",
       " [1572263854370, 0.452454],\n",
       " [1572263856373, 0.254562],\n",
       " [1572263858374, 0.618714],\n",
       " [1572263860375, 0.47519],\n",
       " [1572263862382, 0.706635],\n",
       " [1572263864383, 0.890784],\n",
       " [1572263866386, 0.483209],\n",
       " [1572263868387, 0.660098],\n",
       " [1572263870388, 0.82045],\n",
       " [1572263872392, 0.586441],\n",
       " [1572263874394, 0.173631],\n",
       " [1572263876397, 0.802073],\n",
       " [1572263878403, 0.771682],\n",
       " [1572263880404, 0.468503],\n",
       " [1572263882406, 0.903559],\n",
       " [1572263884408, 0.862981],\n",
       " [1572263886413, 0.643675],\n",
       " [1572263888415, 0.219544],\n",
       " [1572263890419, 0.648536],\n",
       " [1572263892423, 0.476625]]"
      ]
     },
     "execution_count": 176,
     "metadata": {},
     "output_type": "execute_result"
    }
   ],
   "source": [
    "my_property.values"
   ]
  },
  {
   "cell_type": "code",
   "execution_count": 180,
   "metadata": {},
   "outputs": [
    {
     "name": "stdout",
     "output_type": "stream",
     "text": [
      "Monday 28 October 2019\n"
     ]
    }
   ],
   "source": [
    "import pandas as pd\n",
    "import os\n",
    "data = my_property.values\n",
    "df = pd.DataFrame(my_property.values, columns = ['time', 'velocity'])\n",
    "df.to_csv('test.csv')\n",
    "ct = datetime.now().strftime('%A %-d %B %Y')\n",
    "print(ct)\n",
    "nametag = 'workout '+ct+'.csv'\n",
    "os.rename('test.csv', nametag)"
   ]
  },
  {
   "cell_type": "markdown",
   "metadata": {},
   "source": [
    "# From CSV"
   ]
  },
  {
   "cell_type": "code",
   "execution_count": 181,
   "metadata": {
    "pycharm": {
     "name": "#%%\n"
    }
   },
   "outputs": [
    {
     "data": {
      "text/html": [
       "<div>\n",
       "<style scoped>\n",
       "    .dataframe tbody tr th:only-of-type {\n",
       "        vertical-align: middle;\n",
       "    }\n",
       "\n",
       "    .dataframe tbody tr th {\n",
       "        vertical-align: top;\n",
       "    }\n",
       "\n",
       "    .dataframe thead th {\n",
       "        text-align: right;\n",
       "    }\n",
       "</style>\n",
       "<table border=\"1\" class=\"dataframe\">\n",
       "  <thead>\n",
       "    <tr style=\"text-align: right;\">\n",
       "      <th></th>\n",
       "      <th>x</th>\n",
       "      <th>y</th>\n",
       "    </tr>\n",
       "  </thead>\n",
       "  <tbody>\n",
       "    <tr>\n",
       "      <th>NaT</th>\n",
       "      <td>NaN</td>\n",
       "      <td>NaN</td>\n",
       "    </tr>\n",
       "    <tr>\n",
       "      <th>1970-01-01 00:00:00.000</th>\n",
       "      <td>1.572263e+12</td>\n",
       "      <td>0.284154</td>\n",
       "    </tr>\n",
       "    <tr>\n",
       "      <th>1970-01-01 00:00:00.001</th>\n",
       "      <td>1.572263e+12</td>\n",
       "      <td>0.203448</td>\n",
       "    </tr>\n",
       "    <tr>\n",
       "      <th>1970-01-01 00:00:00.002</th>\n",
       "      <td>1.572263e+12</td>\n",
       "      <td>0.577391</td>\n",
       "    </tr>\n",
       "    <tr>\n",
       "      <th>1970-01-01 00:00:00.003</th>\n",
       "      <td>1.572263e+12</td>\n",
       "      <td>0.024648</td>\n",
       "    </tr>\n",
       "    <tr>\n",
       "      <th>...</th>\n",
       "      <td>...</td>\n",
       "      <td>...</td>\n",
       "    </tr>\n",
       "    <tr>\n",
       "      <th>1970-01-01 00:00:00.294</th>\n",
       "      <td>1.572264e+12</td>\n",
       "      <td>0.862981</td>\n",
       "    </tr>\n",
       "    <tr>\n",
       "      <th>1970-01-01 00:00:00.295</th>\n",
       "      <td>1.572264e+12</td>\n",
       "      <td>0.643675</td>\n",
       "    </tr>\n",
       "    <tr>\n",
       "      <th>1970-01-01 00:00:00.296</th>\n",
       "      <td>1.572264e+12</td>\n",
       "      <td>0.219544</td>\n",
       "    </tr>\n",
       "    <tr>\n",
       "      <th>1970-01-01 00:00:00.297</th>\n",
       "      <td>1.572264e+12</td>\n",
       "      <td>0.648536</td>\n",
       "    </tr>\n",
       "    <tr>\n",
       "      <th>1970-01-01 00:00:00.298</th>\n",
       "      <td>1.572264e+12</td>\n",
       "      <td>0.476625</td>\n",
       "    </tr>\n",
       "  </tbody>\n",
       "</table>\n",
       "<p>300 rows × 2 columns</p>\n",
       "</div>"
      ],
      "text/plain": [
       "                                    x         y\n",
       "NaT                               NaN       NaN\n",
       "1970-01-01 00:00:00.000  1.572263e+12  0.284154\n",
       "1970-01-01 00:00:00.001  1.572263e+12  0.203448\n",
       "1970-01-01 00:00:00.002  1.572263e+12  0.577391\n",
       "1970-01-01 00:00:00.003  1.572263e+12  0.024648\n",
       "...                               ...       ...\n",
       "1970-01-01 00:00:00.294  1.572264e+12  0.862981\n",
       "1970-01-01 00:00:00.295  1.572264e+12  0.643675\n",
       "1970-01-01 00:00:00.296  1.572264e+12  0.219544\n",
       "1970-01-01 00:00:00.297  1.572264e+12  0.648536\n",
       "1970-01-01 00:00:00.298  1.572264e+12  0.476625\n",
       "\n",
       "[300 rows x 2 columns]"
      ]
     },
     "execution_count": 181,
     "metadata": {},
     "output_type": "execute_result"
    }
   ],
   "source": [
    "from numpy import genfromtxt\n",
    "data = genfromtxt('workout Monday 28 October 2019.csv', delimiter=',')\n",
    "data_frame = pd.DataFrame(data[:,1:], index = pd.DatetimeIndex(pd.to_datetime(data[:,0], unit='ms')), columns = ['x', 'y'])\n",
    "data_frame"
   ]
  },
  {
   "cell_type": "markdown",
   "metadata": {},
   "source": [
    "# Plot some charts with Matplotlib\n",
    "In this example we plot an histogram, distribution of all values and dimensions."
   ]
  },
  {
   "cell_type": "code",
   "execution_count": 182,
   "metadata": {
    "pycharm": {
     "name": "#%%\n"
    }
   },
   "outputs": [],
   "source": [
    "import numpy as np\n",
    "import matplotlib.pyplot as plt\n",
    "from matplotlib.pyplot import figure\n",
    "from numpy import ma\n",
    "data = np.array(my_property.values)"
   ]
  },
  {
   "cell_type": "code",
   "execution_count": 183,
   "metadata": {
    "pycharm": {
     "name": "#%%\n"
    }
   },
   "outputs": [
    {
     "data": {
      "text/plain": [
       "[<matplotlib.lines.Line2D at 0x121035450>]"
      ]
     },
     "execution_count": 183,
     "metadata": {},
     "output_type": "execute_result"
    },
    {
     "data": {
      "image/png": "[encoded data removed]",
      "text/plain": [
       "<Figure size 1080x360 with 1 Axes>"
      ]
     },
     "metadata": {
      "needs_background": "light"
     },
     "output_type": "display_data"
    }
   ],
   "source": [
    "figure(num=None, figsize=(15, 5))\n",
    "t = data_frame.index\n",
    "#plt.plot(t, data_frame.x, t, data_frame.y)\n",
    "plt.plot(t,data_frame.y)"
   ]
  },
  {
   "cell_type": "code",
   "execution_count": 184,
   "metadata": {
    "pycharm": {
     "name": "#%%\n"
    }
   },
   "outputs": [],
   "source": [
    "#plt.hist(data[:,:])\n",
    "#plt.show()"
   ]
  },
  {
   "cell_type": "markdown",
   "metadata": {},
   "source": [
    "# Generate statistics with NumPy and Pandas"
   ]
  },
  {
   "cell_type": "code",
   "execution_count": 185,
   "metadata": {},
   "outputs": [],
   "source": [
    "import numpy as np\n",
    "from scipy.stats import kurtosis, skew"
   ]
  },
  {
   "cell_type": "code",
   "execution_count": 186,
   "metadata": {},
   "outputs": [
    {
     "data": {
      "text/plain": [
       "array([0.00122712])"
      ]
     },
     "execution_count": 186,
     "metadata": {},
     "output_type": "execute_result"
    }
   ],
   "source": [
    "np.min(data[:,1:4], axis=0)"
   ]
  },
  {
   "cell_type": "code",
   "execution_count": 187,
   "metadata": {},
   "outputs": [
    {
     "data": {
      "text/plain": [
       "array([-0.10779254])"
      ]
     },
     "execution_count": 187,
     "metadata": {},
     "output_type": "execute_result"
    }
   ],
   "source": [
    "skew(data[:,1:4])"
   ]
  },
  {
   "cell_type": "markdown",
   "metadata": {},
   "source": [
    "You can select a column (slice) of data, or a subset of data. In the example below we select rows\n",
    "from 10 to 20 (10 in total) and the colum 1 to x (i.e skiping the first column representing the time)."
   ]
  },
  {
   "cell_type": "code",
   "execution_count": 188,
   "metadata": {},
   "outputs": [
    {
     "data": {
      "text/plain": [
       "array([[0.284154 ],\n",
       "       [0.203448 ],\n",
       "       [0.577391 ],\n",
       "       [0.0246476],\n",
       "       [0.208632 ],\n",
       "       [0.73302  ],\n",
       "       [0.497543 ],\n",
       "       [0.180867 ],\n",
       "       [0.807159 ],\n",
       "       [0.938964 ]])"
      ]
     },
     "execution_count": 188,
     "metadata": {},
     "output_type": "execute_result"
    }
   ],
   "source": [
    "data[:10,1:]"
   ]
  },
  {
   "cell_type": "markdown",
   "metadata": {},
   "source": [
    "Out of the box, Pandas give you some statistics, do not forget to convert your array into a DataFrame."
   ]
  },
  {
   "cell_type": "code",
   "execution_count": 189,
   "metadata": {
    "scrolled": true
   },
   "outputs": [
    {
     "data": {
      "text/html": [
       "<div>\n",
       "<style scoped>\n",
       "    .dataframe tbody tr th:only-of-type {\n",
       "        vertical-align: middle;\n",
       "    }\n",
       "\n",
       "    .dataframe tbody tr th {\n",
       "        vertical-align: top;\n",
       "    }\n",
       "\n",
       "    .dataframe thead th {\n",
       "        text-align: right;\n",
       "    }\n",
       "</style>\n",
       "<table border=\"1\" class=\"dataframe\">\n",
       "  <thead>\n",
       "    <tr style=\"text-align: right;\">\n",
       "      <th></th>\n",
       "      <th>0</th>\n",
       "    </tr>\n",
       "  </thead>\n",
       "  <tbody>\n",
       "    <tr>\n",
       "      <th>count</th>\n",
       "      <td>299.000000</td>\n",
       "    </tr>\n",
       "    <tr>\n",
       "      <th>mean</th>\n",
       "      <td>0.516857</td>\n",
       "    </tr>\n",
       "    <tr>\n",
       "      <th>std</th>\n",
       "      <td>0.289322</td>\n",
       "    </tr>\n",
       "    <tr>\n",
       "      <th>min</th>\n",
       "      <td>0.001227</td>\n",
       "    </tr>\n",
       "    <tr>\n",
       "      <th>25%</th>\n",
       "      <td>0.255003</td>\n",
       "    </tr>\n",
       "    <tr>\n",
       "      <th>50%</th>\n",
       "      <td>0.520871</td>\n",
       "    </tr>\n",
       "    <tr>\n",
       "      <th>75%</th>\n",
       "      <td>0.771467</td>\n",
       "    </tr>\n",
       "    <tr>\n",
       "      <th>max</th>\n",
       "      <td>0.992637</td>\n",
       "    </tr>\n",
       "  </tbody>\n",
       "</table>\n",
       "</div>"
      ],
      "text/plain": [
       "                0\n",
       "count  299.000000\n",
       "mean     0.516857\n",
       "std      0.289322\n",
       "min      0.001227\n",
       "25%      0.255003\n",
       "50%      0.520871\n",
       "75%      0.771467\n",
       "max      0.992637"
      ]
     },
     "execution_count": 189,
     "metadata": {},
     "output_type": "execute_result"
    }
   ],
   "source": [
    "data_frame = pd.DataFrame(data[:,1:], index = pd.DatetimeIndex(pd.to_datetime(data[:,0], unit='ms')))\n",
    "pd.DataFrame.describe(data_frame)"
   ]
  },
  {
   "cell_type": "code",
   "execution_count": 190,
   "metadata": {},
   "outputs": [
    {
     "data": {
      "text/html": [
       "<div>\n",
       "<style scoped>\n",
       "    .dataframe tbody tr th:only-of-type {\n",
       "        vertical-align: middle;\n",
       "    }\n",
       "\n",
       "    .dataframe tbody tr th {\n",
       "        vertical-align: top;\n",
       "    }\n",
       "\n",
       "    .dataframe thead th {\n",
       "        text-align: right;\n",
       "    }\n",
       "</style>\n",
       "<table border=\"1\" class=\"dataframe\">\n",
       "  <thead>\n",
       "    <tr style=\"text-align: right;\">\n",
       "      <th></th>\n",
       "      <th>0</th>\n",
       "    </tr>\n",
       "  </thead>\n",
       "  <tbody>\n",
       "    <tr>\n",
       "      <th>2019-10-28 11:48:15.530</th>\n",
       "      <td>NaN</td>\n",
       "    </tr>\n",
       "    <tr>\n",
       "      <th>2019-10-28 11:48:17.534</th>\n",
       "      <td>NaN</td>\n",
       "    </tr>\n",
       "    <tr>\n",
       "      <th>2019-10-28 11:48:19.536</th>\n",
       "      <td>NaN</td>\n",
       "    </tr>\n",
       "    <tr>\n",
       "      <th>2019-10-28 11:48:21.541</th>\n",
       "      <td>NaN</td>\n",
       "    </tr>\n",
       "    <tr>\n",
       "      <th>2019-10-28 11:48:23.545</th>\n",
       "      <td>NaN</td>\n",
       "    </tr>\n",
       "    <tr>\n",
       "      <th>...</th>\n",
       "      <td>...</td>\n",
       "    </tr>\n",
       "    <tr>\n",
       "      <th>2019-10-28 11:58:04.408</th>\n",
       "      <td>0.228123</td>\n",
       "    </tr>\n",
       "    <tr>\n",
       "      <th>2019-10-28 11:58:06.413</th>\n",
       "      <td>0.220343</td>\n",
       "    </tr>\n",
       "    <tr>\n",
       "      <th>2019-10-28 11:58:08.415</th>\n",
       "      <td>0.262415</td>\n",
       "    </tr>\n",
       "    <tr>\n",
       "      <th>2019-10-28 11:58:10.419</th>\n",
       "      <td>0.253693</td>\n",
       "    </tr>\n",
       "    <tr>\n",
       "      <th>2019-10-28 11:58:12.423</th>\n",
       "      <td>0.257087</td>\n",
       "    </tr>\n",
       "  </tbody>\n",
       "</table>\n",
       "<p>299 rows × 1 columns</p>\n",
       "</div>"
      ],
      "text/plain": [
       "                                0\n",
       "2019-10-28 11:48:15.530       NaN\n",
       "2019-10-28 11:48:17.534       NaN\n",
       "2019-10-28 11:48:19.536       NaN\n",
       "2019-10-28 11:48:21.541       NaN\n",
       "2019-10-28 11:48:23.545       NaN\n",
       "...                           ...\n",
       "2019-10-28 11:58:04.408  0.228123\n",
       "2019-10-28 11:58:06.413  0.220343\n",
       "2019-10-28 11:58:08.415  0.262415\n",
       "2019-10-28 11:58:10.419  0.253693\n",
       "2019-10-28 11:58:12.423  0.257087\n",
       "\n",
       "[299 rows x 1 columns]"
      ]
     },
     "execution_count": 190,
     "metadata": {},
     "output_type": "execute_result"
    }
   ],
   "source": [
    "data_frame.rolling(10).std()"
   ]
  },
  {
   "cell_type": "markdown",
   "metadata": {},
   "source": [
    "# Rolling / Sliding Window\n",
    "To apply statistics on a sliding (or rolling) window, we can use the rolling() function of a data frame. In the example below, we roll with a window size of 4 elements to apply a skew()"
   ]
  },
  {
   "cell_type": "code",
   "execution_count": 191,
   "metadata": {},
   "outputs": [
    {
     "data": {
      "image/png": "[encoded data removed]",
      "text/plain": [
       "<Figure size 432x288 with 1 Axes>"
      ]
     },
     "metadata": {
      "needs_background": "light"
     },
     "output_type": "display_data"
    }
   ],
   "source": [
    "rolling2s = data_frame.rolling('2s').std()\n",
    "plt.plot(rolling2s)\n",
    "plt.show()"
   ]
  },
  {
   "cell_type": "code",
   "execution_count": 192,
   "metadata": {},
   "outputs": [
    {
     "data": {
      "image/png": "[encoded data removed]",
      "text/plain": [
       "<Figure size 432x288 with 1 Axes>"
      ]
     },
     "metadata": {
      "needs_background": "light"
     },
     "output_type": "display_data"
    }
   ],
   "source": [
    "rolling100_data_points = data_frame.rolling(100).skew()\n",
    "plt.plot(rolling100_data_points)\n",
    "plt.show()"
   ]
  },
  {
   "cell_type": "markdown",
   "metadata": {},
   "source": [
    "# Zero Crossing"
   ]
  },
  {
   "cell_type": "code",
   "execution_count": 193,
   "metadata": {},
   "outputs": [
    {
     "data": {
      "image/png": "[encoded data removed]",
      "text/plain": [
       "<Figure size 432x288 with 1 Axes>"
      ]
     },
     "metadata": {
      "needs_background": "light"
     },
     "output_type": "display_data"
    },
    {
     "name": "stderr",
     "output_type": "stream",
     "text": [
      "INFO:dcd:things:wheelchair_speed-e706:Connection successful\n",
      "INFO:dcd:things:wheelchair_speed-e706:Connection successful\n",
      "INFO:dcd:things:wheelchair_speed-e706:Connection successful\n",
      "INFO:dcd:things:wheelchair_speed-e706:Connection successful\n",
      "INFO:dcd:things:wheelchair_speed-e706:Connection successful\n",
      "INFO:dcd:things:wheelchair_speed-e706:Connection successful\n",
      "INFO:dcd:things:wheelchair_speed-e706:Connection successful\n",
      "INFO:dcd:things:wheelchair_speed-e706:Connection successful\n",
      "INFO:dcd:things:wheelchair_speed-e706:Connection successful\n",
      "INFO:dcd:things:wheelchair_speed-e706:Connection successful\n",
      "INFO:dcd:things:wheelchair_speed-e706:Connection successful\n",
      "INFO:dcd:things:wheelchair_speed-e706:Connection successful\n"
     ]
    }
   ],
   "source": [
    "plt.hist(np.where(np.diff(np.sign(data[:,1]))))\n",
    "plt.show()"
   ]
  },
  {
   "cell_type": "markdown",
   "metadata": {},
   "source": [
    "https://docs.scipy.org/doc/scipy/reference/stats.html#discrete-distributions"
   ]
  }
 ],
 "metadata": {
  "kernelspec": {
   "display_name": "Python 3",
   "language": "python",
   "name": "python3"
  },
  "language_info": {
   "codemirror_mode": {
    "name": "ipython",
    "version": 3
   },
   "file_extension": ".py",
   "mimetype": "text/x-python",
   "name": "python",
   "nbconvert_exporter": "python",
   "pygments_lexer": "ipython3",
   "version": "3.7.4"
  },
  "pycharm": {
   "stem_cell": {
    "cell_type": "raw",
    "metadata": {
     "collapsed": false
    },
    "source": []
   }
  }
 },
 "nbformat": 4,
 "nbformat_minor": 2
}
