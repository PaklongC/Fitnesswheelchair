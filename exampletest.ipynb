{
 "cells": [
  {
   "cell_type": "markdown",
   "metadata": {},
   "source": [
    "# Example of Data Analysis with DCD Hub Data"
   ]
  },
  {
   "cell_type": "markdown",
   "metadata": {},
   "source": [
    "First, we import the Python SDK"
   ]
  },
  {
   "cell_type": "code",
   "execution_count": 2,
   "metadata": {},
   "outputs": [],
   "source": [
    "from dcd.entities.thing import Thing"
   ]
  },
  {
   "cell_type": "markdown",
   "metadata": {},
   "source": [
    "We provide the thing ID and access token (replace with yours)"
   ]
  },
  {
   "cell_type": "code",
   "execution_count": 3,
   "metadata": {},
   "outputs": [],
   "source": [
    "from dotenv import load_dotenv\n",
    "import os\n",
    "load_dotenv()\n",
    "THING_ID = os.environ['THING_ID']\n",
    "THING_TOKEN = os.environ['THING_TOKEN']"
   ]
  },
  {
   "cell_type": "markdown",
   "metadata": {},
   "source": [
    "We instantiate a Thing with its credential, then we fetch its details"
   ]
  },
  {
   "cell_type": "code",
   "execution_count": 4,
   "metadata": {},
   "outputs": [
    {
     "name": "stderr",
     "output_type": "stream",
     "text": [
      "INFO:dcd:things:wheelchair_speed-e706:Initialising MQTT connection for Thing 'dcd:things:wheelchair_speed-e706'\n",
      "DEBUG:urllib3.connectionpool:Starting new HTTPS connection (1): dwd.tudelft.nl:443\n",
      "INFO:dcd:things:wheelchair_speed-e706:Connection successful\n",
      "DEBUG:urllib3.connectionpool:https://dwd.tudelft.nl:443 \"GET /api/things/dcd:things:wheelchair_speed-e706 HTTP/1.1\" 200 6724\n"
     ]
    },
    {
     "name": "stdout",
     "output_type": "stream",
     "text": [
      "DigiCertCA.crt exist.\n",
      "{'thing': {'id': 'dcd:things:wheelchair_speed-e706', 'name': 'Wheelchair_speed', 'description': '', 'type': 'Speed', 'properties': [{'type': 'THREE_DIMENSIONS', 'name': 'My Random Property', 'description': '', 'dimensions': [{'name': 'Value1', 'description': '', 'unit': ''}, {'name': 'Value2', 'description': '', 'unit': ''}, {'name': 'Value3', 'description': '', 'unit': ''}, {'name': 'Value1', 'description': '', 'unit': ''}, {'name': 'Value2', 'description': '', 'unit': ''}, {'name': 'Value3', 'description': '', 'unit': ''}], 'id': 'my-random-property-5f3c', 'classes': [], 'values': [], 'entityId': 'dcd:things:wheelchair_speed-e706', 'readAt': 1572096478514, 'registeredAt': 1571392699000}, {'type': 'ONE_DIMENSION', 'name': 'one', 'description': '', 'dimensions': [{'name': 'Value', 'description': '', 'unit': ''}], 'id': 'one-28d7', 'classes': [], 'values': [], 'entityId': 'dcd:things:wheelchair_speed-e706', 'readAt': 1572096478514, 'registeredAt': 1571994791000}, {'type': 'THREE_DIMENSIONS', 'name': 'RANDOM SHIT', 'description': '', 'dimensions': [{'name': 'Value1', 'description': '', 'unit': ''}, {'name': 'Value2', 'description': '', 'unit': ''}, {'name': 'Value3', 'description': '', 'unit': ''}, {'name': 'Value1', 'description': '', 'unit': ''}, {'name': 'Value2', 'description': '', 'unit': ''}, {'name': 'Value3', 'description': '', 'unit': ''}], 'id': 'random-shit-aa03', 'classes': [], 'values': [], 'entityId': 'dcd:things:wheelchair_speed-e706', 'readAt': 1572096478514, 'registeredAt': 1571994791000}, {'type': 'TWO_DIMENSIONS', 'name': 'Rotation', 'description': '', 'dimensions': [{'name': 'Value1', 'description': '', 'unit': ''}, {'name': 'Value2', 'description': '', 'unit': ''}, {'name': 'Value1', 'description': '', 'unit': ''}, {'name': 'Value2', 'description': '', 'unit': ''}], 'id': 'rotation-7ecd', 'classes': [], 'values': [], 'entityId': 'dcd:things:wheelchair_speed-e706', 'readAt': 1572096478514, 'registeredAt': 1571753516000}, {'type': 'ONE_DIMENSION', 'name': 'Speed', 'description': '', 'dimensions': [{'name': 'Value', 'description': '', 'unit': ''}], 'id': 'speed-83ac', 'classes': [], 'values': [], 'entityId': 'dcd:things:wheelchair_speed-e706', 'readAt': 1572096478514, 'registeredAt': 1571753522000}, {'type': 'THREE_DIMENSIONS', 'name': 'three', 'description': '', 'dimensions': [{'name': 'Value1', 'description': '', 'unit': ''}, {'name': 'Value2', 'description': '', 'unit': ''}, {'name': 'Value3', 'description': '', 'unit': ''}, {'name': 'Value1', 'description': '', 'unit': ''}, {'name': 'Value2', 'description': '', 'unit': ''}, {'name': 'Value3', 'description': '', 'unit': ''}], 'id': 'three-ad01', 'classes': [], 'values': [], 'entityId': 'dcd:things:wheelchair_speed-e706', 'readAt': 1572096478514, 'registeredAt': 1571994791000}, {'type': 'TWO_DIMENSIONS', 'name': 'two', 'description': '', 'dimensions': [{'name': 'Value1', 'description': '', 'unit': ''}, {'name': 'Value2', 'description': '', 'unit': ''}, {'name': 'Value1', 'description': '', 'unit': ''}, {'name': 'Value2', 'description': '', 'unit': ''}], 'id': 'two-4069', 'classes': [], 'values': [], 'entityId': 'dcd:things:wheelchair_speed-e706', 'readAt': 1572096478514, 'registeredAt': 1571994791000}, {'type': 'THREE_DIMENSIONS', 'name': 'Wheelchair Speed', 'description': '', 'dimensions': [{'name': 'Value1', 'description': '', 'unit': ''}, {'name': 'Value2', 'description': '', 'unit': ''}, {'name': 'Value3', 'description': '', 'unit': ''}, {'name': 'Value1', 'description': '', 'unit': ''}, {'name': 'Value2', 'description': '', 'unit': ''}, {'name': 'Value3', 'description': '', 'unit': ''}], 'id': 'wheelchair-speed-0933', 'classes': [], 'values': [], 'entityId': 'dcd:things:wheelchair_speed-e706', 'readAt': 1572096478514, 'registeredAt': 1571753506000}], 'registeredAt': '2019-10-18T09:54:38.000Z', 'readAt': 1572096478511, 'keys': {}}}\n"
     ]
    }
   ],
   "source": [
    "my_thing = Thing(thing_id=THING_ID, token=THING_TOKEN)\n",
    "my_thing.read()"
   ]
  },
  {
   "cell_type": "markdown",
   "metadata": {},
   "source": [
    "What does a Thing look like?"
   ]
  },
  {
   "cell_type": "code",
   "execution_count": 5,
   "metadata": {},
   "outputs": [
    {
     "data": {
      "text/plain": [
       "{'id': 'dcd:things:wheelchair_speed-e706',\n",
       " 'name': 'Wheelchair_speed',\n",
       " 'description': '',\n",
       " 'type': 'Speed',\n",
       " 'properties': [{'id': 'my-random-property-5f3c',\n",
       "   'name': 'My Random Property',\n",
       "   'description': '',\n",
       "   'type': 'THREE_DIMENSIONS',\n",
       "   'dimensions': [{'name': 'Value1', 'description': '', 'unit': ''},\n",
       "    {'name': 'Value2', 'description': '', 'unit': ''},\n",
       "    {'name': 'Value3', 'description': '', 'unit': ''},\n",
       "    {'name': 'Value1', 'description': '', 'unit': ''},\n",
       "    {'name': 'Value2', 'description': '', 'unit': ''},\n",
       "    {'name': 'Value3', 'description': '', 'unit': ''}]},\n",
       "  {'id': 'one-28d7',\n",
       "   'name': 'one',\n",
       "   'description': '',\n",
       "   'type': 'ONE_DIMENSION',\n",
       "   'dimensions': [{'name': 'Value', 'description': '', 'unit': ''}]},\n",
       "  {'id': 'random-shit-aa03',\n",
       "   'name': 'RANDOM SHIT',\n",
       "   'description': '',\n",
       "   'type': 'THREE_DIMENSIONS',\n",
       "   'dimensions': [{'name': 'Value1', 'description': '', 'unit': ''},\n",
       "    {'name': 'Value2', 'description': '', 'unit': ''},\n",
       "    {'name': 'Value3', 'description': '', 'unit': ''},\n",
       "    {'name': 'Value1', 'description': '', 'unit': ''},\n",
       "    {'name': 'Value2', 'description': '', 'unit': ''},\n",
       "    {'name': 'Value3', 'description': '', 'unit': ''}]},\n",
       "  {'id': 'rotation-7ecd',\n",
       "   'name': 'Rotation',\n",
       "   'description': '',\n",
       "   'type': 'TWO_DIMENSIONS',\n",
       "   'dimensions': [{'name': 'Value1', 'description': '', 'unit': ''},\n",
       "    {'name': 'Value2', 'description': '', 'unit': ''},\n",
       "    {'name': 'Value1', 'description': '', 'unit': ''},\n",
       "    {'name': 'Value2', 'description': '', 'unit': ''}]},\n",
       "  {'id': 'speed-83ac',\n",
       "   'name': 'Speed',\n",
       "   'description': '',\n",
       "   'type': 'ONE_DIMENSION',\n",
       "   'dimensions': [{'name': 'Value', 'description': '', 'unit': ''}]},\n",
       "  {'id': 'three-ad01',\n",
       "   'name': 'three',\n",
       "   'description': '',\n",
       "   'type': 'THREE_DIMENSIONS',\n",
       "   'dimensions': [{'name': 'Value1', 'description': '', 'unit': ''},\n",
       "    {'name': 'Value2', 'description': '', 'unit': ''},\n",
       "    {'name': 'Value3', 'description': '', 'unit': ''},\n",
       "    {'name': 'Value1', 'description': '', 'unit': ''},\n",
       "    {'name': 'Value2', 'description': '', 'unit': ''},\n",
       "    {'name': 'Value3', 'description': '', 'unit': ''}]},\n",
       "  {'id': 'two-4069',\n",
       "   'name': 'two',\n",
       "   'description': '',\n",
       "   'type': 'TWO_DIMENSIONS',\n",
       "   'dimensions': [{'name': 'Value1', 'description': '', 'unit': ''},\n",
       "    {'name': 'Value2', 'description': '', 'unit': ''},\n",
       "    {'name': 'Value1', 'description': '', 'unit': ''},\n",
       "    {'name': 'Value2', 'description': '', 'unit': ''}]},\n",
       "  {'id': 'wheelchair-speed-0933',\n",
       "   'name': 'Wheelchair Speed',\n",
       "   'description': '',\n",
       "   'type': 'THREE_DIMENSIONS',\n",
       "   'dimensions': [{'name': 'Value1', 'description': '', 'unit': ''},\n",
       "    {'name': 'Value2', 'description': '', 'unit': ''},\n",
       "    {'name': 'Value3', 'description': '', 'unit': ''},\n",
       "    {'name': 'Value1', 'description': '', 'unit': ''},\n",
       "    {'name': 'Value2', 'description': '', 'unit': ''},\n",
       "    {'name': 'Value3', 'description': '', 'unit': ''}]}]}"
      ]
     },
     "execution_count": 5,
     "metadata": {},
     "output_type": "execute_result"
    }
   ],
   "source": [
    "my_thing.to_json()"
   ]
  },
  {
   "cell_type": "markdown",
   "metadata": {},
   "source": [
    "Which property do we want to explore and over which time frame?"
   ]
  },
  {
   "cell_type": "code",
   "execution_count": 6,
   "metadata": {},
   "outputs": [],
   "source": [
    "from datetime import datetime\n",
    "# What dates?\n",
    "START_DATE = \"2019-10-26 15:26:00\"\n",
    "END_DATE = \"2019-10-26 15:27:00\"\n",
    "\n",
    "from datetime import datetime\n",
    "DATE_FORMAT = '%Y-%m-%d %H:%M:%S'\n",
    "from_ts = datetime.timestamp(datetime.strptime(START_DATE, DATE_FORMAT)) * 1000\n",
    "to_ts = datetime.timestamp(datetime.strptime(END_DATE, DATE_FORMAT)) * 1000"
   ]
  },
  {
   "cell_type": "markdown",
   "metadata": {},
   "source": [
    "Let's find this property and read the data."
   ]
  },
  {
   "cell_type": "code",
   "execution_count": 7,
   "metadata": {},
   "outputs": [
    {
     "name": "stderr",
     "output_type": "stream",
     "text": [
      "DEBUG:urllib3.connectionpool:Starting new HTTPS connection (1): dwd.tudelft.nl:443\n",
      "DEBUG:urllib3.connectionpool:https://dwd.tudelft.nl:443 \"GET /api/things/dcd:things:wheelchair_speed-e706/properties/one-28d7?from=1572096360000.0&to=1572096420000.0 HTTP/1.1\" 200 2028\n"
     ]
    }
   ],
   "source": [
    "PROPERTY_NAME = \"one\"\n",
    "\n",
    "my_property = my_thing.find_property_by_name(PROPERTY_NAME)\n",
    "my_property.read(from_ts, to_ts)"
   ]
  },
  {
   "cell_type": "markdown",
   "metadata": {},
   "source": [
    "How many data point did we get?"
   ]
  },
  {
   "cell_type": "code",
   "execution_count": 8,
   "metadata": {},
   "outputs": [
    {
     "name": "stdout",
     "output_type": "stream",
     "text": [
      "30\n"
     ]
    }
   ],
   "source": [
    "print(len(my_property.values))"
   ]
  },
  {
   "cell_type": "markdown",
   "metadata": {},
   "source": [
    "Display values"
   ]
  },
  {
   "cell_type": "code",
   "execution_count": 31,
   "metadata": {},
   "outputs": [
    {
     "data": {
      "text/plain": [
       "[[1572096361368, 0.664703],\n",
       " [1572096363373, 0.199614],\n",
       " [1572096365375, 0.231955],\n",
       " [1572096367378, 0.659064],\n",
       " [1572096369380, 0.836792],\n",
       " [1572096371381, 0.428476],\n",
       " [1572096373388, 0.858621],\n",
       " [1572096375390, 0.524137],\n",
       " [1572096377393, 0.997997],\n",
       " [1572096379400, 0.15736],\n",
       " [1572096381406, 0.589174],\n",
       " [1572096383413, 0.176583],\n",
       " [1572096385419, 0.908057],\n",
       " [1572096387425, 0.4808],\n",
       " [1572096389432, 0.889613],\n",
       " [1572096391438, 0.305956],\n",
       " [1572096393443, 0.322166],\n",
       " [1572096395450, 0.582416],\n",
       " [1572096397454, 0.983308],\n",
       " [1572096399459, 0.681304],\n",
       " [1572096401461, 0.217932],\n",
       " [1572096403464, 0.396901],\n",
       " [1572096405467, 0.19473],\n",
       " [1572096407471, 0.913408],\n",
       " [1572096409478, 0.838001],\n",
       " [1572096411480, 0.0681447],\n",
       " [1572096413483, 0.146395],\n",
       " [1572096415490, 0.890078],\n",
       " [1572096417496, 0.718172],\n",
       " [1572096419501, 0.999435]]"
      ]
     },
     "execution_count": 31,
     "metadata": {},
     "output_type": "execute_result"
    }
   ],
   "source": [
    "my_property.values"
   ]
  },
  {
   "cell_type": "code",
   "execution_count": 33,
   "metadata": {},
   "outputs": [],
   "source": [
    "data = my_property.values\n",
    "df = pd.DataFrame(my_property.values, columns = ['time', 'velocity'])\n",
    "df.to_csv('test.csv')"
   ]
  },
  {
   "cell_type": "markdown",
   "metadata": {},
   "source": [
    "# From CSV"
   ]
  },
  {
   "cell_type": "code",
   "execution_count": 37,
   "metadata": {
    "pycharm": {
     "name": "#%%\n"
    }
   },
   "outputs": [
    {
     "data": {
      "text/html": [
       "<div>\n",
       "<style scoped>\n",
       "    .dataframe tbody tr th:only-of-type {\n",
       "        vertical-align: middle;\n",
       "    }\n",
       "\n",
       "    .dataframe tbody tr th {\n",
       "        vertical-align: top;\n",
       "    }\n",
       "\n",
       "    .dataframe thead th {\n",
       "        text-align: right;\n",
       "    }\n",
       "</style>\n",
       "<table border=\"1\" class=\"dataframe\">\n",
       "  <thead>\n",
       "    <tr style=\"text-align: right;\">\n",
       "      <th></th>\n",
       "      <th>x</th>\n",
       "      <th>y</th>\n",
       "    </tr>\n",
       "  </thead>\n",
       "  <tbody>\n",
       "    <tr>\n",
       "      <th>NaT</th>\n",
       "      <td>NaN</td>\n",
       "      <td>NaN</td>\n",
       "    </tr>\n",
       "    <tr>\n",
       "      <th>1970-01-01 00:00:00.000</th>\n",
       "      <td>1.572096e+12</td>\n",
       "      <td>0.664703</td>\n",
       "    </tr>\n",
       "    <tr>\n",
       "      <th>1970-01-01 00:00:00.001</th>\n",
       "      <td>1.572096e+12</td>\n",
       "      <td>0.199614</td>\n",
       "    </tr>\n",
       "    <tr>\n",
       "      <th>1970-01-01 00:00:00.002</th>\n",
       "      <td>1.572096e+12</td>\n",
       "      <td>0.231955</td>\n",
       "    </tr>\n",
       "    <tr>\n",
       "      <th>1970-01-01 00:00:00.003</th>\n",
       "      <td>1.572096e+12</td>\n",
       "      <td>0.659064</td>\n",
       "    </tr>\n",
       "    <tr>\n",
       "      <th>1970-01-01 00:00:00.004</th>\n",
       "      <td>1.572096e+12</td>\n",
       "      <td>0.836792</td>\n",
       "    </tr>\n",
       "    <tr>\n",
       "      <th>1970-01-01 00:00:00.005</th>\n",
       "      <td>1.572096e+12</td>\n",
       "      <td>0.428476</td>\n",
       "    </tr>\n",
       "    <tr>\n",
       "      <th>1970-01-01 00:00:00.006</th>\n",
       "      <td>1.572096e+12</td>\n",
       "      <td>0.858621</td>\n",
       "    </tr>\n",
       "    <tr>\n",
       "      <th>1970-01-01 00:00:00.007</th>\n",
       "      <td>1.572096e+12</td>\n",
       "      <td>0.524137</td>\n",
       "    </tr>\n",
       "    <tr>\n",
       "      <th>1970-01-01 00:00:00.008</th>\n",
       "      <td>1.572096e+12</td>\n",
       "      <td>0.997997</td>\n",
       "    </tr>\n",
       "    <tr>\n",
       "      <th>1970-01-01 00:00:00.009</th>\n",
       "      <td>1.572096e+12</td>\n",
       "      <td>0.157360</td>\n",
       "    </tr>\n",
       "    <tr>\n",
       "      <th>1970-01-01 00:00:00.010</th>\n",
       "      <td>1.572096e+12</td>\n",
       "      <td>0.589174</td>\n",
       "    </tr>\n",
       "    <tr>\n",
       "      <th>1970-01-01 00:00:00.011</th>\n",
       "      <td>1.572096e+12</td>\n",
       "      <td>0.176583</td>\n",
       "    </tr>\n",
       "    <tr>\n",
       "      <th>1970-01-01 00:00:00.012</th>\n",
       "      <td>1.572096e+12</td>\n",
       "      <td>0.908057</td>\n",
       "    </tr>\n",
       "    <tr>\n",
       "      <th>1970-01-01 00:00:00.013</th>\n",
       "      <td>1.572096e+12</td>\n",
       "      <td>0.480800</td>\n",
       "    </tr>\n",
       "    <tr>\n",
       "      <th>1970-01-01 00:00:00.014</th>\n",
       "      <td>1.572096e+12</td>\n",
       "      <td>0.889613</td>\n",
       "    </tr>\n",
       "    <tr>\n",
       "      <th>1970-01-01 00:00:00.015</th>\n",
       "      <td>1.572096e+12</td>\n",
       "      <td>0.305956</td>\n",
       "    </tr>\n",
       "    <tr>\n",
       "      <th>1970-01-01 00:00:00.016</th>\n",
       "      <td>1.572096e+12</td>\n",
       "      <td>0.322166</td>\n",
       "    </tr>\n",
       "    <tr>\n",
       "      <th>1970-01-01 00:00:00.017</th>\n",
       "      <td>1.572096e+12</td>\n",
       "      <td>0.582416</td>\n",
       "    </tr>\n",
       "    <tr>\n",
       "      <th>1970-01-01 00:00:00.018</th>\n",
       "      <td>1.572096e+12</td>\n",
       "      <td>0.983308</td>\n",
       "    </tr>\n",
       "    <tr>\n",
       "      <th>1970-01-01 00:00:00.019</th>\n",
       "      <td>1.572096e+12</td>\n",
       "      <td>0.681304</td>\n",
       "    </tr>\n",
       "    <tr>\n",
       "      <th>1970-01-01 00:00:00.020</th>\n",
       "      <td>1.572096e+12</td>\n",
       "      <td>0.217932</td>\n",
       "    </tr>\n",
       "    <tr>\n",
       "      <th>1970-01-01 00:00:00.021</th>\n",
       "      <td>1.572096e+12</td>\n",
       "      <td>0.396901</td>\n",
       "    </tr>\n",
       "    <tr>\n",
       "      <th>1970-01-01 00:00:00.022</th>\n",
       "      <td>1.572096e+12</td>\n",
       "      <td>0.194730</td>\n",
       "    </tr>\n",
       "    <tr>\n",
       "      <th>1970-01-01 00:00:00.023</th>\n",
       "      <td>1.572096e+12</td>\n",
       "      <td>0.913408</td>\n",
       "    </tr>\n",
       "    <tr>\n",
       "      <th>1970-01-01 00:00:00.024</th>\n",
       "      <td>1.572096e+12</td>\n",
       "      <td>0.838001</td>\n",
       "    </tr>\n",
       "    <tr>\n",
       "      <th>1970-01-01 00:00:00.025</th>\n",
       "      <td>1.572096e+12</td>\n",
       "      <td>0.068145</td>\n",
       "    </tr>\n",
       "    <tr>\n",
       "      <th>1970-01-01 00:00:00.026</th>\n",
       "      <td>1.572096e+12</td>\n",
       "      <td>0.146395</td>\n",
       "    </tr>\n",
       "    <tr>\n",
       "      <th>1970-01-01 00:00:00.027</th>\n",
       "      <td>1.572096e+12</td>\n",
       "      <td>0.890078</td>\n",
       "    </tr>\n",
       "    <tr>\n",
       "      <th>1970-01-01 00:00:00.028</th>\n",
       "      <td>1.572096e+12</td>\n",
       "      <td>0.718172</td>\n",
       "    </tr>\n",
       "    <tr>\n",
       "      <th>1970-01-01 00:00:00.029</th>\n",
       "      <td>1.572096e+12</td>\n",
       "      <td>0.999435</td>\n",
       "    </tr>\n",
       "  </tbody>\n",
       "</table>\n",
       "</div>"
      ],
      "text/plain": [
       "                                    x         y\n",
       "NaT                               NaN       NaN\n",
       "1970-01-01 00:00:00.000  1.572096e+12  0.664703\n",
       "1970-01-01 00:00:00.001  1.572096e+12  0.199614\n",
       "1970-01-01 00:00:00.002  1.572096e+12  0.231955\n",
       "1970-01-01 00:00:00.003  1.572096e+12  0.659064\n",
       "1970-01-01 00:00:00.004  1.572096e+12  0.836792\n",
       "1970-01-01 00:00:00.005  1.572096e+12  0.428476\n",
       "1970-01-01 00:00:00.006  1.572096e+12  0.858621\n",
       "1970-01-01 00:00:00.007  1.572096e+12  0.524137\n",
       "1970-01-01 00:00:00.008  1.572096e+12  0.997997\n",
       "1970-01-01 00:00:00.009  1.572096e+12  0.157360\n",
       "1970-01-01 00:00:00.010  1.572096e+12  0.589174\n",
       "1970-01-01 00:00:00.011  1.572096e+12  0.176583\n",
       "1970-01-01 00:00:00.012  1.572096e+12  0.908057\n",
       "1970-01-01 00:00:00.013  1.572096e+12  0.480800\n",
       "1970-01-01 00:00:00.014  1.572096e+12  0.889613\n",
       "1970-01-01 00:00:00.015  1.572096e+12  0.305956\n",
       "1970-01-01 00:00:00.016  1.572096e+12  0.322166\n",
       "1970-01-01 00:00:00.017  1.572096e+12  0.582416\n",
       "1970-01-01 00:00:00.018  1.572096e+12  0.983308\n",
       "1970-01-01 00:00:00.019  1.572096e+12  0.681304\n",
       "1970-01-01 00:00:00.020  1.572096e+12  0.217932\n",
       "1970-01-01 00:00:00.021  1.572096e+12  0.396901\n",
       "1970-01-01 00:00:00.022  1.572096e+12  0.194730\n",
       "1970-01-01 00:00:00.023  1.572096e+12  0.913408\n",
       "1970-01-01 00:00:00.024  1.572096e+12  0.838001\n",
       "1970-01-01 00:00:00.025  1.572096e+12  0.068145\n",
       "1970-01-01 00:00:00.026  1.572096e+12  0.146395\n",
       "1970-01-01 00:00:00.027  1.572096e+12  0.890078\n",
       "1970-01-01 00:00:00.028  1.572096e+12  0.718172\n",
       "1970-01-01 00:00:00.029  1.572096e+12  0.999435"
      ]
     },
     "execution_count": 37,
     "metadata": {},
     "output_type": "execute_result"
    }
   ],
   "source": [
    "from numpy import genfromtxt\n",
    "import pandas as pd\n",
    "data = genfromtxt('test.csv', delimiter=',')\n",
    "data_frame = pd.DataFrame(data[:,1:], index = pd.DatetimeIndex(pd.to_datetime(data[:,0], unit='ms')), columns = ['x', 'y'])\n",
    "data_frame"
   ]
  },
  {
   "cell_type": "markdown",
   "metadata": {},
   "source": [
    "# Plot some charts with Matplotlib\n",
    "In this example we plot an histogram, distribution of all values and dimensions."
   ]
  },
  {
   "cell_type": "code",
   "execution_count": 38,
   "metadata": {
    "pycharm": {
     "name": "#%%\n"
    }
   },
   "outputs": [],
   "source": [
    "import numpy as np\n",
    "import matplotlib.pyplot as plt\n",
    "from matplotlib.pyplot import figure\n",
    "from numpy import ma\n",
    "data = np.array(my_property.values)"
   ]
  },
  {
   "cell_type": "code",
   "execution_count": 40,
   "metadata": {
    "pycharm": {
     "name": "#%%\n"
    }
   },
   "outputs": [
    {
     "data": {
      "text/plain": [
       "[<matplotlib.lines.Line2D at 0x119939b10>]"
      ]
     },
     "execution_count": 40,
     "metadata": {},
     "output_type": "execute_result"
    },
    {
     "data": {
      "image/png": "[encoded data removed]",
      "text/plain": [
       "<Figure size 1080x360 with 1 Axes>"
      ]
     },
     "metadata": {
      "needs_background": "light"
     },
     "output_type": "display_data"
    }
   ],
   "source": [
    "figure(num=None, figsize=(15, 5))\n",
    "t = data_frame.index\n",
    "#plt.plot(t, data_frame.x, t, data_frame.y)\n",
    "plt.plot(t,data_frame.y)"
   ]
  },
  {
   "cell_type": "code",
   "execution_count": 41,
   "metadata": {
    "pycharm": {
     "name": "#%%\n"
    }
   },
   "outputs": [
    {
     "data": {
      "image/png": "[encoded data removed]",
      "text/plain": [
       "<Figure size 432x288 with 1 Axes>"
      ]
     },
     "metadata": {
      "needs_background": "light"
     },
     "output_type": "display_data"
    }
   ],
   "source": [
    "plt.hist(data[:,:])\n",
    "plt.show()"
   ]
  },
  {
   "cell_type": "markdown",
   "metadata": {},
   "source": [
    "# Generate statistics with NumPy and Pandas"
   ]
  },
  {
   "cell_type": "code",
   "execution_count": null,
   "metadata": {},
   "outputs": [],
   "source": [
    "import numpy as np\n",
    "from scipy.stats import kurtosis, skew"
   ]
  },
  {
   "cell_type": "code",
   "execution_count": null,
   "metadata": {},
   "outputs": [],
   "source": [
    "np.min(data[:,1:4], axis=0)"
   ]
  },
  {
   "cell_type": "code",
   "execution_count": null,
   "metadata": {},
   "outputs": [],
   "source": [
    "skew(data[:,1:4])"
   ]
  },
  {
   "cell_type": "markdown",
   "metadata": {},
   "source": [
    "You can select a column (slice) of data, or a subset of data. In the example below we select rows\n",
    "from 10 to 20 (10 in total) and the colum 1 to x (i.e skiping the first column representing the time)."
   ]
  },
  {
   "cell_type": "code",
   "execution_count": null,
   "metadata": {},
   "outputs": [],
   "source": [
    "data[:10,1:]"
   ]
  },
  {
   "cell_type": "markdown",
   "metadata": {},
   "source": [
    "Out of the box, Pandas give you some statistics, do not forget to convert your array into a DataFrame."
   ]
  },
  {
   "cell_type": "code",
   "execution_count": null,
   "metadata": {
    "scrolled": true
   },
   "outputs": [],
   "source": [
    "data_frame = pd.DataFrame(data[:,1:], index = pd.DatetimeIndex(pd.to_datetime(data[:,0], unit='ms')))\n",
    "pd.DataFrame.describe(data_frame)"
   ]
  },
  {
   "cell_type": "code",
   "execution_count": null,
   "metadata": {},
   "outputs": [],
   "source": [
    "data_frame.rolling(10).std()"
   ]
  },
  {
   "cell_type": "markdown",
   "metadata": {},
   "source": [
    "# Rolling / Sliding Window\n",
    "To apply statistics on a sliding (or rolling) window, we can use the rolling() function of a data frame. In the example below, we roll with a window size of 4 elements to apply a skew()"
   ]
  },
  {
   "cell_type": "code",
   "execution_count": null,
   "metadata": {},
   "outputs": [],
   "source": [
    "rolling2s = data_frame.rolling('2s').std()\n",
    "plt.plot(rolling2s)\n",
    "plt.show()"
   ]
  },
  {
   "cell_type": "code",
   "execution_count": 32,
   "metadata": {},
   "outputs": [
    {
     "ename": "NameError",
     "evalue": "name 'data_frame' is not defined",
     "output_type": "error",
     "traceback": [
      "\u001b[0;31m---------------------------------------------------------------------------\u001b[0m",
      "\u001b[0;31mNameError\u001b[0m                                 Traceback (most recent call last)",
      "\u001b[0;32m<ipython-input-32-1b045e4e787b>\u001b[0m in \u001b[0;36m<module>\u001b[0;34m\u001b[0m\n\u001b[0;32m----> 1\u001b[0;31m \u001b[0mrolling100_data_points\u001b[0m \u001b[0;34m=\u001b[0m \u001b[0mdata_frame\u001b[0m\u001b[0;34m.\u001b[0m\u001b[0mrolling\u001b[0m\u001b[0;34m(\u001b[0m\u001b[0;36m100\u001b[0m\u001b[0;34m)\u001b[0m\u001b[0;34m.\u001b[0m\u001b[0mskew\u001b[0m\u001b[0;34m(\u001b[0m\u001b[0;34m)\u001b[0m\u001b[0;34m\u001b[0m\u001b[0;34m\u001b[0m\u001b[0m\n\u001b[0m\u001b[1;32m      2\u001b[0m \u001b[0mplt\u001b[0m\u001b[0;34m.\u001b[0m\u001b[0mplot\u001b[0m\u001b[0;34m(\u001b[0m\u001b[0mrolling100_data_points\u001b[0m\u001b[0;34m)\u001b[0m\u001b[0;34m\u001b[0m\u001b[0;34m\u001b[0m\u001b[0m\n\u001b[1;32m      3\u001b[0m \u001b[0mplt\u001b[0m\u001b[0;34m.\u001b[0m\u001b[0mshow\u001b[0m\u001b[0;34m(\u001b[0m\u001b[0;34m)\u001b[0m\u001b[0;34m\u001b[0m\u001b[0;34m\u001b[0m\u001b[0m\n",
      "\u001b[0;31mNameError\u001b[0m: name 'data_frame' is not defined"
     ]
    }
   ],
   "source": [
    "rolling100_data_points = data_frame.rolling(100).skew()\n",
    "plt.plot(rolling100_data_points)\n",
    "plt.show()"
   ]
  },
  {
   "cell_type": "markdown",
   "metadata": {},
   "source": [
    "# Zero Crossing"
   ]
  },
  {
   "cell_type": "code",
   "execution_count": null,
   "metadata": {},
   "outputs": [],
   "source": [
    "plt.hist(np.where(np.diff(np.sign(data[:,1]))))\n",
    "plt.show()"
   ]
  },
  {
   "cell_type": "markdown",
   "metadata": {},
   "source": [
    "https://docs.scipy.org/doc/scipy/reference/stats.html#discrete-distributions"
   ]
  }
 ],
 "metadata": {
  "kernelspec": {
   "display_name": "Python 3",
   "language": "python",
   "name": "python3"
  },
  "language_info": {
   "codemirror_mode": {
    "name": "ipython",
    "version": 3
   },
   "file_extension": ".py",
   "mimetype": "text/x-python",
   "name": "python",
   "nbconvert_exporter": "python",
   "pygments_lexer": "ipython3",
   "version": "3.7.4"
  },
  "pycharm": {
   "stem_cell": {
    "cell_type": "raw",
    "metadata": {
     "collapsed": false
    },
    "source": []
   }
  }
 },
 "nbformat": 4,
 "nbformat_minor": 2
}
