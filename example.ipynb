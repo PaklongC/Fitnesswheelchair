{
 "cells": [
  {
   "cell_type": "markdown",
   "metadata": {},
   "source": [
    "# Example of Data Analysis with DCD Hub Data"
   ]
  },
  {
   "cell_type": "markdown",
   "metadata": {},
   "source": [
    "First, we import the Python SDK"
   ]
  },
  {
   "cell_type": "code",
   "execution_count": 1,
   "metadata": {},
   "outputs": [],
   "source": [
    "from dcd.entities.thing import Thing"
   ]
  },
  {
   "cell_type": "markdown",
   "metadata": {},
   "source": [
    "We provide the thing ID and access token (replace with yours)"
   ]
  },
  {
   "cell_type": "code",
   "execution_count": 2,
   "metadata": {},
   "outputs": [],
   "source": [
    "from dotenv import load_dotenv\n",
    "import os\n",
    "load_dotenv()\n",
    "THING_ID = os.environ['THING_ID']\n",
    "THING_TOKEN = os.environ['THING_TOKEN']"
   ]
  },
  {
   "cell_type": "markdown",
   "metadata": {},
   "source": [
    "We instantiate a Thing with its credential, then we fetch its details"
   ]
  },
  {
   "cell_type": "code",
   "execution_count": 3,
   "metadata": {},
   "outputs": [
    {
     "name": "stderr",
     "output_type": "stream",
     "text": [
      "INFO:dcd:things:wheelchair_speed-e706:Initialising MQTT connection for Thing 'dcd:things:wheelchair_speed-e706'\n",
      "DEBUG:urllib3.connectionpool:Starting new HTTPS connection (1): dwd.tudelft.nl:443\n",
      "INFO:dcd:things:wheelchair_speed-e706:Connection successful\n",
      "DEBUG:urllib3.connectionpool:https://dwd.tudelft.nl:443 \"GET /api/things/dcd:things:wheelchair_speed-e706 HTTP/1.1\" 200 6724\n"
     ]
    },
    {
     "name": "stdout",
     "output_type": "stream",
     "text": [
      "DigiCertCA.crt exist.\n",
      "{'thing': {'id': 'dcd:things:wheelchair_speed-e706', 'name': 'Wheelchair_speed', 'description': '', 'type': 'Speed', 'properties': [{'type': 'THREE_DIMENSIONS', 'name': 'My Random Property', 'description': '', 'dimensions': [{'name': 'Value1', 'description': '', 'unit': ''}, {'name': 'Value2', 'description': '', 'unit': ''}, {'name': 'Value3', 'description': '', 'unit': ''}, {'name': 'Value1', 'description': '', 'unit': ''}, {'name': 'Value2', 'description': '', 'unit': ''}, {'name': 'Value3', 'description': '', 'unit': ''}], 'id': 'my-random-property-5f3c', 'classes': [], 'values': [], 'entityId': 'dcd:things:wheelchair_speed-e706', 'readAt': 1571997373430, 'registeredAt': 1571392699000}, {'type': 'ONE_DIMENSION', 'name': 'one', 'description': '', 'dimensions': [{'name': 'Value', 'description': '', 'unit': ''}], 'id': 'one-28d7', 'classes': [], 'values': [], 'entityId': 'dcd:things:wheelchair_speed-e706', 'readAt': 1571997373430, 'registeredAt': 1571994791000}, {'type': 'THREE_DIMENSIONS', 'name': 'RANDOM SHIT', 'description': '', 'dimensions': [{'name': 'Value1', 'description': '', 'unit': ''}, {'name': 'Value2', 'description': '', 'unit': ''}, {'name': 'Value3', 'description': '', 'unit': ''}, {'name': 'Value1', 'description': '', 'unit': ''}, {'name': 'Value2', 'description': '', 'unit': ''}, {'name': 'Value3', 'description': '', 'unit': ''}], 'id': 'random-shit-aa03', 'classes': [], 'values': [], 'entityId': 'dcd:things:wheelchair_speed-e706', 'readAt': 1571997373430, 'registeredAt': 1571994791000}, {'type': 'TWO_DIMENSIONS', 'name': 'Rotation', 'description': '', 'dimensions': [{'name': 'Value1', 'description': '', 'unit': ''}, {'name': 'Value2', 'description': '', 'unit': ''}, {'name': 'Value1', 'description': '', 'unit': ''}, {'name': 'Value2', 'description': '', 'unit': ''}], 'id': 'rotation-7ecd', 'classes': [], 'values': [], 'entityId': 'dcd:things:wheelchair_speed-e706', 'readAt': 1571997373430, 'registeredAt': 1571753516000}, {'type': 'ONE_DIMENSION', 'name': 'Speed', 'description': '', 'dimensions': [{'name': 'Value', 'description': '', 'unit': ''}], 'id': 'speed-83ac', 'classes': [], 'values': [], 'entityId': 'dcd:things:wheelchair_speed-e706', 'readAt': 1571997373431, 'registeredAt': 1571753522000}, {'type': 'THREE_DIMENSIONS', 'name': 'three', 'description': '', 'dimensions': [{'name': 'Value1', 'description': '', 'unit': ''}, {'name': 'Value2', 'description': '', 'unit': ''}, {'name': 'Value3', 'description': '', 'unit': ''}, {'name': 'Value1', 'description': '', 'unit': ''}, {'name': 'Value2', 'description': '', 'unit': ''}, {'name': 'Value3', 'description': '', 'unit': ''}], 'id': 'three-ad01', 'classes': [], 'values': [], 'entityId': 'dcd:things:wheelchair_speed-e706', 'readAt': 1571997373431, 'registeredAt': 1571994791000}, {'type': 'TWO_DIMENSIONS', 'name': 'two', 'description': '', 'dimensions': [{'name': 'Value1', 'description': '', 'unit': ''}, {'name': 'Value2', 'description': '', 'unit': ''}, {'name': 'Value1', 'description': '', 'unit': ''}, {'name': 'Value2', 'description': '', 'unit': ''}], 'id': 'two-4069', 'classes': [], 'values': [], 'entityId': 'dcd:things:wheelchair_speed-e706', 'readAt': 1571997373431, 'registeredAt': 1571994791000}, {'type': 'THREE_DIMENSIONS', 'name': 'Wheelchair Speed', 'description': '', 'dimensions': [{'name': 'Value1', 'description': '', 'unit': ''}, {'name': 'Value2', 'description': '', 'unit': ''}, {'name': 'Value3', 'description': '', 'unit': ''}, {'name': 'Value1', 'description': '', 'unit': ''}, {'name': 'Value2', 'description': '', 'unit': ''}, {'name': 'Value3', 'description': '', 'unit': ''}], 'id': 'wheelchair-speed-0933', 'classes': [], 'values': [], 'entityId': 'dcd:things:wheelchair_speed-e706', 'readAt': 1571997373431, 'registeredAt': 1571753506000}], 'registeredAt': '2019-10-18T09:54:38.000Z', 'readAt': 1571997373427, 'keys': {}}}\n"
     ]
    }
   ],
   "source": [
    "my_thing = Thing(thing_id=THING_ID, token=THING_TOKEN)\n",
    "my_thing.read()"
   ]
  },
  {
   "cell_type": "markdown",
   "metadata": {},
   "source": [
    "What does a Thing look like?"
   ]
  },
  {
   "cell_type": "code",
   "execution_count": 4,
   "metadata": {},
   "outputs": [
    {
     "data": {
      "text/plain": [
       "{'id': 'dcd:things:wheelchair_speed-e706',\n",
       " 'name': 'Wheelchair_speed',\n",
       " 'description': '',\n",
       " 'type': 'Speed',\n",
       " 'properties': [{'id': 'my-random-property-5f3c',\n",
       "   'name': 'My Random Property',\n",
       "   'description': '',\n",
       "   'type': 'THREE_DIMENSIONS',\n",
       "   'dimensions': [{'name': 'Value1', 'description': '', 'unit': ''},\n",
       "    {'name': 'Value2', 'description': '', 'unit': ''},\n",
       "    {'name': 'Value3', 'description': '', 'unit': ''},\n",
       "    {'name': 'Value1', 'description': '', 'unit': ''},\n",
       "    {'name': 'Value2', 'description': '', 'unit': ''},\n",
       "    {'name': 'Value3', 'description': '', 'unit': ''}]},\n",
       "  {'id': 'one-28d7',\n",
       "   'name': 'one',\n",
       "   'description': '',\n",
       "   'type': 'ONE_DIMENSION',\n",
       "   'dimensions': [{'name': 'Value', 'description': '', 'unit': ''}]},\n",
       "  {'id': 'random-shit-aa03',\n",
       "   'name': 'RANDOM SHIT',\n",
       "   'description': '',\n",
       "   'type': 'THREE_DIMENSIONS',\n",
       "   'dimensions': [{'name': 'Value1', 'description': '', 'unit': ''},\n",
       "    {'name': 'Value2', 'description': '', 'unit': ''},\n",
       "    {'name': 'Value3', 'description': '', 'unit': ''},\n",
       "    {'name': 'Value1', 'description': '', 'unit': ''},\n",
       "    {'name': 'Value2', 'description': '', 'unit': ''},\n",
       "    {'name': 'Value3', 'description': '', 'unit': ''}]},\n",
       "  {'id': 'rotation-7ecd',\n",
       "   'name': 'Rotation',\n",
       "   'description': '',\n",
       "   'type': 'TWO_DIMENSIONS',\n",
       "   'dimensions': [{'name': 'Value1', 'description': '', 'unit': ''},\n",
       "    {'name': 'Value2', 'description': '', 'unit': ''},\n",
       "    {'name': 'Value1', 'description': '', 'unit': ''},\n",
       "    {'name': 'Value2', 'description': '', 'unit': ''}]},\n",
       "  {'id': 'speed-83ac',\n",
       "   'name': 'Speed',\n",
       "   'description': '',\n",
       "   'type': 'ONE_DIMENSION',\n",
       "   'dimensions': [{'name': 'Value', 'description': '', 'unit': ''}]},\n",
       "  {'id': 'three-ad01',\n",
       "   'name': 'three',\n",
       "   'description': '',\n",
       "   'type': 'THREE_DIMENSIONS',\n",
       "   'dimensions': [{'name': 'Value1', 'description': '', 'unit': ''},\n",
       "    {'name': 'Value2', 'description': '', 'unit': ''},\n",
       "    {'name': 'Value3', 'description': '', 'unit': ''},\n",
       "    {'name': 'Value1', 'description': '', 'unit': ''},\n",
       "    {'name': 'Value2', 'description': '', 'unit': ''},\n",
       "    {'name': 'Value3', 'description': '', 'unit': ''}]},\n",
       "  {'id': 'two-4069',\n",
       "   'name': 'two',\n",
       "   'description': '',\n",
       "   'type': 'TWO_DIMENSIONS',\n",
       "   'dimensions': [{'name': 'Value1', 'description': '', 'unit': ''},\n",
       "    {'name': 'Value2', 'description': '', 'unit': ''},\n",
       "    {'name': 'Value1', 'description': '', 'unit': ''},\n",
       "    {'name': 'Value2', 'description': '', 'unit': ''}]},\n",
       "  {'id': 'wheelchair-speed-0933',\n",
       "   'name': 'Wheelchair Speed',\n",
       "   'description': '',\n",
       "   'type': 'THREE_DIMENSIONS',\n",
       "   'dimensions': [{'name': 'Value1', 'description': '', 'unit': ''},\n",
       "    {'name': 'Value2', 'description': '', 'unit': ''},\n",
       "    {'name': 'Value3', 'description': '', 'unit': ''},\n",
       "    {'name': 'Value1', 'description': '', 'unit': ''},\n",
       "    {'name': 'Value2', 'description': '', 'unit': ''},\n",
       "    {'name': 'Value3', 'description': '', 'unit': ''}]}]}"
      ]
     },
     "execution_count": 4,
     "metadata": {},
     "output_type": "execute_result"
    }
   ],
   "source": [
    "my_thing.to_json()"
   ]
  },
  {
   "cell_type": "markdown",
   "metadata": {},
   "source": [
    "Which property do we want to explore and over which time frame?"
   ]
  },
  {
   "cell_type": "code",
   "execution_count": 5,
   "metadata": {},
   "outputs": [],
   "source": [
    "from datetime import datetime\n",
    "# What dates?\n",
    "START_DATE = \"2019-10-08 21:17:00\"\n",
    "END_DATE = \"2019-11-08 21:25:00\"\n",
    "\n",
    "from datetime import datetime\n",
    "DATE_FORMAT = '%Y-%m-%d %H:%M:%S'\n",
    "from_ts = datetime.timestamp(datetime.strptime(START_DATE, DATE_FORMAT)) * 1000\n",
    "to_ts = datetime.timestamp(datetime.strptime(END_DATE, DATE_FORMAT)) * 1000"
   ]
  },
  {
   "cell_type": "markdown",
   "metadata": {},
   "source": [
    "Let's find this property and read the data."
   ]
  },
  {
   "cell_type": "code",
   "execution_count": 6,
   "metadata": {},
   "outputs": [
    {
     "ename": "AttributeError",
     "evalue": "'NoneType' object has no attribute 'read'",
     "output_type": "error",
     "traceback": [
      "\u001b[1;31m---------------------------------------------------------------------------\u001b[0m",
      "\u001b[1;31mAttributeError\u001b[0m                            Traceback (most recent call last)",
      "\u001b[1;32m<ipython-input-6-2ec2da368c54>\u001b[0m in \u001b[0;36m<module>\u001b[1;34m\u001b[0m\n\u001b[0;32m      2\u001b[0m \u001b[1;33m\u001b[0m\u001b[0m\n\u001b[0;32m      3\u001b[0m \u001b[0mmy_property\u001b[0m \u001b[1;33m=\u001b[0m \u001b[0mmy_thing\u001b[0m\u001b[1;33m.\u001b[0m\u001b[0mfind_property_by_name\u001b[0m\u001b[1;33m(\u001b[0m\u001b[0mPROPERTY_NAME\u001b[0m\u001b[1;33m)\u001b[0m\u001b[1;33m\u001b[0m\u001b[1;33m\u001b[0m\u001b[0m\n\u001b[1;32m----> 4\u001b[1;33m \u001b[0mmy_property\u001b[0m\u001b[1;33m.\u001b[0m\u001b[0mread\u001b[0m\u001b[1;33m(\u001b[0m\u001b[0mfrom_ts\u001b[0m\u001b[1;33m,\u001b[0m \u001b[0mto_ts\u001b[0m\u001b[1;33m)\u001b[0m\u001b[1;33m\u001b[0m\u001b[1;33m\u001b[0m\u001b[0m\n\u001b[0m",
      "\u001b[1;31mAttributeError\u001b[0m: 'NoneType' object has no attribute 'read'"
     ]
    }
   ],
   "source": [
    "PROPERTY_NAME = \"My Random Property 18\"\n",
    "\n",
    "my_property = my_thing.find_property_by_name(PROPERTY_NAME)\n",
    "my_property.read(from_ts, to_ts)"
   ]
  },
  {
   "cell_type": "markdown",
   "metadata": {},
   "source": [
    "How many data point did we get?"
   ]
  },
  {
   "cell_type": "code",
   "execution_count": 7,
   "metadata": {},
   "outputs": [
    {
     "ename": "AttributeError",
     "evalue": "'NoneType' object has no attribute 'values'",
     "output_type": "error",
     "traceback": [
      "\u001b[1;31m---------------------------------------------------------------------------\u001b[0m",
      "\u001b[1;31mAttributeError\u001b[0m                            Traceback (most recent call last)",
      "\u001b[1;32m<ipython-input-7-b9ee89cc78ac>\u001b[0m in \u001b[0;36m<module>\u001b[1;34m\u001b[0m\n\u001b[1;32m----> 1\u001b[1;33m \u001b[0mprint\u001b[0m\u001b[1;33m(\u001b[0m\u001b[0mlen\u001b[0m\u001b[1;33m(\u001b[0m\u001b[0mmy_property\u001b[0m\u001b[1;33m.\u001b[0m\u001b[0mvalues\u001b[0m\u001b[1;33m)\u001b[0m\u001b[1;33m)\u001b[0m\u001b[1;33m\u001b[0m\u001b[1;33m\u001b[0m\u001b[0m\n\u001b[0m",
      "\u001b[1;31mAttributeError\u001b[0m: 'NoneType' object has no attribute 'values'"
     ]
    }
   ],
   "source": [
    "print(len(my_property.values))"
   ]
  },
  {
   "cell_type": "markdown",
   "metadata": {},
   "source": [
    "Display values"
   ]
  },
  {
   "cell_type": "code",
   "execution_count": 8,
   "metadata": {},
   "outputs": [
    {
     "ename": "AttributeError",
     "evalue": "'NoneType' object has no attribute 'values'",
     "output_type": "error",
     "traceback": [
      "\u001b[1;31m---------------------------------------------------------------------------\u001b[0m",
      "\u001b[1;31mAttributeError\u001b[0m                            Traceback (most recent call last)",
      "\u001b[1;32m<ipython-input-8-1c916dc5d935>\u001b[0m in \u001b[0;36m<module>\u001b[1;34m\u001b[0m\n\u001b[1;32m----> 1\u001b[1;33m \u001b[0mmy_property\u001b[0m\u001b[1;33m.\u001b[0m\u001b[0mvalues\u001b[0m\u001b[1;33m\u001b[0m\u001b[1;33m\u001b[0m\u001b[0m\n\u001b[0m",
      "\u001b[1;31mAttributeError\u001b[0m: 'NoneType' object has no attribute 'values'"
     ]
    }
   ],
   "source": [
    "my_property.values"
   ]
  },
  {
   "cell_type": "markdown",
   "metadata": {},
   "source": [
    "# From CSV"
   ]
  },
  {
   "cell_type": "code",
   "execution_count": 12,
   "metadata": {
    "pycharm": {
     "name": "#%%\n"
    }
   },
   "outputs": [
    {
     "data": {
      "text/html": [
       "<div>\n",
       "<style scoped>\n",
       "    .dataframe tbody tr th:only-of-type {\n",
       "        vertical-align: middle;\n",
       "    }\n",
       "\n",
       "    .dataframe tbody tr th {\n",
       "        vertical-align: top;\n",
       "    }\n",
       "\n",
       "    .dataframe thead th {\n",
       "        text-align: right;\n",
       "    }\n",
       "</style>\n",
       "<table border=\"1\" class=\"dataframe\">\n",
       "  <thead>\n",
       "    <tr style=\"text-align: right;\">\n",
       "      <th></th>\n",
       "      <th>x</th>\n",
       "      <th>y</th>\n",
       "      <th>z</th>\n",
       "    </tr>\n",
       "  </thead>\n",
       "  <tbody>\n",
       "    <tr>\n",
       "      <th>2019-10-07 16:56:11.446</th>\n",
       "      <td>0.009701</td>\n",
       "      <td>-0.074115</td>\n",
       "      <td>-0.185453</td>\n",
       "    </tr>\n",
       "    <tr>\n",
       "      <th>2019-10-07 16:56:11.533</th>\n",
       "      <td>0.027269</td>\n",
       "      <td>-0.069583</td>\n",
       "      <td>-0.198343</td>\n",
       "    </tr>\n",
       "    <tr>\n",
       "      <th>2019-10-07 16:56:11.643</th>\n",
       "      <td>0.039780</td>\n",
       "      <td>-0.066105</td>\n",
       "      <td>-0.186640</td>\n",
       "    </tr>\n",
       "    <tr>\n",
       "      <th>2019-10-07 16:56:11.785</th>\n",
       "      <td>0.052060</td>\n",
       "      <td>-0.077641</td>\n",
       "      <td>-0.170837</td>\n",
       "    </tr>\n",
       "    <tr>\n",
       "      <th>2019-10-07 16:56:11.884</th>\n",
       "      <td>0.039715</td>\n",
       "      <td>-0.071593</td>\n",
       "      <td>-0.188471</td>\n",
       "    </tr>\n",
       "    <tr>\n",
       "      <th>...</th>\n",
       "      <td>...</td>\n",
       "      <td>...</td>\n",
       "      <td>...</td>\n",
       "    </tr>\n",
       "    <tr>\n",
       "      <th>2019-10-07 16:56:38.723</th>\n",
       "      <td>-0.838292</td>\n",
       "      <td>0.228826</td>\n",
       "      <td>0.044570</td>\n",
       "    </tr>\n",
       "    <tr>\n",
       "      <th>2019-10-07 16:56:38.886</th>\n",
       "      <td>-0.810323</td>\n",
       "      <td>0.222667</td>\n",
       "      <td>0.028433</td>\n",
       "    </tr>\n",
       "    <tr>\n",
       "      <th>2019-10-07 16:56:38.886</th>\n",
       "      <td>-0.849075</td>\n",
       "      <td>0.214866</td>\n",
       "      <td>0.060519</td>\n",
       "    </tr>\n",
       "    <tr>\n",
       "      <th>2019-10-07 16:56:39.045</th>\n",
       "      <td>-0.849561</td>\n",
       "      <td>0.217760</td>\n",
       "      <td>0.058103</td>\n",
       "    </tr>\n",
       "    <tr>\n",
       "      <th>2019-10-07 16:56:39.054</th>\n",
       "      <td>-0.845175</td>\n",
       "      <td>0.211169</td>\n",
       "      <td>0.052378</td>\n",
       "    </tr>\n",
       "  </tbody>\n",
       "</table>\n",
       "<p>272 rows × 3 columns</p>\n",
       "</div>"
      ],
      "text/plain": [
       "                                x         y         z\n",
       "2019-10-07 16:56:11.446  0.009701 -0.074115 -0.185453\n",
       "2019-10-07 16:56:11.533  0.027269 -0.069583 -0.198343\n",
       "2019-10-07 16:56:11.643  0.039780 -0.066105 -0.186640\n",
       "2019-10-07 16:56:11.785  0.052060 -0.077641 -0.170837\n",
       "2019-10-07 16:56:11.884  0.039715 -0.071593 -0.188471\n",
       "...                           ...       ...       ...\n",
       "2019-10-07 16:56:38.723 -0.838292  0.228826  0.044570\n",
       "2019-10-07 16:56:38.886 -0.810323  0.222667  0.028433\n",
       "2019-10-07 16:56:38.886 -0.849075  0.214866  0.060519\n",
       "2019-10-07 16:56:39.045 -0.849561  0.217760  0.058103\n",
       "2019-10-07 16:56:39.054 -0.845175  0.211169  0.052378\n",
       "\n",
       "[272 rows x 3 columns]"
      ]
     },
     "execution_count": 12,
     "metadata": {},
     "output_type": "execute_result"
    }
   ],
   "source": [
    "from numpy import genfromtxt\n",
    "import pandas as pd\n",
    "data = genfromtxt('test.csv', delimiter=',')\n",
    "data_frame = pd.DataFrame(data[:,1:], index = pd.DatetimeIndex(pd.to_datetime(data[:,0], unit='ms')), columns = ['x', 'y', 'z'])\n",
    "data_frame"
   ]
  },
  {
   "cell_type": "markdown",
   "metadata": {},
   "source": [
    "# Plot some charts with Matplotlib\n",
    "In this example we plot an histogram, distribution of all values and dimensions."
   ]
  },
  {
   "cell_type": "code",
   "execution_count": 15,
   "metadata": {
    "pycharm": {
     "name": "#%%\n"
    }
   },
   "outputs": [
    {
     "ename": "AttributeError",
     "evalue": "'NoneType' object has no attribute 'values'",
     "output_type": "error",
     "traceback": [
      "\u001b[1;31m---------------------------------------------------------------------------\u001b[0m",
      "\u001b[1;31mAttributeError\u001b[0m                            Traceback (most recent call last)",
      "\u001b[1;32m<ipython-input-15-ef450828b6b3>\u001b[0m in \u001b[0;36m<module>\u001b[1;34m\u001b[0m\n\u001b[0;32m      3\u001b[0m \u001b[1;32mfrom\u001b[0m \u001b[0mmatplotlib\u001b[0m\u001b[1;33m.\u001b[0m\u001b[0mpyplot\u001b[0m \u001b[1;32mimport\u001b[0m \u001b[0mfigure\u001b[0m\u001b[1;33m\u001b[0m\u001b[1;33m\u001b[0m\u001b[0m\n\u001b[0;32m      4\u001b[0m \u001b[1;32mfrom\u001b[0m \u001b[0mnumpy\u001b[0m \u001b[1;32mimport\u001b[0m \u001b[0mma\u001b[0m\u001b[1;33m\u001b[0m\u001b[1;33m\u001b[0m\u001b[0m\n\u001b[1;32m----> 5\u001b[1;33m \u001b[0mdata\u001b[0m \u001b[1;33m=\u001b[0m \u001b[0mnp\u001b[0m\u001b[1;33m.\u001b[0m\u001b[0marray\u001b[0m\u001b[1;33m(\u001b[0m\u001b[0mmy_property\u001b[0m\u001b[1;33m.\u001b[0m\u001b[0mvalues\u001b[0m\u001b[1;33m)\u001b[0m\u001b[1;33m\u001b[0m\u001b[1;33m\u001b[0m\u001b[0m\n\u001b[0m",
      "\u001b[1;31mAttributeError\u001b[0m: 'NoneType' object has no attribute 'values'"
     ]
    }
   ],
   "source": [
    "import numpy as np\n",
    "import matplotlib.pyplot as plt\n",
    "from matplotlib.pyplot import figure\n",
    "from numpy import ma\n",
    "data = np.array(my_property.values)"
   ]
  },
  {
   "cell_type": "code",
   "execution_count": 16,
   "metadata": {
    "pycharm": {
     "name": "#%%\n"
    }
   },
   "outputs": [
    {
     "name": "stderr",
     "output_type": "stream",
     "text": [
      "c:\\users\\pak_l\\appdata\\local\\programs\\python\\python37\\lib\\site-packages\\pandas\\plotting\\_matplotlib\\converter.py:103: FutureWarning: Using an implicitly registered datetime converter for a matplotlib plotting method. The converter was registered by pandas on import. Future versions of pandas will require you to explicitly register matplotlib converters.\n",
      "\n",
      "To register the converters:\n",
      "\t>>> from pandas.plotting import register_matplotlib_converters\n",
      "\t>>> register_matplotlib_converters()\n",
      "  warnings.warn(msg, FutureWarning)\n"
     ]
    },
    {
     "data": {
      "text/plain": [
       "[<matplotlib.lines.Line2D at 0x1f88f0c6508>,\n",
       " <matplotlib.lines.Line2D at 0x1f891109688>,\n",
       " <matplotlib.lines.Line2D at 0x1f88ecb5608>]"
      ]
     },
     "execution_count": 16,
     "metadata": {},
     "output_type": "execute_result"
    },
    {
     "name": "stderr",
     "output_type": "stream",
     "text": [
      "DEBUG:matplotlib.font_manager:findfont: Matching :family=sans-serif:style=normal:variant=normal:weight=normal:stretch=normal:size=10.0.\n",
      "DEBUG:matplotlib.font_manager:findfont: score(<Font 'DejaVu Serif Display' (DejaVuSerifDisplay.ttf) normal normal 400 normal>) = 10.05\n",
      "DEBUG:matplotlib.font_manager:findfont: score(<Font 'DejaVu Sans Mono' (DejaVuSansMono.ttf) normal normal 400 normal>) = 10.05\n",
      "DEBUG:matplotlib.font_manager:findfont: score(<Font 'STIXSizeOneSym' (STIXSizOneSymReg.ttf) normal normal regular normal>) = 10.05\n",
      "DEBUG:matplotlib.font_manager:findfont: score(<Font 'STIXNonUnicode' (STIXNonUni.ttf) normal normal regular normal>) = 10.05\n",
      "DEBUG:matplotlib.font_manager:findfont: score(<Font 'DejaVu Serif' (DejaVuSerif-Italic.ttf) italic normal 400 normal>) = 11.05\n",
      "DEBUG:matplotlib.font_manager:findfont: score(<Font 'cmsy10' (cmsy10.ttf) normal normal 400 normal>) = 10.05\n",
      "DEBUG:matplotlib.font_manager:findfont: score(<Font 'STIXGeneral' (STIXGeneralBolIta.ttf) italic normal bold normal>) = 11.335\n",
      "DEBUG:matplotlib.font_manager:findfont: score(<Font 'DejaVu Sans' (DejaVuSans-Oblique.ttf) oblique normal 400 normal>) = 1.05\n",
      "DEBUG:matplotlib.font_manager:findfont: score(<Font 'DejaVu Serif' (DejaVuSerif-Bold.ttf) normal normal bold normal>) = 10.335\n",
      "DEBUG:matplotlib.font_manager:findfont: score(<Font 'cmb10' (cmb10.ttf) normal normal 400 normal>) = 10.05\n",
      "DEBUG:matplotlib.font_manager:findfont: score(<Font 'STIXSizeTwoSym' (STIXSizTwoSymBol.ttf) normal normal bold normal>) = 10.335\n",
      "DEBUG:matplotlib.font_manager:findfont: score(<Font 'DejaVu Sans' (DejaVuSans.ttf) normal normal 400 normal>) = 0.05\n",
      "DEBUG:matplotlib.font_manager:findfont: score(<Font 'DejaVu Sans' (DejaVuSans-Bold.ttf) normal normal bold normal>) = 0.33499999999999996\n",
      "DEBUG:matplotlib.font_manager:findfont: score(<Font 'DejaVu Sans Mono' (DejaVuSansMono-Bold.ttf) normal normal bold normal>) = 10.335\n",
      "DEBUG:matplotlib.font_manager:findfont: score(<Font 'cmmi10' (cmmi10.ttf) normal normal 400 normal>) = 10.05\n",
      "DEBUG:matplotlib.font_manager:findfont: score(<Font 'STIXGeneral' (STIXGeneral.ttf) normal normal regular normal>) = 10.05\n",
      "DEBUG:matplotlib.font_manager:findfont: score(<Font 'STIXSizeFiveSym' (STIXSizFiveSymReg.ttf) normal normal regular normal>) = 10.05\n",
      "DEBUG:matplotlib.font_manager:findfont: score(<Font 'STIXNonUnicode' (STIXNonUniIta.ttf) italic normal 400 normal>) = 11.05\n",
      "DEBUG:matplotlib.font_manager:findfont: score(<Font 'DejaVu Sans Mono' (DejaVuSansMono-Oblique.ttf) oblique normal 400 normal>) = 11.05\n",
      "DEBUG:matplotlib.font_manager:findfont: score(<Font 'DejaVu Sans Display' (DejaVuSansDisplay.ttf) normal normal 400 normal>) = 10.05\n",
      "DEBUG:matplotlib.font_manager:findfont: score(<Font 'cmex10' (cmex10.ttf) normal normal 400 normal>) = 10.05\n",
      "DEBUG:matplotlib.font_manager:findfont: score(<Font 'STIXSizeFourSym' (STIXSizFourSymBol.ttf) normal normal bold normal>) = 10.335\n",
      "DEBUG:matplotlib.font_manager:findfont: score(<Font 'STIXSizeFourSym' (STIXSizFourSymReg.ttf) normal normal regular normal>) = 10.05\n",
      "DEBUG:matplotlib.font_manager:findfont: score(<Font 'DejaVu Sans' (DejaVuSans-BoldOblique.ttf) oblique normal bold normal>) = 1.335\n",
      "DEBUG:matplotlib.font_manager:findfont: score(<Font 'cmtt10' (cmtt10.ttf) normal normal 400 normal>) = 10.05\n",
      "DEBUG:matplotlib.font_manager:findfont: score(<Font 'STIXGeneral' (STIXGeneralBol.ttf) normal normal bold normal>) = 10.335\n",
      "DEBUG:matplotlib.font_manager:findfont: score(<Font 'STIXSizeThreeSym' (STIXSizThreeSymBol.ttf) normal normal bold normal>) = 10.335\n",
      "DEBUG:matplotlib.font_manager:findfont: score(<Font 'STIXSizeOneSym' (STIXSizOneSymBol.ttf) normal normal bold normal>) = 10.335\n",
      "DEBUG:matplotlib.font_manager:findfont: score(<Font 'STIXSizeThreeSym' (STIXSizThreeSymReg.ttf) normal normal regular normal>) = 10.05\n",
      "DEBUG:matplotlib.font_manager:findfont: score(<Font 'DejaVu Serif' (DejaVuSerif.ttf) normal normal 400 normal>) = 10.05\n",
      "DEBUG:matplotlib.font_manager:findfont: score(<Font 'cmr10' (cmr10.ttf) normal normal 400 normal>) = 10.05\n",
      "DEBUG:matplotlib.font_manager:findfont: score(<Font 'STIXSizeTwoSym' (STIXSizTwoSymReg.ttf) normal normal regular normal>) = 10.05\n",
      "DEBUG:matplotlib.font_manager:findfont: score(<Font 'STIXGeneral' (STIXGeneralItalic.ttf) italic normal 400 normal>) = 11.05\n",
      "DEBUG:matplotlib.font_manager:findfont: score(<Font 'STIXNonUnicode' (STIXNonUniBol.ttf) normal normal bold normal>) = 10.335\n",
      "DEBUG:matplotlib.font_manager:findfont: score(<Font 'DejaVu Sans Mono' (DejaVuSansMono-BoldOblique.ttf) oblique normal bold normal>) = 11.335\n",
      "DEBUG:matplotlib.font_manager:findfont: score(<Font 'STIXNonUnicode' (STIXNonUniBolIta.ttf) italic normal bold normal>) = 11.335\n",
      "DEBUG:matplotlib.font_manager:findfont: score(<Font 'DejaVu Serif' (DejaVuSerif-BoldItalic.ttf) italic normal bold normal>) = 11.335\n",
      "DEBUG:matplotlib.font_manager:findfont: score(<Font 'cmss10' (cmss10.ttf) normal normal 400 normal>) = 10.05\n",
      "DEBUG:matplotlib.font_manager:findfont: score(<Font 'SWLink' (swlink.ttf) normal normal 400 normal>) = 10.05\n",
      "DEBUG:matplotlib.font_manager:findfont: score(<Font 'Verdana Pro' (VerdanaPro-CondLight.ttf) normal normal light condensed>) = 10.44\n",
      "DEBUG:matplotlib.font_manager:findfont: score(<Font 'Kristen ITC' (ITCKRIST.TTF) normal normal 400 normal>) = 10.05\n",
      "DEBUG:matplotlib.font_manager:findfont: score(<Font 'Sylfaen' (sylfaen.ttf) normal normal 400 normal>) = 10.05\n",
      "DEBUG:matplotlib.font_manager:findfont: score(<Font 'Onyx' (ONYX.TTF) normal normal 400 normal>) = 10.05\n",
      "DEBUG:matplotlib.font_manager:findfont: score(<Font 'Tempus Sans ITC' (TEMPSITC.TTF) normal normal 400 normal>) = 10.05\n",
      "DEBUG:matplotlib.font_manager:findfont: score(<Font 'Sitka Small' (Sitka.ttc) normal normal 400 normal>) = 10.05\n",
      "DEBUG:matplotlib.font_manager:findfont: score(<Font 'Bookman Old Style' (BOOKOSI.TTF) italic normal book normal>) = 11.05\n",
      "DEBUG:matplotlib.font_manager:findfont: score(<Font 'Wingdings' (wingding.ttf) normal normal 400 normal>) = 10.05\n",
      "DEBUG:matplotlib.font_manager:findfont: score(<Font 'ESSTIXFifteen' (ESSTIX15.TTF) normal normal 400 normal>) = 10.05\n",
      "DEBUG:matplotlib.font_manager:findfont: score(<Font 'Modern No. 20' (MOD20.TTF) normal normal 400 normal>) = 10.05\n",
      "DEBUG:matplotlib.font_manager:findfont: score(<Font 'Marlett' (marlett.ttf) normal normal 400 normal>) = 10.05\n",
      "DEBUG:matplotlib.font_manager:findfont: score(<Font 'ESSTIXEleven' (ESSTIX11.TTF) normal normal 400 normal>) = 10.05\n",
      "DEBUG:matplotlib.font_manager:findfont: score(<Font 'Tw Cen MT Condensed' (TCCB____.TTF) normal normal bold condensed>) = 10.535\n",
      "DEBUG:matplotlib.font_manager:findfont: score(<Font 'Century Gothic' (GOTHICB.TTF) normal normal bold normal>) = 10.335\n",
      "DEBUG:matplotlib.font_manager:findfont: score(<Font 'Georgia Pro' (GeorgiaPro-Regular.ttf) normal normal 400 normal>) = 10.05\n",
      "DEBUG:matplotlib.font_manager:findfont: score(<Font 'Trebuchet MS' (trebucbi.ttf) italic normal bold normal>) = 11.335\n",
      "DEBUG:matplotlib.font_manager:findfont: score(<Font 'Gill Sans MT' (GILB____.TTF) normal normal bold normal>) = 10.335\n",
      "DEBUG:matplotlib.font_manager:findfont: score(<Font 'Microsoft YaHei' (msyh.ttc) normal normal 400 normal>) = 10.05\n",
      "DEBUG:matplotlib.font_manager:findfont: score(<Font 'Myriad CAD' (myriadcad.otf) normal normal 400 normal>) = 10.05\n",
      "DEBUG:matplotlib.font_manager:findfont: score(<Font 'Constantia' (constan.ttf) normal normal 400 normal>) = 10.05\n",
      "DEBUG:matplotlib.font_manager:findfont: score(<Font 'Tw Cen MT Condensed Extra Bold' (TCCEB.TTF) normal normal bold condensed>) = 10.535\n",
      "DEBUG:matplotlib.font_manager:findfont: score(<Font 'Constantia' (constanz.ttf) italic normal bold normal>) = 11.335\n",
      "DEBUG:matplotlib.font_manager:findfont: score(<Font 'Gill Sans Nova' (GillSansCondExtraItNova.ttf) italic normal 400 condensed>) = 11.25\n",
      "DEBUG:matplotlib.font_manager:findfont: score(<Font 'SWIsot1' (swisot1.ttf) normal normal 400 normal>) = 10.05\n",
      "DEBUG:matplotlib.font_manager:findfont: score(<Font 'French Script MT' (FRSCRIPT.TTF) normal normal 400 normal>) = 10.05\n",
      "DEBUG:matplotlib.font_manager:findfont: score(<Font 'Rockwell Nova' (RockwellNovaCond-BoldItalic.ttf) italic normal bold condensed>) = 11.535\n",
      "DEBUG:matplotlib.font_manager:findfont: score(<Font 'Gill Sans Nova' (GillSansBoItNova.ttf) italic normal bold normal>) = 11.335\n"
     ]
    },
    {
     "name": "stderr",
     "output_type": "stream",
     "text": [
      "DEBUG:matplotlib.font_manager:findfont: score(<Font 'Verdana Pro' (VerdanaPro-BlackItalic.ttf) italic normal black normal>) = 11.525\n",
      "DEBUG:matplotlib.font_manager:findfont: score(<Font 'Dubai' (DUBAI-BOLD.TTF) normal normal bold normal>) = 10.335\n",
      "DEBUG:matplotlib.font_manager:findfont: score(<Font 'Arial' (ARIALN.TTF) normal normal 400 condensed>) = 6.613636363636363\n",
      "DEBUG:matplotlib.font_manager:findfont: score(<Font 'Gill Sans MT' (GILI____.TTF) italic normal 400 normal>) = 11.05\n",
      "DEBUG:matplotlib.font_manager:findfont: score(<Font 'Lucida Bright' (LBRITE.TTF) normal normal 400 normal>) = 10.05\n",
      "DEBUG:matplotlib.font_manager:findfont: score(<Font 'Edwardian Script ITC' (ITCEDSCR.TTF) normal normal 400 normal>) = 10.05\n",
      "DEBUG:matplotlib.font_manager:findfont: score(<Font 'Sitka Small' (SitkaI.ttc) italic normal 400 normal>) = 11.05\n",
      "DEBUG:matplotlib.font_manager:findfont: score(<Font 'Segoe UI' (seguili.ttf) italic normal light normal>) = 11.24\n",
      "DEBUG:matplotlib.font_manager:findfont: score(<Font 'Chiller' (CHILLER.TTF) normal normal 400 normal>) = 10.05\n",
      "DEBUG:matplotlib.font_manager:findfont: score(<Font 'DejaVu Serif' (DejaVuSerifCondensed-Italic.ttf) italic normal 400 condensed>) = 11.25\n",
      "DEBUG:matplotlib.font_manager:findfont: score(<Font 'Verdana' (verdanaz.ttf) italic normal bold normal>) = 4.971363636363637\n",
      "DEBUG:matplotlib.font_manager:findfont: score(<Font 'Microsoft JhengHei' (msjh.ttc) normal normal 400 normal>) = 10.05\n",
      "DEBUG:matplotlib.font_manager:findfont: score(<Font 'Times New Roman' (timesbd.ttf) normal normal roman normal>) = 10.145\n",
      "DEBUG:matplotlib.font_manager:findfont: score(<Font 'Yu Gothic' (YuGothR.ttc) normal normal regular normal>) = 10.05\n",
      "DEBUG:matplotlib.font_manager:findfont: score(<Font 'Lucida Sans Unicode' (l_10646.ttf) normal normal 400 normal>) = 10.05\n",
      "DEBUG:matplotlib.font_manager:findfont: score(<Font 'Forte' (FORTE.TTF) normal normal 400 normal>) = 10.05\n",
      "DEBUG:matplotlib.font_manager:findfont: score(<Font 'Impact' (impact.ttf) normal normal 400 normal>) = 10.05\n",
      "DEBUG:matplotlib.font_manager:findfont: score(<Font 'SWGothe' (swgothe.ttf) normal normal 400 normal>) = 10.05\n",
      "DEBUG:matplotlib.font_manager:findfont: score(<Font 'Dubai' (DUBAI-REGULAR.TTF) normal normal regular normal>) = 10.05\n",
      "DEBUG:matplotlib.font_manager:findfont: score(<Font 'ESSTIXFourteen' (ESSTIX14.TTF) normal normal 400 normal>) = 10.05\n",
      "DEBUG:matplotlib.font_manager:findfont: score(<Font 'Myanmar Text' (mmrtext.ttf) normal normal 400 normal>) = 10.05\n",
      "DEBUG:matplotlib.font_manager:findfont: score(<Font 'Courant' (CON_____.ttf) normal normal 400 normal>) = 10.05\n",
      "DEBUG:matplotlib.font_manager:findfont: score(<Font 'Jokerman' (JOKERMAN.TTF) normal normal 400 normal>) = 10.05\n",
      "DEBUG:matplotlib.font_manager:findfont: score(<Font 'SWRomnd' (swromnd.ttf) normal normal 400 normal>) = 10.05\n",
      "DEBUG:matplotlib.font_manager:findfont: score(<Font 'Century Gothic' (GOTHICI.TTF) italic normal 400 normal>) = 11.05\n",
      "DEBUG:matplotlib.font_manager:findfont: score(<Font 'Georgia Pro' (GeorgiaPro-CondBoldItalic.ttf) italic normal bold condensed>) = 11.535\n",
      "DEBUG:matplotlib.font_manager:findfont: score(<Font 'Georgia' (georgiab.ttf) normal normal bold normal>) = 10.335\n",
      "DEBUG:matplotlib.font_manager:findfont: score(<Font 'Rockwell Nova' (RockwellNova-ExtraBoldItalic.ttf) italic normal bold normal>) = 11.335\n",
      "DEBUG:matplotlib.font_manager:findfont: score(<Font 'Javanese Text' (javatext.ttf) normal normal 400 normal>) = 10.05\n",
      "DEBUG:matplotlib.font_manager:findfont: score(<Font 'Georgia Pro' (GeorgiaPro-CondBlack.ttf) normal normal black condensed>) = 10.725\n",
      "DEBUG:matplotlib.font_manager:findfont: score(<Font 'SWMusic' (swmusic.ttf) normal normal 400 normal>) = 10.05\n",
      "DEBUG:matplotlib.font_manager:findfont: score(<Font 'Trebuchet MS' (trebuc.ttf) normal normal 400 normal>) = 10.05\n",
      "DEBUG:matplotlib.font_manager:findfont: score(<Font 'Arial Nova' (ArialNovaCond-Italic.ttf) italic normal 400 condensed>) = 11.25\n",
      "DEBUG:matplotlib.font_manager:findfont: score(<Font 'Rockwell Extra Bold' (ROCKEB.TTF) normal normal bold normal>) = 10.335\n",
      "DEBUG:matplotlib.font_manager:findfont: score(<Font 'Arial Nova' (ArialNovaCond-BoldItalic.ttf) italic normal bold condensed>) = 11.535\n",
      "DEBUG:matplotlib.font_manager:findfont: score(<Font 'Yu Gothic' (YuGothM.ttc) normal normal medium normal>) = 10.145\n",
      "DEBUG:matplotlib.font_manager:findfont: score(<Font 'Arial Nova' (ArialNova-Bold.ttf) normal normal bold normal>) = 10.335\n",
      "DEBUG:matplotlib.font_manager:findfont: score(<Font 'Courant' (COB_____.ttf) normal normal bold normal>) = 10.335\n",
      "DEBUG:matplotlib.font_manager:findfont: score(<Font 'Gabriola' (Gabriola.ttf) normal normal 400 normal>) = 10.05\n",
      "DEBUG:matplotlib.font_manager:findfont: score(<Font 'Microsoft New Tai Lue' (ntailub.ttf) normal normal bold normal>) = 10.335\n",
      "DEBUG:matplotlib.font_manager:findfont: score(<Font 'SWMono' (swmono.ttf) normal normal 400 normal>) = 10.05\n",
      "DEBUG:matplotlib.font_manager:findfont: score(<Font 'Comic Sans MS' (comicz.ttf) italic normal bold normal>) = 11.335\n",
      "DEBUG:matplotlib.font_manager:findfont: score(<Font 'Baskerville Old Face' (BASKVILL.TTF) normal normal 400 normal>) = 10.05\n",
      "DEBUG:matplotlib.font_manager:findfont: score(<Font 'Calibri' (calibriz.ttf) italic normal bold normal>) = 11.335\n",
      "DEBUG:matplotlib.font_manager:findfont: score(<Font 'Tw Cen MT' (TCM_____.TTF) normal normal 400 normal>) = 10.05\n",
      "DEBUG:matplotlib.font_manager:findfont: score(<Font 'HP Simplified' (HPSimplified_Lt.ttf) normal normal light normal>) = 10.24\n",
      "DEBUG:matplotlib.font_manager:findfont: score(<Font 'Verdana' (verdanai.ttf) italic normal 400 normal>) = 4.6863636363636365\n",
      "DEBUG:matplotlib.font_manager:findfont: score(<Font 'Constantia' (constani.ttf) italic normal 400 normal>) = 11.05\n",
      "DEBUG:matplotlib.font_manager:findfont: score(<Font 'Verdana Pro' (VerdanaPro-Italic.ttf) italic normal 400 normal>) = 11.05\n",
      "DEBUG:matplotlib.font_manager:findfont: score(<Font 'Candara' (Candarai.ttf) italic normal 400 normal>) = 11.05\n",
      "DEBUG:matplotlib.font_manager:findfont: score(<Font 'Corbel' (corbelli.ttf) italic normal light normal>) = 11.24\n",
      "DEBUG:matplotlib.font_manager:findfont: score(<Font 'Franklin Gothic Medium' (framd.ttf) normal normal medium normal>) = 10.145\n",
      "DEBUG:matplotlib.font_manager:findfont: score(<Font 'Book Antiqua' (ANTQUAB.TTF) normal normal book normal>) = 10.05\n",
      "DEBUG:matplotlib.font_manager:findfont: score(<Font 'ESSTIXFour' (ESSTIX4_.TTF) normal normal 400 normal>) = 10.05\n",
      "DEBUG:matplotlib.font_manager:findfont: score(<Font 'SymbolPi' (SYP_____.ttf) normal normal normal normal>) = 10.0\n",
      "DEBUG:matplotlib.font_manager:findfont: score(<Font 'Book Antiqua' (BKANT.TTF) normal normal book normal>) = 10.05\n",
      "DEBUG:matplotlib.font_manager:findfont: score(<Font 'Berlin Sans FB' (BRLNSB.TTF) normal normal bold normal>) = 10.335\n",
      "DEBUG:matplotlib.font_manager:findfont: score(<Font 'Franklin Gothic Medium' (framdit.ttf) italic normal medium normal>) = 11.145\n",
      "DEBUG:matplotlib.font_manager:findfont: score(<Font 'Old English Text MT' (OLDENGL.TTF) normal normal 400 normal>) = 10.05\n",
      "DEBUG:matplotlib.font_manager:findfont: score(<Font 'Lucida Sans Typewriter' (LTYPE.TTF) normal normal regular normal>) = 10.05\n",
      "DEBUG:matplotlib.font_manager:findfont: score(<Font 'Tw Cen MT Condensed' (TCCM____.TTF) normal normal 400 condensed>) = 10.25\n",
      "DEBUG:matplotlib.font_manager:findfont: score(<Font 'Trebuchet MS' (trebucit.ttf) italic normal 400 normal>) = 11.05\n",
      "DEBUG:matplotlib.font_manager:findfont: score(<Font 'Harrington' (HARNGTON.TTF) normal normal 400 normal>) = 10.05\n",
      "DEBUG:matplotlib.font_manager:findfont: score(<Font 'Franklin Gothic Demi Cond' (FRADMCN.TTF) normal normal demi condensed>) = 10.44\n",
      "DEBUG:matplotlib.font_manager:findfont: score(<Font 'Georgia Pro' (GeorgiaPro-LightItalic.ttf) italic normal light normal>) = 11.24\n",
      "DEBUG:matplotlib.font_manager:findfont: score(<Font 'Tw Cen MT' (TCMI____.TTF) italic normal 400 normal>) = 11.05\n",
      "DEBUG:matplotlib.font_manager:findfont: score(<Font 'Yu Gothic' (YuGothL.ttc) normal normal light normal>) = 10.24\n",
      "DEBUG:matplotlib.font_manager:findfont: score(<Font 'ESSTIXOne' (ESSTIX1_.TTF) normal normal 400 normal>) = 10.05\n",
      "DEBUG:matplotlib.font_manager:findfont: score(<Font 'Gill Sans Nova' (GillSansNova.ttf) normal normal 400 normal>) = 10.05\n"
     ]
    },
    {
     "name": "stderr",
     "output_type": "stream",
     "text": [
      "DEBUG:matplotlib.font_manager:findfont: score(<Font 'Bauhaus 93' (BAUHS93.TTF) normal normal 400 normal>) = 10.05\n",
      "DEBUG:matplotlib.font_manager:findfont: score(<Font 'Georgia Pro' (GeorgiaPro-BoldItalic.ttf) italic normal bold normal>) = 11.335\n",
      "DEBUG:matplotlib.font_manager:findfont: score(<Font 'Verdana Pro' (VerdanaPro-CondSemiBold.ttf) normal normal semibold condensed>) = 10.44\n",
      "DEBUG:matplotlib.font_manager:findfont: score(<Font 'Verdana' (verdana.ttf) normal normal 400 normal>) = 3.6863636363636365\n",
      "DEBUG:matplotlib.font_manager:findfont: score(<Font 'Gill Sans MT Condensed' (GILC____.TTF) normal normal 400 condensed>) = 10.25\n",
      "DEBUG:matplotlib.font_manager:findfont: score(<Font 'Arial Nova' (ArialNova-BoldItalic.ttf) italic normal bold normal>) = 11.335\n",
      "DEBUG:matplotlib.font_manager:findfont: score(<Font 'MingLiU-ExtB' (mingliub.ttc) normal normal 400 normal>) = 10.05\n",
      "DEBUG:matplotlib.font_manager:findfont: score(<Font 'Microsoft New Tai Lue' (ntailu.ttf) normal normal 400 normal>) = 10.05\n",
      "DEBUG:matplotlib.font_manager:findfont: score(<Font 'Ink Free' (Inkfree.ttf) normal normal 400 normal>) = 10.05\n",
      "DEBUG:matplotlib.font_manager:findfont: score(<Font 'Segoe UI Symbol' (seguisym.ttf) normal normal 400 normal>) = 10.05\n",
      "DEBUG:matplotlib.font_manager:findfont: score(<Font 'Corbel' (corbelb.ttf) normal normal bold normal>) = 10.335\n",
      "DEBUG:matplotlib.font_manager:findfont: score(<Font 'Corbel' (corbel.ttf) normal normal 400 normal>) = 10.05\n",
      "DEBUG:matplotlib.font_manager:findfont: score(<Font 'Avenir' (Avenir Roman.otf) normal normal roman normal>) = 10.145\n",
      "DEBUG:matplotlib.font_manager:findfont: score(<Font 'SWMath' (swmath.ttf) normal normal 400 normal>) = 10.05\n",
      "DEBUG:matplotlib.font_manager:findfont: score(<Font 'Comic Sans MS' (comicbd.ttf) normal normal bold normal>) = 10.335\n",
      "DEBUG:matplotlib.font_manager:findfont: score(<Font 'Leelawadee UI' (LeelUIsl.ttf) normal normal light normal>) = 10.24\n",
      "DEBUG:matplotlib.font_manager:findfont: score(<Font 'SWIsot2' (swisot2.ttf) normal normal 400 normal>) = 10.05\n",
      "DEBUG:matplotlib.font_manager:findfont: score(<Font 'Rockwell Condensed' (ROCC____.TTF) normal normal 400 condensed>) = 10.25\n",
      "DEBUG:matplotlib.font_manager:findfont: score(<Font 'Gill Sans Nova' (GillSansUltraBoNova.ttf) normal normal bold normal>) = 10.335\n",
      "DEBUG:matplotlib.font_manager:findfont: score(<Font 'Verdana Pro' (VerdanaPro-CondSemiBoldItalic.ttf) italic normal semibold condensed>) = 11.44\n",
      "DEBUG:matplotlib.font_manager:findfont: score(<Font 'Lucida Sans Typewriter' (LTYPEO.TTF) oblique normal 400 normal>) = 11.05\n",
      "DEBUG:matplotlib.font_manager:findfont: score(<Font 'Bookman Old Style' (BOOKOSBI.TTF) italic normal book normal>) = 11.05\n",
      "DEBUG:matplotlib.font_manager:findfont: score(<Font 'Consolas' (consolab.ttf) normal normal bold normal>) = 10.335\n",
      "DEBUG:matplotlib.font_manager:findfont: score(<Font 'Kozuka Mincho Pr6N' (kozminpr6n-regular.otf) normal normal 400 normal>) = 10.05\n",
      "DEBUG:matplotlib.font_manager:findfont: score(<Font 'SWScrpc' (swscrpc.ttf) normal normal 400 normal>) = 10.05\n",
      "DEBUG:matplotlib.font_manager:findfont: score(<Font 'Magneto' (MAGNETOB.TTF) normal normal bold normal>) = 10.335\n",
      "DEBUG:matplotlib.font_manager:findfont: score(<Font 'ESSTIXThree' (ESSTIX3_.TTF) normal normal 400 normal>) = 10.05\n",
      "DEBUG:matplotlib.font_manager:findfont: score(<Font 'Lucida Handwriting' (LHANDW.TTF) italic normal 400 normal>) = 11.05\n",
      "DEBUG:matplotlib.font_manager:findfont: score(<Font 'Verdana Pro' (VerdanaPro-Bold.ttf) normal normal bold normal>) = 10.335\n",
      "DEBUG:matplotlib.font_manager:findfont: score(<Font 'Gill Sans Nova' (GillSansCondNova.ttf) normal normal 400 condensed>) = 10.25\n",
      "DEBUG:matplotlib.font_manager:findfont: score(<Font 'Trebuchet MS' (trebucbd.ttf) normal normal bold normal>) = 10.335\n",
      "DEBUG:matplotlib.font_manager:findfont: score(<Font 'SWItalt' (switalt.ttf) normal normal 400 normal>) = 10.05\n",
      "DEBUG:matplotlib.font_manager:findfont: score(<Font 'Tw Cen MT' (TCBI____.TTF) italic normal bold normal>) = 11.335\n",
      "DEBUG:matplotlib.font_manager:findfont: score(<Font 'Book Antiqua' (ANTQUAI.TTF) italic normal book normal>) = 11.05\n",
      "DEBUG:matplotlib.font_manager:findfont: score(<Font 'Informal Roman' (INFROMAN.TTF) normal normal roman normal>) = 10.145\n",
      "DEBUG:matplotlib.font_manager:findfont: score(<Font 'Nirmala UI' (NirmalaS.ttf) normal normal light normal>) = 10.24\n",
      "DEBUG:matplotlib.font_manager:findfont: score(<Font 'SWRomnc' (swromnc.ttf) normal normal 400 normal>) = 10.05\n",
      "DEBUG:matplotlib.font_manager:findfont: score(<Font 'Times New Roman' (timesbi.ttf) italic normal roman normal>) = 11.145\n",
      "DEBUG:matplotlib.font_manager:findfont: score(<Font 'Microsoft JhengHei' (msjhl.ttc) normal normal light normal>) = 10.24\n",
      "DEBUG:matplotlib.font_manager:findfont: score(<Font 'Verdana Pro' (VerdanaPro-BoldItalic.ttf) italic normal bold normal>) = 11.335\n",
      "DEBUG:matplotlib.font_manager:findfont: score(<Font 'Verdana Pro' (VerdanaPro-CondItalic.ttf) italic normal 400 condensed>) = 11.25\n",
      "DEBUG:matplotlib.font_manager:findfont: score(<Font 'Palatino Linotype' (palab.ttf) normal normal bold normal>) = 10.335\n",
      "DEBUG:matplotlib.font_manager:findfont: score(<Font 'Cambria' (cambriab.ttf) normal normal bold normal>) = 10.335\n",
      "DEBUG:matplotlib.font_manager:findfont: score(<Font 'Colonna MT' (COLONNA.TTF) normal normal 400 normal>) = 10.05\n",
      "DEBUG:matplotlib.font_manager:findfont: score(<Font 'Gill Sans MT Ext Condensed Bold' (GLSNECB.TTF) normal normal bold condensed>) = 10.535\n",
      "DEBUG:matplotlib.font_manager:findfont: score(<Font 'Arial Nova' (ArialNovaCond-Bold.ttf) normal normal bold condensed>) = 10.535\n",
      "DEBUG:matplotlib.font_manager:findfont: score(<Font 'Gill Sans Nova' (GillSansBoNova.ttf) normal normal bold normal>) = 10.335\n",
      "DEBUG:matplotlib.font_manager:findfont: score(<Font 'Candara' (Candaral.ttf) normal normal light normal>) = 10.24\n",
      "DEBUG:matplotlib.font_manager:findfont: score(<Font 'Perpetua Titling MT' (PERTIBD.TTF) normal normal bold normal>) = 10.335\n",
      "DEBUG:matplotlib.font_manager:findfont: score(<Font 'Bookman Old Style' (BOOKOS.TTF) normal normal book normal>) = 10.05\n",
      "DEBUG:matplotlib.font_manager:findfont: score(<Font 'Garamond' (GARAIT.TTF) italic normal 400 normal>) = 11.05\n",
      "DEBUG:matplotlib.font_manager:findfont: score(<Font 'Corbel' (corbeli.ttf) italic normal 400 normal>) = 11.05\n",
      "DEBUG:matplotlib.font_manager:findfont: score(<Font 'Consolas' (consola.ttf) normal normal 400 normal>) = 10.05\n",
      "DEBUG:matplotlib.font_manager:findfont: score(<Font 'Bahnschrift' (bahnschrift.ttf) normal normal 400 normal>) = 10.05\n",
      "DEBUG:matplotlib.font_manager:findfont: score(<Font 'OLF SimpleSansOC' (olfsimplesansoc-regular.ttf) normal normal regular normal>) = 10.05\n",
      "DEBUG:matplotlib.font_manager:findfont: score(<Font 'Eras Bold ITC' (ERASBD.TTF) normal normal bold normal>) = 10.335\n",
      "DEBUG:matplotlib.font_manager:findfont: score(<Font 'Courier New' (couri.ttf) italic normal 400 normal>) = 11.05\n",
      "DEBUG:matplotlib.font_manager:findfont: score(<Font 'Malgun Gothic' (malgun.ttf) normal normal 400 normal>) = 10.05\n",
      "DEBUG:matplotlib.font_manager:findfont: score(<Font 'Century Schoolbook' (SCHLBKI.TTF) italic normal book normal>) = 11.05\n",
      "DEBUG:matplotlib.font_manager:findfont: score(<Font 'Nirmala UI' (NirmalaB.ttf) normal normal bold normal>) = 10.335\n",
      "DEBUG:matplotlib.font_manager:findfont: score(<Font 'Courier New' (courbi.ttf) italic normal bold normal>) = 11.335\n",
      "DEBUG:matplotlib.font_manager:findfont: score(<Font 'Monotype Corsiva' (MTCORSVA.TTF) normal normal 400 normal>) = 10.05\n",
      "DEBUG:matplotlib.font_manager:findfont: score(<Font 'DejaVu Sans' (DejaVuSans-ExtraLight.ttf) normal normal light normal>) = 0.24\n",
      "DEBUG:matplotlib.font_manager:findfont: score(<Font 'Adobe Devanagari' (AdobeDevanagari-Bold.otf) normal normal bold normal>) = 10.335\n",
      "DEBUG:matplotlib.font_manager:findfont: score(<Font 'MS Reference Sans Serif' (REFSAN.TTF) normal normal 400 normal>) = 10.05\n",
      "DEBUG:matplotlib.font_manager:findfont: score(<Font 'Perpetua' (PERBI___.TTF) italic normal bold normal>) = 11.335\n",
      "DEBUG:matplotlib.font_manager:findfont: score(<Font 'SWGrekc' (swgrekc.ttf) normal normal 400 normal>) = 10.05\n",
      "DEBUG:matplotlib.font_manager:findfont: score(<Font 'Palatino Linotype' (palabi.ttf) italic normal bold normal>) = 11.335\n"
     ]
    },
    {
     "name": "stderr",
     "output_type": "stream",
     "text": [
      "DEBUG:matplotlib.font_manager:findfont: score(<Font 'Corbel' (corbell.ttf) normal normal light normal>) = 10.24\n",
      "DEBUG:matplotlib.font_manager:findfont: score(<Font 'Verdana Pro' (VerdanaPro-LightItalic.ttf) italic normal light normal>) = 11.24\n",
      "DEBUG:matplotlib.font_manager:findfont: score(<Font 'Georgia Pro' (GeorgiaPro-CondBold.ttf) normal normal bold condensed>) = 10.535\n",
      "DEBUG:matplotlib.font_manager:findfont: score(<Font 'Verdana Pro' (VerdanaPro-CondBoldItalic.ttf) italic normal bold condensed>) = 11.535\n",
      "DEBUG:matplotlib.font_manager:findfont: score(<Font 'Arial Nova' (ArialNova-LightItalic.ttf) italic normal light normal>) = 11.24\n",
      "DEBUG:matplotlib.font_manager:findfont: score(<Font 'Lucida Fax' (LFAXD.TTF) normal normal demibold normal>) = 10.24\n",
      "DEBUG:matplotlib.font_manager:findfont: score(<Font 'SWRomns' (swromns.ttf) normal normal 400 normal>) = 10.05\n",
      "DEBUG:matplotlib.font_manager:findfont: score(<Font 'Arial Nova' (ArialNovaCond.ttf) normal normal 400 condensed>) = 10.25\n",
      "DEBUG:matplotlib.font_manager:findfont: score(<Font 'Perpetua Titling MT' (PERTILI.TTF) normal normal light normal>) = 10.24\n",
      "DEBUG:matplotlib.font_manager:findfont: score(<Font 'Elephant' (ELEPHNT.TTF) normal normal 400 normal>) = 10.05\n",
      "DEBUG:matplotlib.font_manager:findfont: score(<Font 'Segoe Script' (segoescb.ttf) normal normal bold normal>) = 10.335\n",
      "DEBUG:matplotlib.font_manager:findfont: score(<Font 'Yu Gothic' (YuGothB.ttc) normal normal bold normal>) = 10.335\n",
      "DEBUG:matplotlib.font_manager:findfont: score(<Font 'Helonia' (HEN_____.ttf) normal normal 400 normal>) = 10.05\n",
      "DEBUG:matplotlib.font_manager:findfont: score(<Font 'Georgia Pro' (GeorgiaPro-SemiBold.ttf) normal normal semibold normal>) = 10.24\n",
      "DEBUG:matplotlib.font_manager:findfont: score(<Font 'ESSTIXFive' (ESSTIX5_.TTF) normal normal 400 normal>) = 10.05\n",
      "DEBUG:matplotlib.font_manager:findfont: score(<Font 'Bodoni MT' (BOD_I.TTF) italic normal 400 normal>) = 11.05\n",
      "DEBUG:matplotlib.font_manager:findfont: score(<Font 'Franklin Gothic Heavy' (FRAHVIT.TTF) italic normal heavy normal>) = 11.43\n",
      "DEBUG:matplotlib.font_manager:findfont: score(<Font 'ESSTIXSeven' (ESSTIX7_.TTF) normal normal 400 normal>) = 10.05\n",
      "DEBUG:matplotlib.font_manager:findfont: score(<Font 'ESSTIXSeventeen' (ESSTIX17.TTF) normal normal 400 normal>) = 10.05\n",
      "DEBUG:matplotlib.font_manager:findfont: score(<Font 'Segoe UI' (seguibl.ttf) normal normal black normal>) = 10.525\n",
      "DEBUG:matplotlib.font_manager:findfont: score(<Font 'Bell MT' (BELLI.TTF) italic normal 400 normal>) = 11.05\n",
      "DEBUG:matplotlib.font_manager:findfont: score(<Font 'SWAstro' (swastro.ttf) normal normal 400 normal>) = 10.05\n",
      "DEBUG:matplotlib.font_manager:findfont: score(<Font 'ESSTIXTwelve' (ESSTIX12.TTF) normal normal 400 normal>) = 10.05\n",
      "DEBUG:matplotlib.font_manager:findfont: score(<Font 'Wingdings 3' (WINGDNG3.TTF) normal normal 400 normal>) = 10.05\n",
      "DEBUG:matplotlib.font_manager:findfont: score(<Font 'ESSTIXTwo' (ESSTIX2_.TTF) normal normal 400 normal>) = 10.05\n",
      "DEBUG:matplotlib.font_manager:findfont: score(<Font 'Rage Italic' (RAGE.TTF) italic normal 400 normal>) = 11.05\n",
      "DEBUG:matplotlib.font_manager:findfont: score(<Font 'Neue Haas Grotesk Text Pro' (NHaasGroteskTXPro-56It.ttf) italic normal 400 normal>) = 11.05\n",
      "DEBUG:matplotlib.font_manager:findfont: score(<Font 'Copperplate Gothic Light' (COPRGTL.TTF) normal normal light normal>) = 10.24\n",
      "DEBUG:matplotlib.font_manager:findfont: score(<Font 'Footlight MT Light' (FTLTLT.TTF) normal normal light normal>) = 10.24\n",
      "DEBUG:matplotlib.font_manager:findfont: score(<Font 'Candara' (Candaraz.ttf) italic normal bold normal>) = 11.335\n",
      "DEBUG:matplotlib.font_manager:findfont: score(<Font 'Rockwell Nova' (RockwellNovaCond-Italic.ttf) italic normal 400 condensed>) = 11.25\n",
      "DEBUG:matplotlib.font_manager:findfont: score(<Font 'Georgia Pro' (GeorgiaPro-CondSemiBoldItalic.ttf) italic normal semibold condensed>) = 11.44\n",
      "DEBUG:matplotlib.font_manager:findfont: score(<Font 'Cambria' (cambriaz.ttf) italic normal bold normal>) = 11.335\n",
      "DEBUG:matplotlib.font_manager:findfont: score(<Font 'Bodoni MT' (BOD_BLAR.TTF) normal normal black normal>) = 10.525\n",
      "DEBUG:matplotlib.font_manager:findfont: score(<Font 'Microsoft Himalaya' (himalaya.ttf) normal normal 400 normal>) = 10.05\n",
      "DEBUG:matplotlib.font_manager:findfont: score(<Font 'Gadugi' (gadugi.ttf) normal normal 400 normal>) = 10.05\n",
      "DEBUG:matplotlib.font_manager:findfont: score(<Font 'Courier New' (cour.ttf) normal normal 400 normal>) = 10.05\n",
      "DEBUG:matplotlib.font_manager:findfont: score(<Font 'MS Outlook' (OUTLOOK.TTF) normal normal 400 normal>) = 10.05\n",
      "DEBUG:matplotlib.font_manager:findfont: score(<Font 'Britannic Bold' (BRITANIC.TTF) normal normal bold normal>) = 10.335\n",
      "DEBUG:matplotlib.font_manager:findfont: score(<Font 'Arial Nova' (ArialNova-Italic.ttf) italic normal 400 normal>) = 11.05\n",
      "DEBUG:matplotlib.font_manager:findfont: score(<Font 'Matura MT Script Capitals' (MATURASC.TTF) normal normal 400 normal>) = 10.05\n",
      "DEBUG:matplotlib.font_manager:findfont: score(<Font 'Bodoni MT' (BOD_R.TTF) normal normal 400 normal>) = 10.05\n",
      "DEBUG:matplotlib.font_manager:findfont: score(<Font 'Calisto MT' (CALIST.TTF) normal normal 400 normal>) = 10.05\n",
      "DEBUG:matplotlib.font_manager:findfont: score(<Font 'Harlow Solid Italic' (HARLOWSI.TTF) italic normal 400 normal>) = 11.05\n",
      "DEBUG:matplotlib.font_manager:findfont: score(<Font 'DejaVu Sans' (DejaVuSansCondensed-BoldOblique.ttf) oblique normal bold condensed>) = 1.535\n",
      "DEBUG:matplotlib.font_manager:findfont: score(<Font 'Lucida Sans' (LSANS.TTF) normal normal regular normal>) = 10.05\n",
      "DEBUG:matplotlib.font_manager:findfont: score(<Font 'Niagara Solid' (NIAGSOL.TTF) normal normal 400 normal>) = 10.05\n",
      "DEBUG:matplotlib.font_manager:findfont: score(<Font 'SWGothi' (swgothi.ttf) normal normal 400 normal>) = 10.05\n",
      "DEBUG:matplotlib.font_manager:findfont: score(<Font 'Neue Haas Grotesk Text Pro' (NHaasGroteskTXPro-75Bd.ttf) normal normal bold normal>) = 10.335\n",
      "DEBUG:matplotlib.font_manager:findfont: score(<Font 'Cooper Black' (COOPBL.TTF) normal normal black normal>) = 10.525\n",
      "DEBUG:matplotlib.font_manager:findfont: score(<Font 'Candara' (Candarab.ttf) normal normal bold normal>) = 10.335\n",
      "DEBUG:matplotlib.font_manager:findfont: score(<Font 'Adobe Ming Std' (adobemingstd-light.otf) normal normal 400 normal>) = 10.05\n",
      "DEBUG:matplotlib.font_manager:findfont: score(<Font 'Segoe UI Emoji' (seguiemj.ttf) normal normal 400 normal>) = 10.05\n",
      "DEBUG:matplotlib.font_manager:findfont: score(<Font 'Mistral' (MISTRAL.TTF) normal normal 400 normal>) = 10.05\n",
      "DEBUG:matplotlib.font_manager:findfont: score(<Font 'Gill Sans Ultra Bold' (GILSANUB.TTF) normal normal bold normal>) = 10.335\n",
      "DEBUG:matplotlib.font_manager:findfont: score(<Font 'High Tower Text' (HTOWERTI.TTF) italic normal 400 normal>) = 11.05\n",
      "DEBUG:matplotlib.font_manager:findfont: score(<Font 'Cambria' (cambria.ttc) normal normal 400 normal>) = 10.05\n",
      "DEBUG:matplotlib.font_manager:findfont: score(<Font 'Franklin Gothic Medium Cond' (FRAMDCN.TTF) normal normal medium condensed>) = 10.344999999999999\n",
      "DEBUG:matplotlib.font_manager:findfont: score(<Font 'Segoe Print' (segoeprb.ttf) normal normal bold normal>) = 10.335\n",
      "DEBUG:matplotlib.font_manager:findfont: score(<Font 'Franklin Gothic Book' (FRABK.TTF) normal normal book normal>) = 10.05\n",
      "DEBUG:matplotlib.font_manager:findfont: score(<Font 'Viner Hand ITC' (VINERITC.TTF) normal normal 400 normal>) = 10.05\n",
      "DEBUG:matplotlib.font_manager:findfont: score(<Font 'Neue Haas Grotesk Text Pro' (NHaasGroteskTXPro-76BdIt.ttf) italic normal bold normal>) = 11.335\n",
      "DEBUG:matplotlib.font_manager:findfont: score(<Font 'SWRomnt' (swromnt.ttf) normal normal 400 normal>) = 10.05\n",
      "DEBUG:matplotlib.font_manager:findfont: score(<Font 'Segoe UI Historic' (seguihis.ttf) normal normal 400 normal>) = 10.05\n",
      "DEBUG:matplotlib.font_manager:findfont: score(<Font 'Californian FB' (CALIFR.TTF) normal normal 400 normal>) = 10.05\n",
      "DEBUG:matplotlib.font_manager:findfont: score(<Font 'Bodoni MT' (BOD_BI.TTF) italic normal bold normal>) = 11.335\n",
      "DEBUG:matplotlib.font_manager:findfont: score(<Font 'Gill Sans Nova' (GillSansCondBoNova.ttf) normal normal bold condensed>) = 10.535\n",
      "DEBUG:matplotlib.font_manager:findfont: score(<Font 'Times New Roman' (timesi.ttf) italic normal roman normal>) = 11.145\n"
     ]
    },
    {
     "name": "stderr",
     "output_type": "stream",
     "text": [
      "DEBUG:matplotlib.font_manager:findfont: score(<Font 'Perpetua' (PERB____.TTF) normal normal bold normal>) = 10.335\n",
      "DEBUG:matplotlib.font_manager:findfont: score(<Font 'Rockwell Nova' (RockwellNovaCond-LightItalic.ttf) italic normal light condensed>) = 11.44\n",
      "DEBUG:matplotlib.font_manager:findfont: score(<Font 'ZWAdobeF' (ZWAdobeF.TTF) normal normal 400 normal>) = 10.05\n",
      "DEBUG:matplotlib.font_manager:findfont: score(<Font 'Gill Sans Nova' (GillSansCondLightNova.ttf) normal normal 400 condensed>) = 10.25\n",
      "DEBUG:matplotlib.font_manager:findfont: score(<Font 'Rockwell Nova' (RockwellNova-BoldItalic.ttf) italic normal bold normal>) = 11.335\n",
      "DEBUG:matplotlib.font_manager:findfont: score(<Font 'Lucida Calligraphy' (LCALLIG.TTF) italic normal 400 normal>) = 11.05\n",
      "DEBUG:matplotlib.font_manager:findfont: score(<Font 'SWItal' (swital.ttf) normal normal 400 normal>) = 10.05\n",
      "DEBUG:matplotlib.font_manager:findfont: score(<Font 'Californian FB' (CALIFI.TTF) italic normal 400 normal>) = 11.05\n",
      "DEBUG:matplotlib.font_manager:findfont: score(<Font 'Century Schoolbook' (CENSCBK.TTF) normal normal book normal>) = 10.05\n",
      "DEBUG:matplotlib.font_manager:findfont: score(<Font 'Century Schoolbook' (SCHLBKB.TTF) normal normal book normal>) = 10.05\n",
      "DEBUG:matplotlib.font_manager:findfont: score(<Font 'Calibri' (calibri.ttf) normal normal 400 normal>) = 10.05\n",
      "DEBUG:matplotlib.font_manager:findfont: score(<Font 'Microsoft Uighur' (MSUIGHUB.TTF) normal normal bold normal>) = 10.335\n",
      "DEBUG:matplotlib.font_manager:findfont: score(<Font 'Rockwell Condensed' (ROCCB___.TTF) normal normal bold condensed>) = 10.535\n",
      "DEBUG:matplotlib.font_manager:findfont: score(<Font 'SWGreks' (swgreks.ttf) normal normal 400 normal>) = 10.05\n",
      "DEBUG:matplotlib.font_manager:findfont: score(<Font 'Thames' (THR_____.ttf) normal normal 400 normal>) = 10.05\n",
      "DEBUG:matplotlib.font_manager:findfont: score(<Font 'Bodoni MT' (BOD_PSTC.TTF) normal normal 400 normal>) = 10.05\n",
      "DEBUG:matplotlib.font_manager:findfont: score(<Font 'Bodoni MT' (BOD_BLAI.TTF) italic normal black normal>) = 11.525\n",
      "DEBUG:matplotlib.font_manager:findfont: score(<Font 'Franklin Gothic Book' (FRABKIT.TTF) italic normal book normal>) = 11.05\n",
      "DEBUG:matplotlib.font_manager:findfont: score(<Font 'Lucida Sans' (LSANSD.TTF) normal normal roman normal>) = 10.145\n",
      "DEBUG:matplotlib.font_manager:findfont: score(<Font 'Segoe UI' (segoeuisl.ttf) normal normal light normal>) = 10.24\n",
      "DEBUG:matplotlib.font_manager:findfont: score(<Font 'Papyrus' (PAPYRUS.TTF) normal normal 400 normal>) = 10.05\n",
      "DEBUG:matplotlib.font_manager:findfont: score(<Font 'Microsoft PhagsPa' (phagspa.ttf) normal normal 400 normal>) = 10.05\n",
      "DEBUG:matplotlib.font_manager:findfont: score(<Font 'MS Gothic' (msgothic.ttc) normal normal 400 normal>) = 10.05\n",
      "DEBUG:matplotlib.font_manager:findfont: score(<Font 'MS Reference Specialty' (REFSPCL.TTF) normal normal 400 normal>) = 10.05\n",
      "DEBUG:matplotlib.font_manager:findfont: score(<Font 'Corbel' (corbelz.ttf) italic normal bold normal>) = 11.335\n",
      "DEBUG:matplotlib.font_manager:findfont: score(<Font 'Calibri' (calibrib.ttf) normal normal bold normal>) = 10.335\n",
      "DEBUG:matplotlib.font_manager:findfont: score(<Font 'Elephant' (ELEPHNTI.TTF) italic normal 400 normal>) = 11.05\n",
      "DEBUG:matplotlib.font_manager:findfont: score(<Font 'Arial' (ARIALNI.TTF) italic normal 400 condensed>) = 7.613636363636363\n",
      "DEBUG:matplotlib.font_manager:findfont: score(<Font 'Georgia Pro' (GeorgiaPro-BlackItalic.ttf) italic normal black normal>) = 11.525\n",
      "DEBUG:matplotlib.font_manager:findfont: score(<Font 'Bodoni MT' (BOD_CR.TTF) normal normal 400 condensed>) = 10.25\n",
      "DEBUG:matplotlib.font_manager:findfont: score(<Font 'Franklin Gothic Demi' (FRADM.TTF) normal normal demi normal>) = 10.24\n",
      "DEBUG:matplotlib.font_manager:findfont: score(<Font 'Microsoft PhagsPa' (phagspab.ttf) normal normal bold normal>) = 10.335\n",
      "DEBUG:matplotlib.font_manager:findfont: score(<Font 'Verdana Pro' (VerdanaPro-CondBlack.ttf) normal normal black condensed>) = 10.725\n",
      "DEBUG:matplotlib.font_manager:findfont: score(<Font 'High Tower Text' (HTOWERT.TTF) normal normal 400 normal>) = 10.05\n",
      "DEBUG:matplotlib.font_manager:findfont: score(<Font 'Gloucester MT Extra Condensed' (GLECB.TTF) normal normal 400 condensed>) = 10.25\n",
      "DEBUG:matplotlib.font_manager:findfont: score(<Font 'Microsoft Uighur' (MSUIGHUR.TTF) normal normal 400 normal>) = 10.05\n",
      "DEBUG:matplotlib.font_manager:findfont: score(<Font 'Thames' (THB_____.ttf) normal normal bold normal>) = 10.335\n",
      "DEBUG:matplotlib.font_manager:findfont: score(<Font 'Leelawadee' (LEELAWDB.TTF) normal normal bold normal>) = 10.335\n",
      "DEBUG:matplotlib.font_manager:findfont: score(<Font 'Wingdings 2' (WINGDNG2.TTF) normal normal 400 normal>) = 10.05\n",
      "DEBUG:matplotlib.font_manager:findfont: score(<Font 'Segoe UI' (segoeuiz.ttf) italic normal bold normal>) = 11.335\n",
      "DEBUG:matplotlib.font_manager:findfont: score(<Font 'Vladimir Script' (VLADIMIR.TTF) normal normal 400 normal>) = 10.05\n",
      "DEBUG:matplotlib.font_manager:findfont: score(<Font 'Verdana Pro' (VerdanaPro-Regular.ttf) normal normal 400 normal>) = 10.05\n",
      "DEBUG:matplotlib.font_manager:findfont: score(<Font 'Verdana Pro' (VerdanaPro-CondBold.ttf) normal normal bold condensed>) = 10.535\n",
      "DEBUG:matplotlib.font_manager:findfont: score(<Font 'Felix Titling' (FELIXTI.TTF) normal normal 400 normal>) = 10.05\n",
      "DEBUG:matplotlib.font_manager:findfont: score(<Font 'DejaVu Sans' (DejaVuSansCondensed.ttf) normal normal 400 condensed>) = 0.25\n",
      "DEBUG:matplotlib.font_manager:findfont: score(<Font 'Webdings' (webdings.ttf) normal normal 400 normal>) = 10.05\n",
      "DEBUG:matplotlib.font_manager:findfont: score(<Font 'Bodoni MT' (BOD_CB.TTF) normal normal bold condensed>) = 10.535\n",
      "DEBUG:matplotlib.font_manager:findfont: score(<Font 'Lucida Sans Typewriter' (LTYPEB.TTF) normal normal bold normal>) = 10.335\n",
      "DEBUG:matplotlib.font_manager:findfont: score(<Font 'Niagara Engraved' (NIAGENG.TTF) normal normal 400 normal>) = 10.05\n",
      "DEBUG:matplotlib.font_manager:findfont: score(<Font 'Sitka Small' (SitkaZ.ttc) italic normal bold normal>) = 11.335\n",
      "DEBUG:matplotlib.font_manager:findfont: score(<Font 'Bradley Hand ITC' (BRADHITC.TTF) normal normal 400 normal>) = 10.05\n",
      "DEBUG:matplotlib.font_manager:findfont: score(<Font 'Segoe MDL2 Assets' (segmdl2.ttf) normal normal 400 normal>) = 10.05\n",
      "DEBUG:matplotlib.font_manager:findfont: score(<Font 'Curlz MT' (CURLZ___.TTF) normal normal 400 normal>) = 10.05\n",
      "DEBUG:matplotlib.font_manager:findfont: score(<Font 'Rockwell Nova' (RockwellNova-LightItalic.ttf) italic normal light normal>) = 11.24\n",
      "DEBUG:matplotlib.font_manager:findfont: score(<Font 'Arial Nova' (ArialNova-Light.ttf) normal normal light normal>) = 10.24\n",
      "DEBUG:matplotlib.font_manager:findfont: score(<Font 'Eras Light ITC' (ERASLGHT.TTF) normal normal light normal>) = 10.24\n",
      "DEBUG:matplotlib.font_manager:findfont: score(<Font 'Broadway' (BROADW.TTF) normal normal 400 normal>) = 10.05\n",
      "DEBUG:matplotlib.font_manager:findfont: score(<Font 'Gill Sans Nova' (GillSansLightItNova.ttf) italic normal light normal>) = 11.24\n",
      "DEBUG:matplotlib.font_manager:findfont: score(<Font 'HP Simplified' (HPSimplified_Rg.ttf) normal normal 400 normal>) = 10.05\n",
      "DEBUG:matplotlib.font_manager:findfont: score(<Font 'Georgia Pro' (GeorgiaPro-SemiBoldItalic.ttf) italic normal semibold normal>) = 11.24\n",
      "DEBUG:matplotlib.font_manager:findfont: score(<Font 'Perpetua' (PER_____.TTF) normal normal 400 normal>) = 10.05\n",
      "DEBUG:matplotlib.font_manager:findfont: score(<Font 'Agency FB' (AGENCYR.TTF) normal normal 400 normal>) = 10.05\n",
      "DEBUG:matplotlib.font_manager:findfont: score(<Font 'SWItalc' (switalc.ttf) normal normal 400 normal>) = 10.05\n",
      "DEBUG:matplotlib.font_manager:findfont: score(<Font 'Segoe UI' (segoeui.ttf) normal normal 400 normal>) = 10.05\n",
      "DEBUG:matplotlib.font_manager:findfont: score(<Font 'DejaVu Sans' (DejaVuSansCondensed-Oblique.ttf) oblique normal 400 condensed>) = 1.25\n",
      "DEBUG:matplotlib.font_manager:findfont: score(<Font 'Palatino Linotype' (pala.ttf) normal normal 400 normal>) = 10.05\n",
      "DEBUG:matplotlib.font_manager:findfont: score(<Font 'Castellar' (CASTELAR.TTF) normal normal 400 normal>) = 10.05\n",
      "DEBUG:matplotlib.font_manager:findfont: score(<Font 'Rockwell' (ROCK.TTF) normal normal 400 normal>) = 10.05\n"
     ]
    },
    {
     "name": "stderr",
     "output_type": "stream",
     "text": [
      "DEBUG:matplotlib.font_manager:findfont: score(<Font 'MaplePi' (MP______.ttf) normal normal 400 normal>) = 10.05\n",
      "DEBUG:matplotlib.font_manager:findfont: score(<Font 'Brush Script MT' (BRUSHSCI.TTF) italic normal 400 normal>) = 11.05\n",
      "DEBUG:matplotlib.font_manager:findfont: score(<Font 'Verdana Pro' (VerdanaPro-Light.ttf) normal normal light normal>) = 10.24\n",
      "DEBUG:matplotlib.font_manager:findfont: score(<Font 'Arial' (arialbd.ttf) normal normal bold normal>) = 6.698636363636363\n",
      "DEBUG:matplotlib.font_manager:findfont: score(<Font 'Playbill' (PLAYBILL.TTF) normal normal 400 normal>) = 10.05\n",
      "DEBUG:matplotlib.font_manager:findfont: score(<Font 'Franklin Gothic Heavy' (FRAHV.TTF) normal normal heavy normal>) = 10.43\n",
      "DEBUG:matplotlib.font_manager:findfont: score(<Font 'Rockwell Nova' (RockwellNova.ttf) normal normal 400 normal>) = 10.05\n",
      "DEBUG:matplotlib.font_manager:findfont: score(<Font 'Dubai' (DUBAI-LIGHT.TTF) normal normal light normal>) = 10.24\n",
      "DEBUG:matplotlib.font_manager:findfont: score(<Font 'Comic Sans MS' (comici.ttf) italic normal 400 normal>) = 11.05\n",
      "DEBUG:matplotlib.font_manager:findfont: score(<Font 'Rockwell Nova' (RockwellNova-Bold.ttf) normal normal bold normal>) = 10.335\n",
      "DEBUG:matplotlib.font_manager:findfont: score(<Font 'Helonia' (HEB_____.ttf) normal normal bold normal>) = 10.335\n",
      "DEBUG:matplotlib.font_manager:findfont: score(<Font 'Goudy Old Style' (GOUDOS.TTF) normal normal 400 normal>) = 10.05\n",
      "DEBUG:matplotlib.font_manager:findfont: score(<Font 'Malgun Gothic' (malgunsl.ttf) normal normal light normal>) = 10.24\n",
      "DEBUG:matplotlib.font_manager:findfont: score(<Font 'Gadugi' (gadugib.ttf) normal normal bold normal>) = 10.335\n",
      "DEBUG:matplotlib.font_manager:findfont: score(<Font 'Microsoft Sans Serif' (micross.ttf) normal normal 400 normal>) = 10.05\n",
      "DEBUG:matplotlib.font_manager:findfont: score(<Font 'Goudy Stout' (GOUDYSTO.TTF) normal normal 400 normal>) = 10.05\n",
      "DEBUG:matplotlib.font_manager:findfont: score(<Font 'Gigi' (GIGI.TTF) normal normal 400 normal>) = 10.05\n",
      "DEBUG:matplotlib.font_manager:findfont: score(<Font 'Helonia' (HEBO____.ttf) italic normal bold normal>) = 11.335\n",
      "DEBUG:matplotlib.font_manager:findfont: score(<Font 'Arial Nova' (ArialNovaCond-Light.ttf) normal normal light condensed>) = 10.44\n",
      "DEBUG:matplotlib.font_manager:findfont: score(<Font 'ESSTIXEight' (ESSTIX8_.TTF) normal normal 400 normal>) = 10.05\n",
      "DEBUG:matplotlib.font_manager:findfont: score(<Font 'Snap ITC' (SNAP____.TTF) normal normal 400 normal>) = 10.05\n",
      "DEBUG:matplotlib.font_manager:findfont: score(<Font 'Juice ITC' (JUICE___.TTF) normal normal 400 normal>) = 10.05\n",
      "DEBUG:matplotlib.font_manager:findfont: score(<Font 'Centaur' (CENTAUR.TTF) normal normal 400 normal>) = 10.05\n",
      "DEBUG:matplotlib.font_manager:findfont: score(<Font 'Palace Script MT' (PALSCRI.TTF) normal normal 400 normal>) = 10.05\n",
      "DEBUG:matplotlib.font_manager:findfont: score(<Font 'ESSTIXThirteen' (ESSTIX13.TTF) normal normal 400 normal>) = 10.05\n",
      "DEBUG:matplotlib.font_manager:findfont: score(<Font 'Verdana' (verdanab.ttf) normal normal bold normal>) = 3.9713636363636367\n",
      "DEBUG:matplotlib.font_manager:findfont: score(<Font 'Bookshelf Symbol 7' (BSSYM7.TTF) normal normal book normal>) = 10.05\n",
      "DEBUG:matplotlib.font_manager:findfont: score(<Font 'Georgia Pro' (GeorgiaPro-CondItalic.ttf) italic normal 400 condensed>) = 11.25\n",
      "DEBUG:matplotlib.font_manager:findfont: score(<Font 'Berlin Sans FB' (BRLNSR.TTF) normal normal 400 normal>) = 10.05\n",
      "DEBUG:matplotlib.font_manager:findfont: score(<Font '3ds' (3ds Light.otf) normal normal light normal>) = 10.24\n",
      "DEBUG:matplotlib.font_manager:findfont: score(<Font 'Wide Latin' (LATINWD.TTF) normal normal 400 expanded>) = 10.25\n",
      "DEBUG:matplotlib.font_manager:findfont: score(<Font 'Garamond' (GARA.TTF) normal normal 400 normal>) = 10.05\n",
      "DEBUG:matplotlib.font_manager:findfont: score(<Font 'Segoe UI' (seguibli.ttf) italic normal black normal>) = 11.525\n",
      "DEBUG:matplotlib.font_manager:findfont: score(<Font 'Gill Sans Nova' (GillSansCondUltraBoNova.ttf) normal normal bold condensed>) = 10.535\n",
      "DEBUG:matplotlib.font_manager:findfont: score(<Font 'Courier Std' (courierstd-bold.otf) normal normal bold normal>) = 10.335\n",
      "DEBUG:matplotlib.font_manager:findfont: score(<Font 'Segoe UI' (segoeuii.ttf) italic normal 400 normal>) = 11.05\n",
      "DEBUG:matplotlib.font_manager:findfont: score(<Font 'Lucida Fax' (LFAXDI.TTF) italic normal demibold normal>) = 11.24\n",
      "DEBUG:matplotlib.font_manager:findfont: score(<Font 'Georgia Pro' (GeorgiaPro-CondBlackItalic.ttf) italic normal black condensed>) = 11.725\n",
      "DEBUG:matplotlib.font_manager:findfont: score(<Font 'Arial' (ARIALNB.TTF) normal normal bold condensed>) = 6.8986363636363635\n",
      "DEBUG:matplotlib.font_manager:findfont: score(<Font 'Tahoma' (tahoma.ttf) normal normal 400 normal>) = 10.05\n",
      "DEBUG:matplotlib.font_manager:findfont: score(<Font 'Candara' (Candarali.ttf) italic normal light normal>) = 11.24\n",
      "DEBUG:matplotlib.font_manager:findfont: score(<Font 'HP Simplified' (HPSimplified.ttf) normal normal bold normal>) = 10.335\n",
      "DEBUG:matplotlib.font_manager:findfont: score(<Font 'Segoe UI' (segoeuil.ttf) normal normal light normal>) = 10.24\n",
      "DEBUG:matplotlib.font_manager:findfont: score(<Font 'Georgia Pro' (GeorgiaPro-CondRegular.ttf) normal normal 400 condensed>) = 10.25\n",
      "DEBUG:matplotlib.font_manager:findfont: score(<Font 'Eras Demi ITC' (ERASDEMI.TTF) normal normal demi normal>) = 10.24\n",
      "DEBUG:matplotlib.font_manager:findfont: score(<Font 'Gill Sans Ultra Bold Condensed' (GILLUBCD.TTF) normal normal bold condensed>) = 10.535\n",
      "DEBUG:matplotlib.font_manager:findfont: score(<Font 'SWMap' (swmap.ttf) normal normal 400 normal>) = 10.05\n",
      "DEBUG:matplotlib.font_manager:findfont: score(<Font 'Bodoni MT' (BOD_CI.TTF) italic normal 400 condensed>) = 11.25\n",
      "DEBUG:matplotlib.font_manager:findfont: score(<Font 'Arial' (arial.ttf) normal normal 400 normal>) = 6.413636363636363\n",
      "DEBUG:matplotlib.font_manager:findfont: score(<Font 'Garamond' (GARABD.TTF) normal normal bold normal>) = 10.335\n",
      "DEBUG:matplotlib.font_manager:findfont: score(<Font 'Leelawadee UI' (LeelawUI.ttf) normal normal 400 normal>) = 10.05\n",
      "DEBUG:matplotlib.font_manager:findfont: score(<Font 'Tw Cen MT' (TCB_____.TTF) normal normal bold normal>) = 10.335\n",
      "DEBUG:matplotlib.font_manager:findfont: score(<Font 'Bernard MT Condensed' (BERNHC.TTF) normal normal 400 condensed>) = 10.25\n",
      "DEBUG:matplotlib.font_manager:findfont: score(<Font 'Showcard Gothic' (SHOWG.TTF) normal normal 400 normal>) = 10.05\n",
      "DEBUG:matplotlib.font_manager:findfont: score(<Font 'Perpetua' (PERI____.TTF) italic normal 400 normal>) = 11.05\n",
      "DEBUG:matplotlib.font_manager:findfont: score(<Font 'Kunstler Script' (KUNSTLER.TTF) normal normal 400 normal>) = 10.05\n",
      "DEBUG:matplotlib.font_manager:findfont: score(<Font 'ESSTIXSix' (ESSTIX6_.TTF) normal normal 400 normal>) = 10.05\n",
      "DEBUG:matplotlib.font_manager:findfont: score(<Font 'Gill Sans Nova' (GillSansCondItNova.ttf) italic normal 400 condensed>) = 11.25\n",
      "DEBUG:matplotlib.font_manager:findfont: score(<Font 'Microsoft YaHei' (msyhbd.ttc) normal normal bold normal>) = 10.335\n",
      "DEBUG:matplotlib.font_manager:findfont: score(<Font 'Eras Medium ITC' (ERASMD.TTF) normal normal medium normal>) = 10.145\n",
      "DEBUG:matplotlib.font_manager:findfont: score(<Font 'Century' (CENTURY.TTF) normal normal 400 normal>) = 10.05\n",
      "DEBUG:matplotlib.font_manager:findfont: score(<Font 'Freestyle Script' (FREESCPT.TTF) normal normal 400 normal>) = 10.05\n",
      "DEBUG:matplotlib.font_manager:findfont: score(<Font 'Adobe Devanagari' (AdobeDevanagari-Italic.otf) italic normal 400 normal>) = 11.05\n",
      "DEBUG:matplotlib.font_manager:findfont: score(<Font 'Gill Sans Nova' (GillSansLightNova.ttf) normal normal light normal>) = 10.24\n",
      "DEBUG:matplotlib.font_manager:findfont: score(<Font 'Arial Rounded MT Bold' (ARLRDBD.TTF) normal normal bold normal>) = 10.335\n",
      "DEBUG:matplotlib.font_manager:findfont: score(<Font 'ESSTIXTen' (ESSTIX10.TTF) normal normal 400 normal>) = 10.05\n",
      "DEBUG:matplotlib.font_manager:findfont: score(<Font 'Calisto MT' (CALISTBI.TTF) italic normal bold normal>) = 11.335\n",
      "DEBUG:matplotlib.font_manager:findfont: score(<Font 'Berlin Sans FB Demi' (BRLNSDB.TTF) normal normal demi normal>) = 10.24\n",
      "DEBUG:matplotlib.font_manager:findfont: score(<Font 'Consolas' (consolaz.ttf) italic normal bold normal>) = 11.335\n"
     ]
    },
    {
     "name": "stderr",
     "output_type": "stream",
     "text": [
      "DEBUG:matplotlib.font_manager:findfont: score(<Font 'Rockwell Nova' (RockwellNova-Italic.ttf) italic normal 400 normal>) = 11.05\n",
      "DEBUG:matplotlib.font_manager:findfont: score(<Font 'Sitka Small' (SitkaB.ttc) normal normal bold normal>) = 10.335\n",
      "DEBUG:matplotlib.font_manager:findfont: score(<Font 'HP Simplified' (HPSimplified_It.ttf) italic normal 400 normal>) = 11.05\n",
      "DEBUG:matplotlib.font_manager:findfont: score(<Font 'Verdana Pro' (VerdanaPro-SemiBold.ttf) normal normal semibold normal>) = 10.24\n",
      "DEBUG:matplotlib.font_manager:findfont: score(<Font 'Script MT Bold' (SCRIPTBL.TTF) normal normal bold normal>) = 10.335\n",
      "DEBUG:matplotlib.font_manager:findfont: score(<Font 'Lucida Sans Typewriter' (LTYPEBO.TTF) oblique normal bold normal>) = 11.335\n",
      "DEBUG:matplotlib.font_manager:findfont: score(<Font 'Courier New' (courbd.ttf) normal normal bold normal>) = 10.335\n",
      "DEBUG:matplotlib.font_manager:findfont: score(<Font 'SolidWorks GDT' (solidworks gdt.ttf) normal normal 400 normal>) = 10.05\n",
      "DEBUG:matplotlib.font_manager:findfont: score(<Font 'Segoe Print' (segoepr.ttf) normal normal 400 normal>) = 10.05\n",
      "DEBUG:matplotlib.font_manager:findfont: score(<Font 'Georgia' (georgiai.ttf) italic normal 400 normal>) = 11.05\n",
      "DEBUG:matplotlib.font_manager:findfont: score(<Font 'Rockwell Nova' (RockwellNovaCond-Light.ttf) normal normal light condensed>) = 10.44\n",
      "DEBUG:matplotlib.font_manager:findfont: score(<Font 'Microsoft Tai Le' (taileb.ttf) normal normal bold normal>) = 10.335\n",
      "DEBUG:matplotlib.font_manager:findfont: score(<Font 'Gill Sans Nova' (GillSansCondExtraNova.ttf) normal normal 400 condensed>) = 10.25\n",
      "DEBUG:matplotlib.font_manager:findfont: score(<Font 'Arial Nova' (ArialNovaCond-LightItalic.ttf) italic normal light condensed>) = 11.44\n",
      "DEBUG:matplotlib.font_manager:findfont: score(<Font 'Gill Sans Nova' (GillSansCondBoItNova.ttf) italic normal bold condensed>) = 11.535\n",
      "DEBUG:matplotlib.font_manager:findfont: score(<Font 'SWIsot3' (swisot3.ttf) normal normal 400 normal>) = 10.05\n",
      "DEBUG:matplotlib.font_manager:findfont: score(<Font 'DejaVu Serif' (DejaVuSerifCondensed-BoldItalic.ttf) italic normal bold condensed>) = 11.535\n",
      "DEBUG:matplotlib.font_manager:findfont: score(<Font 'DejaVu Serif' (DejaVuSerifCondensed-Bold.ttf) normal normal bold condensed>) = 10.535\n",
      "DEBUG:matplotlib.font_manager:findfont: score(<Font 'Rockwell Nova' (RockwellNova-ExtraBold.ttf) normal normal bold normal>) = 10.335\n",
      "DEBUG:matplotlib.font_manager:findfont: score(<Font 'HP Simplified' (HPSimplified_BdIt.ttf) italic normal bold normal>) = 11.335\n",
      "DEBUG:matplotlib.font_manager:findfont: score(<Font 'Lucida Fax' (LFAXI.TTF) italic normal 400 normal>) = 11.05\n",
      "DEBUG:matplotlib.font_manager:findfont: score(<Font 'Maiandra GD' (MAIAN.TTF) normal normal 400 normal>) = 10.05\n",
      "DEBUG:matplotlib.font_manager:findfont: score(<Font 'Calibri' (calibrii.ttf) italic normal 400 normal>) = 11.05\n",
      "DEBUG:matplotlib.font_manager:findfont: score(<Font 'Rockwell Nova' (RockwellNova-Light.ttf) normal normal light normal>) = 10.24\n",
      "DEBUG:matplotlib.font_manager:findfont: score(<Font 'Neue Haas Grotesk Text Pro' (NHaasGroteskTXPro-66MdIt.ttf) italic normal medium normal>) = 11.145\n",
      "DEBUG:matplotlib.font_manager:findfont: score(<Font 'ESSTIXSixteen' (ESSTIX16.TTF) normal normal 400 normal>) = 10.05\n",
      "DEBUG:matplotlib.font_manager:findfont: score(<Font 'Lucida Console' (lucon.ttf) normal normal 400 normal>) = 10.05\n",
      "DEBUG:matplotlib.font_manager:findfont: score(<Font 'Constantia' (constanb.ttf) normal normal bold normal>) = 10.335\n",
      "DEBUG:matplotlib.font_manager:findfont: score(<Font 'Book Antiqua' (ANTQUABI.TTF) italic normal book normal>) = 11.05\n",
      "DEBUG:matplotlib.font_manager:findfont: score(<Font 'HP Simplified' (HPSimplified_LtIt.ttf) italic normal light normal>) = 11.24\n",
      "DEBUG:matplotlib.font_manager:findfont: score(<Font 'Georgia' (georgia.ttf) normal normal 400 normal>) = 10.05\n",
      "DEBUG:matplotlib.font_manager:findfont: score(<Font 'Neue Haas Grotesk Text Pro' (NHaasGroteskTXPro-55Rg.ttf) normal normal 400 normal>) = 10.05\n",
      "DEBUG:matplotlib.font_manager:findfont: score(<Font 'OCR A Extended' (OCRAEXT.TTF) normal normal 400 normal>) = 10.05\n",
      "DEBUG:matplotlib.font_manager:findfont: score(<Font 'Georgia Pro' (GeorgiaPro-CondSemiBold.ttf) normal normal semibold condensed>) = 10.44\n",
      "DEBUG:matplotlib.font_manager:findfont: score(<Font 'Blackadder ITC' (ITCBLKAD.TTF) normal normal black normal>) = 10.525\n",
      "DEBUG:matplotlib.font_manager:findfont: score(<Font 'Lucida Bright' (LBRITEI.TTF) italic normal 400 normal>) = 11.05\n",
      "DEBUG:matplotlib.font_manager:findfont: score(<Font 'SimSun' (simsun.ttc) normal normal 400 normal>) = 10.05\n",
      "DEBUG:matplotlib.font_manager:findfont: score(<Font 'Arial Nova' (ArialNova.ttf) normal normal 400 normal>) = 10.05\n",
      "DEBUG:matplotlib.font_manager:findfont: score(<Font 'Georgia Pro' (GeorgiaPro-Light.ttf) normal normal light normal>) = 10.24\n",
      "DEBUG:matplotlib.font_manager:findfont: score(<Font 'Rockwell' (ROCKB.TTF) normal normal bold normal>) = 10.335\n",
      "DEBUG:matplotlib.font_manager:findfont: score(<Font 'Verdana Pro' (VerdanaPro-Black.ttf) normal normal black normal>) = 10.525\n",
      "DEBUG:matplotlib.font_manager:findfont: score(<Font 'Copperplate Gothic Bold' (COPRGTB.TTF) normal normal bold normal>) = 10.335\n",
      "DEBUG:matplotlib.font_manager:findfont: score(<Font 'Segoe UI' (seguisbi.ttf) italic normal semibold normal>) = 11.24\n",
      "DEBUG:matplotlib.font_manager:findfont: score(<Font 'Verdana Pro' (VerdanaPro-CondLightItalic.ttf) italic normal light condensed>) = 11.44\n",
      "DEBUG:matplotlib.font_manager:findfont: score(<Font 'Vivaldi' (VIVALDII.TTF) italic normal 400 normal>) = 11.05\n",
      "DEBUG:matplotlib.font_manager:findfont: score(<Font 'SWScrps' (swscrps.ttf) normal normal 400 normal>) = 10.05\n",
      "DEBUG:matplotlib.font_manager:findfont: score(<Font 'Poor Richard' (POORICH.TTF) normal normal 400 normal>) = 10.05\n",
      "DEBUG:matplotlib.font_manager:findfont: score(<Font 'Ebrima' (ebrima.ttf) normal normal 400 normal>) = 10.05\n",
      "DEBUG:matplotlib.font_manager:findfont: score(<Font 'Courant' (COO_____.ttf) italic normal 400 normal>) = 11.05\n",
      "DEBUG:matplotlib.font_manager:findfont: score(<Font 'Arial' (ARIALNBI.TTF) italic normal bold condensed>) = 7.8986363636363635\n",
      "DEBUG:matplotlib.font_manager:findfont: score(<Font 'Helonia' (HEO_____.ttf) italic normal 400 normal>) = 11.05\n",
      "DEBUG:matplotlib.font_manager:findfont: score(<Font 'Lucida Sans' (LSANSI.TTF) italic normal 400 normal>) = 11.05\n",
      "DEBUG:matplotlib.font_manager:findfont: score(<Font 'Lucida Bright' (LBRITEDI.TTF) italic normal demibold normal>) = 11.24\n",
      "DEBUG:matplotlib.font_manager:findfont: score(<Font 'Calibri' (calibrili.ttf) italic normal light normal>) = 11.24\n",
      "DEBUG:matplotlib.font_manager:findfont: score(<Font 'SWIsop1' (swisop1.ttf) normal normal 400 normal>) = 10.05\n",
      "DEBUG:matplotlib.font_manager:findfont: score(<Font 'Segoe UI' (seguisb.ttf) normal normal semibold normal>) = 10.24\n",
      "DEBUG:matplotlib.font_manager:findfont: score(<Font 'SWIsop3' (swisop3.ttf) normal normal 400 normal>) = 10.05\n",
      "DEBUG:matplotlib.font_manager:findfont: score(<Font 'DejaVu Serif' (DejaVuSerifCondensed.ttf) normal normal 400 condensed>) = 10.25\n",
      "DEBUG:matplotlib.font_manager:findfont: score(<Font 'Consolas' (consolai.ttf) italic normal 400 normal>) = 11.05\n",
      "DEBUG:matplotlib.font_manager:findfont: score(<Font 'Courant' (COBO____.ttf) italic normal bold normal>) = 11.335\n",
      "DEBUG:matplotlib.font_manager:findfont: score(<Font 'Verdana Pro' (VerdanaPro-CondRegular.ttf) normal normal 400 condensed>) = 10.25\n",
      "DEBUG:matplotlib.font_manager:findfont: score(<Font 'Microsoft Yi Baiti' (msyi.ttf) normal normal 400 normal>) = 10.05\n",
      "DEBUG:matplotlib.font_manager:findfont: score(<Font 'Century Gothic' (GOTHIC.TTF) normal normal 400 normal>) = 10.05\n",
      "DEBUG:matplotlib.font_manager:findfont: score(<Font 'ESSTIXNine' (ESSTIX9_.TTF) normal normal 400 normal>) = 10.05\n",
      "DEBUG:matplotlib.font_manager:findfont: score(<Font 'Thames' (THBI____.ttf) italic normal bold normal>) = 11.335\n",
      "DEBUG:matplotlib.font_manager:findfont: score(<Font 'Adobe Pi Std' (adobepistd.otf) normal normal 400 normal>) = 10.05\n",
      "DEBUG:matplotlib.font_manager:findfont: score(<Font 'Palatino Linotype' (palai.ttf) italic normal 400 normal>) = 11.05\n",
      "DEBUG:matplotlib.font_manager:findfont: score(<Font 'SWGDT' (swgdt.ttf) normal normal 400 normal>) = 10.05\n"
     ]
    },
    {
     "name": "stderr",
     "output_type": "stream",
     "text": [
      "DEBUG:matplotlib.font_manager:findfont: score(<Font 'SWTxt' (swtxt.ttf) normal normal 400 normal>) = 10.05\n",
      "DEBUG:matplotlib.font_manager:findfont: score(<Font 'Californian FB' (CALIFB.TTF) normal normal bold normal>) = 10.335\n",
      "DEBUG:matplotlib.font_manager:findfont: score(<Font 'Rockwell Nova' (RockwellNovaCond.ttf) normal normal 400 condensed>) = 10.25\n",
      "DEBUG:matplotlib.font_manager:findfont: score(<Font 'Algerian' (ALGER.TTF) normal normal 400 normal>) = 10.05\n",
      "DEBUG:matplotlib.font_manager:findfont: score(<Font 'MT Extra' (MTEXTRA.TTF) normal normal 400 normal>) = 10.05\n",
      "DEBUG:matplotlib.font_manager:findfont: score(<Font 'Adobe Song Std' (adobesongstd-light.otf) normal normal 400 normal>) = 10.05\n",
      "DEBUG:matplotlib.font_manager:findfont: score(<Font 'Candara' (Candara.ttf) normal normal 400 normal>) = 10.05\n",
      "DEBUG:matplotlib.font_manager:findfont: score(<Font 'Franklin Gothic Demi' (FRADMIT.TTF) italic normal demi normal>) = 11.24\n",
      "DEBUG:matplotlib.font_manager:findfont: score(<Font 'Parchment' (PARCHM.TTF) normal normal 400 normal>) = 10.05\n",
      "DEBUG:matplotlib.font_manager:findfont: score(<Font 'Segoe UI' (segoeuib.ttf) normal normal bold normal>) = 10.335\n",
      "DEBUG:matplotlib.font_manager:findfont: score(<Font 'SimSun-ExtB' (simsunb.ttf) normal normal 400 normal>) = 10.05\n",
      "DEBUG:matplotlib.font_manager:findfont: score(<Font 'Goudy Old Style' (GOUDOSB.TTF) normal normal bold normal>) = 10.335\n",
      "DEBUG:matplotlib.font_manager:findfont: score(<Font 'Rockwell Nova' (RockwellNovaCond-Bold.ttf) normal normal bold condensed>) = 10.535\n",
      "DEBUG:matplotlib.font_manager:findfont: score(<Font 'Georgia Pro' (GeorgiaPro-Black.ttf) normal normal black normal>) = 10.525\n",
      "DEBUG:matplotlib.font_manager:findfont: score(<Font 'Bodoni MT' (BOD_CBI.TTF) italic normal bold condensed>) = 11.535\n",
      "DEBUG:matplotlib.font_manager:findfont: score(<Font 'Georgia Pro' (GeorgiaPro-CondLight.ttf) normal normal light condensed>) = 10.44\n",
      "DEBUG:matplotlib.font_manager:findfont: score(<Font 'Imprint MT Shadow' (IMPRISHA.TTF) normal normal 400 normal>) = 10.05\n",
      "DEBUG:matplotlib.font_manager:findfont: score(<Font 'Adobe Myungjo Std' (adobemyungjostd-medium.otf) normal normal 400 normal>) = 10.05\n",
      "DEBUG:matplotlib.font_manager:findfont: score(<Font 'Microsoft Tai Le' (taile.ttf) normal normal 400 normal>) = 10.05\n",
      "DEBUG:matplotlib.font_manager:findfont: score(<Font 'Thames' (THI_____.ttf) italic normal 400 normal>) = 11.05\n",
      "DEBUG:matplotlib.font_manager:findfont: score(<Font 'Nirmala UI' (Nirmala.ttf) normal normal 400 normal>) = 10.05\n",
      "DEBUG:matplotlib.font_manager:findfont: score(<Font 'MV Boli' (mvboli.ttf) normal normal 400 normal>) = 10.05\n",
      "DEBUG:matplotlib.font_manager:findfont: score(<Font 'HoloLens MDL2 Assets' (holomdl2.ttf) normal normal 400 normal>) = 10.05\n",
      "DEBUG:matplotlib.font_manager:findfont: score(<Font 'Stencil' (STENCIL.TTF) normal normal 400 normal>) = 10.05\n",
      "DEBUG:matplotlib.font_manager:findfont: score(<Font 'Adobe Devanagari' (AdobeDevanagari-BoldItalic.otf) italic normal bold normal>) = 11.335\n",
      "DEBUG:matplotlib.font_manager:findfont: score(<Font 'DejaVu Sans' (DejaVuSansCondensed-Bold.ttf) normal normal bold condensed>) = 0.5349999999999999\n",
      "DEBUG:matplotlib.font_manager:findfont: score(<Font 'Arial' (ariali.ttf) italic normal 400 normal>) = 7.413636363636363\n",
      "DEBUG:matplotlib.font_manager:findfont: score(<Font 'Goudy Old Style' (GOUDOSI.TTF) italic normal 400 normal>) = 11.05\n",
      "DEBUG:matplotlib.font_manager:findfont: score(<Font 'Gill Sans Nova' (GillSansCondLightItNova.ttf) italic normal 400 condensed>) = 11.25\n",
      "DEBUG:matplotlib.font_manager:findfont: score(<Font 'SWSimp' (swsimp.ttf) normal normal 400 normal>) = 10.05\n",
      "DEBUG:matplotlib.font_manager:findfont: score(<Font 'Courier Std' (courierstd-boldoblique.otf) oblique normal bold normal>) = 11.335\n",
      "DEBUG:matplotlib.font_manager:findfont: score(<Font 'Lucida Bright' (LBRITED.TTF) normal normal demibold normal>) = 10.24\n",
      "DEBUG:matplotlib.font_manager:findfont: score(<Font 'Microsoft JhengHei' (msjhbd.ttc) normal normal bold normal>) = 10.335\n",
      "DEBUG:matplotlib.font_manager:findfont: score(<Font 'Gill Sans Nova' (GillSansItNova.ttf) italic normal 400 normal>) = 11.05\n",
      "DEBUG:matplotlib.font_manager:findfont: score(<Font 'Arial' (arialbi.ttf) italic normal bold normal>) = 7.698636363636363\n",
      "DEBUG:matplotlib.font_manager:findfont: score(<Font 'Arial' (ariblk.ttf) normal normal black normal>) = 6.888636363636364\n",
      "DEBUG:matplotlib.font_manager:findfont: score(<Font 'Leelawadee' (LEELAWAD.TTF) normal normal 400 normal>) = 10.05\n",
      "DEBUG:matplotlib.font_manager:findfont: score(<Font 'Georgia' (georgiaz.ttf) italic normal bold normal>) = 11.335\n",
      "DEBUG:matplotlib.font_manager:findfont: score(<Font 'Tahoma' (tahomabd.ttf) normal normal bold normal>) = 10.335\n",
      "DEBUG:matplotlib.font_manager:findfont: score(<Font 'Georgia Pro' (GeorgiaPro-Bold.ttf) normal normal bold normal>) = 10.335\n",
      "DEBUG:matplotlib.font_manager:findfont: score(<Font 'Bookman Old Style' (BOOKOSB.TTF) normal normal book normal>) = 10.05\n",
      "DEBUG:matplotlib.font_manager:findfont: score(<Font 'Calisto MT' (CALISTB.TTF) normal normal bold normal>) = 10.335\n",
      "DEBUG:matplotlib.font_manager:findfont: score(<Font 'Cambria' (cambriai.ttf) italic normal 400 normal>) = 11.05\n",
      "DEBUG:matplotlib.font_manager:findfont: score(<Font 'Comic Sans MS' (comic.ttf) normal normal 400 normal>) = 10.05\n",
      "DEBUG:matplotlib.font_manager:findfont: score(<Font 'Neue Haas Grotesk Text Pro' (NHaasGroteskTXPro-65Md.ttf) normal normal medium normal>) = 10.145\n",
      "DEBUG:matplotlib.font_manager:findfont: score(<Font 'HYSWLongFangSong' (hyswlongfangsong.ttf) normal normal 400 normal>) = 10.05\n",
      "DEBUG:matplotlib.font_manager:findfont: score(<Font 'Rockwell' (ROCKBI.TTF) italic normal bold normal>) = 11.335\n",
      "DEBUG:matplotlib.font_manager:findfont: score(<Font 'Gill Sans MT' (GILBI___.TTF) italic normal bold normal>) = 11.335\n",
      "DEBUG:matplotlib.font_manager:findfont: score(<Font 'SWIsop2' (swisop2.ttf) normal normal 400 normal>) = 10.05\n",
      "DEBUG:matplotlib.font_manager:findfont: score(<Font 'Malgun Gothic' (malgunbd.ttf) normal normal bold normal>) = 10.335\n",
      "DEBUG:matplotlib.font_manager:findfont: score(<Font 'Haettenschweiler' (HATTEN.TTF) normal normal 400 normal>) = 10.05\n",
      "DEBUG:matplotlib.font_manager:findfont: score(<Font 'Verdana Pro' (VerdanaPro-SemiBoldItalic.ttf) italic normal semibold normal>) = 11.24\n",
      "DEBUG:matplotlib.font_manager:findfont: score(<Font 'Verdana Pro' (VerdanaPro-CondBlackItalic.ttf) italic normal black condensed>) = 11.725\n",
      "DEBUG:matplotlib.font_manager:findfont: score(<Font 'Ravie' (RAVIE.TTF) normal normal 400 normal>) = 10.05\n",
      "DEBUG:matplotlib.font_manager:findfont: score(<Font 'Agency FB' (AGENCYB.TTF) normal normal bold normal>) = 10.335\n",
      "DEBUG:matplotlib.font_manager:findfont: score(<Font 'Calisto MT' (CALISTI.TTF) italic normal 400 normal>) = 11.05\n",
      "DEBUG:matplotlib.font_manager:findfont: score(<Font 'Dubai' (DUBAI-MEDIUM.TTF) normal normal medium normal>) = 10.145\n",
      "DEBUG:matplotlib.font_manager:findfont: score(<Font 'Century Gothic' (GOTHICBI.TTF) italic normal bold normal>) = 11.335\n",
      "DEBUG:matplotlib.font_manager:findfont: score(<Font 'Rockwell' (ROCKI.TTF) italic normal 400 normal>) = 11.05\n",
      "DEBUG:matplotlib.font_manager:findfont: score(<Font 'Pristina' (PRISTINA.TTF) normal normal 400 normal>) = 10.05\n",
      "DEBUG:matplotlib.font_manager:findfont: score(<Font 'Lucida Sans' (LSANSDI.TTF) italic normal demibold normal>) = 11.24\n",
      "DEBUG:matplotlib.font_manager:findfont: score(<Font 'SWComp' (swcomp.ttf) normal normal 400 normal>) = 10.05\n",
      "DEBUG:matplotlib.font_manager:findfont: score(<Font 'Lucida Fax' (LFAX.TTF) normal normal regular normal>) = 10.05\n",
      "DEBUG:matplotlib.font_manager:findfont: score(<Font 'Bodoni MT' (BOD_B.TTF) normal normal bold normal>) = 10.335\n",
      "DEBUG:matplotlib.font_manager:findfont: score(<Font 'Courier Std' (courierstd-oblique.otf) oblique normal medium normal>) = 11.145\n",
      "DEBUG:matplotlib.font_manager:findfont: score(<Font 'Mongolian Baiti' (monbaiti.ttf) normal normal 400 normal>) = 10.05\n",
      "DEBUG:matplotlib.font_manager:findfont: score(<Font 'Myanmar Text' (mmrtextb.ttf) normal normal bold normal>) = 10.335\n",
      "DEBUG:matplotlib.font_manager:findfont: score(<Font 'Engravers MT' (ENGR.TTF) normal normal 400 normal>) = 10.05\n"
     ]
    },
    {
     "name": "stderr",
     "output_type": "stream",
     "text": [
      "DEBUG:matplotlib.font_manager:findfont: score(<Font 'Leelawadee UI' (LeelaUIb.ttf) normal normal bold normal>) = 10.335\n",
      "DEBUG:matplotlib.font_manager:findfont: score(<Font 'Segoe Script' (segoesc.ttf) normal normal 400 normal>) = 10.05\n",
      "DEBUG:matplotlib.font_manager:findfont: score(<Font 'Bell MT' (BELLB.TTF) normal normal bold normal>) = 10.335\n",
      "DEBUG:matplotlib.font_manager:findfont: score(<Font 'Times New Roman' (times.ttf) normal normal roman normal>) = 10.145\n",
      "DEBUG:matplotlib.font_manager:findfont: score(<Font 'Courier Std' (courierstd.otf) normal normal medium normal>) = 10.145\n",
      "DEBUG:matplotlib.font_manager:findfont: score(<Font 'Georgia Pro' (GeorgiaPro-Italic.ttf) italic normal 400 normal>) = 11.05\n",
      "DEBUG:matplotlib.font_manager:findfont: score(<Font 'Gill Sans MT' (GIL_____.TTF) normal normal 400 normal>) = 10.05\n",
      "DEBUG:matplotlib.font_manager:findfont: score(<Font 'Georgia Pro' (GeorgiaPro-CondLightItalic.ttf) italic normal light condensed>) = 11.44\n",
      "DEBUG:matplotlib.font_manager:findfont: score(<Font 'Segoe UI' (seguisli.ttf) italic normal light normal>) = 11.24\n",
      "DEBUG:matplotlib.font_manager:findfont: score(<Font 'MaplePi' (MaplePi.ttf) normal normal 400 normal>) = 10.05\n",
      "DEBUG:matplotlib.font_manager:findfont: score(<Font 'Symbol' (symbol.ttf) normal normal 400 normal>) = 10.05\n",
      "DEBUG:matplotlib.font_manager:findfont: score(<Font 'SWGothg' (swgothg.ttf) normal normal 400 normal>) = 10.05\n",
      "DEBUG:matplotlib.font_manager:findfont: score(<Font 'Kozuka Gothic Pr6N' (kozgopr6n-medium.otf) normal normal 400 normal>) = 10.05\n",
      "DEBUG:matplotlib.font_manager:findfont: score(<Font 'Bell MT' (BELL.TTF) normal normal 400 normal>) = 10.05\n",
      "DEBUG:matplotlib.font_manager:findfont: score(<Font 'Ebrima' (ebrimabd.ttf) normal normal bold normal>) = 10.335\n",
      "DEBUG:matplotlib.font_manager:findfont: score(<Font 'Century Schoolbook' (SCHLBKBI.TTF) italic normal book normal>) = 11.05\n",
      "DEBUG:matplotlib.font_manager:findfont: score(<Font 'Adobe Devanagari' (AdobeDevanagari-Regular.otf) normal normal 400 normal>) = 10.05\n",
      "DEBUG:matplotlib.font_manager:findfont: score(<Font 'Adobe Heiti Std' (adobeheitistd-regular.otf) normal normal 400 normal>) = 10.05\n",
      "DEBUG:matplotlib.font_manager:findfont: score(<Font 'Calibri' (calibril.ttf) normal normal light normal>) = 10.24\n",
      "DEBUG:matplotlib.font_manager:findfont: score(<Font 'Microsoft YaHei' (msyhl.ttc) normal normal light normal>) = 10.24\n",
      "DEBUG:matplotlib.font_manager:findfont: score(<Font 'SWMeteo' (swmeteo.ttf) normal normal 400 normal>) = 10.05\n",
      "DEBUG:matplotlib.font_manager:findfont: Matching :family=sans-serif:style=normal:variant=normal:weight=normal:stretch=normal:size=10.0 to DejaVu Sans ('c:\\\\users\\\\pak_l\\\\appdata\\\\local\\\\programs\\\\python\\\\python37\\\\lib\\\\site-packages\\\\matplotlib\\\\mpl-data\\\\fonts\\\\ttf\\\\DejaVuSans.ttf') with score of 0.050000.\n"
     ]
    },
    {
     "data": {
      "image/png": "[encoded data removed]",
      "text/plain": [
       "<Figure size 1080x360 with 1 Axes>"
      ]
     },
     "metadata": {
      "needs_background": "light"
     },
     "output_type": "display_data"
    }
   ],
   "source": [
    "figure(num=None, figsize=(15, 5))\n",
    "t = data_frame.index\n",
    "plt.plot(t, data_frame.x, t, data_frame.y, t, data_frame.z)"
   ]
  },
  {
   "cell_type": "code",
   "execution_count": 17,
   "metadata": {
    "pycharm": {
     "name": "#%%\n"
    }
   },
   "outputs": [
    {
     "data": {
      "image/png": "[encoded data removed]",
      "text/plain": [
       "<Figure size 432x288 with 1 Axes>"
      ]
     },
     "metadata": {
      "needs_background": "light"
     },
     "output_type": "display_data"
    }
   ],
   "source": [
    "plt.hist(data[:,1:])\n",
    "plt.show()"
   ]
  },
  {
   "cell_type": "markdown",
   "metadata": {},
   "source": [
    "# Generate statistics with NumPy and Pandas"
   ]
  },
  {
   "cell_type": "code",
   "execution_count": null,
   "metadata": {},
   "outputs": [],
   "source": [
    "import numpy as np\n",
    "from scipy.stats import kurtosis, skew"
   ]
  },
  {
   "cell_type": "code",
   "execution_count": null,
   "metadata": {},
   "outputs": [],
   "source": [
    "np.min(data[:,1:4], axis=0)"
   ]
  },
  {
   "cell_type": "code",
   "execution_count": null,
   "metadata": {},
   "outputs": [],
   "source": [
    "skew(data[:,1:4])"
   ]
  },
  {
   "cell_type": "markdown",
   "metadata": {},
   "source": [
    "You can select a column (slice) of data, or a subset of data. In the example below we select rows\n",
    "from 10 to 20 (10 in total) and the colum 1 to x (i.e skiping the first column representing the time)."
   ]
  },
  {
   "cell_type": "code",
   "execution_count": null,
   "metadata": {},
   "outputs": [],
   "source": [
    "data[:10,1:]"
   ]
  },
  {
   "cell_type": "markdown",
   "metadata": {},
   "source": [
    "Out of the box, Pandas give you some statistics, do not forget to convert your array into a DataFrame."
   ]
  },
  {
   "cell_type": "code",
   "execution_count": null,
   "metadata": {
    "scrolled": true
   },
   "outputs": [],
   "source": [
    "data_frame = pd.DataFrame(data[:,1:], index = pd.DatetimeIndex(pd.to_datetime(data[:,0], unit='ms')))\n",
    "pd.DataFrame.describe(data_frame)"
   ]
  },
  {
   "cell_type": "code",
   "execution_count": null,
   "metadata": {},
   "outputs": [],
   "source": [
    "data_frame.rolling(10).std()"
   ]
  },
  {
   "cell_type": "markdown",
   "metadata": {},
   "source": [
    "# Rolling / Sliding Window\n",
    "To apply statistics on a sliding (or rolling) window, we can use the rolling() function of a data frame. In the example below, we roll with a window size of 4 elements to apply a skew()"
   ]
  },
  {
   "cell_type": "code",
   "execution_count": null,
   "metadata": {},
   "outputs": [],
   "source": [
    "rolling2s = data_frame.rolling('2s').std()\n",
    "plt.plot(rolling2s)\n",
    "plt.show()"
   ]
  },
  {
   "cell_type": "code",
   "execution_count": null,
   "metadata": {},
   "outputs": [],
   "source": [
    "rolling100_data_points = data_frame.rolling(100).skew()\n",
    "plt.plot(rolling100_data_points)\n",
    "plt.show()"
   ]
  },
  {
   "cell_type": "markdown",
   "metadata": {},
   "source": [
    "# Zero Crossing"
   ]
  },
  {
   "cell_type": "code",
   "execution_count": null,
   "metadata": {},
   "outputs": [],
   "source": [
    "plt.hist(np.where(np.diff(np.sign(data[:,1]))))\n",
    "plt.show()"
   ]
  },
  {
   "cell_type": "markdown",
   "metadata": {},
   "source": [
    "https://docs.scipy.org/doc/scipy/reference/stats.html#discrete-distributions"
   ]
  }
 ],
 "metadata": {
  "kernelspec": {
   "display_name": "Python 3",
   "language": "python",
   "name": "python3"
  },
  "language_info": {
   "codemirror_mode": {
    "name": "ipython",
    "version": 3
   },
   "file_extension": ".py",
   "mimetype": "text/x-python",
   "name": "python",
   "nbconvert_exporter": "python",
   "pygments_lexer": "ipython3",
   "version": "3.7.4"
  },
  "pycharm": {
   "stem_cell": {
    "cell_type": "raw",
    "metadata": {
     "collapsed": false
    },
    "source": []
   }
  }
 },
 "nbformat": 4,
 "nbformat_minor": 2
}
