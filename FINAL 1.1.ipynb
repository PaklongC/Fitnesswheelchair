{
 "cells": [
  {
   "cell_type": "code",
   "execution_count": 19,
   "metadata": {
    "extensions": {
     "jupyter_dashboards": {
      "version": 1,
      "views": {
       "grid_default": {
        "col": 0,
        "height": 40,
        "hidden": true,
        "row": 26,
        "width": 4
       },
       "report_default": {}
      }
     }
    }
   },
   "outputs": [
    {
     "name": "stderr",
     "output_type": "stream",
     "text": [
      "DEBUG:urllib3.connectionpool:Starting new HTTP connection (1): 145.94.228.143:5000\n",
      "DEBUG:urllib3.connectionpool:http://145.94.228.143:5000 \"GET /getIndex HTTP/1.1\" 200 5238\n"
     ]
    },
    {
     "name": "stdout",
     "output_type": "stream",
     "text": [
      "[['name', 'avg_velocity', 'target_velocity', 'start_time', 'end_time', 'distance', 'target_distance'], ['workout_03_11_165537.csv', '0.0', '3', '1572800125.7318444', '1572800137.8819861', '0.0', '1000', '2019-11-03 16:55:25', '2019-11-03 16:55:37'], ['workout_03_11_170135.csv', '0.0', '3', '1572800492.5053627', '1572800495.9321349', '0.0', '1000', '2019-11-03 17:01:32', '2019-11-03 17:01:35'], ['workout_03_11_170703.csv', '0.0', '3', '1572800818.8495665', '1572800823.188799', '0.0', '1000', '2019-11-03 17:06:58', '2019-11-03 17:07:03'], ['workout_03_11_171701.csv', '0.0', '3', '1572801403.829611', '1572801421.222805', '0.0', '1000', '2019-11-03 17:16:43', '2019-11-03 17:17:01'], ['workout_03_11_182622.csv', '0.4', '3', '1572805566.6590314', '1572805582.2528436', '6.9799999999999995', '1000', '2019-11-03 18:26:06', '2019-11-03 18:26:22'], ['workout_03_11_192255.csv', '0.0', '3', '1572808949.8025696', '1572808975.8104076', '0.0', '1000', '2019-11-03 19:22:29', '2019-11-03 19:22:55'], ['workout_03_11_192405.csv', '0.4', '3', '1572809014.6165462', '1572809045.5995398', '13.54', '1000', '2019-11-03 19:23:34', '2019-11-03 19:24:05'], ['workout_03_11_192636.csv', '0.1', '3', '1572809014.6165462', '1572809196.7327778', '13.54', '1000', '2019-11-03 19:23:34', '2019-11-03 19:26:36'], ['workout_03_11_192751.csv', '0.0', '3', '1572809223.1796658', '1572809271.0064495', '0.0', '1000', '2019-11-03 19:27:03', '2019-11-03 19:27:51'], ['workout_03_11_193014.csv', '0.0', '3', '1572809223.1796658', '1572809414.5373406', '0.0', '1000', '2019-11-03 19:27:03', '2019-11-03 19:30:14'], ['workout_03_11_193036.csv', '0.0', '3', '1572809223.1796658', '1572809436.0973508', '0.0', '1000', '2019-11-03 19:27:03', '2019-11-03 19:30:36'], ['workout_03_11_193252.csv', '0.0', '3', '1572809463.8804374', '1572809572.159909', '0.0', '1000', '2019-11-03 19:31:03', '2019-11-03 19:32:52'], ['workout_03_11_193334.csv', '0.0', '3', '1572809609.532083', '1572809614.4684641', '0.0', '1000', '2019-11-03 19:33:29', '2019-11-03 19:33:34'], ['workout_04_11_082858.csv', '0.0', '3', '1572856137.1611845', '1572856138.7260706', '0.0', '1000', '2019-11-04 08:28:57', '2019-11-04 08:28:58'], ['workout_04_11_085149.csv', '0.4', '3', '1572857478.1899025', '1572857508.9354577', '11.24', '1000', '2019-11-04 09:51:18', '2019-11-04 09:51:48'], ['workout_04_11_093103.csv', '0.0', '3', '1572859861.9328234', '1572859863.252351', '0.0', '1000', '2019-11-04 10:31:01', '2019-11-04 10:31:03'], ['workout_04_11_093528.csv', '1.2', '3', '1572860115.39976', '1572860128.3067887', '15.730000000000002', '1000', '2019-11-04 10:35:15', '2019-11-04 10:35:28'], ['workout_04_11_094135.csv', '0.0', '3', '1572860488.078026', '1572860495.6050253', '0.0', '1000', '2019-11-04 10:41:28', '2019-11-04 10:41:35'], ['workout_04_11_094435.csv', '0.3', '3', '1572860655.5697453', '1572860675.3045757', '6.0', '1000', '2019-11-04 10:44:15', '2019-11-04 10:44:35'], ['workout_04_11_095054.csv', '0.0', '3', '1572861046.168389', '1572861054.7191095', '0.0', '1000', '2019-11-04 10:50:46', '2019-11-04 10:50:54'], ['workout_04_11_102230.csv', '0.0', '3', '1572862932.1866846', '1572862950.557111', '0.0', '1000', '2019-11-04 11:22:12', '2019-11-04 11:22:30'], ['workout_04_11_102548.csv', '0.6', '3', '1572863086.5196588', '1572863148.7923863', '35.330000000000005', '1000', '2019-11-04 11:24:46', '2019-11-04 11:25:48'], ['workout_04_11_102805.csv', '0.3', '3', '1572863258.2492661', '1572863284.9943357', '9.329999999999998', '1000', '2019-11-04 11:27:38', '2019-11-04 11:28:04'], ['workout_04_11_103240.csv', '1.1', '3', '1572863535.53601', '1572863560.544059', '28.640000000000008', '1000', '2019-11-04 11:32:15', '2019-11-04 11:32:40'], ['workout_04_11_103701.csv', '0.0', '3', '1572863773.8364148', '1572863820.9618394', '0.5', '1000', '2019-11-04 11:36:13', '2019-11-04 11:37:00'], ['workout_04_11_104704.csv', '0.2', '3', '1572864402.0529463', '1572864424.6924515', '3.81', '1000', '2019-11-04 11:46:42', '2019-11-04 11:47:04'], ['workout_04_11_105122.csv', '0.3', '3', '1572864639.721336', '1572864682.2311747', '11.039999999999992', '1000', '2019-11-04 11:50:39', '2019-11-04 11:51:22'], ['workout_04_11_105613.csv', '0.0', '3', '1572864839.7862513', '1572864973.2782393', '0.28000000000000014', '1000', '2019-11-04 11:53:59', '2019-11-04 11:56:13'], ['workout_04_11_120858.csv', '0.0', '3', '1572869296.9524314', '1572869338.6397257', '0.0', '1000', '2019-11-04 13:08:16', '2019-11-04 13:08:58'], ['workout_04_11_121735.csv', '0.0', '3', '1572869847.0526793', '1572869855.3190768', '0.0', '1000', '2019-11-04 13:17:27', '2019-11-04 13:17:35'], ['workout_04_11_121838.csv', '0.6', '3', '1572869882.97099', '1572869918.7322476', '20.589999999999996', '1000', '2019-11-04 13:18:02', '2019-11-04 13:18:38'], ['workout_04_11_122043.csv', '0.1', '3', '1572869882.97099', '1572870043.8305652', '20.589999999999996', '1000', '2019-11-04 13:18:02', '2019-11-04 13:20:43'], ['workout_04_11_122318.csv', '0.0', '3', '1572870172.1080296', '1572870198.317401', '0.04', '1000', '2019-11-04 13:22:52', '2019-11-04 13:23:18'], ['workout_04_11_122659.csv', '0.2', '3', '1572870282.4844193', '1572870418.9735608', '22.830000000000013', '1000', '2019-11-04 13:24:42', '2019-11-04 13:26:58']]\n"
     ]
    }
   ],
   "source": [
    "# Get data index from Pi-Server\n",
    "\n",
    "import requests\n",
    "\n",
    "URL= \"http://145.94.228.143:5000/getIndex\"\n",
    "r = requests.get(url=URL)\n",
    "data= r.json()\n",
    "print(data)"
   ]
  },
  {
   "cell_type": "code",
   "execution_count": null,
   "metadata": {
    "extensions": {
     "jupyter_dashboards": {
      "version": 1,
      "views": {
       "grid_default": {
        "hidden": true
       },
       "report_default": {}
      }
     }
    }
   },
   "outputs": [],
   "source": []
  },
  {
   "cell_type": "code",
   "execution_count": 20,
   "metadata": {
    "extensions": {
     "jupyter_dashboards": {
      "version": 1,
      "views": {
       "grid_default": {
        "col": 0,
        "height": 12,
        "hidden": true,
        "row": 0,
        "width": 4
       },
       "report_default": {}
      }
     }
    }
   },
   "outputs": [
    {
     "name": "stderr",
     "output_type": "stream",
     "text": [
      "INFO:dcd:things:wheelchair_speed-e706:Initialising MQTT connection for Thing 'dcd:things:wheelchair_speed-e706'\n",
      "DEBUG:urllib3.connectionpool:Starting new HTTPS connection (1): dwd.tudelft.nl:443\n",
      "INFO:dcd:things:wheelchair_speed-e706:Connection successful\n",
      "DEBUG:urllib3.connectionpool:https://dwd.tudelft.nl:443 \"GET /api/things/dcd:things:wheelchair_speed-e706 HTTP/1.1\" 200 6724\n"
     ]
    },
    {
     "name": "stdout",
     "output_type": "stream",
     "text": [
      "DigiCertCA.crt exist.\n",
      "{'thing': {'id': 'dcd:things:wheelchair_speed-e706', 'name': 'Wheelchair_speed', 'description': '', 'type': 'Speed', 'properties': [{'type': 'THREE_DIMENSIONS', 'name': 'My Random Property', 'description': '', 'dimensions': [{'name': 'Value1', 'description': '', 'unit': ''}, {'name': 'Value2', 'description': '', 'unit': ''}, {'name': 'Value3', 'description': '', 'unit': ''}, {'name': 'Value1', 'description': '', 'unit': ''}, {'name': 'Value2', 'description': '', 'unit': ''}, {'name': 'Value3', 'description': '', 'unit': ''}], 'id': 'my-random-property-5f3c', 'classes': [], 'values': [], 'entityId': 'dcd:things:wheelchair_speed-e706', 'readAt': 1572870617397, 'registeredAt': 1571392699000}, {'type': 'ONE_DIMENSION', 'name': 'one', 'description': '', 'dimensions': [{'name': 'Value', 'description': '', 'unit': ''}], 'id': 'one-28d7', 'classes': [], 'values': [], 'entityId': 'dcd:things:wheelchair_speed-e706', 'readAt': 1572870617397, 'registeredAt': 1571994791000}, {'type': 'THREE_DIMENSIONS', 'name': 'RANDOM SHIT', 'description': '', 'dimensions': [{'name': 'Value1', 'description': '', 'unit': ''}, {'name': 'Value2', 'description': '', 'unit': ''}, {'name': 'Value3', 'description': '', 'unit': ''}, {'name': 'Value1', 'description': '', 'unit': ''}, {'name': 'Value2', 'description': '', 'unit': ''}, {'name': 'Value3', 'description': '', 'unit': ''}], 'id': 'random-shit-aa03', 'classes': [], 'values': [], 'entityId': 'dcd:things:wheelchair_speed-e706', 'readAt': 1572870617397, 'registeredAt': 1571994791000}, {'type': 'TWO_DIMENSIONS', 'name': 'Rotation', 'description': '', 'dimensions': [{'name': 'Value1', 'description': '', 'unit': ''}, {'name': 'Value2', 'description': '', 'unit': ''}, {'name': 'Value1', 'description': '', 'unit': ''}, {'name': 'Value2', 'description': '', 'unit': ''}], 'id': 'rotation-7ecd', 'classes': [], 'values': [], 'entityId': 'dcd:things:wheelchair_speed-e706', 'readAt': 1572870617397, 'registeredAt': 1571753516000}, {'type': 'ONE_DIMENSION', 'name': 'Speed', 'description': '', 'dimensions': [{'name': 'Value', 'description': '', 'unit': ''}], 'id': 'speed-83ac', 'classes': [], 'values': [], 'entityId': 'dcd:things:wheelchair_speed-e706', 'readAt': 1572870617397, 'registeredAt': 1571753522000}, {'type': 'THREE_DIMENSIONS', 'name': 'three', 'description': '', 'dimensions': [{'name': 'Value1', 'description': '', 'unit': ''}, {'name': 'Value2', 'description': '', 'unit': ''}, {'name': 'Value3', 'description': '', 'unit': ''}, {'name': 'Value1', 'description': '', 'unit': ''}, {'name': 'Value2', 'description': '', 'unit': ''}, {'name': 'Value3', 'description': '', 'unit': ''}], 'id': 'three-ad01', 'classes': [], 'values': [], 'entityId': 'dcd:things:wheelchair_speed-e706', 'readAt': 1572870617397, 'registeredAt': 1571994791000}, {'type': 'TWO_DIMENSIONS', 'name': 'two', 'description': '', 'dimensions': [{'name': 'Value1', 'description': '', 'unit': ''}, {'name': 'Value2', 'description': '', 'unit': ''}, {'name': 'Value1', 'description': '', 'unit': ''}, {'name': 'Value2', 'description': '', 'unit': ''}], 'id': 'two-4069', 'classes': [], 'values': [], 'entityId': 'dcd:things:wheelchair_speed-e706', 'readAt': 1572870617397, 'registeredAt': 1571994791000}, {'type': 'THREE_DIMENSIONS', 'name': 'Wheelchair Speed', 'description': '', 'dimensions': [{'name': 'Value1', 'description': '', 'unit': ''}, {'name': 'Value2', 'description': '', 'unit': ''}, {'name': 'Value3', 'description': '', 'unit': ''}, {'name': 'Value1', 'description': '', 'unit': ''}, {'name': 'Value2', 'description': '', 'unit': ''}, {'name': 'Value3', 'description': '', 'unit': ''}], 'id': 'wheelchair-speed-0933', 'classes': [], 'values': [], 'entityId': 'dcd:things:wheelchair_speed-e706', 'readAt': 1572870617397, 'registeredAt': 1571753506000}], 'registeredAt': '2019-10-18T09:54:38.000Z', 'readAt': 1572870617393, 'keys': {}}}\n"
     ]
    },
    {
     "data": {
      "text/plain": [
       "{'id': 'dcd:things:wheelchair_speed-e706',\n",
       " 'name': 'Wheelchair_speed',\n",
       " 'description': '',\n",
       " 'type': 'Speed',\n",
       " 'properties': [{'id': 'my-random-property-5f3c',\n",
       "   'name': 'My Random Property',\n",
       "   'description': '',\n",
       "   'type': 'THREE_DIMENSIONS',\n",
       "   'dimensions': [{'name': 'Value1', 'description': '', 'unit': ''},\n",
       "    {'name': 'Value2', 'description': '', 'unit': ''},\n",
       "    {'name': 'Value3', 'description': '', 'unit': ''},\n",
       "    {'name': 'Value1', 'description': '', 'unit': ''},\n",
       "    {'name': 'Value2', 'description': '', 'unit': ''},\n",
       "    {'name': 'Value3', 'description': '', 'unit': ''}]},\n",
       "  {'id': 'one-28d7',\n",
       "   'name': 'one',\n",
       "   'description': '',\n",
       "   'type': 'ONE_DIMENSION',\n",
       "   'dimensions': [{'name': 'Value', 'description': '', 'unit': ''}]},\n",
       "  {'id': 'random-shit-aa03',\n",
       "   'name': 'RANDOM SHIT',\n",
       "   'description': '',\n",
       "   'type': 'THREE_DIMENSIONS',\n",
       "   'dimensions': [{'name': 'Value1', 'description': '', 'unit': ''},\n",
       "    {'name': 'Value2', 'description': '', 'unit': ''},\n",
       "    {'name': 'Value3', 'description': '', 'unit': ''},\n",
       "    {'name': 'Value1', 'description': '', 'unit': ''},\n",
       "    {'name': 'Value2', 'description': '', 'unit': ''},\n",
       "    {'name': 'Value3', 'description': '', 'unit': ''}]},\n",
       "  {'id': 'rotation-7ecd',\n",
       "   'name': 'Rotation',\n",
       "   'description': '',\n",
       "   'type': 'TWO_DIMENSIONS',\n",
       "   'dimensions': [{'name': 'Value1', 'description': '', 'unit': ''},\n",
       "    {'name': 'Value2', 'description': '', 'unit': ''},\n",
       "    {'name': 'Value1', 'description': '', 'unit': ''},\n",
       "    {'name': 'Value2', 'description': '', 'unit': ''}]},\n",
       "  {'id': 'speed-83ac',\n",
       "   'name': 'Speed',\n",
       "   'description': '',\n",
       "   'type': 'ONE_DIMENSION',\n",
       "   'dimensions': [{'name': 'Value', 'description': '', 'unit': ''}]},\n",
       "  {'id': 'three-ad01',\n",
       "   'name': 'three',\n",
       "   'description': '',\n",
       "   'type': 'THREE_DIMENSIONS',\n",
       "   'dimensions': [{'name': 'Value1', 'description': '', 'unit': ''},\n",
       "    {'name': 'Value2', 'description': '', 'unit': ''},\n",
       "    {'name': 'Value3', 'description': '', 'unit': ''},\n",
       "    {'name': 'Value1', 'description': '', 'unit': ''},\n",
       "    {'name': 'Value2', 'description': '', 'unit': ''},\n",
       "    {'name': 'Value3', 'description': '', 'unit': ''}]},\n",
       "  {'id': 'two-4069',\n",
       "   'name': 'two',\n",
       "   'description': '',\n",
       "   'type': 'TWO_DIMENSIONS',\n",
       "   'dimensions': [{'name': 'Value1', 'description': '', 'unit': ''},\n",
       "    {'name': 'Value2', 'description': '', 'unit': ''},\n",
       "    {'name': 'Value1', 'description': '', 'unit': ''},\n",
       "    {'name': 'Value2', 'description': '', 'unit': ''}]},\n",
       "  {'id': 'wheelchair-speed-0933',\n",
       "   'name': 'Wheelchair Speed',\n",
       "   'description': '',\n",
       "   'type': 'THREE_DIMENSIONS',\n",
       "   'dimensions': [{'name': 'Value1', 'description': '', 'unit': ''},\n",
       "    {'name': 'Value2', 'description': '', 'unit': ''},\n",
       "    {'name': 'Value3', 'description': '', 'unit': ''},\n",
       "    {'name': 'Value1', 'description': '', 'unit': ''},\n",
       "    {'name': 'Value2', 'description': '', 'unit': ''},\n",
       "    {'name': 'Value3', 'description': '', 'unit': ''}]}]}"
      ]
     },
     "execution_count": 20,
     "metadata": {},
     "output_type": "execute_result"
    }
   ],
   "source": [
    "# Connect to DCD Hub\n",
    "\n",
    "from dcd.entities.thing import Thing\n",
    "from dotenv import load_dotenv\n",
    "import os\n",
    "\n",
    "load_dotenv()\n",
    "\n",
    "THING_ID = os.environ['THING_ID']\n",
    "THING_TOKEN = os.environ['THING_TOKEN']\n",
    "my_thing = Thing(thing_id=THING_ID, token=THING_TOKEN)\n",
    "\n",
    "my_thing.read()\n",
    "my_thing.to_json()"
   ]
  },
  {
   "cell_type": "code",
   "execution_count": 21,
   "metadata": {
    "extensions": {
     "jupyter_dashboards": {
      "version": 1,
      "views": {
       "grid_default": {
        "hidden": true
       },
       "report_default": {}
      }
     }
    }
   },
   "outputs": [
    {
     "name": "stderr",
     "output_type": "stream",
     "text": [
      "DEBUG:urllib3.connectionpool:Starting new HTTPS connection (1): dwd.tudelft.nl:443\n"
     ]
    },
    {
     "name": "stdout",
     "output_type": "stream",
     "text": [
      "2019-11-04 13:24:42\n",
      "2019-11-04 13:26:58\n"
     ]
    },
    {
     "name": "stderr",
     "output_type": "stream",
     "text": [
      "DEBUG:urllib3.connectionpool:https://dwd.tudelft.nl:443 \"GET /api/things/dcd:things:wheelchair_speed-e706/properties/speed-83ac?from=1572870282000.0&to=1572870418000.0 HTTP/1.1\" 200 17879\n"
     ]
    }
   ],
   "source": [
    "# Declare timeframe to collect data in\n",
    "\n",
    "from datetime import datetime, timedelta\n",
    "\n",
    "start_time = data[-1][-2]\n",
    "end_time = data[-1][-1]\n",
    "\n",
    "DATE_FORMAT = '%Y-%m-%d %H:%M:%S'\n",
    "from_ts = datetime.timestamp(datetime.strptime(start_time, DATE_FORMAT)) * 1000\n",
    "to_ts = datetime.timestamp(datetime.strptime(end_time, DATE_FORMAT)) * 1000\n",
    "\n",
    "PROPERTY_NAME = \"Speed\"\n",
    "\n",
    "my_property = my_thing.find_property_by_name(PROPERTY_NAME)\n",
    "my_property.read(from_ts, to_ts)"
   ]
  },
  {
   "cell_type": "code",
   "execution_count": 22,
   "metadata": {
    "extensions": {
     "jupyter_dashboards": {
      "version": 1,
      "views": {
       "grid_default": {
        "col": 4,
        "height": 4,
        "hidden": true,
        "row": 0,
        "width": 4
       },
       "report_default": {}
      }
     }
    }
   },
   "outputs": [
    {
     "name": "stdout",
     "output_type": "stream",
     "text": [
      "327\n"
     ]
    },
    {
     "data": {
      "text/plain": [
       "[[1572870282682, 2.088],\n",
       " [1572870283115, 1.656],\n",
       " [1572870283505, -0.288],\n",
       " [1572870283944, 0.108],\n",
       " [1572870284338, 0.036],\n",
       " [1572870284774, 0.936],\n",
       " [1572870285163, 1.476],\n",
       " [1572870285651, 1.368],\n",
       " [1572870285993, 1.332],\n",
       " [1572870286431, 1.728],\n",
       " [1572870286821, 1.116],\n",
       " [1572870287309, -0.36],\n",
       " [1572870287650, -1.368],\n",
       " [1572870288088, -1.188],\n",
       " [1572870288477, -0.216],\n",
       " [1572870288917, 0.9],\n",
       " [1572870289405, 1.152],\n",
       " [1572870289746, 0.936],\n",
       " [1572870290380, 0.828],\n",
       " [1572870290574, 0.756],\n",
       " [1572870290963, 1.332],\n",
       " [1572870291451, 0.756],\n",
       " [1572870291793, 0.288],\n",
       " [1572870292232, 0.756],\n",
       " [1572870292621, 1.404],\n",
       " [1572870293060, 1.332],\n",
       " [1572870293451, 1.224],\n",
       " [1572870293890, 1.584],\n",
       " [1572870294377, 1.152],\n",
       " [1572870294767, 0.864],\n",
       " [1572870295109, 0.468],\n",
       " [1572870295546, -0.504],\n",
       " [1572870295985, -0.144],\n",
       " [1572870296376, 0.9],\n",
       " [1572870296766, 1.584],\n",
       " [1572870297204, 1.728],\n",
       " [1572870297594, 2.232],\n",
       " [1572870298033, 2.088],\n",
       " [1572870298423, 2.52],\n",
       " [1572870298960, 2.016],\n",
       " [1572870299252, 2.196],\n",
       " [1572870299790, 1.944],\n",
       " [1572870300080, 2.088],\n",
       " [1572870300520, 1.8],\n",
       " [1572870300957, 1.8],\n",
       " [1572870301396, 1.692],\n",
       " [1572870301935, 1.908],\n",
       " [1572870302226, 1.44],\n",
       " [1572870302569, -0.324],\n",
       " [1572870302959, -0.216],\n",
       " [1572870303399, 0.468],\n",
       " [1572870303785, 1.728],\n",
       " [1572870304225, 1.512],\n",
       " [1572870304614, 1.26],\n",
       " [1572870305052, 0.972],\n",
       " [1572870305443, 0.072],\n",
       " [1572870305882, 0.792],\n",
       " [1572870306320, 0.792],\n",
       " [1572870306710, 1.044],\n",
       " [1572870307100, 1.152],\n",
       " [1572870307539, 2.268],\n",
       " [1572870307929, 2.232],\n",
       " [1572870308376, 2.7],\n",
       " [1572870308758, 2.556],\n",
       " [1572870309216, 2.448],\n",
       " [1572870309589, 1.836],\n",
       " [1572870310025, 2.412],\n",
       " [1572870310414, 1.26],\n",
       " [1572870310854, 0.576],\n",
       " [1572870311246, 0.756],\n",
       " [1572870311684, 1.872],\n",
       " [1572870312073, 1.656],\n",
       " [1572870312513, 1.152],\n",
       " [1572870312903, 0.432],\n",
       " [1572870313342, 0.504],\n",
       " [1572870313730, 1.332],\n",
       " [1572870314168, 1.224],\n",
       " [1572870314558, 2.304],\n",
       " [1572870315046, 2.34],\n",
       " [1572870315387, 2.628],\n",
       " [1572870315826, 2.556],\n",
       " [1572870316217, 2.592],\n",
       " [1572870316656, 2.34],\n",
       " [1572870317046, 1.944],\n",
       " [1572870317484, 2.088],\n",
       " [1572870317874, 2.52],\n",
       " [1572870318314, 2.088],\n",
       " [1572870318703, 2.34],\n",
       " [1572870319141, 1.656],\n",
       " [1572870319531, 0.72],\n",
       " [1572870319971, -0.072],\n",
       " [1572870320361, 0],\n",
       " [1572870320798, 1.26],\n",
       " [1572870321190, 1.908],\n",
       " [1572870321627, 1.728],\n",
       " [1572870322017, 2.124],\n",
       " [1572870322456, 2.088],\n",
       " [1572870322846, 2.628],\n",
       " [1572870323285, 2.376],\n",
       " [1572870323676, 0.216],\n",
       " [1572870324113, -1.26],\n",
       " [1572870324505, -0.828],\n",
       " [1572870324943, 0.108],\n",
       " [1572870325333, 0.144],\n",
       " [1572870325771, 0.036],\n",
       " [1572870326161, 0.468],\n",
       " [1572870326651, 0.396],\n",
       " [1572870326992, 0.252],\n",
       " [1572870327430, 0.18],\n",
       " [1572870327820, -0.036],\n",
       " [1572870328259, -0.18],\n",
       " [1572870328648, -0.036],\n",
       " [1572870329086, 0.108],\n",
       " [1572870329476, 0.036],\n",
       " [1572870329914, 0.396],\n",
       " [1572870330305, 0.828],\n",
       " [1572870330744, 0.72],\n",
       " [1572870331133, 0.432],\n",
       " [1572870331572, 0.9],\n",
       " [1572870331962, 1.296],\n",
       " [1572870332401, 1.044],\n",
       " [1572870332791, 1.188],\n",
       " [1572870333230, 1.332],\n",
       " [1572870333620, 1.08],\n",
       " [1572870334058, 1.764],\n",
       " [1572870334448, 1.728],\n",
       " [1572870334887, 2.376],\n",
       " [1572870335277, 2.556],\n",
       " [1572870335667, 2.196],\n",
       " [1572870336106, 1.872],\n",
       " [1572870336496, 1.872],\n",
       " [1572870336935, 2.268],\n",
       " [1572870337374, 2.016],\n",
       " [1572870337764, 2.304],\n",
       " [1572870338154, 2.52],\n",
       " [1572870338594, 2.664],\n",
       " [1572870338985, 2.52],\n",
       " [1572870339423, 2.448],\n",
       " [1572870339813, 2.232],\n",
       " [1572870340251, 2.268],\n",
       " [1572870340692, 1.656],\n",
       " [1572870341080, -0.252],\n",
       " [1572870341568, 0.144],\n",
       " [1572870342005, 0.972],\n",
       " [1572870342298, 1.764],\n",
       " [1572870342735, 1.656],\n",
       " [1572870343126, 0.54],\n",
       " [1572870343565, 0.9],\n",
       " [1572870343955, 1.296],\n",
       " [1572870344394, 1.44],\n",
       " [1572870344833, 1.8],\n",
       " [1572870345222, 0.9],\n",
       " [1572870345613, 1.404],\n",
       " [1572870346105, 1.8],\n",
       " [1572870346442, 1.26],\n",
       " [1572870346885, 0.54],\n",
       " [1572870347271, 0.756],\n",
       " [1572870347758, 0.828],\n",
       " [1572870348099, 1.08],\n",
       " [1572870348538, 1.008],\n",
       " [1572870348929, 1.944],\n",
       " [1572870349367, 2.34],\n",
       " [1572870349756, 2.376],\n",
       " [1572870350195, 2.448],\n",
       " [1572870350585, 1.8],\n",
       " [1572870351023, 1.836],\n",
       " [1572870351413, 1.404],\n",
       " [1572870351852, 1.656],\n",
       " [1572870352246, 1.368],\n",
       " [1572870352731, 1.656],\n",
       " [1572870353072, 0.468],\n",
       " [1572870353511, 0.9],\n",
       " [1572870353900, 1.152],\n",
       " [1572870354340, 0.828],\n",
       " [1572870354730, 0.648],\n",
       " [1572870355265, 0.288],\n",
       " [1572870355558, 0.072],\n",
       " [1572870356046, 0.252],\n",
       " [1572870356387, 0.972],\n",
       " [1572870356825, 1.584],\n",
       " [1572870357264, 1.152],\n",
       " [1572870357654, 1.404],\n",
       " [1572870358044, 1.8],\n",
       " [1572870358483, 1.296],\n",
       " [1572870358923, 1.692],\n",
       " [1572870359322, 1.62],\n",
       " [1572870359704, 1.62],\n",
       " [1572870360140, 2.196],\n",
       " [1572870360530, 1.008],\n",
       " [1572870360921, 0.108],\n",
       " [1572870361365, -0.288],\n",
       " [1572870361749, -0.036],\n",
       " [1572870362189, 0.036],\n",
       " [1572870362578, -0.036],\n",
       " [1572870363016, 0],\n",
       " [1572870363406, 0],\n",
       " [1572870363845, 0.036],\n",
       " [1572870364235, 0],\n",
       " [1572870364674, 0.252],\n",
       " [1572870365066, 0.9],\n",
       " [1572870365503, 1.152],\n",
       " [1572870365893, 0.936],\n",
       " [1572870366333, 0.792],\n",
       " [1572870366723, 1.548],\n",
       " [1572870367162, 1.224],\n",
       " [1572870367551, 1.296],\n",
       " [1572870367989, 1.764],\n",
       " [1572870368390, 1.296],\n",
       " [1572870368817, 1.332],\n",
       " [1572870369207, 1.008],\n",
       " [1572870369646, 1.152],\n",
       " [1572870370036, 1.764],\n",
       " [1572870370475, 1.476],\n",
       " [1572870370864, 2.052],\n",
       " [1572870371303, 1.728],\n",
       " [1572870371694, 2.376],\n",
       " [1572870372133, 2.556],\n",
       " [1572870372523, 2.484],\n",
       " [1572870372962, 2.484],\n",
       " [1572870373351, 2.268],\n",
       " [1572870373790, 2.016],\n",
       " [1572870374180, 1.656],\n",
       " [1572870374619, 1.62],\n",
       " [1572870375010, 2.376],\n",
       " [1572870375447, 2.016],\n",
       " [1572870375839, 2.916],\n",
       " [1572870376276, 1.908],\n",
       " [1572870376666, 2.016],\n",
       " [1572870377105, 1.98],\n",
       " [1572870377495, 3.06],\n",
       " [1572870377934, 2.628],\n",
       " [1572870378325, 2.412],\n",
       " [1572870378763, 2.484],\n",
       " [1572870379152, 1.872],\n",
       " [1572870379592, 1.764],\n",
       " [1572870379981, 1.692],\n",
       " [1572870380420, 1.764],\n",
       " [1572870380810, 1.728],\n",
       " [1572870381249, 1.44],\n",
       " [1572870381638, 1.728],\n",
       " [1572870382077, 1.512],\n",
       " [1572870382468, 1.548],\n",
       " [1572870382906, 1.296],\n",
       " [1572870383296, 1.224],\n",
       " [1572870383735, 1.656],\n",
       " [1572870384125, 1.512],\n",
       " [1572870384564, 1.62],\n",
       " [1572870384954, 1.764],\n",
       " [1572870385393, 1.836],\n",
       " [1572870385783, 1.908],\n",
       " [1572870386221, 2.052],\n",
       " [1572870386612, 1.548],\n",
       " [1572870387051, 1.584],\n",
       " [1572870387441, 1.692],\n",
       " [1572870387879, 1.656],\n",
       " [1572870388269, 2.016],\n",
       " [1572870388707, 2.16],\n",
       " [1572870389097, 2.232],\n",
       " [1572870389536, 2.016],\n",
       " [1572870389926, 2.016],\n",
       " [1572870390365, 2.232],\n",
       " [1572870390755, 2.34],\n",
       " [1572870391194, 2.736],\n",
       " [1572870391584, 2.34],\n",
       " [1572870392022, 2.16],\n",
       " [1572870392412, 2.016],\n",
       " [1572870392852, 1.692],\n",
       " [1572870393243, 1.98],\n",
       " [1572870393680, 1.512],\n",
       " [1572870394070, 1.584],\n",
       " [1572870394509, 1.332],\n",
       " [1572870394898, 1.368],\n",
       " [1572870395337, 1.188],\n",
       " [1572870395727, 1.656],\n",
       " [1572870396166, 2.484],\n",
       " [1572870396557, 2.196],\n",
       " [1572870396995, 2.196],\n",
       " [1572870397386, 2.16],\n",
       " [1572870397775, 2.124],\n",
       " [1572870398214, 1.872],\n",
       " [1572870398604, 1.728],\n",
       " [1572870399043, 1.944],\n",
       " [1572870399432, 1.404],\n",
       " [1572870399871, 1.008],\n",
       " [1572870400262, 0.864],\n",
       " [1572870400700, 1.152],\n",
       " [1572870401090, 1.08],\n",
       " [1572870401529, 1.116],\n",
       " [1572870401919, 0.54],\n",
       " [1572870402358, -0.036],\n",
       " [1572870402747, 0.108],\n",
       " [1572870403186, 0.036],\n",
       " [1572870403580, 0.072],\n",
       " [1572870404020, 0.036],\n",
       " [1572870404409, 0],\n",
       " [1572870404845, 0],\n",
       " [1572870405236, 0],\n",
       " [1572870405673, 0],\n",
       " [1572870406063, 0],\n",
       " [1572870406503, -0.036],\n",
       " [1572870406892, 0.036],\n",
       " [1572870407331, 0.18],\n",
       " [1572870407722, -0.144],\n",
       " [1572870408161, -0.072],\n",
       " [1572870408550, 0.036],\n",
       " [1572870408989, 0.036],\n",
       " [1572870409396, 0.036],\n",
       " [1572870409815, -0.036],\n",
       " [1572870410207, -0.036],\n",
       " [1572870410645, 0],\n",
       " [1572870411035, 0],\n",
       " [1572870411473, -0.072],\n",
       " [1572870411864, -0.036],\n",
       " [1572870412302, 0],\n",
       " [1572870412692, 0.108],\n",
       " [1572870413131, -0.036],\n",
       " [1572870413521, -0.036],\n",
       " [1572870413960, 0.036],\n",
       " [1572870414350, -0.036],\n",
       " [1572870414790, 0],\n",
       " [1572870415179, 0.036],\n",
       " [1572870415619, -0.036],\n",
       " [1572870416008, 0],\n",
       " [1572870416447, -0.036],\n",
       " [1572870416845, 0],\n",
       " [1572870417276, 0],\n",
       " [1572870417667, 0]]"
      ]
     },
     "execution_count": 22,
     "metadata": {},
     "output_type": "execute_result"
    }
   ],
   "source": [
    "print(len(my_property.values))\n",
    "my_property.values"
   ]
  },
  {
   "cell_type": "code",
   "execution_count": 23,
   "metadata": {
    "extensions": {
     "jupyter_dashboards": {
      "version": 1,
      "views": {
       "grid_default": {
        "col": 8,
        "height": 12,
        "hidden": true,
        "row": 0,
        "width": 4
       },
       "report_default": {}
      }
     }
    }
   },
   "outputs": [],
   "source": [
    "# Create CSV file from data \n",
    "import pandas as pd\n",
    "\n",
    "data2 = my_property.values\n",
    "df = pd.DataFrame(my_property.values, columns = ['time', 'velocity'])\n",
    "df.to_csv(data[-1][0])\n",
    "name = data[-1][0]\n"
   ]
  },
  {
   "cell_type": "code",
   "execution_count": 24,
   "metadata": {
    "extensions": {
     "jupyter_dashboards": {
      "version": 1,
      "views": {
       "grid_default": {
        "hidden": true
       },
       "report_default": {}
      }
     }
    }
   },
   "outputs": [],
   "source": [
    "# Update Rootfolder.csv\n",
    "df_root = pd.read_csv('Rootfolder.csv')\n",
    "newdf_root = pd.DataFrame({'filename' : [name]})\n",
    "UPDATE=df_root.append(newdf_root, ignore_index=True)\n",
    "UPDATE.to_csv('Rootfolder.csv', index=False)\n"
   ]
  },
  {
   "cell_type": "markdown",
   "metadata": {
    "extensions": {
     "jupyter_dashboards": {
      "version": 1,
      "views": {
       "grid_default": {
        "col": null,
        "height": 2,
        "hidden": true,
        "row": 26,
        "width": null
       },
       "report_default": {}
      }
     }
    }
   },
   "source": [
    "# Choose a workout to visualize"
   ]
  },
  {
   "cell_type": "code",
   "execution_count": 25,
   "metadata": {
    "extensions": {
     "jupyter_dashboards": {
      "version": 1,
      "views": {
       "grid_default": {
        "col": 0,
        "height": 4,
        "hidden": false,
        "row": 0,
        "width": 4
       },
       "report_default": {}
      }
     }
    }
   },
   "outputs": [
    {
     "data": {
      "application/vnd.jupyter.widget-view+json": {
       "model_id": "e9c531e8b35542e0b86f39201cb6a332",
       "version_major": 2,
       "version_minor": 0
      },
      "text/plain": [
       "Dropdown(options=('Workout', 'workout_04_11_102230.csv', 'workout_04_11_102548.csv', 'workout_04_11_105122.csv…"
      ]
     },
     "metadata": {},
     "output_type": "display_data"
    }
   ],
   "source": [
    "# Display different plots\n",
    "import ipywidgets as widgets\n",
    "from ipywidgets import interactive, interact, interact_manual\n",
    "import plotly.express as px\n",
    "\n",
    "df_root = pd.read_csv('Rootfolder.csv')\n",
    "\n",
    "def selected_workout(array):\n",
    "    unique = array.unique().tolist()\n",
    "    unique.sort()\n",
    "    unique.insert(0, \"Workout\")\n",
    "    return unique\n",
    "\n",
    "dropdown_file = widgets.Dropdown(options = selected_workout(df_root.filename))\n",
    "\n",
    "output_file = widgets.Output()\n",
    "\n",
    "def dropdown_file_eventhandler(change):\n",
    "    output_file.clear_output()\n",
    "    with output_file:\n",
    "        if (change.new==\"Workout\"):\n",
    "            print('select your workout')\n",
    "        else:\n",
    "            global df_plot\n",
    "            df_plot=pd.read_csv(change.new)\n",
    "            fig1 = px.line(df_plot, x = 'time', y = 'velocity', title='Workout ')\n",
    "            fig1.show()\n",
    "\n",
    "dropdown_file.observe(dropdown_file_eventhandler, names='value')\n",
    "\n",
    "display(dropdown_file)\n"
   ]
  },
  {
   "cell_type": "code",
   "execution_count": 26,
   "metadata": {
    "extensions": {
     "jupyter_dashboards": {
      "version": 1,
      "views": {
       "grid_default": {
        "col": 0,
        "height": 22,
        "hidden": false,
        "row": 4,
        "width": null
       },
       "report_default": {}
      }
     }
    }
   },
   "outputs": [
    {
     "data": {
      "application/vnd.jupyter.widget-view+json": {
       "model_id": "cb7c454093864c03b2dc6b8d5cddacf6",
       "version_major": 2,
       "version_minor": 0
      },
      "text/plain": [
       "Output()"
      ]
     },
     "metadata": {},
     "output_type": "display_data"
    }
   ],
   "source": [
    "display(output_file)"
   ]
  },
  {
   "cell_type": "code",
   "execution_count": 27,
   "metadata": {
    "extensions": {
     "jupyter_dashboards": {
      "version": 1,
      "views": {
       "grid_default": {
        "col": 4,
        "height": 3,
        "hidden": false,
        "row": 0,
        "width": 4
       },
       "report_default": {}
      }
     }
    }
   },
   "outputs": [
    {
     "data": {
      "text/plain": [
       "4.353035294117646"
      ]
     },
     "execution_count": 27,
     "metadata": {},
     "output_type": "execute_result"
    }
   ],
   "source": [
    "# Show statistics\n",
    "import numpy as np\n",
    "from scipy.stats import kurtosis, skew\n",
    "\n",
    "average_speed = np.mean(df_plot['velocity'])\n",
    "average_speed"
   ]
  },
  {
   "cell_type": "code",
   "execution_count": null,
   "metadata": {
    "extensions": {
     "jupyter_dashboards": {
      "version": 1,
      "views": {
       "grid_default": {
        "hidden": true
       },
       "report_default": {}
      }
     }
    }
   },
   "outputs": [],
   "source": []
  },
  {
   "cell_type": "code",
   "execution_count": null,
   "metadata": {
    "extensions": {
     "jupyter_dashboards": {
      "version": 1,
      "views": {
       "grid_default": {
        "hidden": true
       },
       "report_default": {}
      }
     }
    }
   },
   "outputs": [],
   "source": []
  }
 ],
 "metadata": {
  "extensions": {
   "jupyter_dashboards": {
    "activeView": "grid_default",
    "version": 1,
    "views": {
     "grid_default": {
      "cellMargin": 10,
      "defaultCellHeight": 20,
      "maxColumns": 12,
      "name": "grid",
      "type": "grid"
     },
     "report_default": {
      "name": "report",
      "type": "report"
     }
    }
   }
  },
  "kernelspec": {
   "display_name": "Python 3",
   "language": "python",
   "name": "python3"
  },
  "language_info": {
   "codemirror_mode": {
    "name": "ipython",
    "version": 3
   },
   "file_extension": ".py",
   "mimetype": "text/x-python",
   "name": "python",
   "nbconvert_exporter": "python",
   "pygments_lexer": "ipython3",
   "version": "3.7.4"
  }
 },
 "nbformat": 4,
 "nbformat_minor": 2
}
