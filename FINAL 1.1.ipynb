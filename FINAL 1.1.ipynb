{
 "cells": [
  {
   "cell_type": "code",
   "execution_count": 9,
   "metadata": {},
   "outputs": [
    {
     "name": "stderr",
     "output_type": "stream",
     "text": [
      "DEBUG:urllib3.connectionpool:Starting new HTTP connection (1): 145.94.228.143:5000\n",
      "DEBUG:urllib3.connectionpool:http://145.94.228.143:5000 \"GET /getIndex HTTP/1.1\" 200 2323\n"
     ]
    },
    {
     "name": "stdout",
     "output_type": "stream",
     "text": [
      "[['name', 'avg_velocity', 'target_velocity', 'start_time', 'end_time', 'distance', 'target_distance'], ['workout_03_11_165537.csv', '0.0', '3', '1572800125.7318444', '1572800137.8819861', '0.0', '1000', '2019-11-03 16:55:25', '2019-11-03 16:55:37'], ['workout_03_11_170135.csv', '0.0', '3', '1572800492.5053627', '1572800495.9321349', '0.0', '1000', '2019-11-03 17:01:32', '2019-11-03 17:01:35'], ['workout_03_11_170703.csv', '0.0', '3', '1572800818.8495665', '1572800823.188799', '0.0', '1000', '2019-11-03 17:06:58', '2019-11-03 17:07:03'], ['workout_03_11_171701.csv', '0.0', '3', '1572801403.829611', '1572801421.222805', '0.0', '1000', '2019-11-03 17:16:43', '2019-11-03 17:17:01'], ['workout_03_11_182622.csv', '0.4', '3', '1572805566.6590314', '1572805582.2528436', '6.9799999999999995', '1000', '2019-11-03 18:26:06', '2019-11-03 18:26:22'], ['workout_03_11_192255.csv', '0.0', '3', '1572808949.8025696', '1572808975.8104076', '0.0', '1000', '2019-11-03 19:22:29', '2019-11-03 19:22:55'], ['workout_03_11_192405.csv', '0.4', '3', '1572809014.6165462', '1572809045.5995398', '13.54', '1000', '2019-11-03 19:23:34', '2019-11-03 19:24:05'], ['workout_03_11_192636.csv', '0.1', '3', '1572809014.6165462', '1572809196.7327778', '13.54', '1000', '2019-11-03 19:23:34', '2019-11-03 19:26:36'], ['workout_03_11_192751.csv', '0.0', '3', '1572809223.1796658', '1572809271.0064495', '0.0', '1000', '2019-11-03 19:27:03', '2019-11-03 19:27:51'], ['workout_03_11_193014.csv', '0.0', '3', '1572809223.1796658', '1572809414.5373406', '0.0', '1000', '2019-11-03 19:27:03', '2019-11-03 19:30:14'], ['workout_03_11_193036.csv', '0.0', '3', '1572809223.1796658', '1572809436.0973508', '0.0', '1000', '2019-11-03 19:27:03', '2019-11-03 19:30:36'], ['workout_03_11_193252.csv', '0.0', '3', '1572809463.8804374', '1572809572.159909', '0.0', '1000', '2019-11-03 19:31:03', '2019-11-03 19:32:52'], ['workout_03_11_193334.csv', '0.0', '3', '1572809609.532083', '1572809614.4684641', '0.0', '1000', '2019-11-03 19:33:29', '2019-11-03 19:33:34'], ['workout_04_11_082858.csv', '0.0', '3', '1572856137.1611845', '1572856138.7260706', '0.0', '1000', '2019-11-04 08:28:57', '2019-11-04 08:28:58'], ['workout_04_11_085149.csv', '0.4', '3', '1572857478.1899025', '1572857508.9354577', '11.24', '1000', '2019-11-04 09:51:18', '2019-11-04 09:51:48']]\n"
     ]
    }
   ],
   "source": [
    "import requests\n",
    "#get data index from piserver\n",
    "URL= \"http://145.94.228.143:5000/getIndex\"\n",
    "r = requests.get(url=URL)\n",
    "data= r.json()\n",
    "print(data)"
   ]
  },
  {
   "cell_type": "code",
   "execution_count": null,
   "metadata": {},
   "outputs": [],
   "source": []
  },
  {
   "cell_type": "code",
   "execution_count": 10,
   "metadata": {
    "extensions": {
     "jupyter_dashboards": {
      "version": 1,
      "views": {
       "grid_default": {
        "col": 0,
        "height": 12,
        "hidden": true,
        "row": 0,
        "width": 4
       },
       "report_default": {}
      }
     }
    }
   },
   "outputs": [
    {
     "name": "stderr",
     "output_type": "stream",
     "text": [
      "INFO:dcd:things:wheelchair_speed-e706:Initialising MQTT connection for Thing 'dcd:things:wheelchair_speed-e706'\n",
      "DEBUG:urllib3.connectionpool:Starting new HTTPS connection (1): dwd.tudelft.nl:443\n",
      "INFO:dcd:things:wheelchair_speed-e706:Connection successful\n",
      "DEBUG:urllib3.connectionpool:https://dwd.tudelft.nl:443 \"GET /api/things/dcd:things:wheelchair_speed-e706 HTTP/1.1\" 200 6724\n"
     ]
    },
    {
     "name": "stdout",
     "output_type": "stream",
     "text": [
      "DigiCertCA.crt exist.\n",
      "{'thing': {'id': 'dcd:things:wheelchair_speed-e706', 'name': 'Wheelchair_speed', 'description': '', 'type': 'Speed', 'properties': [{'type': 'THREE_DIMENSIONS', 'name': 'My Random Property', 'description': '', 'dimensions': [{'name': 'Value1', 'description': '', 'unit': ''}, {'name': 'Value2', 'description': '', 'unit': ''}, {'name': 'Value3', 'description': '', 'unit': ''}, {'name': 'Value1', 'description': '', 'unit': ''}, {'name': 'Value2', 'description': '', 'unit': ''}, {'name': 'Value3', 'description': '', 'unit': ''}], 'id': 'my-random-property-5f3c', 'classes': [], 'values': [], 'entityId': 'dcd:things:wheelchair_speed-e706', 'readAt': 1572858795682, 'registeredAt': 1571392699000}, {'type': 'ONE_DIMENSION', 'name': 'one', 'description': '', 'dimensions': [{'name': 'Value', 'description': '', 'unit': ''}], 'id': 'one-28d7', 'classes': [], 'values': [], 'entityId': 'dcd:things:wheelchair_speed-e706', 'readAt': 1572858795682, 'registeredAt': 1571994791000}, {'type': 'THREE_DIMENSIONS', 'name': 'RANDOM SHIT', 'description': '', 'dimensions': [{'name': 'Value1', 'description': '', 'unit': ''}, {'name': 'Value2', 'description': '', 'unit': ''}, {'name': 'Value3', 'description': '', 'unit': ''}, {'name': 'Value1', 'description': '', 'unit': ''}, {'name': 'Value2', 'description': '', 'unit': ''}, {'name': 'Value3', 'description': '', 'unit': ''}], 'id': 'random-shit-aa03', 'classes': [], 'values': [], 'entityId': 'dcd:things:wheelchair_speed-e706', 'readAt': 1572858795682, 'registeredAt': 1571994791000}, {'type': 'TWO_DIMENSIONS', 'name': 'Rotation', 'description': '', 'dimensions': [{'name': 'Value1', 'description': '', 'unit': ''}, {'name': 'Value2', 'description': '', 'unit': ''}, {'name': 'Value1', 'description': '', 'unit': ''}, {'name': 'Value2', 'description': '', 'unit': ''}], 'id': 'rotation-7ecd', 'classes': [], 'values': [], 'entityId': 'dcd:things:wheelchair_speed-e706', 'readAt': 1572858795682, 'registeredAt': 1571753516000}, {'type': 'ONE_DIMENSION', 'name': 'Speed', 'description': '', 'dimensions': [{'name': 'Value', 'description': '', 'unit': ''}], 'id': 'speed-83ac', 'classes': [], 'values': [], 'entityId': 'dcd:things:wheelchair_speed-e706', 'readAt': 1572858795682, 'registeredAt': 1571753522000}, {'type': 'THREE_DIMENSIONS', 'name': 'three', 'description': '', 'dimensions': [{'name': 'Value1', 'description': '', 'unit': ''}, {'name': 'Value2', 'description': '', 'unit': ''}, {'name': 'Value3', 'description': '', 'unit': ''}, {'name': 'Value1', 'description': '', 'unit': ''}, {'name': 'Value2', 'description': '', 'unit': ''}, {'name': 'Value3', 'description': '', 'unit': ''}], 'id': 'three-ad01', 'classes': [], 'values': [], 'entityId': 'dcd:things:wheelchair_speed-e706', 'readAt': 1572858795682, 'registeredAt': 1571994791000}, {'type': 'TWO_DIMENSIONS', 'name': 'two', 'description': '', 'dimensions': [{'name': 'Value1', 'description': '', 'unit': ''}, {'name': 'Value2', 'description': '', 'unit': ''}, {'name': 'Value1', 'description': '', 'unit': ''}, {'name': 'Value2', 'description': '', 'unit': ''}], 'id': 'two-4069', 'classes': [], 'values': [], 'entityId': 'dcd:things:wheelchair_speed-e706', 'readAt': 1572858795682, 'registeredAt': 1571994791000}, {'type': 'THREE_DIMENSIONS', 'name': 'Wheelchair Speed', 'description': '', 'dimensions': [{'name': 'Value1', 'description': '', 'unit': ''}, {'name': 'Value2', 'description': '', 'unit': ''}, {'name': 'Value3', 'description': '', 'unit': ''}, {'name': 'Value1', 'description': '', 'unit': ''}, {'name': 'Value2', 'description': '', 'unit': ''}, {'name': 'Value3', 'description': '', 'unit': ''}], 'id': 'wheelchair-speed-0933', 'classes': [], 'values': [], 'entityId': 'dcd:things:wheelchair_speed-e706', 'readAt': 1572858795682, 'registeredAt': 1571753506000}], 'registeredAt': '2019-10-18T09:54:38.000Z', 'readAt': 1572858795679, 'keys': {}}}\n"
     ]
    },
    {
     "data": {
      "text/plain": [
       "{'id': 'dcd:things:wheelchair_speed-e706',\n",
       " 'name': 'Wheelchair_speed',\n",
       " 'description': '',\n",
       " 'type': 'Speed',\n",
       " 'properties': [{'id': 'my-random-property-5f3c',\n",
       "   'name': 'My Random Property',\n",
       "   'description': '',\n",
       "   'type': 'THREE_DIMENSIONS',\n",
       "   'dimensions': [{'name': 'Value1', 'description': '', 'unit': ''},\n",
       "    {'name': 'Value2', 'description': '', 'unit': ''},\n",
       "    {'name': 'Value3', 'description': '', 'unit': ''},\n",
       "    {'name': 'Value1', 'description': '', 'unit': ''},\n",
       "    {'name': 'Value2', 'description': '', 'unit': ''},\n",
       "    {'name': 'Value3', 'description': '', 'unit': ''}]},\n",
       "  {'id': 'one-28d7',\n",
       "   'name': 'one',\n",
       "   'description': '',\n",
       "   'type': 'ONE_DIMENSION',\n",
       "   'dimensions': [{'name': 'Value', 'description': '', 'unit': ''}]},\n",
       "  {'id': 'random-shit-aa03',\n",
       "   'name': 'RANDOM SHIT',\n",
       "   'description': '',\n",
       "   'type': 'THREE_DIMENSIONS',\n",
       "   'dimensions': [{'name': 'Value1', 'description': '', 'unit': ''},\n",
       "    {'name': 'Value2', 'description': '', 'unit': ''},\n",
       "    {'name': 'Value3', 'description': '', 'unit': ''},\n",
       "    {'name': 'Value1', 'description': '', 'unit': ''},\n",
       "    {'name': 'Value2', 'description': '', 'unit': ''},\n",
       "    {'name': 'Value3', 'description': '', 'unit': ''}]},\n",
       "  {'id': 'rotation-7ecd',\n",
       "   'name': 'Rotation',\n",
       "   'description': '',\n",
       "   'type': 'TWO_DIMENSIONS',\n",
       "   'dimensions': [{'name': 'Value1', 'description': '', 'unit': ''},\n",
       "    {'name': 'Value2', 'description': '', 'unit': ''},\n",
       "    {'name': 'Value1', 'description': '', 'unit': ''},\n",
       "    {'name': 'Value2', 'description': '', 'unit': ''}]},\n",
       "  {'id': 'speed-83ac',\n",
       "   'name': 'Speed',\n",
       "   'description': '',\n",
       "   'type': 'ONE_DIMENSION',\n",
       "   'dimensions': [{'name': 'Value', 'description': '', 'unit': ''}]},\n",
       "  {'id': 'three-ad01',\n",
       "   'name': 'three',\n",
       "   'description': '',\n",
       "   'type': 'THREE_DIMENSIONS',\n",
       "   'dimensions': [{'name': 'Value1', 'description': '', 'unit': ''},\n",
       "    {'name': 'Value2', 'description': '', 'unit': ''},\n",
       "    {'name': 'Value3', 'description': '', 'unit': ''},\n",
       "    {'name': 'Value1', 'description': '', 'unit': ''},\n",
       "    {'name': 'Value2', 'description': '', 'unit': ''},\n",
       "    {'name': 'Value3', 'description': '', 'unit': ''}]},\n",
       "  {'id': 'two-4069',\n",
       "   'name': 'two',\n",
       "   'description': '',\n",
       "   'type': 'TWO_DIMENSIONS',\n",
       "   'dimensions': [{'name': 'Value1', 'description': '', 'unit': ''},\n",
       "    {'name': 'Value2', 'description': '', 'unit': ''},\n",
       "    {'name': 'Value1', 'description': '', 'unit': ''},\n",
       "    {'name': 'Value2', 'description': '', 'unit': ''}]},\n",
       "  {'id': 'wheelchair-speed-0933',\n",
       "   'name': 'Wheelchair Speed',\n",
       "   'description': '',\n",
       "   'type': 'THREE_DIMENSIONS',\n",
       "   'dimensions': [{'name': 'Value1', 'description': '', 'unit': ''},\n",
       "    {'name': 'Value2', 'description': '', 'unit': ''},\n",
       "    {'name': 'Value3', 'description': '', 'unit': ''},\n",
       "    {'name': 'Value1', 'description': '', 'unit': ''},\n",
       "    {'name': 'Value2', 'description': '', 'unit': ''},\n",
       "    {'name': 'Value3', 'description': '', 'unit': ''}]}]}"
      ]
     },
     "execution_count": 10,
     "metadata": {},
     "output_type": "execute_result"
    }
   ],
   "source": [
    "from dcd.entities.thing import Thing\n",
    "from dotenv import load_dotenv\n",
    "import os\n",
    "\n",
    "# Connect to DCD Hub\n",
    "load_dotenv()\n",
    "\n",
    "THING_ID = os.environ['THING_ID']\n",
    "THING_TOKEN = os.environ['THING_TOKEN']\n",
    "my_thing = Thing(thing_id=THING_ID, token=THING_TOKEN)\n",
    "\n",
    "my_thing.read()\n",
    "my_thing.to_json()"
   ]
  },
  {
   "cell_type": "code",
   "execution_count": 11,
   "metadata": {
    "extensions": {
     "jupyter_dashboards": {
      "version": 1,
      "views": {
       "grid_default": {
        "hidden": true
       },
       "report_default": {}
      }
     }
    }
   },
   "outputs": [
    {
     "name": "stderr",
     "output_type": "stream",
     "text": [
      "DEBUG:urllib3.connectionpool:Starting new HTTPS connection (1): dwd.tudelft.nl:443\n",
      "DEBUG:urllib3.connectionpool:https://dwd.tudelft.nl:443 \"GET /api/things/dcd:things:wheelchair_speed-e706/properties/speed-83ac?from=1572857478000.0&to=1572857508000.0 HTTP/1.1\" 200 4107\n"
     ]
    },
    {
     "name": "stdout",
     "output_type": "stream",
     "text": [
      "2019-11-04 09:51:18\n",
      "2019-11-04 09:51:48\n"
     ]
    }
   ],
   "source": [
    "from datetime import datetime, timedelta\n",
    "# What dates?\n",
    "start_time = data[-1][-2]\n",
    "end_time = data[-1][-1]\n",
    "\n",
    "#START_DATE = datetime.strftime(now_minus_1, \"%Y-%m-%d %H:%M:%S\")\n",
    "#END_DATE = datetime.strftime(now, \"%Y-%m-%d %H:%M:%S\")\n",
    "print(start_time)\n",
    "print(end_time)\n",
    "\n",
    "DATE_FORMAT = '%Y-%m-%d %H:%M:%S'\n",
    "from_ts = datetime.timestamp(datetime.strptime(start_time, DATE_FORMAT)) * 1000\n",
    "to_ts = datetime.timestamp(datetime.strptime(end_time, DATE_FORMAT)) * 1000\n",
    "\n",
    "PROPERTY_NAME = \"Speed\"\n",
    "\n",
    "my_property = my_thing.find_property_by_name(PROPERTY_NAME)\n",
    "my_property.read(from_ts, to_ts)"
   ]
  },
  {
   "cell_type": "code",
   "execution_count": 12,
   "metadata": {
    "extensions": {
     "jupyter_dashboards": {
      "version": 1,
      "views": {
       "grid_default": {
        "col": 4,
        "height": 4,
        "hidden": true,
        "row": 0,
        "width": 4
       },
       "report_default": {}
      }
     }
    }
   },
   "outputs": [
    {
     "name": "stdout",
     "output_type": "stream",
     "text": [
      "72\n"
     ]
    },
    {
     "data": {
      "text/plain": [
       "[[1572857478478, 0],\n",
       " [1572857478867, 0],\n",
       " [1572857479310, 0],\n",
       " [1572857479700, 0],\n",
       " [1572857480138, 0],\n",
       " [1572857480529, 0],\n",
       " [1572857480968, 0],\n",
       " [1572857481357, 0],\n",
       " [1572857481796, 0],\n",
       " [1572857482234, 0],\n",
       " [1572857482625, 0],\n",
       " [1572857483179, 0],\n",
       " [1572857483453, 0],\n",
       " [1572857483844, 0],\n",
       " [1572857484283, 0],\n",
       " [1572857484672, 0],\n",
       " [1572857485111, 0],\n",
       " [1572857485500, 0],\n",
       " [1572857485939, 0],\n",
       " [1572857486350, 0],\n",
       " [1572857486765, 0],\n",
       " [1572857487159, 0],\n",
       " [1572857487597, 0],\n",
       " [1572857488035, -32.58],\n",
       " [1572857488427, 1.584],\n",
       " [1572857488813, 2.196],\n",
       " [1572857489255, 2.088],\n",
       " [1572857489646, 1.548],\n",
       " [1572857490084, 1.008],\n",
       " [1572857490470, -0.396],\n",
       " [1572857490909, -0.144],\n",
       " [1572857491303, -0.18],\n",
       " [1572857491742, 0.324],\n",
       " [1572857492129, 0.036],\n",
       " [1572857492566, -1.692],\n",
       " [1572857492961, -0.864],\n",
       " [1572857493399, 0.684],\n",
       " [1572857493790, 13.176],\n",
       " [1572857494228, 2.052],\n",
       " [1572857494618, 3.672],\n",
       " [1572857495057, 4.356],\n",
       " [1572857495447, 5.04],\n",
       " [1572857495886, 6.588],\n",
       " [1572857496275, 7.092],\n",
       " [1572857496714, 7.236],\n",
       " [1572857497154, 7.02],\n",
       " [1572857497494, 6.948],\n",
       " [1572857497932, 6.588],\n",
       " [1572857498322, 5.868],\n",
       " [1572857498761, 4.86],\n",
       " [1572857499151, 3.6],\n",
       " [1572857499589, 3.024],\n",
       " [1572857499980, 3.672],\n",
       " [1572857500419, 4.968],\n",
       " [1572857500808, 5.724],\n",
       " [1572857501247, 6.624],\n",
       " [1572857501641, 6.48],\n",
       " [1572857502076, 7.632],\n",
       " [1572857502466, 7.128],\n",
       " [1572857502904, 7.308],\n",
       " [1572857503294, 6.912],\n",
       " [1572857503733, 5.616],\n",
       " [1572857504124, 4.464],\n",
       " [1572857504563, 2.556],\n",
       " [1572857504962, 0.36],\n",
       " [1572857505393, -0.108],\n",
       " [1572857505778, -0.036],\n",
       " [1572857506220, 0],\n",
       " [1572857506610, -0.036],\n",
       " [1572857507046, 0],\n",
       " [1572857507439, 0],\n",
       " [1572857507875, 0]]"
      ]
     },
     "execution_count": 12,
     "metadata": {},
     "output_type": "execute_result"
    }
   ],
   "source": [
    "print(len(my_property.values))\n",
    "my_property.values"
   ]
  },
  {
   "cell_type": "code",
   "execution_count": 31,
   "metadata": {
    "extensions": {
     "jupyter_dashboards": {
      "version": 1,
      "views": {
       "grid_default": {
        "col": 8,
        "height": 12,
        "hidden": true,
        "row": 0,
        "width": 4
       },
       "report_default": {}
      }
     }
    }
   },
   "outputs": [],
   "source": [
    "#Create CSV file from data \n",
    "import pandas as pd\n",
    "\n",
    "ct = datetime.now().strftime('%A %-d %B %Y %H:%M')\n",
    "\n",
    "data2 = my_property.values\n",
    "df = pd.DataFrame(my_property.values, columns = ['time', 'velocity'])\n",
    "df.to_csv(data[-1][0])\n",
    "name = data[-1][0]\n"
   ]
  },
  {
   "cell_type": "code",
   "execution_count": 32,
   "metadata": {
    "extensions": {
     "jupyter_dashboards": {
      "version": 1,
      "views": {
       "grid_default": {
        "hidden": true
       },
       "report_default": {}
      }
     }
    }
   },
   "outputs": [],
   "source": [
    "#update Rootfolder.csv\n",
    "df_root = pd.read_csv('Rootfolder.csv')\n",
    "newdf_root = pd.DataFrame({'filename' : [name]})\n",
    "UPDATE=df_root.append(newdf_root, ignore_index=True)\n",
    "UPDATE.to_csv('Rootfolder.csv', index=False)\n"
   ]
  },
  {
   "cell_type": "code",
   "execution_count": 38,
   "metadata": {
    "extensions": {
     "jupyter_dashboards": {
      "version": 1,
      "views": {
       "grid_default": {
        "col": 4,
        "height": 4,
        "hidden": false,
        "row": 0,
        "width": 4
       },
       "report_default": {}
      }
     }
    }
   },
   "outputs": [
    {
     "data": {
      "application/vnd.jupyter.widget-view+json": {
       "model_id": "4390ec00119a458ab88a36221d492f40",
       "version_major": 2,
       "version_minor": 0
      },
      "text/plain": [
       "Dropdown(options=('workout', 'Workout Monday 28 October 2019 1530.csv', 'Workout Monday 4 November 2019 09:52.…"
      ]
     },
     "metadata": {},
     "output_type": "display_data"
    }
   ],
   "source": [
    "#Display different plots\n",
    "import ipywidgets as widgets\n",
    "from ipywidgets import interactive, interact, interact_manual\n",
    "import plotly.express as px\n",
    "\n",
    "df_root = pd.read_csv('Rootfolder.csv')\n",
    "\n",
    "def selected_workout(array):\n",
    "    unique = array.unique().tolist()\n",
    "    unique.sort()\n",
    "    unique.insert(0, \"workout\")\n",
    "    return unique\n",
    "\n",
    "dropdown_file = widgets.Dropdown(options = selected_workout(df_root.filename))\n",
    "\n",
    "output_file = widgets.Output()\n",
    "\n",
    "def dropdown_file_eventhandler(change):\n",
    "    output_file.clear_output()\n",
    "    with output_file:\n",
    "        if (change.new==\"Workout\"):\n",
    "            print('select your workout')\n",
    "        else:\n",
    "            global df_plot\n",
    "            df_plot=pd.read_csv(change.new)\n",
    "            fig1 = px.line(df_plot, x = 'time', y = 'velocity', title='Workout ')\n",
    "            fig1.show()\n",
    "\n",
    "dropdown_file.observe(dropdown_file_eventhandler, names='value')\n",
    "\n",
    "display(dropdown_file)"
   ]
  },
  {
   "cell_type": "code",
   "execution_count": 39,
   "metadata": {
    "extensions": {
     "jupyter_dashboards": {
      "version": 1,
      "views": {
       "grid_default": {
        "col": 0,
        "height": 22,
        "hidden": false,
        "row": 4,
        "width": null
       },
       "report_default": {}
      }
     }
    }
   },
   "outputs": [
    {
     "data": {
      "application/vnd.jupyter.widget-view+json": {
       "model_id": "86f6743c465a4d1dbc2c5362fce42857",
       "version_major": 2,
       "version_minor": 0
      },
      "text/plain": [
       "Output(outputs=({'output_type': 'display_data', 'data': {'application/vnd.plotly.v1+json': {'config': {'plotly…"
      ]
     },
     "metadata": {},
     "output_type": "display_data"
    }
   ],
   "source": [
    "display(output_file)"
   ]
  },
  {
   "cell_type": "code",
   "execution_count": 18,
   "metadata": {
    "extensions": {
     "jupyter_dashboards": {
      "version": 1,
      "views": {
       "grid_default": {
        "hidden": true
       },
       "report_default": {}
      }
     }
    }
   },
   "outputs": [
    {
     "ename": "NameError",
     "evalue": "name 'df_plot' is not defined",
     "output_type": "error",
     "traceback": [
      "\u001b[0;31m---------------------------------------------------------------------------\u001b[0m",
      "\u001b[0;31mNameError\u001b[0m                                 Traceback (most recent call last)",
      "\u001b[0;32m<ipython-input-18-607b352742b4>\u001b[0m in \u001b[0;36m<module>\u001b[0;34m\u001b[0m\n\u001b[1;32m      3\u001b[0m \u001b[0;32mfrom\u001b[0m \u001b[0mscipy\u001b[0m\u001b[0;34m.\u001b[0m\u001b[0mstats\u001b[0m \u001b[0;32mimport\u001b[0m \u001b[0mkurtosis\u001b[0m\u001b[0;34m,\u001b[0m \u001b[0mskew\u001b[0m\u001b[0;34m\u001b[0m\u001b[0;34m\u001b[0m\u001b[0m\n\u001b[1;32m      4\u001b[0m \u001b[0;34m\u001b[0m\u001b[0m\n\u001b[0;32m----> 5\u001b[0;31m \u001b[0maverage_speed\u001b[0m \u001b[0;34m=\u001b[0m \u001b[0mnp\u001b[0m\u001b[0;34m.\u001b[0m\u001b[0mmean\u001b[0m\u001b[0;34m(\u001b[0m\u001b[0mdf_plot\u001b[0m\u001b[0;34m[\u001b[0m\u001b[0;34m'velocity'\u001b[0m\u001b[0;34m]\u001b[0m\u001b[0;34m)\u001b[0m\u001b[0;34m\u001b[0m\u001b[0;34m\u001b[0m\u001b[0m\n\u001b[0m\u001b[1;32m      6\u001b[0m \u001b[0maverage_speed\u001b[0m\u001b[0;34m\u001b[0m\u001b[0;34m\u001b[0m\u001b[0m\n",
      "\u001b[0;31mNameError\u001b[0m: name 'df_plot' is not defined"
     ]
    }
   ],
   "source": [
    "#show statistics\n",
    "import numpy as np\n",
    "from scipy.stats import kurtosis, skew\n",
    "\n",
    "average_speed = np.mean(df_plot['velocity'])\n",
    "average_speed"
   ]
  },
  {
   "cell_type": "code",
   "execution_count": null,
   "metadata": {},
   "outputs": [],
   "source": []
  }
 ],
 "metadata": {
  "extensions": {
   "jupyter_dashboards": {
    "activeView": "grid_default",
    "version": 1,
    "views": {
     "grid_default": {
      "cellMargin": 10,
      "defaultCellHeight": 20,
      "maxColumns": 12,
      "name": "grid",
      "type": "grid"
     },
     "report_default": {
      "name": "report",
      "type": "report"
     }
    }
   }
  },
  "kernelspec": {
   "display_name": "Python 3",
   "language": "python",
   "name": "python3"
  },
  "language_info": {
   "codemirror_mode": {
    "name": "ipython",
    "version": 3
   },
   "file_extension": ".py",
   "mimetype": "text/x-python",
   "name": "python",
   "nbconvert_exporter": "python",
   "pygments_lexer": "ipython3",
   "version": "3.7.4"
  }
 },
 "nbformat": 4,
 "nbformat_minor": 2
}
