{
 "cells": [
  {
   "cell_type": "markdown",
   "metadata": {},
   "source": [
    "# Example of Data Analysis with DCD Hub Data"
   ]
  },
  {
   "cell_type": "markdown",
   "metadata": {},
   "source": [
    "First, we import the Python SDK"
   ]
  },
  {
   "cell_type": "code",
   "execution_count": 1,
   "metadata": {},
   "outputs": [],
   "source": [
    "from dcd.entities.thing import Thing"
   ]
  },
  {
   "cell_type": "markdown",
   "metadata": {},
   "source": [
    "We provide the thing ID and access token (replace with yours)"
   ]
  },
  {
   "cell_type": "code",
   "execution_count": 2,
   "metadata": {},
   "outputs": [],
   "source": [
    "from dotenv import load_dotenv\n",
    "import os\n",
    "load_dotenv()\n",
    "THING_ID = os.environ['THING_ID']\n",
    "THING_TOKEN = os.environ['THING_TOKEN']"
   ]
  },
  {
   "cell_type": "markdown",
   "metadata": {},
   "source": [
    "We instantiate a Thing with its credential, then we fetch its details"
   ]
  },
  {
   "cell_type": "code",
   "execution_count": 3,
   "metadata": {},
   "outputs": [
    {
     "name": "stderr",
     "output_type": "stream",
     "text": [
      "INFO:dcd:things:wheelchair_speed-e706:Initialising MQTT connection for Thing 'dcd:things:wheelchair_speed-e706'\n",
      "DEBUG:urllib3.connectionpool:Starting new HTTPS connection (1): dwd.tudelft.nl:443\n",
      "INFO:dcd:things:wheelchair_speed-e706:Connection successful\n",
      "DEBUG:urllib3.connectionpool:https://dwd.tudelft.nl:443 \"GET /api/things/dcd:things:wheelchair_speed-e706 HTTP/1.1\" 200 6724\n"
     ]
    },
    {
     "name": "stdout",
     "output_type": "stream",
     "text": [
      "DigiCertCA.crt exist.\n",
      "{'thing': {'id': 'dcd:things:wheelchair_speed-e706', 'name': 'Wheelchair_speed', 'description': '', 'type': 'Speed', 'properties': [{'type': 'THREE_DIMENSIONS', 'name': 'My Random Property', 'description': '', 'dimensions': [{'name': 'Value1', 'description': '', 'unit': ''}, {'name': 'Value2', 'description': '', 'unit': ''}, {'name': 'Value3', 'description': '', 'unit': ''}, {'name': 'Value1', 'description': '', 'unit': ''}, {'name': 'Value2', 'description': '', 'unit': ''}, {'name': 'Value3', 'description': '', 'unit': ''}], 'id': 'my-random-property-5f3c', 'classes': [], 'values': [], 'entityId': 'dcd:things:wheelchair_speed-e706', 'readAt': 1572008196108, 'registeredAt': 1571392699000}, {'type': 'ONE_DIMENSION', 'name': 'one', 'description': '', 'dimensions': [{'name': 'Value', 'description': '', 'unit': ''}], 'id': 'one-28d7', 'classes': [], 'values': [], 'entityId': 'dcd:things:wheelchair_speed-e706', 'readAt': 1572008196108, 'registeredAt': 1571994791000}, {'type': 'THREE_DIMENSIONS', 'name': 'RANDOM SHIT', 'description': '', 'dimensions': [{'name': 'Value1', 'description': '', 'unit': ''}, {'name': 'Value2', 'description': '', 'unit': ''}, {'name': 'Value3', 'description': '', 'unit': ''}, {'name': 'Value1', 'description': '', 'unit': ''}, {'name': 'Value2', 'description': '', 'unit': ''}, {'name': 'Value3', 'description': '', 'unit': ''}], 'id': 'random-shit-aa03', 'classes': [], 'values': [], 'entityId': 'dcd:things:wheelchair_speed-e706', 'readAt': 1572008196108, 'registeredAt': 1571994791000}, {'type': 'TWO_DIMENSIONS', 'name': 'Rotation', 'description': '', 'dimensions': [{'name': 'Value1', 'description': '', 'unit': ''}, {'name': 'Value2', 'description': '', 'unit': ''}, {'name': 'Value1', 'description': '', 'unit': ''}, {'name': 'Value2', 'description': '', 'unit': ''}], 'id': 'rotation-7ecd', 'classes': [], 'values': [], 'entityId': 'dcd:things:wheelchair_speed-e706', 'readAt': 1572008196108, 'registeredAt': 1571753516000}, {'type': 'ONE_DIMENSION', 'name': 'Speed', 'description': '', 'dimensions': [{'name': 'Value', 'description': '', 'unit': ''}], 'id': 'speed-83ac', 'classes': [], 'values': [], 'entityId': 'dcd:things:wheelchair_speed-e706', 'readAt': 1572008196108, 'registeredAt': 1571753522000}, {'type': 'THREE_DIMENSIONS', 'name': 'three', 'description': '', 'dimensions': [{'name': 'Value1', 'description': '', 'unit': ''}, {'name': 'Value2', 'description': '', 'unit': ''}, {'name': 'Value3', 'description': '', 'unit': ''}, {'name': 'Value1', 'description': '', 'unit': ''}, {'name': 'Value2', 'description': '', 'unit': ''}, {'name': 'Value3', 'description': '', 'unit': ''}], 'id': 'three-ad01', 'classes': [], 'values': [], 'entityId': 'dcd:things:wheelchair_speed-e706', 'readAt': 1572008196108, 'registeredAt': 1571994791000}, {'type': 'TWO_DIMENSIONS', 'name': 'two', 'description': '', 'dimensions': [{'name': 'Value1', 'description': '', 'unit': ''}, {'name': 'Value2', 'description': '', 'unit': ''}, {'name': 'Value1', 'description': '', 'unit': ''}, {'name': 'Value2', 'description': '', 'unit': ''}], 'id': 'two-4069', 'classes': [], 'values': [], 'entityId': 'dcd:things:wheelchair_speed-e706', 'readAt': 1572008196108, 'registeredAt': 1571994791000}, {'type': 'THREE_DIMENSIONS', 'name': 'Wheelchair Speed', 'description': '', 'dimensions': [{'name': 'Value1', 'description': '', 'unit': ''}, {'name': 'Value2', 'description': '', 'unit': ''}, {'name': 'Value3', 'description': '', 'unit': ''}, {'name': 'Value1', 'description': '', 'unit': ''}, {'name': 'Value2', 'description': '', 'unit': ''}, {'name': 'Value3', 'description': '', 'unit': ''}], 'id': 'wheelchair-speed-0933', 'classes': [], 'values': [], 'entityId': 'dcd:things:wheelchair_speed-e706', 'readAt': 1572008196108, 'registeredAt': 1571753506000}], 'registeredAt': '2019-10-18T09:54:38.000Z', 'readAt': 1572008196105, 'keys': {}}}\n"
     ]
    }
   ],
   "source": [
    "my_thing = Thing(thing_id=THING_ID, token=THING_TOKEN)\n",
    "my_thing.read()"
   ]
  },
  {
   "cell_type": "markdown",
   "metadata": {},
   "source": [
    "What does a Thing look like?"
   ]
  },
  {
   "cell_type": "code",
   "execution_count": 4,
   "metadata": {},
   "outputs": [
    {
     "data": {
      "text/plain": [
       "{'id': 'dcd:things:wheelchair_speed-e706',\n",
       " 'name': 'Wheelchair_speed',\n",
       " 'description': '',\n",
       " 'type': 'Speed',\n",
       " 'properties': [{'id': 'my-random-property-5f3c',\n",
       "   'name': 'My Random Property',\n",
       "   'description': '',\n",
       "   'type': 'THREE_DIMENSIONS',\n",
       "   'dimensions': [{'name': 'Value1', 'description': '', 'unit': ''},\n",
       "    {'name': 'Value2', 'description': '', 'unit': ''},\n",
       "    {'name': 'Value3', 'description': '', 'unit': ''},\n",
       "    {'name': 'Value1', 'description': '', 'unit': ''},\n",
       "    {'name': 'Value2', 'description': '', 'unit': ''},\n",
       "    {'name': 'Value3', 'description': '', 'unit': ''}]},\n",
       "  {'id': 'one-28d7',\n",
       "   'name': 'one',\n",
       "   'description': '',\n",
       "   'type': 'ONE_DIMENSION',\n",
       "   'dimensions': [{'name': 'Value', 'description': '', 'unit': ''}]},\n",
       "  {'id': 'random-shit-aa03',\n",
       "   'name': 'RANDOM SHIT',\n",
       "   'description': '',\n",
       "   'type': 'THREE_DIMENSIONS',\n",
       "   'dimensions': [{'name': 'Value1', 'description': '', 'unit': ''},\n",
       "    {'name': 'Value2', 'description': '', 'unit': ''},\n",
       "    {'name': 'Value3', 'description': '', 'unit': ''},\n",
       "    {'name': 'Value1', 'description': '', 'unit': ''},\n",
       "    {'name': 'Value2', 'description': '', 'unit': ''},\n",
       "    {'name': 'Value3', 'description': '', 'unit': ''}]},\n",
       "  {'id': 'rotation-7ecd',\n",
       "   'name': 'Rotation',\n",
       "   'description': '',\n",
       "   'type': 'TWO_DIMENSIONS',\n",
       "   'dimensions': [{'name': 'Value1', 'description': '', 'unit': ''},\n",
       "    {'name': 'Value2', 'description': '', 'unit': ''},\n",
       "    {'name': 'Value1', 'description': '', 'unit': ''},\n",
       "    {'name': 'Value2', 'description': '', 'unit': ''}]},\n",
       "  {'id': 'speed-83ac',\n",
       "   'name': 'Speed',\n",
       "   'description': '',\n",
       "   'type': 'ONE_DIMENSION',\n",
       "   'dimensions': [{'name': 'Value', 'description': '', 'unit': ''}]},\n",
       "  {'id': 'three-ad01',\n",
       "   'name': 'three',\n",
       "   'description': '',\n",
       "   'type': 'THREE_DIMENSIONS',\n",
       "   'dimensions': [{'name': 'Value1', 'description': '', 'unit': ''},\n",
       "    {'name': 'Value2', 'description': '', 'unit': ''},\n",
       "    {'name': 'Value3', 'description': '', 'unit': ''},\n",
       "    {'name': 'Value1', 'description': '', 'unit': ''},\n",
       "    {'name': 'Value2', 'description': '', 'unit': ''},\n",
       "    {'name': 'Value3', 'description': '', 'unit': ''}]},\n",
       "  {'id': 'two-4069',\n",
       "   'name': 'two',\n",
       "   'description': '',\n",
       "   'type': 'TWO_DIMENSIONS',\n",
       "   'dimensions': [{'name': 'Value1', 'description': '', 'unit': ''},\n",
       "    {'name': 'Value2', 'description': '', 'unit': ''},\n",
       "    {'name': 'Value1', 'description': '', 'unit': ''},\n",
       "    {'name': 'Value2', 'description': '', 'unit': ''}]},\n",
       "  {'id': 'wheelchair-speed-0933',\n",
       "   'name': 'Wheelchair Speed',\n",
       "   'description': '',\n",
       "   'type': 'THREE_DIMENSIONS',\n",
       "   'dimensions': [{'name': 'Value1', 'description': '', 'unit': ''},\n",
       "    {'name': 'Value2', 'description': '', 'unit': ''},\n",
       "    {'name': 'Value3', 'description': '', 'unit': ''},\n",
       "    {'name': 'Value1', 'description': '', 'unit': ''},\n",
       "    {'name': 'Value2', 'description': '', 'unit': ''},\n",
       "    {'name': 'Value3', 'description': '', 'unit': ''}]}]}"
      ]
     },
     "execution_count": 4,
     "metadata": {},
     "output_type": "execute_result"
    }
   ],
   "source": [
    "my_thing.to_json()"
   ]
  },
  {
   "cell_type": "markdown",
   "metadata": {},
   "source": [
    "Which property do we want to explore and over which time frame?"
   ]
  },
  {
   "cell_type": "code",
   "execution_count": 5,
   "metadata": {},
   "outputs": [],
   "source": [
    "from datetime import datetime\n",
    "# What dates?\n",
    "START_DATE = \"2019-10-08 21:17:00\"\n",
    "END_DATE = \"2019-11-08 21:25:00\"\n",
    "\n",
    "from datetime import datetime\n",
    "DATE_FORMAT = '%Y-%m-%d %H:%M:%S'\n",
    "from_ts = datetime.timestamp(datetime.strptime(START_DATE, DATE_FORMAT)) * 1000\n",
    "to_ts = datetime.timestamp(datetime.strptime(END_DATE, DATE_FORMAT)) * 1000"
   ]
  },
  {
   "cell_type": "markdown",
   "metadata": {},
   "source": [
    "Let's find this property and read the data."
   ]
  },
  {
   "cell_type": "code",
   "execution_count": 6,
   "metadata": {},
   "outputs": [
    {
     "ename": "AttributeError",
     "evalue": "'NoneType' object has no attribute 'read'",
     "output_type": "error",
     "traceback": [
      "\u001b[1;31m---------------------------------------------------------------------------\u001b[0m",
      "\u001b[1;31mAttributeError\u001b[0m                            Traceback (most recent call last)",
      "\u001b[1;32m<ipython-input-6-2ec2da368c54>\u001b[0m in \u001b[0;36m<module>\u001b[1;34m\u001b[0m\n\u001b[0;32m      2\u001b[0m \u001b[1;33m\u001b[0m\u001b[0m\n\u001b[0;32m      3\u001b[0m \u001b[0mmy_property\u001b[0m \u001b[1;33m=\u001b[0m \u001b[0mmy_thing\u001b[0m\u001b[1;33m.\u001b[0m\u001b[0mfind_property_by_name\u001b[0m\u001b[1;33m(\u001b[0m\u001b[0mPROPERTY_NAME\u001b[0m\u001b[1;33m)\u001b[0m\u001b[1;33m\u001b[0m\u001b[1;33m\u001b[0m\u001b[0m\n\u001b[1;32m----> 4\u001b[1;33m \u001b[0mmy_property\u001b[0m\u001b[1;33m.\u001b[0m\u001b[0mread\u001b[0m\u001b[1;33m(\u001b[0m\u001b[0mfrom_ts\u001b[0m\u001b[1;33m,\u001b[0m \u001b[0mto_ts\u001b[0m\u001b[1;33m)\u001b[0m\u001b[1;33m\u001b[0m\u001b[1;33m\u001b[0m\u001b[0m\n\u001b[0m",
      "\u001b[1;31mAttributeError\u001b[0m: 'NoneType' object has no attribute 'read'"
     ]
    }
   ],
   "source": [
    "PROPERTY_NAME = \"My Random Property 18\"\n",
    "\n",
    "my_property = my_thing.find_property_by_name(PROPERTY_NAME)\n",
    "my_property.read(from_ts, to_ts)"
   ]
  },
  {
   "cell_type": "markdown",
   "metadata": {},
   "source": [
    "How many data point did we get?"
   ]
  },
  {
   "cell_type": "code",
   "execution_count": 7,
   "metadata": {},
   "outputs": [
    {
     "ename": "AttributeError",
     "evalue": "'NoneType' object has no attribute 'values'",
     "output_type": "error",
     "traceback": [
      "\u001b[1;31m---------------------------------------------------------------------------\u001b[0m",
      "\u001b[1;31mAttributeError\u001b[0m                            Traceback (most recent call last)",
      "\u001b[1;32m<ipython-input-7-b9ee89cc78ac>\u001b[0m in \u001b[0;36m<module>\u001b[1;34m\u001b[0m\n\u001b[1;32m----> 1\u001b[1;33m \u001b[0mprint\u001b[0m\u001b[1;33m(\u001b[0m\u001b[0mlen\u001b[0m\u001b[1;33m(\u001b[0m\u001b[0mmy_property\u001b[0m\u001b[1;33m.\u001b[0m\u001b[0mvalues\u001b[0m\u001b[1;33m)\u001b[0m\u001b[1;33m)\u001b[0m\u001b[1;33m\u001b[0m\u001b[1;33m\u001b[0m\u001b[0m\n\u001b[0m",
      "\u001b[1;31mAttributeError\u001b[0m: 'NoneType' object has no attribute 'values'"
     ]
    }
   ],
   "source": [
    "print(len(my_property.values))"
   ]
  },
  {
   "cell_type": "markdown",
   "metadata": {},
   "source": [
    "Display values"
   ]
  },
  {
   "cell_type": "code",
   "execution_count": 8,
   "metadata": {},
   "outputs": [
    {
     "ename": "AttributeError",
     "evalue": "'NoneType' object has no attribute 'values'",
     "output_type": "error",
     "traceback": [
      "\u001b[1;31m---------------------------------------------------------------------------\u001b[0m",
      "\u001b[1;31mAttributeError\u001b[0m                            Traceback (most recent call last)",
      "\u001b[1;32m<ipython-input-8-1c916dc5d935>\u001b[0m in \u001b[0;36m<module>\u001b[1;34m\u001b[0m\n\u001b[1;32m----> 1\u001b[1;33m \u001b[0mmy_property\u001b[0m\u001b[1;33m.\u001b[0m\u001b[0mvalues\u001b[0m\u001b[1;33m\u001b[0m\u001b[1;33m\u001b[0m\u001b[0m\n\u001b[0m",
      "\u001b[1;31mAttributeError\u001b[0m: 'NoneType' object has no attribute 'values'"
     ]
    }
   ],
   "source": [
    "my_property.values"
   ]
  },
  {
   "cell_type": "markdown",
   "metadata": {},
   "source": [
    "# From CSV"
   ]
  },
  {
   "cell_type": "code",
   "execution_count": 9,
   "metadata": {
    "pycharm": {
     "name": "#%%\n"
    }
   },
   "outputs": [
    {
     "name": "stderr",
     "output_type": "stream",
     "text": [
      "DEBUG:matplotlib:$HOME=C:\\Users\\Pak_l\n",
      "DEBUG:matplotlib:CONFIGDIR=C:\\Users\\Pak_l\\.matplotlib\n",
      "DEBUG:matplotlib:matplotlib data path: c:\\users\\pak_l\\appdata\\local\\programs\\python\\python37\\lib\\site-packages\\matplotlib\\mpl-data\n",
      "DEBUG:matplotlib:loaded rc file c:\\users\\pak_l\\appdata\\local\\programs\\python\\python37\\lib\\site-packages\\matplotlib\\mpl-data\\matplotlibrc\n",
      "DEBUG:matplotlib:matplotlib version 3.1.1\n",
      "DEBUG:matplotlib:interactive is False\n",
      "DEBUG:matplotlib:platform is win32\n",
      "DEBUG:matplotlib:loaded modules: ['sys', 'builtins', '_frozen_importlib', '_imp', '_thread', '_warnings', '_weakref', 'zipimport', '_frozen_importlib_external', '_io', 'marshal', 'nt', 'winreg', 'encodings', 'codecs', '_codecs', 'encodings.aliases', 'encodings.utf_8', '_signal', '__main__', 'encodings.latin_1', 'io', 'abc', '_abc', '_bootlocale', '_locale', 'encodings.cp1252', 'site', 'os', 'stat', '_stat', 'ntpath', 'genericpath', 'os.path', '_collections_abc', '_sitebuiltins', 'types', 'importlib', 'importlib._bootstrap', 'importlib._bootstrap_external', 'warnings', 'importlib.util', 'importlib.abc', 'importlib.machinery', 'contextlib', 'collections', 'operator', '_operator', 'keyword', 'heapq', '_heapq', 'itertools', 'reprlib', '_collections', 'functools', '_functools', 'mpl_toolkits', 'runpy', 'pkgutil', 'weakref', '_weakrefset', 'ipykernel', 'ipykernel._version', 'ipykernel.connect', '__future__', 'json', 'json.decoder', 're', 'enum', 'sre_compile', '_sre', 'sre_parse', 'sre_constants', 'copyreg', 'json.scanner', '_json', 'json.encoder', 'subprocess', 'time', 'signal', 'errno', 'threading', 'traceback', 'linecache', 'tokenize', 'token', 'msvcrt', '_winapi', 'IPython', 'IPython.core', 'IPython.core.getipython', 'IPython.core.release', 'IPython.core.application', 'atexit', 'copy', 'glob', 'fnmatch', 'posixpath', 'logging', 'collections.abc', 'string', '_string', 'shutil', 'zlib', 'bz2', '_compression', '_bz2', 'lzma', '_lzma', 'traitlets', 'traitlets.traitlets', 'inspect', 'dis', 'opcode', '_opcode', 'six', 'struct', '_struct', 'traitlets.utils', 'traitlets.utils.getargspec', 'traitlets.utils.importstring', 'ipython_genutils', 'ipython_genutils._version', 'ipython_genutils.py3compat', 'ipython_genutils.encoding', 'locale', 'platform', 'traitlets.utils.sentinel', 'traitlets.utils.bunch', 'traitlets._version', 'traitlets.config', 'traitlets.config.application', 'decorator', 'traitlets.config.configurable', 'traitlets.config.loader', 'argparse', 'gettext', 'ast', '_ast', 'ipython_genutils.path', 'random', 'math', 'hashlib', '_hashlib', '_blake2', '_sha3', 'bisect', '_bisect', '_random', 'ipython_genutils.text', 'textwrap', 'ipython_genutils.importstring', 'IPython.core.crashhandler', 'pprint', 'IPython.core.ultratb', 'pydoc', 'urllib', 'urllib.parse', 'IPython.core.debugger', 'bdb', 'IPython.utils', 'IPython.utils.PyColorize', 'IPython.utils.coloransi', 'IPython.utils.ipstruct', 'IPython.utils.colorable', 'pygments', 'pygments.util', 'IPython.utils.py3compat', 'IPython.utils.encoding', 'IPython.core.excolors', 'IPython.testing', 'IPython.testing.skipdoctest', 'pdb', 'cmd', 'code', 'codeop', 'IPython.core.display_trap', 'IPython.utils.path', 'IPython.utils.process', 'IPython.utils._process_win32', 'ctypes', '_ctypes', 'ctypes._endian', 'ctypes.wintypes', 'IPython.utils._process_common', 'shlex', 'IPython.utils.decorators', 'IPython.utils.data', 'IPython.utils.terminal', 'IPython.utils.sysinfo', 'IPython.utils._sysinfo', 'IPython.core.profiledir', 'IPython.paths', 'tempfile', 'IPython.utils.importstring', 'IPython.terminal', 'IPython.terminal.embed', 'IPython.core.compilerop', 'IPython.core.magic_arguments', 'IPython.core.error', 'IPython.utils.text', 'pathlib', 'IPython.core.magic', 'getopt', 'IPython.core.oinspect', 'IPython.core.page', 'IPython.core.display', 'binascii', 'mimetypes', 'IPython.lib', 'IPython.lib.security', 'getpass', 'IPython.lib.pretty', 'datetime', '_datetime', 'IPython.utils.openpy', 'IPython.utils.dir2', 'IPython.utils.wildcard', 'pygments.lexers', 'pygments.lexers._mapping', 'pygments.modeline', 'pygments.plugin', 'pygments.lexers.python', 'pygments.lexer', 'pygments.filter', 'pygments.filters', 'pygments.token', 'pygments.regexopt', 'pygments.unistring', 'pygments.formatters', 'pygments.formatters._mapping', 'pygments.formatters.html', 'pygments.formatter', 'pygments.styles', 'IPython.core.inputtransformer2', 'typing', 'typing.io', 'typing.re', 'IPython.core.interactiveshell', 'asyncio', 'asyncio.base_events', 'concurrent', 'concurrent.futures', 'concurrent.futures._base', 'socket', '_socket', 'selectors', 'select', 'ssl', '_ssl', 'base64', 'asyncio.constants', 'asyncio.coroutines', 'asyncio.base_futures', 'asyncio.format_helpers', 'asyncio.log', 'asyncio.events', 'contextvars', '_contextvars', 'asyncio.base_tasks', '_asyncio', 'asyncio.futures', 'asyncio.protocols', 'asyncio.sslproto', 'asyncio.transports', 'asyncio.tasks', 'asyncio.locks', 'asyncio.runners', 'asyncio.queues', 'asyncio.streams', 'asyncio.subprocess', 'asyncio.windows_events', '_overlapped', 'asyncio.base_subprocess', 'asyncio.proactor_events', 'asyncio.selector_events', 'asyncio.windows_utils', 'pickleshare', 'pickle', '_compat_pickle', '_pickle', 'IPython.core.prefilter', 'IPython.core.autocall', 'IPython.core.macro', 'IPython.core.splitinput', 'IPython.core.alias', 'IPython.core.builtin_trap', 'IPython.core.events', 'backcall', 'backcall.backcall', 'IPython.core.displayhook', 'IPython.core.displaypub', 'IPython.core.extensions', 'IPython.core.formatters', 'IPython.utils.sentinel', 'IPython.core.history', 'sqlite3', 'sqlite3.dbapi2', '_sqlite3', 'IPython.core.logger', 'IPython.core.payload', 'IPython.core.usage', 'IPython.display', 'IPython.lib.display', 'html', 'html.entities', 'IPython.utils.io', 'IPython.utils.capture', 'IPython.utils.strdispatch', 'IPython.core.hooks', 'IPython.utils.syspathcontext', 'IPython.utils.tempdir', 'IPython.utils.contexts', 'IPython.core.async_helpers', 'IPython.terminal.interactiveshell', 'prompt_toolkit', 'prompt_toolkit.application', 'prompt_toolkit.application.application', 'prompt_toolkit.buffer', 'six.moves', 'prompt_toolkit.application.current', 'prompt_toolkit.eventloop', 'prompt_toolkit.eventloop.async_generator', 'queue', '_queue', 'six.moves.queue', 'prompt_toolkit.eventloop.coroutine', 'prompt_toolkit.eventloop.defaults', 'prompt_toolkit.utils', 'wcwidth', 'wcwidth.wcwidth', 'wcwidth.table_wide', 'wcwidth.table_zero', 'prompt_toolkit.cache', 'prompt_toolkit.eventloop.base', 'prompt_toolkit.log', 'prompt_toolkit.eventloop.future', 'prompt_toolkit.eventloop.context', 'prompt_toolkit.eventloop.event', 'prompt_toolkit.application.run_in_terminal', 'prompt_toolkit.auto_suggest', 'prompt_toolkit.filters', 'prompt_toolkit.filters.app', 'prompt_toolkit.enums', 'prompt_toolkit.filters.base', 'prompt_toolkit.filters.cli', 'prompt_toolkit.filters.utils', 'prompt_toolkit.clipboard', 'prompt_toolkit.clipboard.base', 'prompt_toolkit.selection', 'prompt_toolkit.clipboard.in_memory', 'prompt_toolkit.completion', 'prompt_toolkit.completion.base', 'prompt_toolkit.completion.filesystem', 'prompt_toolkit.completion.fuzzy_completer', 'prompt_toolkit.document', 'prompt_toolkit.completion.word_completer', 'prompt_toolkit.history', 'prompt_toolkit.search', 'prompt_toolkit.key_binding', 'prompt_toolkit.key_binding.key_bindings', 'prompt_toolkit.keys', 'prompt_toolkit.key_binding.vi_state', 'prompt_toolkit.validation', 'prompt_toolkit.input', 'prompt_toolkit.input.base', 'prompt_toolkit.input.defaults', 'prompt_toolkit.input.typeahead', 'prompt_toolkit.key_binding.bindings', 'prompt_toolkit.key_binding.bindings.page_navigation', 'prompt_toolkit.key_binding.bindings.scroll', 'prompt_toolkit.key_binding.defaults', 'prompt_toolkit.key_binding.bindings.basic', 'prompt_toolkit.key_binding.key_processor', 'prompt_toolkit.key_binding.bindings.named_commands', 'prompt_toolkit.key_binding.bindings.completion', 'prompt_toolkit.key_binding.bindings.cpr', 'prompt_toolkit.key_binding.bindings.emacs', 'prompt_toolkit.key_binding.bindings.mouse', 'prompt_toolkit.layout', 'prompt_toolkit.layout.containers', 'prompt_toolkit.formatted_text', 'prompt_toolkit.formatted_text.ansi', 'prompt_toolkit.output', 'prompt_toolkit.output.base', 'prompt_toolkit.layout.screen', 'prompt_toolkit.output.color_depth', 'prompt_toolkit.output.defaults', 'prompt_toolkit.output.vt100', 'array', 'prompt_toolkit.styles', 'prompt_toolkit.styles.base', 'prompt_toolkit.styles.defaults', 'prompt_toolkit.styles.named_colors', 'prompt_toolkit.styles.style', 'prompt_toolkit.styles.pygments', 'prompt_toolkit.styles.style_transformation', 'colorsys', 'prompt_toolkit.formatted_text.base', 'prompt_toolkit.formatted_text.html', 'xml', 'xml.dom', 'xml.dom.domreg', 'xml.dom.minidom', 'xml.dom.minicompat', 'xml.dom.xmlbuilder', 'xml.dom.NodeFilter', 'prompt_toolkit.formatted_text.pygments', 'prompt_toolkit.formatted_text.utils', 'prompt_toolkit.mouse_events', 'prompt_toolkit.layout.controls', 'prompt_toolkit.lexers', 'prompt_toolkit.lexers.base', 'prompt_toolkit.lexers.pygments', 'prompt_toolkit.layout.processors', 'prompt_toolkit.layout.utils', 'prompt_toolkit.layout.dimension', 'prompt_toolkit.layout.margins', 'prompt_toolkit.layout.layout', 'prompt_toolkit.layout.menus', 'prompt_toolkit.renderer', 'prompt_toolkit.layout.mouse_handlers', 'prompt_toolkit.key_binding.bindings.vi', 'prompt_toolkit.input.vt100_parser', 'prompt_toolkit.input.ansi_escape_sequences', 'prompt_toolkit.key_binding.digraphs', 'prompt_toolkit.key_binding.emacs_state', 'prompt_toolkit.layout.dummy', 'prompt_toolkit.application.dummy', 'prompt_toolkit.shortcuts', 'prompt_toolkit.shortcuts.dialogs', 'prompt_toolkit.key_binding.bindings.focus', 'prompt_toolkit.widgets', 'prompt_toolkit.widgets.base', 'prompt_toolkit.widgets.toolbars', 'prompt_toolkit.widgets.dialogs', 'prompt_toolkit.widgets.menus', 'prompt_toolkit.shortcuts.progress_bar', 'prompt_toolkit.shortcuts.progress_bar.base', 'prompt_toolkit.shortcuts.progress_bar.formatters', 'prompt_toolkit.shortcuts.prompt', 'prompt_toolkit.key_binding.bindings.auto_suggest', 'prompt_toolkit.key_binding.bindings.open_in_editor', 'prompt_toolkit.shortcuts.utils', 'prompt_toolkit.patch_stdout', 'pygments.style', 'IPython.terminal.debugger', 'IPython.core.completer', 'unicodedata', 'IPython.core.latex_symbols', 'IPython.utils.generics', 'jedi', 'jedi.api', 'parso', 'parso.parser', 'parso.tree', 'parso._compatibility', 'parso.utils', 'parso.pgen2', 'parso.pgen2.generator', 'parso.pgen2.grammar_parser', 'parso.python', 'parso.python.tokenize', 'parso.python.token', 'parso.grammar', 'parso.python.diff', 'difflib', 'parso.python.parser', 'parso.python.tree', 'parso.python.prefix', 'parso.cache', 'gc', 'parso.python.errors', 'parso.normalizer', 'parso.python.pep8', 'parso.file_io', 'jedi._compatibility', 'jedi.file_io', 'jedi.parser_utils', 'jedi.debug', 'jedi.settings', 'jedi.cache', 'jedi.api.classes', 'jedi.evaluate', 'jedi.evaluate.utils', 'jedi.evaluate.imports', 'jedi.evaluate.sys_path', 'jedi.evaluate.cache', 'jedi.evaluate.base_context', 'jedi.common', 'jedi.common.context', 'jedi.evaluate.helpers', 'jedi.common.utils', 'jedi.evaluate.compiled', 'jedi.evaluate.compiled.context', 'jedi.evaluate.filters', 'jedi.evaluate.flow_analysis', 'jedi.evaluate.recursion', 'jedi.evaluate.names', 'jedi.evaluate.lazy_context', 'jedi.evaluate.compiled.access', 'jedi.evaluate.compiled.getattr_static', 'jedi.evaluate.signature', 'jedi.evaluate.analysis', 'jedi.evaluate.gradual', 'jedi.evaluate.gradual.typeshed', 'jedi.evaluate.gradual.stub_context', 'jedi.evaluate.context', 'jedi.evaluate.context.module', 'jedi.evaluate.context.klass', 'jedi.evaluate.arguments', 'jedi.evaluate.context.iterable', 'jedi.evaluate.param', 'jedi.evaluate.docstrings', 'jedi.evaluate.context.function', 'jedi.evaluate.parser_cache', 'jedi.evaluate.context.instance', 'jedi.evaluate.gradual.typing', 'jedi.evaluate.syntax_tree', 'jedi.evaluate.finder', 'jedi.evaluate.gradual.conversion', 'jedi.evaluate.gradual.annotation', 'jedi.api.keywords', 'pydoc_data', 'pydoc_data.topics', 'jedi.api.interpreter', 'jedi.evaluate.compiled.mixed', 'jedi.api.helpers', 'jedi.api.completion', 'jedi.api.environment', 'filecmp', 'jedi.evaluate.compiled.subprocess', 'jedi.evaluate.compiled.subprocess.functions', 'jedi.api.exceptions', 'jedi.api.project', 'jedi.evaluate.usages', 'jedi.evaluate.gradual.utils', 'IPython.terminal.ptutils', 'IPython.terminal.shortcuts', 'IPython.lib.clipboard', 'IPython.terminal.magics', 'IPython.terminal.pt_inputhooks', 'IPython.terminal.prompts', 'IPython.terminal.ipapp', 'IPython.core.magics', 'IPython.core.magics.auto', 'IPython.core.magics.basic', 'IPython.core.magics.code', 'urllib.request', 'email', 'http', 'http.client', 'email.parser', 'email.feedparser', 'email.errors', 'email._policybase', 'email.header', 'email.quoprimime', 'email.base64mime', 'email.charset', 'email.encoders', 'quopri', 'email.utils', 'email._parseaddr', 'calendar', 'email.message', 'uu', 'email._encoded_words', 'email.iterators', 'urllib.error', 'urllib.response', 'nturl2path', 'IPython.core.magics.config', 'IPython.core.magics.display', 'IPython.core.magics.execution', 'timeit', 'cProfile', '_lsprof', 'profile', 'pstats', 'IPython.utils.module_paths', 'IPython.utils.timing', 'IPython.core.magics.extension', 'IPython.core.magics.history', 'IPython.core.magics.logging', 'IPython.core.magics.namespace', 'IPython.core.magics.osm', 'IPython.core.magics.packaging', 'IPython.core.magics.pylab', 'IPython.core.pylabtools', 'IPython.core.magics.script', 'IPython.lib.backgroundjobs', 'IPython.core.shellapp', 'IPython.extensions', 'IPython.extensions.storemagic', 'IPython.utils.frame', 'jupyter_client', 'jupyter_client._version', 'jupyter_client.connect', 'zmq', 'zmq.libzmq', 'zmq.backend', 'zmq.backend.select', 'zmq.backend.cython', 'zmq.backend.cython.constants', 'cython_runtime', 'zmq.backend.cython.error', '_cython_0_29_13', 'zmq.backend.cython.message', 'zmq.error', 'zmq.backend.cython.context', 'zmq.backend.cython.socket', 'zmq.backend.cython.utils', 'zmq.backend.cython._poll', 'zmq.backend.cython._version', 'zmq.backend.cython._device', 'zmq.backend.cython._proxy_steerable', 'zmq.sugar', 'zmq.sugar.constants', 'zmq.utils', 'zmq.utils.constant_names', 'zmq.sugar.context', 'zmq.sugar.attrsettr', 'zmq.sugar.socket', 'zmq.sugar.poll', 'zmq.utils.jsonapi', 'zmq.utils.strtypes', 'zmq.sugar.frame', 'zmq.sugar.tracker', 'zmq.sugar.version', 'zmq.sugar.stopwatch', 'jupyter_client.localinterfaces', 'jupyter_core', 'jupyter_core.version', 'jupyter_core.paths', 'jupyter_client.launcher', 'traitlets.log', 'jupyter_client.client', 'jupyter_client.channels', 'jupyter_client.channelsabc', 'jupyter_client.clientabc', 'jupyter_client.manager', 'jupyter_client.kernelspec', 'jupyter_client.managerabc', 'jupyter_client.blocking', 'jupyter_client.blocking.client', 'jupyter_client.blocking.channels', 'jupyter_client.multikernelmanager', 'uuid', 'ipykernel.kernelapp', 'tornado', 'tornado.ioloop', 'numbers', 'tornado.concurrent', 'tornado.log', 'logging.handlers', 'tornado.escape', 'tornado.util', 'tornado.speedups', 'colorama', 'colorama.initialise', 'colorama.ansitowin32', 'colorama.ansi', 'colorama.winterm', 'colorama.win32', 'zmq.eventloop', 'zmq.eventloop.ioloop', 'tornado.platform', 'tornado.platform.asyncio', 'tornado.gen', 'zmq.eventloop.zmqstream', 'ipykernel.iostream', 'imp', 'jupyter_client.session', 'hmac', 'jupyter_client.jsonutil', 'dateutil', 'dateutil._version', 'dateutil.parser', 'dateutil.parser._parser', 'decimal', '_decimal', 'dateutil.relativedelta', 'dateutil._common', 'dateutil.tz', 'dateutil.tz.tz', 'dateutil.tz._common', 'dateutil.tz._factories', 'dateutil.tz.win', 'dateutil.parser.isoparser', '_strptime', 'jupyter_client.adapter', 'ipykernel.heartbeat', 'ipykernel.ipkernel', 'IPython.utils.tokenutil', 'ipykernel.comm', 'ipykernel.comm.manager', 'ipykernel.comm.comm', 'ipykernel.kernelbase', 'tornado.queues', 'tornado.locks', 'ipykernel.jsonutil', 'ipykernel.zmqshell', 'IPython.core.payloadpage', 'ipykernel.displayhook', 'ipykernel.eventloops', 'distutils', 'distutils.version', 'ipykernel.parentpoller', 'win32api', 'win32security', 'ntsecuritycon', 'faulthandler', 'ipykernel.datapub', 'ipykernel.serialize', 'ipykernel.pickleutil', 'ipykernel.codeutil', 'IPython.core.completerlib', 'storemagic', 'ipywidgets', 'ipywidgets._version', 'ipywidgets.widgets', 'ipywidgets.widgets.widget', 'ipywidgets.widgets.domwidget', 'ipywidgets.widgets.trait_types', 'ipywidgets.widgets.util', 'ipywidgets.widgets.widget_layout', 'ipywidgets.widgets.widget_style', 'ipywidgets.widgets.valuewidget', 'ipywidgets.widgets.widget_core', 'ipywidgets.widgets.widget_bool', 'ipywidgets.widgets.widget_description', 'ipywidgets.widgets.widget_button', 'ipywidgets.widgets.widget_box', 'ipywidgets.widgets.docutils', 'ipywidgets.widgets.widget_float', 'ipywidgets.widgets.widget_int', 'ipywidgets.widgets.widget_color', 'ipywidgets.widgets.widget_date', 'ipywidgets.widgets.widget_output', 'ipywidgets.widgets.widget_selection', 'ipywidgets.widgets.widget_selectioncontainer', 'ipywidgets.widgets.widget_string', 'ipywidgets.widgets.widget_controller', 'ipywidgets.widgets.interaction', 'ipywidgets.widgets.widget_link', 'ipywidgets.widgets.widget_media', 'ipywidgets.widgets.widget_templates', 'ipywidgets.widgets.widget_upload', 'dcd', 'dcd.entities', 'dcd.entities.thing', 'dcd.entities.property', 'dcd.helpers', 'dcd.helpers.mqtt', 'requests', 'urllib3', 'urllib3.connectionpool', 'urllib3.exceptions', 'urllib3.packages', 'urllib3.packages.ssl_match_hostname', 'urllib3.packages.six', 'urllib3.packages.six.moves', 'urllib3.packages.six.moves.http_client', 'urllib3.connection', 'urllib3.util', 'urllib3.util.connection', 'urllib3.util.wait', 'urllib3.contrib', 'urllib3.contrib._appengine_environ', 'urllib3.util.request', 'urllib3.util.response', 'urllib3.util.ssl_', 'urllib3.util.url', 'urllib3.util.timeout', 'urllib3.util.retry', 'urllib3._collections', 'urllib3.request', 'urllib3.filepost', 'urllib3.fields', 'urllib3.packages.six.moves.urllib', 'urllib3.packages.six.moves.urllib.parse', 'urllib3.response', 'urllib3.util.queue', 'urllib3.poolmanager', 'chardet', 'chardet.compat', 'chardet.universaldetector', 'chardet.charsetgroupprober', 'chardet.enums', 'chardet.charsetprober', 'chardet.escprober', 'chardet.codingstatemachine', 'chardet.escsm', 'chardet.latin1prober', 'chardet.mbcsgroupprober', 'chardet.utf8prober', 'chardet.mbcssm', 'chardet.sjisprober', 'chardet.mbcharsetprober', 'chardet.chardistribution', 'chardet.euctwfreq', 'chardet.euckrfreq', 'chardet.gb2312freq', 'chardet.big5freq', 'chardet.jisfreq', 'chardet.jpcntx', 'chardet.eucjpprober', 'chardet.gb2312prober', 'chardet.euckrprober', 'chardet.cp949prober', 'chardet.big5prober', 'chardet.euctwprober', 'chardet.sbcsgroupprober', 'chardet.sbcharsetprober', 'chardet.langcyrillicmodel', 'chardet.langgreekmodel', 'chardet.langbulgarianmodel', 'chardet.langthaimodel', 'chardet.langhebrewmodel', 'chardet.hebrewprober', 'chardet.langturkishmodel', 'chardet.version', 'requests.exceptions', 'requests.__version__', 'requests.utils', 'zipfile', 'requests.certs', 'certifi', 'certifi.core', 'requests._internal_utils', 'requests.compat', 'http.cookiejar', 'http.cookies', 'requests.cookies', 'requests.structures', 'requests.packages', 'requests.packages.urllib3', 'requests.packages.urllib3.connectionpool', 'requests.packages.urllib3.exceptions', 'requests.packages.urllib3.packages', 'requests.packages.urllib3.packages.ssl_match_hostname', 'requests.packages.urllib3.packages.six', 'requests.packages.urllib3.packages.six.moves', 'requests.packages.urllib3.packages.six.moves.http_client', 'requests.packages.urllib3.connection', 'requests.packages.urllib3.util', 'requests.packages.urllib3.util.connection', 'requests.packages.urllib3.util.wait', 'requests.packages.urllib3.contrib', 'requests.packages.urllib3.contrib._appengine_environ', 'requests.packages.urllib3.util.request', 'requests.packages.urllib3.util.response', 'requests.packages.urllib3.util.ssl_', 'requests.packages.urllib3.util.url', 'requests.packages.urllib3.util.timeout', 'requests.packages.urllib3.util.retry', 'requests.packages.urllib3._collections', 'requests.packages.urllib3.request', 'requests.packages.urllib3.filepost', 'requests.packages.urllib3.fields', 'requests.packages.urllib3.packages.six.moves.urllib', 'requests.packages.urllib3.packages.six.moves.urllib.parse', 'requests.packages.urllib3.response', 'requests.packages.urllib3.util.queue', 'requests.packages.urllib3.poolmanager', 'idna', 'idna.package_data', 'idna.core', 'idna.idnadata', 'idna.intranges', 'requests.packages.idna', 'requests.packages.idna.package_data', 'requests.packages.idna.core', 'requests.packages.idna.idnadata', 'requests.packages.idna.intranges', 'requests.packages.chardet', 'requests.packages.chardet.compat', 'requests.packages.chardet.universaldetector', 'requests.packages.chardet.charsetgroupprober', 'requests.packages.chardet.enums', 'requests.packages.chardet.charsetprober', 'requests.packages.chardet.escprober', 'requests.packages.chardet.codingstatemachine', 'requests.packages.chardet.escsm', 'requests.packages.chardet.latin1prober', 'requests.packages.chardet.mbcsgroupprober', 'requests.packages.chardet.utf8prober', 'requests.packages.chardet.mbcssm', 'requests.packages.chardet.sjisprober', 'requests.packages.chardet.mbcharsetprober', 'requests.packages.chardet.chardistribution', 'requests.packages.chardet.euctwfreq', 'requests.packages.chardet.euckrfreq', 'requests.packages.chardet.gb2312freq', 'requests.packages.chardet.big5freq', 'requests.packages.chardet.jisfreq', 'requests.packages.chardet.jpcntx', 'requests.packages.chardet.eucjpprober', 'requests.packages.chardet.gb2312prober', 'requests.packages.chardet.euckrprober', 'requests.packages.chardet.cp949prober', 'requests.packages.chardet.big5prober', 'requests.packages.chardet.euctwprober', 'requests.packages.chardet.sbcsgroupprober', 'requests.packages.chardet.sbcharsetprober', 'requests.packages.chardet.langcyrillicmodel', 'requests.packages.chardet.langgreekmodel', 'requests.packages.chardet.langbulgarianmodel', 'requests.packages.chardet.langthaimodel', 'requests.packages.chardet.langhebrewmodel', 'requests.packages.chardet.hebrewprober', 'requests.packages.chardet.langturkishmodel', 'requests.packages.chardet.version', 'requests.models', 'encodings.idna', 'stringprep', 'requests.hooks', 'requests.auth', 'requests.status_codes', 'requests.api', 'requests.sessions', 'requests.adapters', 'dotenv', 'dotenv.main', 'dotenv.compat', 'dotenv.parser', 'paho', 'paho.mqtt', 'paho.mqtt.client', 'paho.mqtt.matcher', 'jwt', 'jwt.jwa', 'cryptography', 'cryptography.__about__', 'cryptography.hazmat', 'cryptography.hazmat.primitives', 'cryptography.hazmat.primitives.hashes', 'cryptography.utils', 'cryptography.exceptions', 'cryptography.hazmat.backends', 'cryptography.hazmat.backends.interfaces', 'jwt.exceptions', 'jwt.jwk', 'cryptography.hazmat.primitives.asymmetric', 'cryptography.hazmat.primitives.asymmetric.padding', 'cryptography.hazmat.primitives.asymmetric.rsa', 'cryptography.hazmat.primitives.serialization', 'cryptography.hazmat.primitives.serialization.base', 'cryptography.hazmat.primitives.serialization.ssh', 'cryptography.hazmat.primitives.asymmetric.dsa', 'cryptography.hazmat.primitives.asymmetric.ec', 'cryptography.hazmat._oid', 'cryptography.hazmat.primitives.asymmetric.ed25519', 'jwt.utils', 'jwt.jwkset', 'jwt.jws', 'jwt.jwt', 'netrc', 'numpy', 'numpy._globals', 'numpy.__config__', 'numpy.version', 'numpy._distributor_init', 'numpy.core', 'numpy.core.info', 'numpy.core.multiarray', 'numpy.core.overrides', 'numpy.core._multiarray_umath', 'numpy.compat', 'numpy.compat._inspect', 'numpy.compat.py3k', 'numpy.core.umath', 'numpy.core.numerictypes', 'numpy.core._string_helpers', 'numpy.core._type_aliases', 'numpy.core._dtype', 'numpy.core.numeric', 'numpy.core._exceptions', 'numpy.core._asarray', 'numpy.core._ufunc_config', 'numpy.core.fromnumeric', 'numpy.core._methods', 'numpy.core.arrayprint', 'numpy.core.defchararray', 'numpy.core.records', 'numpy.core.memmap', 'numpy.core.function_base', 'numpy.core.machar', 'numpy.core.getlimits', 'numpy.core.shape_base', 'numpy.core.einsumfunc', 'numpy.core._add_newdocs', 'numpy.core._multiarray_tests', 'numpy.core._dtype_ctypes', 'numpy.core._internal', 'numpy._pytesttester', 'numpy.lib', 'numpy.lib.info', 'numpy.lib.type_check', 'numpy.lib.ufunclike', 'numpy.lib.index_tricks', 'numpy.matrixlib', 'numpy.matrixlib.defmatrix', 'numpy.linalg', 'numpy.linalg.info', 'numpy.linalg.linalg', 'numpy.lib.twodim_base', 'numpy.linalg.lapack_lite', 'numpy.linalg._umath_linalg', 'numpy.lib.function_base', 'numpy.lib.histograms', 'numpy.lib.stride_tricks', 'numpy.lib.mixins', 'numpy.lib.nanfunctions', 'numpy.lib.shape_base', 'numpy.lib.scimath', 'numpy.lib.polynomial', 'numpy.lib.utils', 'numpy.lib.arraysetops', 'numpy.lib.npyio', 'numpy.lib.format', 'numpy.lib._datasource', 'numpy.lib._iotools', 'numpy.lib.financial', 'numpy.lib.arrayterator', 'numpy.lib.arraypad', 'numpy.lib._version', 'numpy.fft', 'numpy.fft._pocketfft', 'numpy.fft._pocketfft_internal', 'numpy.fft.helper', 'numpy.polynomial', 'numpy.polynomial.polynomial', 'numpy.polynomial.polyutils', 'numpy.polynomial._polybase', 'numpy.polynomial.chebyshev', 'numpy.polynomial.legendre', 'numpy.polynomial.hermite', 'numpy.polynomial.hermite_e', 'numpy.polynomial.laguerre', 'numpy.random', 'numpy.random._pickle', 'numpy.random.mtrand', 'numpy.random.common', 'numpy.random.bounded_integers', 'numpy.random.mt19937', 'numpy.random.bit_generator', 'secrets', 'numpy.random.philox', 'numpy.random.pcg64', 'numpy.random.sfc64', 'numpy.random.generator', 'numpy.ctypeslib', 'numpy.ma', 'numpy.ma.core', 'numpy.ma.extras', 'numpy.testing', 'unittest', 'unittest.result', 'unittest.util', 'unittest.case', 'unittest.suite', 'unittest.loader', 'unittest.main', 'unittest.runner', 'unittest.signals', 'numpy.testing._private', 'numpy.testing._private.utils', 'numpy.testing._private.decorators', 'numpy.testing._private.nosetester', 'pandas', 'pytz', 'pytz.exceptions', 'pytz.lazy', 'pytz.tzinfo', 'pytz.tzfile', 'pandas.compat', 'pandas.compat.numpy', 'pandas._libs', 'pandas._libs.tslibs', 'pandas._libs.tslibs.conversion', 'pandas._libs.tslibs.c_timestamp', 'pandas._libs.tslibs.nattype', 'pandas._libs.tslibs.np_datetime', 'pandas._libs.tslibs.timezones', 'pandas._libs.tslibs.tzconversion', 'pandas._libs.tslibs.timedeltas', 'pandas._libs.tslibs.offsets', 'pandas._libs.tslibs.ccalendar', 'pandas._config', 'pandas._config.config', 'pandas._config.dates', 'pandas._config.display', 'pandas._config.localization', 'pandas._libs.tslibs.strptime', 'pandas._libs.tslibs.fields', 'pandas._libs.tslibs.parsing', 'pandas._libs.tslibs.period', 'pandas._libs.tslibs.frequencies', 'pandas._libs.tslibs.timestamps', 'pandas._libs.tslibs.resolution', 'pandas._libs.hashtable', 'pandas._libs.missing', 'pandas._libs.lib', 'fractions', 'pandas._libs.tslib', 'pandas.core', 'pandas.core.config_init', 'pandas.core.api', 'pandas.core.arrays', 'pandas.core.arrays.array_', 'pandas.core.dtypes', 'pandas.core.dtypes.common', 'pandas._libs.algos', 'pandas.core.dtypes.dtypes', 'pandas._libs.interval', 'pandas.core.dtypes.generic', 'pandas.core.dtypes.base', 'pandas.errors', 'pandas.core.dtypes.inference', 'pandas._typing', 'pandas.core.arrays.base', 'pandas.compat.numpy.function', 'pandas.util', 'pandas.util._decorators', 'pandas._libs.properties', 'pandas.core.util', 'pandas.core.util.hashing', 'pandas._libs.hashing', 'pandas.core.dtypes.cast', 'pandas.core.dtypes.missing', 'pandas.util._validators', 'pandas.core.ops', 'pandas._libs.ops', 'pandas.core.common', 'pandas.core.ops.missing', 'pandas.core.ops.roperator', 'pandas.core.ops.docstrings', 'pandas.core.sorting', 'pandas.core.algorithms', 'pandas.core.indexers', 'pandas.core.arrays.categorical', 'pandas.core.accessor', 'pandas.core.base', 'pandas.core.nanops', 'pandas.compat._optional', 'pandas.core.missing', 'pandas.io', 'pandas.io.formats', 'pandas.io.formats.console', 'pandas.core.arrays.datetimes', 'pandas.core.arrays.datetimelike', 'pandas.tseries', 'pandas.tseries.frequencies', 'pandas.tseries.offsets', 'dateutil.easter', 'pandas.core.tools', 'pandas.core.tools.datetimes', 'pandas.core.arrays._ranges', 'pandas.core.arrays.integer', 'pandas.core.tools.numeric', 'pandas.core.arrays.interval', 'pandas.core.indexes', 'pandas.core.indexes.base', 'pandas._libs.index', 'pandas._libs.join', 'pandas.core.dtypes.concat', 'pandas.core.indexes.frozen', 'pandas.io.formats.printing', 'pandas.core.strings', 'pandas.core.arrays.numpy_', 'pandas.core.arrays.period', 'pandas.core.arrays.sparse', 'pandas._libs.sparse', 'pandas.core.arrays.timedeltas', 'pandas.core.groupby', 'pandas.core.groupby.generic', 'pandas.core.frame', 'pandas.core.generic', 'pandas.core.index', 'pandas.core.indexes.api', 'pandas.core.indexes.category', 'pandas.core.indexes.datetimes', 'pandas.core.indexes.datetimelike', 'pandas.core.tools.timedeltas', 'pandas.core.indexes.numeric', 'pandas.core.indexes.interval', 'pandas.util._exceptions', 'pandas.core.indexes.multi', 'pandas.core.indexes.timedeltas', 'pandas.core.indexes.period', 'pandas.core.indexes.range', 'pandas.core.indexing', 'pandas._libs.indexing', 'pandas.core.internals', 'pandas.core.internals.blocks', 'pandas._libs.internals', 'pandas.core.internals.arrays', 'pandas.core.internals.managers', 'pandas.core.internals.concat', 'pandas.io.formats.format', 'pandas.io.common', 'csv', '_csv', 'gzip', 'mmap', 'pandas.core.internals.construction', 'pandas.core.series', 'pandas._libs.reshape', 'pandas.core.indexes.accessors', 'pandas.plotting', 'pandas.plotting._core', 'pandas.plotting._matplotlib', 'pandas.plotting._matplotlib.boxplot', 'matplotlib', 'matplotlib.cbook', 'matplotlib.cbook.deprecation', 'matplotlib.rcsetup', 'matplotlib.fontconfig_pattern', 'pyparsing', 'matplotlib.colors', 'matplotlib._color_data', 'cycler', 'matplotlib._version', 'matplotlib.ft2font', 'kiwisolver']\n"
     ]
    },
    {
     "name": "stderr",
     "output_type": "stream",
     "text": [
      "DEBUG:matplotlib:CACHEDIR=C:\\Users\\Pak_l\\.matplotlib\n",
      "DEBUG:matplotlib.font_manager:Using fontManager instance from C:\\Users\\Pak_l\\.matplotlib\\fontlist-v310.json\n"
     ]
    },
    {
     "data": {
      "text/html": [
       "<div>\n",
       "<style scoped>\n",
       "    .dataframe tbody tr th:only-of-type {\n",
       "        vertical-align: middle;\n",
       "    }\n",
       "\n",
       "    .dataframe tbody tr th {\n",
       "        vertical-align: top;\n",
       "    }\n",
       "\n",
       "    .dataframe thead th {\n",
       "        text-align: right;\n",
       "    }\n",
       "</style>\n",
       "<table border=\"1\" class=\"dataframe\">\n",
       "  <thead>\n",
       "    <tr style=\"text-align: right;\">\n",
       "      <th></th>\n",
       "      <th>v</th>\n",
       "    </tr>\n",
       "  </thead>\n",
       "  <tbody>\n",
       "    <tr>\n",
       "      <th>1970-01-01 00:00:00.001</th>\n",
       "      <td>1.0</td>\n",
       "    </tr>\n",
       "    <tr>\n",
       "      <th>1970-01-01 00:00:00.002</th>\n",
       "      <td>2.0</td>\n",
       "    </tr>\n",
       "    <tr>\n",
       "      <th>1970-01-01 00:00:00.003</th>\n",
       "      <td>3.0</td>\n",
       "    </tr>\n",
       "    <tr>\n",
       "      <th>1970-01-01 00:00:00.004</th>\n",
       "      <td>4.0</td>\n",
       "    </tr>\n",
       "    <tr>\n",
       "      <th>1970-01-01 00:00:00.005</th>\n",
       "      <td>5.0</td>\n",
       "    </tr>\n",
       "    <tr>\n",
       "      <th>1970-01-01 00:00:00.006</th>\n",
       "      <td>6.0</td>\n",
       "    </tr>\n",
       "    <tr>\n",
       "      <th>1970-01-01 00:00:00.007</th>\n",
       "      <td>7.0</td>\n",
       "    </tr>\n",
       "    <tr>\n",
       "      <th>1970-01-01 00:00:00.008</th>\n",
       "      <td>8.0</td>\n",
       "    </tr>\n",
       "    <tr>\n",
       "      <th>1970-01-01 00:00:00.009</th>\n",
       "      <td>9.0</td>\n",
       "    </tr>\n",
       "    <tr>\n",
       "      <th>1970-01-01 00:00:00.010</th>\n",
       "      <td>10.0</td>\n",
       "    </tr>\n",
       "  </tbody>\n",
       "</table>\n",
       "</div>"
      ],
      "text/plain": [
       "                            v\n",
       "1970-01-01 00:00:00.001   1.0\n",
       "1970-01-01 00:00:00.002   2.0\n",
       "1970-01-01 00:00:00.003   3.0\n",
       "1970-01-01 00:00:00.004   4.0\n",
       "1970-01-01 00:00:00.005   5.0\n",
       "1970-01-01 00:00:00.006   6.0\n",
       "1970-01-01 00:00:00.007   7.0\n",
       "1970-01-01 00:00:00.008   8.0\n",
       "1970-01-01 00:00:00.009   9.0\n",
       "1970-01-01 00:00:00.010  10.0"
      ]
     },
     "execution_count": 9,
     "metadata": {},
     "output_type": "execute_result"
    }
   ],
   "source": [
    "from numpy import genfromtxt\n",
    "import pandas as pd\n",
    "data = genfromtxt('test.csv', delimiter=',')\n",
    "data_frame = pd.DataFrame(data[:,1:], index = pd.DatetimeIndex(pd.to_datetime(data[:,0], unit='ms')), columns = ['v'])\n",
    "data_frame"
   ]
  },
  {
   "cell_type": "markdown",
   "metadata": {},
   "source": [
    "# Plot some charts with Matplotlib\n",
    "In this example we plot an histogram, distribution of all values and dimensions."
   ]
  },
  {
   "cell_type": "code",
   "execution_count": 11,
   "metadata": {},
   "outputs": [
    {
     "name": "stderr",
     "output_type": "stream",
     "text": [
      "DEBUG:matplotlib.font_manager:findfont: Matching :family=sans-serif:style=normal:variant=normal:weight=normal:stretch=normal:size=10.0.\n",
      "DEBUG:matplotlib.font_manager:findfont: score(<Font 'DejaVu Serif Display' (DejaVuSerifDisplay.ttf) normal normal 400 normal>) = 10.05\n",
      "DEBUG:matplotlib.font_manager:findfont: score(<Font 'DejaVu Sans Mono' (DejaVuSansMono.ttf) normal normal 400 normal>) = 10.05\n",
      "DEBUG:matplotlib.font_manager:findfont: score(<Font 'STIXSizeOneSym' (STIXSizOneSymReg.ttf) normal normal regular normal>) = 10.05\n",
      "DEBUG:matplotlib.font_manager:findfont: score(<Font 'STIXNonUnicode' (STIXNonUni.ttf) normal normal regular normal>) = 10.05\n",
      "DEBUG:matplotlib.font_manager:findfont: score(<Font 'DejaVu Serif' (DejaVuSerif-Italic.ttf) italic normal 400 normal>) = 11.05\n",
      "DEBUG:matplotlib.font_manager:findfont: score(<Font 'cmsy10' (cmsy10.ttf) normal normal 400 normal>) = 10.05\n",
      "DEBUG:matplotlib.font_manager:findfont: score(<Font 'STIXGeneral' (STIXGeneralBolIta.ttf) italic normal bold normal>) = 11.335\n",
      "DEBUG:matplotlib.font_manager:findfont: score(<Font 'DejaVu Sans' (DejaVuSans-Oblique.ttf) oblique normal 400 normal>) = 1.05\n",
      "DEBUG:matplotlib.font_manager:findfont: score(<Font 'DejaVu Serif' (DejaVuSerif-Bold.ttf) normal normal bold normal>) = 10.335\n",
      "DEBUG:matplotlib.font_manager:findfont: score(<Font 'cmb10' (cmb10.ttf) normal normal 400 normal>) = 10.05\n",
      "DEBUG:matplotlib.font_manager:findfont: score(<Font 'STIXSizeTwoSym' (STIXSizTwoSymBol.ttf) normal normal bold normal>) = 10.335\n",
      "DEBUG:matplotlib.font_manager:findfont: score(<Font 'DejaVu Sans' (DejaVuSans.ttf) normal normal 400 normal>) = 0.05\n",
      "DEBUG:matplotlib.font_manager:findfont: score(<Font 'DejaVu Sans' (DejaVuSans-Bold.ttf) normal normal bold normal>) = 0.33499999999999996\n",
      "DEBUG:matplotlib.font_manager:findfont: score(<Font 'DejaVu Sans Mono' (DejaVuSansMono-Bold.ttf) normal normal bold normal>) = 10.335\n",
      "DEBUG:matplotlib.font_manager:findfont: score(<Font 'cmmi10' (cmmi10.ttf) normal normal 400 normal>) = 10.05\n",
      "DEBUG:matplotlib.font_manager:findfont: score(<Font 'STIXGeneral' (STIXGeneral.ttf) normal normal regular normal>) = 10.05\n",
      "DEBUG:matplotlib.font_manager:findfont: score(<Font 'STIXSizeFiveSym' (STIXSizFiveSymReg.ttf) normal normal regular normal>) = 10.05\n",
      "DEBUG:matplotlib.font_manager:findfont: score(<Font 'STIXNonUnicode' (STIXNonUniIta.ttf) italic normal 400 normal>) = 11.05\n",
      "DEBUG:matplotlib.font_manager:findfont: score(<Font 'DejaVu Sans Mono' (DejaVuSansMono-Oblique.ttf) oblique normal 400 normal>) = 11.05\n",
      "DEBUG:matplotlib.font_manager:findfont: score(<Font 'DejaVu Sans Display' (DejaVuSansDisplay.ttf) normal normal 400 normal>) = 10.05\n",
      "DEBUG:matplotlib.font_manager:findfont: score(<Font 'cmex10' (cmex10.ttf) normal normal 400 normal>) = 10.05\n",
      "DEBUG:matplotlib.font_manager:findfont: score(<Font 'STIXSizeFourSym' (STIXSizFourSymBol.ttf) normal normal bold normal>) = 10.335\n",
      "DEBUG:matplotlib.font_manager:findfont: score(<Font 'STIXSizeFourSym' (STIXSizFourSymReg.ttf) normal normal regular normal>) = 10.05\n",
      "DEBUG:matplotlib.font_manager:findfont: score(<Font 'DejaVu Sans' (DejaVuSans-BoldOblique.ttf) oblique normal bold normal>) = 1.335\n",
      "DEBUG:matplotlib.font_manager:findfont: score(<Font 'cmtt10' (cmtt10.ttf) normal normal 400 normal>) = 10.05\n",
      "DEBUG:matplotlib.font_manager:findfont: score(<Font 'STIXGeneral' (STIXGeneralBol.ttf) normal normal bold normal>) = 10.335\n",
      "DEBUG:matplotlib.font_manager:findfont: score(<Font 'STIXSizeThreeSym' (STIXSizThreeSymBol.ttf) normal normal bold normal>) = 10.335\n",
      "DEBUG:matplotlib.font_manager:findfont: score(<Font 'STIXSizeOneSym' (STIXSizOneSymBol.ttf) normal normal bold normal>) = 10.335\n",
      "DEBUG:matplotlib.font_manager:findfont: score(<Font 'STIXSizeThreeSym' (STIXSizThreeSymReg.ttf) normal normal regular normal>) = 10.05\n",
      "DEBUG:matplotlib.font_manager:findfont: score(<Font 'DejaVu Serif' (DejaVuSerif.ttf) normal normal 400 normal>) = 10.05\n",
      "DEBUG:matplotlib.font_manager:findfont: score(<Font 'cmr10' (cmr10.ttf) normal normal 400 normal>) = 10.05\n",
      "DEBUG:matplotlib.font_manager:findfont: score(<Font 'STIXSizeTwoSym' (STIXSizTwoSymReg.ttf) normal normal regular normal>) = 10.05\n",
      "DEBUG:matplotlib.font_manager:findfont: score(<Font 'STIXGeneral' (STIXGeneralItalic.ttf) italic normal 400 normal>) = 11.05\n",
      "DEBUG:matplotlib.font_manager:findfont: score(<Font 'STIXNonUnicode' (STIXNonUniBol.ttf) normal normal bold normal>) = 10.335\n",
      "DEBUG:matplotlib.font_manager:findfont: score(<Font 'DejaVu Sans Mono' (DejaVuSansMono-BoldOblique.ttf) oblique normal bold normal>) = 11.335\n",
      "DEBUG:matplotlib.font_manager:findfont: score(<Font 'STIXNonUnicode' (STIXNonUniBolIta.ttf) italic normal bold normal>) = 11.335\n",
      "DEBUG:matplotlib.font_manager:findfont: score(<Font 'DejaVu Serif' (DejaVuSerif-BoldItalic.ttf) italic normal bold normal>) = 11.335\n",
      "DEBUG:matplotlib.font_manager:findfont: score(<Font 'cmss10' (cmss10.ttf) normal normal 400 normal>) = 10.05\n",
      "DEBUG:matplotlib.font_manager:findfont: score(<Font 'SWLink' (swlink.ttf) normal normal 400 normal>) = 10.05\n",
      "DEBUG:matplotlib.font_manager:findfont: score(<Font 'Verdana Pro' (VerdanaPro-CondLight.ttf) normal normal light condensed>) = 10.44\n",
      "DEBUG:matplotlib.font_manager:findfont: score(<Font 'Kristen ITC' (ITCKRIST.TTF) normal normal 400 normal>) = 10.05\n",
      "DEBUG:matplotlib.font_manager:findfont: score(<Font 'Sylfaen' (sylfaen.ttf) normal normal 400 normal>) = 10.05\n",
      "DEBUG:matplotlib.font_manager:findfont: score(<Font 'Onyx' (ONYX.TTF) normal normal 400 normal>) = 10.05\n",
      "DEBUG:matplotlib.font_manager:findfont: score(<Font 'Tempus Sans ITC' (TEMPSITC.TTF) normal normal 400 normal>) = 10.05\n",
      "DEBUG:matplotlib.font_manager:findfont: score(<Font 'Sitka Small' (Sitka.ttc) normal normal 400 normal>) = 10.05\n",
      "DEBUG:matplotlib.font_manager:findfont: score(<Font 'Bookman Old Style' (BOOKOSI.TTF) italic normal book normal>) = 11.05\n",
      "DEBUG:matplotlib.font_manager:findfont: score(<Font 'Wingdings' (wingding.ttf) normal normal 400 normal>) = 10.05\n",
      "DEBUG:matplotlib.font_manager:findfont: score(<Font 'ESSTIXFifteen' (ESSTIX15.TTF) normal normal 400 normal>) = 10.05\n",
      "DEBUG:matplotlib.font_manager:findfont: score(<Font 'Modern No. 20' (MOD20.TTF) normal normal 400 normal>) = 10.05\n",
      "DEBUG:matplotlib.font_manager:findfont: score(<Font 'Marlett' (marlett.ttf) normal normal 400 normal>) = 10.05\n",
      "DEBUG:matplotlib.font_manager:findfont: score(<Font 'ESSTIXEleven' (ESSTIX11.TTF) normal normal 400 normal>) = 10.05\n",
      "DEBUG:matplotlib.font_manager:findfont: score(<Font 'Tw Cen MT Condensed' (TCCB____.TTF) normal normal bold condensed>) = 10.535\n",
      "DEBUG:matplotlib.font_manager:findfont: score(<Font 'Century Gothic' (GOTHICB.TTF) normal normal bold normal>) = 10.335\n",
      "DEBUG:matplotlib.font_manager:findfont: score(<Font 'Georgia Pro' (GeorgiaPro-Regular.ttf) normal normal 400 normal>) = 10.05\n",
      "DEBUG:matplotlib.font_manager:findfont: score(<Font 'Trebuchet MS' (trebucbi.ttf) italic normal bold normal>) = 11.335\n",
      "DEBUG:matplotlib.font_manager:findfont: score(<Font 'Gill Sans MT' (GILB____.TTF) normal normal bold normal>) = 10.335\n",
      "DEBUG:matplotlib.font_manager:findfont: score(<Font 'Microsoft YaHei' (msyh.ttc) normal normal 400 normal>) = 10.05\n",
      "DEBUG:matplotlib.font_manager:findfont: score(<Font 'Myriad CAD' (myriadcad.otf) normal normal 400 normal>) = 10.05\n",
      "DEBUG:matplotlib.font_manager:findfont: score(<Font 'Constantia' (constan.ttf) normal normal 400 normal>) = 10.05\n",
      "DEBUG:matplotlib.font_manager:findfont: score(<Font 'Tw Cen MT Condensed Extra Bold' (TCCEB.TTF) normal normal bold condensed>) = 10.535\n",
      "DEBUG:matplotlib.font_manager:findfont: score(<Font 'Constantia' (constanz.ttf) italic normal bold normal>) = 11.335\n",
      "DEBUG:matplotlib.font_manager:findfont: score(<Font 'Gill Sans Nova' (GillSansCondExtraItNova.ttf) italic normal 400 condensed>) = 11.25\n",
      "DEBUG:matplotlib.font_manager:findfont: score(<Font 'SWIsot1' (swisot1.ttf) normal normal 400 normal>) = 10.05\n",
      "DEBUG:matplotlib.font_manager:findfont: score(<Font 'French Script MT' (FRSCRIPT.TTF) normal normal 400 normal>) = 10.05\n",
      "DEBUG:matplotlib.font_manager:findfont: score(<Font 'Rockwell Nova' (RockwellNovaCond-BoldItalic.ttf) italic normal bold condensed>) = 11.535\n",
      "DEBUG:matplotlib.font_manager:findfont: score(<Font 'Gill Sans Nova' (GillSansBoItNova.ttf) italic normal bold normal>) = 11.335\n"
     ]
    },
    {
     "name": "stderr",
     "output_type": "stream",
     "text": [
      "DEBUG:matplotlib.font_manager:findfont: score(<Font 'Verdana Pro' (VerdanaPro-BlackItalic.ttf) italic normal black normal>) = 11.525\n",
      "DEBUG:matplotlib.font_manager:findfont: score(<Font 'Dubai' (DUBAI-BOLD.TTF) normal normal bold normal>) = 10.335\n",
      "DEBUG:matplotlib.font_manager:findfont: score(<Font 'Arial' (ARIALN.TTF) normal normal 400 condensed>) = 6.613636363636363\n",
      "DEBUG:matplotlib.font_manager:findfont: score(<Font 'Gill Sans MT' (GILI____.TTF) italic normal 400 normal>) = 11.05\n",
      "DEBUG:matplotlib.font_manager:findfont: score(<Font 'Lucida Bright' (LBRITE.TTF) normal normal 400 normal>) = 10.05\n",
      "DEBUG:matplotlib.font_manager:findfont: score(<Font 'Edwardian Script ITC' (ITCEDSCR.TTF) normal normal 400 normal>) = 10.05\n",
      "DEBUG:matplotlib.font_manager:findfont: score(<Font 'Sitka Small' (SitkaI.ttc) italic normal 400 normal>) = 11.05\n",
      "DEBUG:matplotlib.font_manager:findfont: score(<Font 'Segoe UI' (seguili.ttf) italic normal light normal>) = 11.24\n",
      "DEBUG:matplotlib.font_manager:findfont: score(<Font 'Chiller' (CHILLER.TTF) normal normal 400 normal>) = 10.05\n",
      "DEBUG:matplotlib.font_manager:findfont: score(<Font 'DejaVu Serif' (DejaVuSerifCondensed-Italic.ttf) italic normal 400 condensed>) = 11.25\n",
      "DEBUG:matplotlib.font_manager:findfont: score(<Font 'Verdana' (verdanaz.ttf) italic normal bold normal>) = 4.971363636363637\n",
      "DEBUG:matplotlib.font_manager:findfont: score(<Font 'Microsoft JhengHei' (msjh.ttc) normal normal 400 normal>) = 10.05\n",
      "DEBUG:matplotlib.font_manager:findfont: score(<Font 'Times New Roman' (timesbd.ttf) normal normal roman normal>) = 10.145\n",
      "DEBUG:matplotlib.font_manager:findfont: score(<Font 'Yu Gothic' (YuGothR.ttc) normal normal regular normal>) = 10.05\n",
      "DEBUG:matplotlib.font_manager:findfont: score(<Font 'Lucida Sans Unicode' (l_10646.ttf) normal normal 400 normal>) = 10.05\n",
      "DEBUG:matplotlib.font_manager:findfont: score(<Font 'Forte' (FORTE.TTF) normal normal 400 normal>) = 10.05\n",
      "DEBUG:matplotlib.font_manager:findfont: score(<Font 'Impact' (impact.ttf) normal normal 400 normal>) = 10.05\n",
      "DEBUG:matplotlib.font_manager:findfont: score(<Font 'SWGothe' (swgothe.ttf) normal normal 400 normal>) = 10.05\n",
      "DEBUG:matplotlib.font_manager:findfont: score(<Font 'Dubai' (DUBAI-REGULAR.TTF) normal normal regular normal>) = 10.05\n",
      "DEBUG:matplotlib.font_manager:findfont: score(<Font 'ESSTIXFourteen' (ESSTIX14.TTF) normal normal 400 normal>) = 10.05\n",
      "DEBUG:matplotlib.font_manager:findfont: score(<Font 'Myanmar Text' (mmrtext.ttf) normal normal 400 normal>) = 10.05\n",
      "DEBUG:matplotlib.font_manager:findfont: score(<Font 'Courant' (CON_____.ttf) normal normal 400 normal>) = 10.05\n",
      "DEBUG:matplotlib.font_manager:findfont: score(<Font 'Jokerman' (JOKERMAN.TTF) normal normal 400 normal>) = 10.05\n",
      "DEBUG:matplotlib.font_manager:findfont: score(<Font 'SWRomnd' (swromnd.ttf) normal normal 400 normal>) = 10.05\n",
      "DEBUG:matplotlib.font_manager:findfont: score(<Font 'Century Gothic' (GOTHICI.TTF) italic normal 400 normal>) = 11.05\n",
      "DEBUG:matplotlib.font_manager:findfont: score(<Font 'Georgia Pro' (GeorgiaPro-CondBoldItalic.ttf) italic normal bold condensed>) = 11.535\n",
      "DEBUG:matplotlib.font_manager:findfont: score(<Font 'Georgia' (georgiab.ttf) normal normal bold normal>) = 10.335\n",
      "DEBUG:matplotlib.font_manager:findfont: score(<Font 'Rockwell Nova' (RockwellNova-ExtraBoldItalic.ttf) italic normal bold normal>) = 11.335\n",
      "DEBUG:matplotlib.font_manager:findfont: score(<Font 'Javanese Text' (javatext.ttf) normal normal 400 normal>) = 10.05\n",
      "DEBUG:matplotlib.font_manager:findfont: score(<Font 'Georgia Pro' (GeorgiaPro-CondBlack.ttf) normal normal black condensed>) = 10.725\n",
      "DEBUG:matplotlib.font_manager:findfont: score(<Font 'SWMusic' (swmusic.ttf) normal normal 400 normal>) = 10.05\n",
      "DEBUG:matplotlib.font_manager:findfont: score(<Font 'Trebuchet MS' (trebuc.ttf) normal normal 400 normal>) = 10.05\n",
      "DEBUG:matplotlib.font_manager:findfont: score(<Font 'Arial Nova' (ArialNovaCond-Italic.ttf) italic normal 400 condensed>) = 11.25\n",
      "DEBUG:matplotlib.font_manager:findfont: score(<Font 'Rockwell Extra Bold' (ROCKEB.TTF) normal normal bold normal>) = 10.335\n",
      "DEBUG:matplotlib.font_manager:findfont: score(<Font 'Arial Nova' (ArialNovaCond-BoldItalic.ttf) italic normal bold condensed>) = 11.535\n",
      "DEBUG:matplotlib.font_manager:findfont: score(<Font 'Yu Gothic' (YuGothM.ttc) normal normal medium normal>) = 10.145\n",
      "DEBUG:matplotlib.font_manager:findfont: score(<Font 'Arial Nova' (ArialNova-Bold.ttf) normal normal bold normal>) = 10.335\n",
      "DEBUG:matplotlib.font_manager:findfont: score(<Font 'Courant' (COB_____.ttf) normal normal bold normal>) = 10.335\n",
      "DEBUG:matplotlib.font_manager:findfont: score(<Font 'Gabriola' (Gabriola.ttf) normal normal 400 normal>) = 10.05\n",
      "DEBUG:matplotlib.font_manager:findfont: score(<Font 'Microsoft New Tai Lue' (ntailub.ttf) normal normal bold normal>) = 10.335\n",
      "DEBUG:matplotlib.font_manager:findfont: score(<Font 'SWMono' (swmono.ttf) normal normal 400 normal>) = 10.05\n",
      "DEBUG:matplotlib.font_manager:findfont: score(<Font 'Comic Sans MS' (comicz.ttf) italic normal bold normal>) = 11.335\n",
      "DEBUG:matplotlib.font_manager:findfont: score(<Font 'Baskerville Old Face' (BASKVILL.TTF) normal normal 400 normal>) = 10.05\n",
      "DEBUG:matplotlib.font_manager:findfont: score(<Font 'Calibri' (calibriz.ttf) italic normal bold normal>) = 11.335\n",
      "DEBUG:matplotlib.font_manager:findfont: score(<Font 'Tw Cen MT' (TCM_____.TTF) normal normal 400 normal>) = 10.05\n",
      "DEBUG:matplotlib.font_manager:findfont: score(<Font 'HP Simplified' (HPSimplified_Lt.ttf) normal normal light normal>) = 10.24\n",
      "DEBUG:matplotlib.font_manager:findfont: score(<Font 'Verdana' (verdanai.ttf) italic normal 400 normal>) = 4.6863636363636365\n",
      "DEBUG:matplotlib.font_manager:findfont: score(<Font 'Constantia' (constani.ttf) italic normal 400 normal>) = 11.05\n",
      "DEBUG:matplotlib.font_manager:findfont: score(<Font 'Verdana Pro' (VerdanaPro-Italic.ttf) italic normal 400 normal>) = 11.05\n",
      "DEBUG:matplotlib.font_manager:findfont: score(<Font 'Candara' (Candarai.ttf) italic normal 400 normal>) = 11.05\n",
      "DEBUG:matplotlib.font_manager:findfont: score(<Font 'Corbel' (corbelli.ttf) italic normal light normal>) = 11.24\n",
      "DEBUG:matplotlib.font_manager:findfont: score(<Font 'Franklin Gothic Medium' (framd.ttf) normal normal medium normal>) = 10.145\n",
      "DEBUG:matplotlib.font_manager:findfont: score(<Font 'Book Antiqua' (ANTQUAB.TTF) normal normal book normal>) = 10.05\n",
      "DEBUG:matplotlib.font_manager:findfont: score(<Font 'ESSTIXFour' (ESSTIX4_.TTF) normal normal 400 normal>) = 10.05\n",
      "DEBUG:matplotlib.font_manager:findfont: score(<Font 'SymbolPi' (SYP_____.ttf) normal normal normal normal>) = 10.0\n",
      "DEBUG:matplotlib.font_manager:findfont: score(<Font 'Book Antiqua' (BKANT.TTF) normal normal book normal>) = 10.05\n",
      "DEBUG:matplotlib.font_manager:findfont: score(<Font 'Berlin Sans FB' (BRLNSB.TTF) normal normal bold normal>) = 10.335\n",
      "DEBUG:matplotlib.font_manager:findfont: score(<Font 'Franklin Gothic Medium' (framdit.ttf) italic normal medium normal>) = 11.145\n",
      "DEBUG:matplotlib.font_manager:findfont: score(<Font 'Old English Text MT' (OLDENGL.TTF) normal normal 400 normal>) = 10.05\n",
      "DEBUG:matplotlib.font_manager:findfont: score(<Font 'Lucida Sans Typewriter' (LTYPE.TTF) normal normal regular normal>) = 10.05\n",
      "DEBUG:matplotlib.font_manager:findfont: score(<Font 'Tw Cen MT Condensed' (TCCM____.TTF) normal normal 400 condensed>) = 10.25\n",
      "DEBUG:matplotlib.font_manager:findfont: score(<Font 'Trebuchet MS' (trebucit.ttf) italic normal 400 normal>) = 11.05\n",
      "DEBUG:matplotlib.font_manager:findfont: score(<Font 'Harrington' (HARNGTON.TTF) normal normal 400 normal>) = 10.05\n",
      "DEBUG:matplotlib.font_manager:findfont: score(<Font 'Franklin Gothic Demi Cond' (FRADMCN.TTF) normal normal demi condensed>) = 10.44\n",
      "DEBUG:matplotlib.font_manager:findfont: score(<Font 'Georgia Pro' (GeorgiaPro-LightItalic.ttf) italic normal light normal>) = 11.24\n",
      "DEBUG:matplotlib.font_manager:findfont: score(<Font 'Tw Cen MT' (TCMI____.TTF) italic normal 400 normal>) = 11.05\n",
      "DEBUG:matplotlib.font_manager:findfont: score(<Font 'Yu Gothic' (YuGothL.ttc) normal normal light normal>) = 10.24\n",
      "DEBUG:matplotlib.font_manager:findfont: score(<Font 'ESSTIXOne' (ESSTIX1_.TTF) normal normal 400 normal>) = 10.05\n",
      "DEBUG:matplotlib.font_manager:findfont: score(<Font 'Gill Sans Nova' (GillSansNova.ttf) normal normal 400 normal>) = 10.05\n"
     ]
    },
    {
     "name": "stderr",
     "output_type": "stream",
     "text": [
      "DEBUG:matplotlib.font_manager:findfont: score(<Font 'Bauhaus 93' (BAUHS93.TTF) normal normal 400 normal>) = 10.05\n",
      "DEBUG:matplotlib.font_manager:findfont: score(<Font 'Georgia Pro' (GeorgiaPro-BoldItalic.ttf) italic normal bold normal>) = 11.335\n",
      "DEBUG:matplotlib.font_manager:findfont: score(<Font 'Verdana Pro' (VerdanaPro-CondSemiBold.ttf) normal normal semibold condensed>) = 10.44\n",
      "DEBUG:matplotlib.font_manager:findfont: score(<Font 'Verdana' (verdana.ttf) normal normal 400 normal>) = 3.6863636363636365\n",
      "DEBUG:matplotlib.font_manager:findfont: score(<Font 'Gill Sans MT Condensed' (GILC____.TTF) normal normal 400 condensed>) = 10.25\n",
      "DEBUG:matplotlib.font_manager:findfont: score(<Font 'Arial Nova' (ArialNova-BoldItalic.ttf) italic normal bold normal>) = 11.335\n",
      "DEBUG:matplotlib.font_manager:findfont: score(<Font 'MingLiU-ExtB' (mingliub.ttc) normal normal 400 normal>) = 10.05\n",
      "DEBUG:matplotlib.font_manager:findfont: score(<Font 'Microsoft New Tai Lue' (ntailu.ttf) normal normal 400 normal>) = 10.05\n",
      "DEBUG:matplotlib.font_manager:findfont: score(<Font 'Ink Free' (Inkfree.ttf) normal normal 400 normal>) = 10.05\n",
      "DEBUG:matplotlib.font_manager:findfont: score(<Font 'Segoe UI Symbol' (seguisym.ttf) normal normal 400 normal>) = 10.05\n",
      "DEBUG:matplotlib.font_manager:findfont: score(<Font 'Corbel' (corbelb.ttf) normal normal bold normal>) = 10.335\n",
      "DEBUG:matplotlib.font_manager:findfont: score(<Font 'Corbel' (corbel.ttf) normal normal 400 normal>) = 10.05\n",
      "DEBUG:matplotlib.font_manager:findfont: score(<Font 'Avenir' (Avenir Roman.otf) normal normal roman normal>) = 10.145\n",
      "DEBUG:matplotlib.font_manager:findfont: score(<Font 'SWMath' (swmath.ttf) normal normal 400 normal>) = 10.05\n",
      "DEBUG:matplotlib.font_manager:findfont: score(<Font 'Comic Sans MS' (comicbd.ttf) normal normal bold normal>) = 10.335\n",
      "DEBUG:matplotlib.font_manager:findfont: score(<Font 'Leelawadee UI' (LeelUIsl.ttf) normal normal light normal>) = 10.24\n",
      "DEBUG:matplotlib.font_manager:findfont: score(<Font 'SWIsot2' (swisot2.ttf) normal normal 400 normal>) = 10.05\n",
      "DEBUG:matplotlib.font_manager:findfont: score(<Font 'Rockwell Condensed' (ROCC____.TTF) normal normal 400 condensed>) = 10.25\n",
      "DEBUG:matplotlib.font_manager:findfont: score(<Font 'Gill Sans Nova' (GillSansUltraBoNova.ttf) normal normal bold normal>) = 10.335\n",
      "DEBUG:matplotlib.font_manager:findfont: score(<Font 'Verdana Pro' (VerdanaPro-CondSemiBoldItalic.ttf) italic normal semibold condensed>) = 11.44\n",
      "DEBUG:matplotlib.font_manager:findfont: score(<Font 'Lucida Sans Typewriter' (LTYPEO.TTF) oblique normal 400 normal>) = 11.05\n",
      "DEBUG:matplotlib.font_manager:findfont: score(<Font 'Bookman Old Style' (BOOKOSBI.TTF) italic normal book normal>) = 11.05\n",
      "DEBUG:matplotlib.font_manager:findfont: score(<Font 'Consolas' (consolab.ttf) normal normal bold normal>) = 10.335\n",
      "DEBUG:matplotlib.font_manager:findfont: score(<Font 'Kozuka Mincho Pr6N' (kozminpr6n-regular.otf) normal normal 400 normal>) = 10.05\n",
      "DEBUG:matplotlib.font_manager:findfont: score(<Font 'SWScrpc' (swscrpc.ttf) normal normal 400 normal>) = 10.05\n",
      "DEBUG:matplotlib.font_manager:findfont: score(<Font 'Magneto' (MAGNETOB.TTF) normal normal bold normal>) = 10.335\n",
      "DEBUG:matplotlib.font_manager:findfont: score(<Font 'ESSTIXThree' (ESSTIX3_.TTF) normal normal 400 normal>) = 10.05\n",
      "DEBUG:matplotlib.font_manager:findfont: score(<Font 'Lucida Handwriting' (LHANDW.TTF) italic normal 400 normal>) = 11.05\n",
      "DEBUG:matplotlib.font_manager:findfont: score(<Font 'Verdana Pro' (VerdanaPro-Bold.ttf) normal normal bold normal>) = 10.335\n",
      "DEBUG:matplotlib.font_manager:findfont: score(<Font 'Gill Sans Nova' (GillSansCondNova.ttf) normal normal 400 condensed>) = 10.25\n",
      "DEBUG:matplotlib.font_manager:findfont: score(<Font 'Trebuchet MS' (trebucbd.ttf) normal normal bold normal>) = 10.335\n",
      "DEBUG:matplotlib.font_manager:findfont: score(<Font 'SWItalt' (switalt.ttf) normal normal 400 normal>) = 10.05\n",
      "DEBUG:matplotlib.font_manager:findfont: score(<Font 'Tw Cen MT' (TCBI____.TTF) italic normal bold normal>) = 11.335\n",
      "DEBUG:matplotlib.font_manager:findfont: score(<Font 'Book Antiqua' (ANTQUAI.TTF) italic normal book normal>) = 11.05\n",
      "DEBUG:matplotlib.font_manager:findfont: score(<Font 'Informal Roman' (INFROMAN.TTF) normal normal roman normal>) = 10.145\n",
      "DEBUG:matplotlib.font_manager:findfont: score(<Font 'Nirmala UI' (NirmalaS.ttf) normal normal light normal>) = 10.24\n",
      "DEBUG:matplotlib.font_manager:findfont: score(<Font 'SWRomnc' (swromnc.ttf) normal normal 400 normal>) = 10.05\n",
      "DEBUG:matplotlib.font_manager:findfont: score(<Font 'Times New Roman' (timesbi.ttf) italic normal roman normal>) = 11.145\n",
      "DEBUG:matplotlib.font_manager:findfont: score(<Font 'Microsoft JhengHei' (msjhl.ttc) normal normal light normal>) = 10.24\n",
      "DEBUG:matplotlib.font_manager:findfont: score(<Font 'Verdana Pro' (VerdanaPro-BoldItalic.ttf) italic normal bold normal>) = 11.335\n",
      "DEBUG:matplotlib.font_manager:findfont: score(<Font 'Verdana Pro' (VerdanaPro-CondItalic.ttf) italic normal 400 condensed>) = 11.25\n",
      "DEBUG:matplotlib.font_manager:findfont: score(<Font 'Palatino Linotype' (palab.ttf) normal normal bold normal>) = 10.335\n",
      "DEBUG:matplotlib.font_manager:findfont: score(<Font 'Cambria' (cambriab.ttf) normal normal bold normal>) = 10.335\n",
      "DEBUG:matplotlib.font_manager:findfont: score(<Font 'Colonna MT' (COLONNA.TTF) normal normal 400 normal>) = 10.05\n",
      "DEBUG:matplotlib.font_manager:findfont: score(<Font 'Gill Sans MT Ext Condensed Bold' (GLSNECB.TTF) normal normal bold condensed>) = 10.535\n",
      "DEBUG:matplotlib.font_manager:findfont: score(<Font 'Arial Nova' (ArialNovaCond-Bold.ttf) normal normal bold condensed>) = 10.535\n",
      "DEBUG:matplotlib.font_manager:findfont: score(<Font 'Gill Sans Nova' (GillSansBoNova.ttf) normal normal bold normal>) = 10.335\n",
      "DEBUG:matplotlib.font_manager:findfont: score(<Font 'Candara' (Candaral.ttf) normal normal light normal>) = 10.24\n",
      "DEBUG:matplotlib.font_manager:findfont: score(<Font 'Perpetua Titling MT' (PERTIBD.TTF) normal normal bold normal>) = 10.335\n",
      "DEBUG:matplotlib.font_manager:findfont: score(<Font 'Bookman Old Style' (BOOKOS.TTF) normal normal book normal>) = 10.05\n",
      "DEBUG:matplotlib.font_manager:findfont: score(<Font 'Garamond' (GARAIT.TTF) italic normal 400 normal>) = 11.05\n",
      "DEBUG:matplotlib.font_manager:findfont: score(<Font 'Corbel' (corbeli.ttf) italic normal 400 normal>) = 11.05\n",
      "DEBUG:matplotlib.font_manager:findfont: score(<Font 'Consolas' (consola.ttf) normal normal 400 normal>) = 10.05\n",
      "DEBUG:matplotlib.font_manager:findfont: score(<Font 'Bahnschrift' (bahnschrift.ttf) normal normal 400 normal>) = 10.05\n",
      "DEBUG:matplotlib.font_manager:findfont: score(<Font 'OLF SimpleSansOC' (olfsimplesansoc-regular.ttf) normal normal regular normal>) = 10.05\n",
      "DEBUG:matplotlib.font_manager:findfont: score(<Font 'Eras Bold ITC' (ERASBD.TTF) normal normal bold normal>) = 10.335\n",
      "DEBUG:matplotlib.font_manager:findfont: score(<Font 'Courier New' (couri.ttf) italic normal 400 normal>) = 11.05\n",
      "DEBUG:matplotlib.font_manager:findfont: score(<Font 'Malgun Gothic' (malgun.ttf) normal normal 400 normal>) = 10.05\n",
      "DEBUG:matplotlib.font_manager:findfont: score(<Font 'Century Schoolbook' (SCHLBKI.TTF) italic normal book normal>) = 11.05\n",
      "DEBUG:matplotlib.font_manager:findfont: score(<Font 'Nirmala UI' (NirmalaB.ttf) normal normal bold normal>) = 10.335\n",
      "DEBUG:matplotlib.font_manager:findfont: score(<Font 'Courier New' (courbi.ttf) italic normal bold normal>) = 11.335\n",
      "DEBUG:matplotlib.font_manager:findfont: score(<Font 'Monotype Corsiva' (MTCORSVA.TTF) normal normal 400 normal>) = 10.05\n",
      "DEBUG:matplotlib.font_manager:findfont: score(<Font 'DejaVu Sans' (DejaVuSans-ExtraLight.ttf) normal normal light normal>) = 0.24\n",
      "DEBUG:matplotlib.font_manager:findfont: score(<Font 'Adobe Devanagari' (AdobeDevanagari-Bold.otf) normal normal bold normal>) = 10.335\n",
      "DEBUG:matplotlib.font_manager:findfont: score(<Font 'MS Reference Sans Serif' (REFSAN.TTF) normal normal 400 normal>) = 10.05\n",
      "DEBUG:matplotlib.font_manager:findfont: score(<Font 'Perpetua' (PERBI___.TTF) italic normal bold normal>) = 11.335\n",
      "DEBUG:matplotlib.font_manager:findfont: score(<Font 'SWGrekc' (swgrekc.ttf) normal normal 400 normal>) = 10.05\n",
      "DEBUG:matplotlib.font_manager:findfont: score(<Font 'Palatino Linotype' (palabi.ttf) italic normal bold normal>) = 11.335\n"
     ]
    },
    {
     "name": "stderr",
     "output_type": "stream",
     "text": [
      "DEBUG:matplotlib.font_manager:findfont: score(<Font 'Corbel' (corbell.ttf) normal normal light normal>) = 10.24\n",
      "DEBUG:matplotlib.font_manager:findfont: score(<Font 'Verdana Pro' (VerdanaPro-LightItalic.ttf) italic normal light normal>) = 11.24\n",
      "DEBUG:matplotlib.font_manager:findfont: score(<Font 'Georgia Pro' (GeorgiaPro-CondBold.ttf) normal normal bold condensed>) = 10.535\n",
      "DEBUG:matplotlib.font_manager:findfont: score(<Font 'Verdana Pro' (VerdanaPro-CondBoldItalic.ttf) italic normal bold condensed>) = 11.535\n",
      "DEBUG:matplotlib.font_manager:findfont: score(<Font 'Arial Nova' (ArialNova-LightItalic.ttf) italic normal light normal>) = 11.24\n",
      "DEBUG:matplotlib.font_manager:findfont: score(<Font 'Lucida Fax' (LFAXD.TTF) normal normal demibold normal>) = 10.24\n",
      "DEBUG:matplotlib.font_manager:findfont: score(<Font 'SWRomns' (swromns.ttf) normal normal 400 normal>) = 10.05\n",
      "DEBUG:matplotlib.font_manager:findfont: score(<Font 'Arial Nova' (ArialNovaCond.ttf) normal normal 400 condensed>) = 10.25\n",
      "DEBUG:matplotlib.font_manager:findfont: score(<Font 'Perpetua Titling MT' (PERTILI.TTF) normal normal light normal>) = 10.24\n",
      "DEBUG:matplotlib.font_manager:findfont: score(<Font 'Elephant' (ELEPHNT.TTF) normal normal 400 normal>) = 10.05\n",
      "DEBUG:matplotlib.font_manager:findfont: score(<Font 'Segoe Script' (segoescb.ttf) normal normal bold normal>) = 10.335\n",
      "DEBUG:matplotlib.font_manager:findfont: score(<Font 'Yu Gothic' (YuGothB.ttc) normal normal bold normal>) = 10.335\n",
      "DEBUG:matplotlib.font_manager:findfont: score(<Font 'Helonia' (HEN_____.ttf) normal normal 400 normal>) = 10.05\n",
      "DEBUG:matplotlib.font_manager:findfont: score(<Font 'Georgia Pro' (GeorgiaPro-SemiBold.ttf) normal normal semibold normal>) = 10.24\n",
      "DEBUG:matplotlib.font_manager:findfont: score(<Font 'ESSTIXFive' (ESSTIX5_.TTF) normal normal 400 normal>) = 10.05\n",
      "DEBUG:matplotlib.font_manager:findfont: score(<Font 'Bodoni MT' (BOD_I.TTF) italic normal 400 normal>) = 11.05\n",
      "DEBUG:matplotlib.font_manager:findfont: score(<Font 'Franklin Gothic Heavy' (FRAHVIT.TTF) italic normal heavy normal>) = 11.43\n",
      "DEBUG:matplotlib.font_manager:findfont: score(<Font 'ESSTIXSeven' (ESSTIX7_.TTF) normal normal 400 normal>) = 10.05\n",
      "DEBUG:matplotlib.font_manager:findfont: score(<Font 'ESSTIXSeventeen' (ESSTIX17.TTF) normal normal 400 normal>) = 10.05\n",
      "DEBUG:matplotlib.font_manager:findfont: score(<Font 'Segoe UI' (seguibl.ttf) normal normal black normal>) = 10.525\n",
      "DEBUG:matplotlib.font_manager:findfont: score(<Font 'Bell MT' (BELLI.TTF) italic normal 400 normal>) = 11.05\n",
      "DEBUG:matplotlib.font_manager:findfont: score(<Font 'SWAstro' (swastro.ttf) normal normal 400 normal>) = 10.05\n",
      "DEBUG:matplotlib.font_manager:findfont: score(<Font 'ESSTIXTwelve' (ESSTIX12.TTF) normal normal 400 normal>) = 10.05\n",
      "DEBUG:matplotlib.font_manager:findfont: score(<Font 'Wingdings 3' (WINGDNG3.TTF) normal normal 400 normal>) = 10.05\n",
      "DEBUG:matplotlib.font_manager:findfont: score(<Font 'ESSTIXTwo' (ESSTIX2_.TTF) normal normal 400 normal>) = 10.05\n",
      "DEBUG:matplotlib.font_manager:findfont: score(<Font 'Rage Italic' (RAGE.TTF) italic normal 400 normal>) = 11.05\n",
      "DEBUG:matplotlib.font_manager:findfont: score(<Font 'Neue Haas Grotesk Text Pro' (NHaasGroteskTXPro-56It.ttf) italic normal 400 normal>) = 11.05\n",
      "DEBUG:matplotlib.font_manager:findfont: score(<Font 'Copperplate Gothic Light' (COPRGTL.TTF) normal normal light normal>) = 10.24\n",
      "DEBUG:matplotlib.font_manager:findfont: score(<Font 'Footlight MT Light' (FTLTLT.TTF) normal normal light normal>) = 10.24\n",
      "DEBUG:matplotlib.font_manager:findfont: score(<Font 'Candara' (Candaraz.ttf) italic normal bold normal>) = 11.335\n",
      "DEBUG:matplotlib.font_manager:findfont: score(<Font 'Rockwell Nova' (RockwellNovaCond-Italic.ttf) italic normal 400 condensed>) = 11.25\n",
      "DEBUG:matplotlib.font_manager:findfont: score(<Font 'Georgia Pro' (GeorgiaPro-CondSemiBoldItalic.ttf) italic normal semibold condensed>) = 11.44\n",
      "DEBUG:matplotlib.font_manager:findfont: score(<Font 'Cambria' (cambriaz.ttf) italic normal bold normal>) = 11.335\n",
      "DEBUG:matplotlib.font_manager:findfont: score(<Font 'Bodoni MT' (BOD_BLAR.TTF) normal normal black normal>) = 10.525\n",
      "DEBUG:matplotlib.font_manager:findfont: score(<Font 'Microsoft Himalaya' (himalaya.ttf) normal normal 400 normal>) = 10.05\n",
      "DEBUG:matplotlib.font_manager:findfont: score(<Font 'Gadugi' (gadugi.ttf) normal normal 400 normal>) = 10.05\n",
      "DEBUG:matplotlib.font_manager:findfont: score(<Font 'Courier New' (cour.ttf) normal normal 400 normal>) = 10.05\n",
      "DEBUG:matplotlib.font_manager:findfont: score(<Font 'MS Outlook' (OUTLOOK.TTF) normal normal 400 normal>) = 10.05\n",
      "DEBUG:matplotlib.font_manager:findfont: score(<Font 'Britannic Bold' (BRITANIC.TTF) normal normal bold normal>) = 10.335\n",
      "DEBUG:matplotlib.font_manager:findfont: score(<Font 'Arial Nova' (ArialNova-Italic.ttf) italic normal 400 normal>) = 11.05\n",
      "DEBUG:matplotlib.font_manager:findfont: score(<Font 'Matura MT Script Capitals' (MATURASC.TTF) normal normal 400 normal>) = 10.05\n",
      "DEBUG:matplotlib.font_manager:findfont: score(<Font 'Bodoni MT' (BOD_R.TTF) normal normal 400 normal>) = 10.05\n",
      "DEBUG:matplotlib.font_manager:findfont: score(<Font 'Calisto MT' (CALIST.TTF) normal normal 400 normal>) = 10.05\n",
      "DEBUG:matplotlib.font_manager:findfont: score(<Font 'Harlow Solid Italic' (HARLOWSI.TTF) italic normal 400 normal>) = 11.05\n",
      "DEBUG:matplotlib.font_manager:findfont: score(<Font 'DejaVu Sans' (DejaVuSansCondensed-BoldOblique.ttf) oblique normal bold condensed>) = 1.535\n",
      "DEBUG:matplotlib.font_manager:findfont: score(<Font 'Lucida Sans' (LSANS.TTF) normal normal regular normal>) = 10.05\n",
      "DEBUG:matplotlib.font_manager:findfont: score(<Font 'Niagara Solid' (NIAGSOL.TTF) normal normal 400 normal>) = 10.05\n",
      "DEBUG:matplotlib.font_manager:findfont: score(<Font 'SWGothi' (swgothi.ttf) normal normal 400 normal>) = 10.05\n",
      "DEBUG:matplotlib.font_manager:findfont: score(<Font 'Neue Haas Grotesk Text Pro' (NHaasGroteskTXPro-75Bd.ttf) normal normal bold normal>) = 10.335\n",
      "DEBUG:matplotlib.font_manager:findfont: score(<Font 'Cooper Black' (COOPBL.TTF) normal normal black normal>) = 10.525\n",
      "DEBUG:matplotlib.font_manager:findfont: score(<Font 'Candara' (Candarab.ttf) normal normal bold normal>) = 10.335\n",
      "DEBUG:matplotlib.font_manager:findfont: score(<Font 'Adobe Ming Std' (adobemingstd-light.otf) normal normal 400 normal>) = 10.05\n",
      "DEBUG:matplotlib.font_manager:findfont: score(<Font 'Segoe UI Emoji' (seguiemj.ttf) normal normal 400 normal>) = 10.05\n",
      "DEBUG:matplotlib.font_manager:findfont: score(<Font 'Mistral' (MISTRAL.TTF) normal normal 400 normal>) = 10.05\n",
      "DEBUG:matplotlib.font_manager:findfont: score(<Font 'Gill Sans Ultra Bold' (GILSANUB.TTF) normal normal bold normal>) = 10.335\n",
      "DEBUG:matplotlib.font_manager:findfont: score(<Font 'High Tower Text' (HTOWERTI.TTF) italic normal 400 normal>) = 11.05\n",
      "DEBUG:matplotlib.font_manager:findfont: score(<Font 'Cambria' (cambria.ttc) normal normal 400 normal>) = 10.05\n",
      "DEBUG:matplotlib.font_manager:findfont: score(<Font 'Franklin Gothic Medium Cond' (FRAMDCN.TTF) normal normal medium condensed>) = 10.344999999999999\n",
      "DEBUG:matplotlib.font_manager:findfont: score(<Font 'Segoe Print' (segoeprb.ttf) normal normal bold normal>) = 10.335\n",
      "DEBUG:matplotlib.font_manager:findfont: score(<Font 'Franklin Gothic Book' (FRABK.TTF) normal normal book normal>) = 10.05\n",
      "DEBUG:matplotlib.font_manager:findfont: score(<Font 'Viner Hand ITC' (VINERITC.TTF) normal normal 400 normal>) = 10.05\n",
      "DEBUG:matplotlib.font_manager:findfont: score(<Font 'Neue Haas Grotesk Text Pro' (NHaasGroteskTXPro-76BdIt.ttf) italic normal bold normal>) = 11.335\n",
      "DEBUG:matplotlib.font_manager:findfont: score(<Font 'SWRomnt' (swromnt.ttf) normal normal 400 normal>) = 10.05\n",
      "DEBUG:matplotlib.font_manager:findfont: score(<Font 'Segoe UI Historic' (seguihis.ttf) normal normal 400 normal>) = 10.05\n",
      "DEBUG:matplotlib.font_manager:findfont: score(<Font 'Californian FB' (CALIFR.TTF) normal normal 400 normal>) = 10.05\n",
      "DEBUG:matplotlib.font_manager:findfont: score(<Font 'Bodoni MT' (BOD_BI.TTF) italic normal bold normal>) = 11.335\n",
      "DEBUG:matplotlib.font_manager:findfont: score(<Font 'Gill Sans Nova' (GillSansCondBoNova.ttf) normal normal bold condensed>) = 10.535\n",
      "DEBUG:matplotlib.font_manager:findfont: score(<Font 'Times New Roman' (timesi.ttf) italic normal roman normal>) = 11.145\n"
     ]
    },
    {
     "name": "stderr",
     "output_type": "stream",
     "text": [
      "DEBUG:matplotlib.font_manager:findfont: score(<Font 'Perpetua' (PERB____.TTF) normal normal bold normal>) = 10.335\n",
      "DEBUG:matplotlib.font_manager:findfont: score(<Font 'Rockwell Nova' (RockwellNovaCond-LightItalic.ttf) italic normal light condensed>) = 11.44\n",
      "DEBUG:matplotlib.font_manager:findfont: score(<Font 'ZWAdobeF' (ZWAdobeF.TTF) normal normal 400 normal>) = 10.05\n",
      "DEBUG:matplotlib.font_manager:findfont: score(<Font 'Gill Sans Nova' (GillSansCondLightNova.ttf) normal normal 400 condensed>) = 10.25\n",
      "DEBUG:matplotlib.font_manager:findfont: score(<Font 'Rockwell Nova' (RockwellNova-BoldItalic.ttf) italic normal bold normal>) = 11.335\n",
      "DEBUG:matplotlib.font_manager:findfont: score(<Font 'Lucida Calligraphy' (LCALLIG.TTF) italic normal 400 normal>) = 11.05\n",
      "DEBUG:matplotlib.font_manager:findfont: score(<Font 'SWItal' (swital.ttf) normal normal 400 normal>) = 10.05\n",
      "DEBUG:matplotlib.font_manager:findfont: score(<Font 'Californian FB' (CALIFI.TTF) italic normal 400 normal>) = 11.05\n",
      "DEBUG:matplotlib.font_manager:findfont: score(<Font 'Century Schoolbook' (CENSCBK.TTF) normal normal book normal>) = 10.05\n",
      "DEBUG:matplotlib.font_manager:findfont: score(<Font 'Century Schoolbook' (SCHLBKB.TTF) normal normal book normal>) = 10.05\n",
      "DEBUG:matplotlib.font_manager:findfont: score(<Font 'Calibri' (calibri.ttf) normal normal 400 normal>) = 10.05\n",
      "DEBUG:matplotlib.font_manager:findfont: score(<Font 'Microsoft Uighur' (MSUIGHUB.TTF) normal normal bold normal>) = 10.335\n",
      "DEBUG:matplotlib.font_manager:findfont: score(<Font 'Rockwell Condensed' (ROCCB___.TTF) normal normal bold condensed>) = 10.535\n",
      "DEBUG:matplotlib.font_manager:findfont: score(<Font 'SWGreks' (swgreks.ttf) normal normal 400 normal>) = 10.05\n",
      "DEBUG:matplotlib.font_manager:findfont: score(<Font 'Thames' (THR_____.ttf) normal normal 400 normal>) = 10.05\n",
      "DEBUG:matplotlib.font_manager:findfont: score(<Font 'Bodoni MT' (BOD_PSTC.TTF) normal normal 400 normal>) = 10.05\n",
      "DEBUG:matplotlib.font_manager:findfont: score(<Font 'Bodoni MT' (BOD_BLAI.TTF) italic normal black normal>) = 11.525\n",
      "DEBUG:matplotlib.font_manager:findfont: score(<Font 'Franklin Gothic Book' (FRABKIT.TTF) italic normal book normal>) = 11.05\n",
      "DEBUG:matplotlib.font_manager:findfont: score(<Font 'Lucida Sans' (LSANSD.TTF) normal normal roman normal>) = 10.145\n",
      "DEBUG:matplotlib.font_manager:findfont: score(<Font 'Segoe UI' (segoeuisl.ttf) normal normal light normal>) = 10.24\n",
      "DEBUG:matplotlib.font_manager:findfont: score(<Font 'Papyrus' (PAPYRUS.TTF) normal normal 400 normal>) = 10.05\n",
      "DEBUG:matplotlib.font_manager:findfont: score(<Font 'Microsoft PhagsPa' (phagspa.ttf) normal normal 400 normal>) = 10.05\n",
      "DEBUG:matplotlib.font_manager:findfont: score(<Font 'MS Gothic' (msgothic.ttc) normal normal 400 normal>) = 10.05\n",
      "DEBUG:matplotlib.font_manager:findfont: score(<Font 'MS Reference Specialty' (REFSPCL.TTF) normal normal 400 normal>) = 10.05\n",
      "DEBUG:matplotlib.font_manager:findfont: score(<Font 'Corbel' (corbelz.ttf) italic normal bold normal>) = 11.335\n",
      "DEBUG:matplotlib.font_manager:findfont: score(<Font 'Calibri' (calibrib.ttf) normal normal bold normal>) = 10.335\n",
      "DEBUG:matplotlib.font_manager:findfont: score(<Font 'Elephant' (ELEPHNTI.TTF) italic normal 400 normal>) = 11.05\n",
      "DEBUG:matplotlib.font_manager:findfont: score(<Font 'Arial' (ARIALNI.TTF) italic normal 400 condensed>) = 7.613636363636363\n",
      "DEBUG:matplotlib.font_manager:findfont: score(<Font 'Georgia Pro' (GeorgiaPro-BlackItalic.ttf) italic normal black normal>) = 11.525\n",
      "DEBUG:matplotlib.font_manager:findfont: score(<Font 'Bodoni MT' (BOD_CR.TTF) normal normal 400 condensed>) = 10.25\n",
      "DEBUG:matplotlib.font_manager:findfont: score(<Font 'Franklin Gothic Demi' (FRADM.TTF) normal normal demi normal>) = 10.24\n",
      "DEBUG:matplotlib.font_manager:findfont: score(<Font 'Microsoft PhagsPa' (phagspab.ttf) normal normal bold normal>) = 10.335\n",
      "DEBUG:matplotlib.font_manager:findfont: score(<Font 'Verdana Pro' (VerdanaPro-CondBlack.ttf) normal normal black condensed>) = 10.725\n",
      "DEBUG:matplotlib.font_manager:findfont: score(<Font 'High Tower Text' (HTOWERT.TTF) normal normal 400 normal>) = 10.05\n",
      "DEBUG:matplotlib.font_manager:findfont: score(<Font 'Gloucester MT Extra Condensed' (GLECB.TTF) normal normal 400 condensed>) = 10.25\n",
      "DEBUG:matplotlib.font_manager:findfont: score(<Font 'Microsoft Uighur' (MSUIGHUR.TTF) normal normal 400 normal>) = 10.05\n",
      "DEBUG:matplotlib.font_manager:findfont: score(<Font 'Thames' (THB_____.ttf) normal normal bold normal>) = 10.335\n",
      "DEBUG:matplotlib.font_manager:findfont: score(<Font 'Leelawadee' (LEELAWDB.TTF) normal normal bold normal>) = 10.335\n",
      "DEBUG:matplotlib.font_manager:findfont: score(<Font 'Wingdings 2' (WINGDNG2.TTF) normal normal 400 normal>) = 10.05\n",
      "DEBUG:matplotlib.font_manager:findfont: score(<Font 'Segoe UI' (segoeuiz.ttf) italic normal bold normal>) = 11.335\n",
      "DEBUG:matplotlib.font_manager:findfont: score(<Font 'Vladimir Script' (VLADIMIR.TTF) normal normal 400 normal>) = 10.05\n",
      "DEBUG:matplotlib.font_manager:findfont: score(<Font 'Verdana Pro' (VerdanaPro-Regular.ttf) normal normal 400 normal>) = 10.05\n",
      "DEBUG:matplotlib.font_manager:findfont: score(<Font 'Verdana Pro' (VerdanaPro-CondBold.ttf) normal normal bold condensed>) = 10.535\n",
      "DEBUG:matplotlib.font_manager:findfont: score(<Font 'Felix Titling' (FELIXTI.TTF) normal normal 400 normal>) = 10.05\n",
      "DEBUG:matplotlib.font_manager:findfont: score(<Font 'DejaVu Sans' (DejaVuSansCondensed.ttf) normal normal 400 condensed>) = 0.25\n",
      "DEBUG:matplotlib.font_manager:findfont: score(<Font 'Webdings' (webdings.ttf) normal normal 400 normal>) = 10.05\n",
      "DEBUG:matplotlib.font_manager:findfont: score(<Font 'Bodoni MT' (BOD_CB.TTF) normal normal bold condensed>) = 10.535\n",
      "DEBUG:matplotlib.font_manager:findfont: score(<Font 'Lucida Sans Typewriter' (LTYPEB.TTF) normal normal bold normal>) = 10.335\n",
      "DEBUG:matplotlib.font_manager:findfont: score(<Font 'Niagara Engraved' (NIAGENG.TTF) normal normal 400 normal>) = 10.05\n",
      "DEBUG:matplotlib.font_manager:findfont: score(<Font 'Sitka Small' (SitkaZ.ttc) italic normal bold normal>) = 11.335\n",
      "DEBUG:matplotlib.font_manager:findfont: score(<Font 'Bradley Hand ITC' (BRADHITC.TTF) normal normal 400 normal>) = 10.05\n",
      "DEBUG:matplotlib.font_manager:findfont: score(<Font 'Segoe MDL2 Assets' (segmdl2.ttf) normal normal 400 normal>) = 10.05\n",
      "DEBUG:matplotlib.font_manager:findfont: score(<Font 'Curlz MT' (CURLZ___.TTF) normal normal 400 normal>) = 10.05\n",
      "DEBUG:matplotlib.font_manager:findfont: score(<Font 'Rockwell Nova' (RockwellNova-LightItalic.ttf) italic normal light normal>) = 11.24\n",
      "DEBUG:matplotlib.font_manager:findfont: score(<Font 'Arial Nova' (ArialNova-Light.ttf) normal normal light normal>) = 10.24\n",
      "DEBUG:matplotlib.font_manager:findfont: score(<Font 'Eras Light ITC' (ERASLGHT.TTF) normal normal light normal>) = 10.24\n",
      "DEBUG:matplotlib.font_manager:findfont: score(<Font 'Broadway' (BROADW.TTF) normal normal 400 normal>) = 10.05\n",
      "DEBUG:matplotlib.font_manager:findfont: score(<Font 'Gill Sans Nova' (GillSansLightItNova.ttf) italic normal light normal>) = 11.24\n",
      "DEBUG:matplotlib.font_manager:findfont: score(<Font 'HP Simplified' (HPSimplified_Rg.ttf) normal normal 400 normal>) = 10.05\n",
      "DEBUG:matplotlib.font_manager:findfont: score(<Font 'Georgia Pro' (GeorgiaPro-SemiBoldItalic.ttf) italic normal semibold normal>) = 11.24\n",
      "DEBUG:matplotlib.font_manager:findfont: score(<Font 'Perpetua' (PER_____.TTF) normal normal 400 normal>) = 10.05\n",
      "DEBUG:matplotlib.font_manager:findfont: score(<Font 'Agency FB' (AGENCYR.TTF) normal normal 400 normal>) = 10.05\n",
      "DEBUG:matplotlib.font_manager:findfont: score(<Font 'SWItalc' (switalc.ttf) normal normal 400 normal>) = 10.05\n",
      "DEBUG:matplotlib.font_manager:findfont: score(<Font 'Segoe UI' (segoeui.ttf) normal normal 400 normal>) = 10.05\n",
      "DEBUG:matplotlib.font_manager:findfont: score(<Font 'DejaVu Sans' (DejaVuSansCondensed-Oblique.ttf) oblique normal 400 condensed>) = 1.25\n",
      "DEBUG:matplotlib.font_manager:findfont: score(<Font 'Palatino Linotype' (pala.ttf) normal normal 400 normal>) = 10.05\n",
      "DEBUG:matplotlib.font_manager:findfont: score(<Font 'Castellar' (CASTELAR.TTF) normal normal 400 normal>) = 10.05\n",
      "DEBUG:matplotlib.font_manager:findfont: score(<Font 'Rockwell' (ROCK.TTF) normal normal 400 normal>) = 10.05\n"
     ]
    },
    {
     "name": "stderr",
     "output_type": "stream",
     "text": [
      "DEBUG:matplotlib.font_manager:findfont: score(<Font 'MaplePi' (MP______.ttf) normal normal 400 normal>) = 10.05\n",
      "DEBUG:matplotlib.font_manager:findfont: score(<Font 'Brush Script MT' (BRUSHSCI.TTF) italic normal 400 normal>) = 11.05\n",
      "DEBUG:matplotlib.font_manager:findfont: score(<Font 'Verdana Pro' (VerdanaPro-Light.ttf) normal normal light normal>) = 10.24\n",
      "DEBUG:matplotlib.font_manager:findfont: score(<Font 'Arial' (arialbd.ttf) normal normal bold normal>) = 6.698636363636363\n",
      "DEBUG:matplotlib.font_manager:findfont: score(<Font 'Playbill' (PLAYBILL.TTF) normal normal 400 normal>) = 10.05\n",
      "DEBUG:matplotlib.font_manager:findfont: score(<Font 'Franklin Gothic Heavy' (FRAHV.TTF) normal normal heavy normal>) = 10.43\n",
      "DEBUG:matplotlib.font_manager:findfont: score(<Font 'Rockwell Nova' (RockwellNova.ttf) normal normal 400 normal>) = 10.05\n",
      "DEBUG:matplotlib.font_manager:findfont: score(<Font 'Dubai' (DUBAI-LIGHT.TTF) normal normal light normal>) = 10.24\n",
      "DEBUG:matplotlib.font_manager:findfont: score(<Font 'Comic Sans MS' (comici.ttf) italic normal 400 normal>) = 11.05\n",
      "DEBUG:matplotlib.font_manager:findfont: score(<Font 'Rockwell Nova' (RockwellNova-Bold.ttf) normal normal bold normal>) = 10.335\n",
      "DEBUG:matplotlib.font_manager:findfont: score(<Font 'Helonia' (HEB_____.ttf) normal normal bold normal>) = 10.335\n",
      "DEBUG:matplotlib.font_manager:findfont: score(<Font 'Goudy Old Style' (GOUDOS.TTF) normal normal 400 normal>) = 10.05\n",
      "DEBUG:matplotlib.font_manager:findfont: score(<Font 'Malgun Gothic' (malgunsl.ttf) normal normal light normal>) = 10.24\n",
      "DEBUG:matplotlib.font_manager:findfont: score(<Font 'Gadugi' (gadugib.ttf) normal normal bold normal>) = 10.335\n",
      "DEBUG:matplotlib.font_manager:findfont: score(<Font 'Microsoft Sans Serif' (micross.ttf) normal normal 400 normal>) = 10.05\n",
      "DEBUG:matplotlib.font_manager:findfont: score(<Font 'Goudy Stout' (GOUDYSTO.TTF) normal normal 400 normal>) = 10.05\n",
      "DEBUG:matplotlib.font_manager:findfont: score(<Font 'Gigi' (GIGI.TTF) normal normal 400 normal>) = 10.05\n",
      "DEBUG:matplotlib.font_manager:findfont: score(<Font 'Helonia' (HEBO____.ttf) italic normal bold normal>) = 11.335\n",
      "DEBUG:matplotlib.font_manager:findfont: score(<Font 'Arial Nova' (ArialNovaCond-Light.ttf) normal normal light condensed>) = 10.44\n",
      "DEBUG:matplotlib.font_manager:findfont: score(<Font 'ESSTIXEight' (ESSTIX8_.TTF) normal normal 400 normal>) = 10.05\n",
      "DEBUG:matplotlib.font_manager:findfont: score(<Font 'Snap ITC' (SNAP____.TTF) normal normal 400 normal>) = 10.05\n",
      "DEBUG:matplotlib.font_manager:findfont: score(<Font 'Juice ITC' (JUICE___.TTF) normal normal 400 normal>) = 10.05\n",
      "DEBUG:matplotlib.font_manager:findfont: score(<Font 'Centaur' (CENTAUR.TTF) normal normal 400 normal>) = 10.05\n",
      "DEBUG:matplotlib.font_manager:findfont: score(<Font 'Palace Script MT' (PALSCRI.TTF) normal normal 400 normal>) = 10.05\n",
      "DEBUG:matplotlib.font_manager:findfont: score(<Font 'ESSTIXThirteen' (ESSTIX13.TTF) normal normal 400 normal>) = 10.05\n",
      "DEBUG:matplotlib.font_manager:findfont: score(<Font 'Verdana' (verdanab.ttf) normal normal bold normal>) = 3.9713636363636367\n",
      "DEBUG:matplotlib.font_manager:findfont: score(<Font 'Bookshelf Symbol 7' (BSSYM7.TTF) normal normal book normal>) = 10.05\n",
      "DEBUG:matplotlib.font_manager:findfont: score(<Font 'Georgia Pro' (GeorgiaPro-CondItalic.ttf) italic normal 400 condensed>) = 11.25\n",
      "DEBUG:matplotlib.font_manager:findfont: score(<Font 'Berlin Sans FB' (BRLNSR.TTF) normal normal 400 normal>) = 10.05\n",
      "DEBUG:matplotlib.font_manager:findfont: score(<Font '3ds' (3ds Light.otf) normal normal light normal>) = 10.24\n",
      "DEBUG:matplotlib.font_manager:findfont: score(<Font 'Wide Latin' (LATINWD.TTF) normal normal 400 expanded>) = 10.25\n",
      "DEBUG:matplotlib.font_manager:findfont: score(<Font 'Garamond' (GARA.TTF) normal normal 400 normal>) = 10.05\n",
      "DEBUG:matplotlib.font_manager:findfont: score(<Font 'Segoe UI' (seguibli.ttf) italic normal black normal>) = 11.525\n",
      "DEBUG:matplotlib.font_manager:findfont: score(<Font 'Gill Sans Nova' (GillSansCondUltraBoNova.ttf) normal normal bold condensed>) = 10.535\n",
      "DEBUG:matplotlib.font_manager:findfont: score(<Font 'Courier Std' (courierstd-bold.otf) normal normal bold normal>) = 10.335\n",
      "DEBUG:matplotlib.font_manager:findfont: score(<Font 'Segoe UI' (segoeuii.ttf) italic normal 400 normal>) = 11.05\n",
      "DEBUG:matplotlib.font_manager:findfont: score(<Font 'Lucida Fax' (LFAXDI.TTF) italic normal demibold normal>) = 11.24\n",
      "DEBUG:matplotlib.font_manager:findfont: score(<Font 'Georgia Pro' (GeorgiaPro-CondBlackItalic.ttf) italic normal black condensed>) = 11.725\n",
      "DEBUG:matplotlib.font_manager:findfont: score(<Font 'Arial' (ARIALNB.TTF) normal normal bold condensed>) = 6.8986363636363635\n",
      "DEBUG:matplotlib.font_manager:findfont: score(<Font 'Tahoma' (tahoma.ttf) normal normal 400 normal>) = 10.05\n",
      "DEBUG:matplotlib.font_manager:findfont: score(<Font 'Candara' (Candarali.ttf) italic normal light normal>) = 11.24\n",
      "DEBUG:matplotlib.font_manager:findfont: score(<Font 'HP Simplified' (HPSimplified.ttf) normal normal bold normal>) = 10.335\n",
      "DEBUG:matplotlib.font_manager:findfont: score(<Font 'Segoe UI' (segoeuil.ttf) normal normal light normal>) = 10.24\n",
      "DEBUG:matplotlib.font_manager:findfont: score(<Font 'Georgia Pro' (GeorgiaPro-CondRegular.ttf) normal normal 400 condensed>) = 10.25\n",
      "DEBUG:matplotlib.font_manager:findfont: score(<Font 'Eras Demi ITC' (ERASDEMI.TTF) normal normal demi normal>) = 10.24\n",
      "DEBUG:matplotlib.font_manager:findfont: score(<Font 'Gill Sans Ultra Bold Condensed' (GILLUBCD.TTF) normal normal bold condensed>) = 10.535\n",
      "DEBUG:matplotlib.font_manager:findfont: score(<Font 'SWMap' (swmap.ttf) normal normal 400 normal>) = 10.05\n",
      "DEBUG:matplotlib.font_manager:findfont: score(<Font 'Bodoni MT' (BOD_CI.TTF) italic normal 400 condensed>) = 11.25\n",
      "DEBUG:matplotlib.font_manager:findfont: score(<Font 'Arial' (arial.ttf) normal normal 400 normal>) = 6.413636363636363\n",
      "DEBUG:matplotlib.font_manager:findfont: score(<Font 'Garamond' (GARABD.TTF) normal normal bold normal>) = 10.335\n",
      "DEBUG:matplotlib.font_manager:findfont: score(<Font 'Leelawadee UI' (LeelawUI.ttf) normal normal 400 normal>) = 10.05\n",
      "DEBUG:matplotlib.font_manager:findfont: score(<Font 'Tw Cen MT' (TCB_____.TTF) normal normal bold normal>) = 10.335\n",
      "DEBUG:matplotlib.font_manager:findfont: score(<Font 'Bernard MT Condensed' (BERNHC.TTF) normal normal 400 condensed>) = 10.25\n",
      "DEBUG:matplotlib.font_manager:findfont: score(<Font 'Showcard Gothic' (SHOWG.TTF) normal normal 400 normal>) = 10.05\n",
      "DEBUG:matplotlib.font_manager:findfont: score(<Font 'Perpetua' (PERI____.TTF) italic normal 400 normal>) = 11.05\n",
      "DEBUG:matplotlib.font_manager:findfont: score(<Font 'Kunstler Script' (KUNSTLER.TTF) normal normal 400 normal>) = 10.05\n",
      "DEBUG:matplotlib.font_manager:findfont: score(<Font 'ESSTIXSix' (ESSTIX6_.TTF) normal normal 400 normal>) = 10.05\n",
      "DEBUG:matplotlib.font_manager:findfont: score(<Font 'Gill Sans Nova' (GillSansCondItNova.ttf) italic normal 400 condensed>) = 11.25\n",
      "DEBUG:matplotlib.font_manager:findfont: score(<Font 'Microsoft YaHei' (msyhbd.ttc) normal normal bold normal>) = 10.335\n",
      "DEBUG:matplotlib.font_manager:findfont: score(<Font 'Eras Medium ITC' (ERASMD.TTF) normal normal medium normal>) = 10.145\n",
      "DEBUG:matplotlib.font_manager:findfont: score(<Font 'Century' (CENTURY.TTF) normal normal 400 normal>) = 10.05\n",
      "DEBUG:matplotlib.font_manager:findfont: score(<Font 'Freestyle Script' (FREESCPT.TTF) normal normal 400 normal>) = 10.05\n",
      "DEBUG:matplotlib.font_manager:findfont: score(<Font 'Adobe Devanagari' (AdobeDevanagari-Italic.otf) italic normal 400 normal>) = 11.05\n",
      "DEBUG:matplotlib.font_manager:findfont: score(<Font 'Gill Sans Nova' (GillSansLightNova.ttf) normal normal light normal>) = 10.24\n",
      "DEBUG:matplotlib.font_manager:findfont: score(<Font 'Arial Rounded MT Bold' (ARLRDBD.TTF) normal normal bold normal>) = 10.335\n",
      "DEBUG:matplotlib.font_manager:findfont: score(<Font 'ESSTIXTen' (ESSTIX10.TTF) normal normal 400 normal>) = 10.05\n",
      "DEBUG:matplotlib.font_manager:findfont: score(<Font 'Calisto MT' (CALISTBI.TTF) italic normal bold normal>) = 11.335\n",
      "DEBUG:matplotlib.font_manager:findfont: score(<Font 'Berlin Sans FB Demi' (BRLNSDB.TTF) normal normal demi normal>) = 10.24\n",
      "DEBUG:matplotlib.font_manager:findfont: score(<Font 'Consolas' (consolaz.ttf) italic normal bold normal>) = 11.335\n"
     ]
    },
    {
     "name": "stderr",
     "output_type": "stream",
     "text": [
      "DEBUG:matplotlib.font_manager:findfont: score(<Font 'Rockwell Nova' (RockwellNova-Italic.ttf) italic normal 400 normal>) = 11.05\n",
      "DEBUG:matplotlib.font_manager:findfont: score(<Font 'Sitka Small' (SitkaB.ttc) normal normal bold normal>) = 10.335\n",
      "DEBUG:matplotlib.font_manager:findfont: score(<Font 'HP Simplified' (HPSimplified_It.ttf) italic normal 400 normal>) = 11.05\n",
      "DEBUG:matplotlib.font_manager:findfont: score(<Font 'Verdana Pro' (VerdanaPro-SemiBold.ttf) normal normal semibold normal>) = 10.24\n",
      "DEBUG:matplotlib.font_manager:findfont: score(<Font 'Script MT Bold' (SCRIPTBL.TTF) normal normal bold normal>) = 10.335\n",
      "DEBUG:matplotlib.font_manager:findfont: score(<Font 'Lucida Sans Typewriter' (LTYPEBO.TTF) oblique normal bold normal>) = 11.335\n",
      "DEBUG:matplotlib.font_manager:findfont: score(<Font 'Courier New' (courbd.ttf) normal normal bold normal>) = 10.335\n",
      "DEBUG:matplotlib.font_manager:findfont: score(<Font 'SolidWorks GDT' (solidworks gdt.ttf) normal normal 400 normal>) = 10.05\n",
      "DEBUG:matplotlib.font_manager:findfont: score(<Font 'Segoe Print' (segoepr.ttf) normal normal 400 normal>) = 10.05\n",
      "DEBUG:matplotlib.font_manager:findfont: score(<Font 'Georgia' (georgiai.ttf) italic normal 400 normal>) = 11.05\n",
      "DEBUG:matplotlib.font_manager:findfont: score(<Font 'Rockwell Nova' (RockwellNovaCond-Light.ttf) normal normal light condensed>) = 10.44\n",
      "DEBUG:matplotlib.font_manager:findfont: score(<Font 'Microsoft Tai Le' (taileb.ttf) normal normal bold normal>) = 10.335\n",
      "DEBUG:matplotlib.font_manager:findfont: score(<Font 'Gill Sans Nova' (GillSansCondExtraNova.ttf) normal normal 400 condensed>) = 10.25\n",
      "DEBUG:matplotlib.font_manager:findfont: score(<Font 'Arial Nova' (ArialNovaCond-LightItalic.ttf) italic normal light condensed>) = 11.44\n",
      "DEBUG:matplotlib.font_manager:findfont: score(<Font 'Gill Sans Nova' (GillSansCondBoItNova.ttf) italic normal bold condensed>) = 11.535\n",
      "DEBUG:matplotlib.font_manager:findfont: score(<Font 'SWIsot3' (swisot3.ttf) normal normal 400 normal>) = 10.05\n",
      "DEBUG:matplotlib.font_manager:findfont: score(<Font 'DejaVu Serif' (DejaVuSerifCondensed-BoldItalic.ttf) italic normal bold condensed>) = 11.535\n",
      "DEBUG:matplotlib.font_manager:findfont: score(<Font 'DejaVu Serif' (DejaVuSerifCondensed-Bold.ttf) normal normal bold condensed>) = 10.535\n",
      "DEBUG:matplotlib.font_manager:findfont: score(<Font 'Rockwell Nova' (RockwellNova-ExtraBold.ttf) normal normal bold normal>) = 10.335\n",
      "DEBUG:matplotlib.font_manager:findfont: score(<Font 'HP Simplified' (HPSimplified_BdIt.ttf) italic normal bold normal>) = 11.335\n",
      "DEBUG:matplotlib.font_manager:findfont: score(<Font 'Lucida Fax' (LFAXI.TTF) italic normal 400 normal>) = 11.05\n",
      "DEBUG:matplotlib.font_manager:findfont: score(<Font 'Maiandra GD' (MAIAN.TTF) normal normal 400 normal>) = 10.05\n",
      "DEBUG:matplotlib.font_manager:findfont: score(<Font 'Calibri' (calibrii.ttf) italic normal 400 normal>) = 11.05\n",
      "DEBUG:matplotlib.font_manager:findfont: score(<Font 'Rockwell Nova' (RockwellNova-Light.ttf) normal normal light normal>) = 10.24\n",
      "DEBUG:matplotlib.font_manager:findfont: score(<Font 'Neue Haas Grotesk Text Pro' (NHaasGroteskTXPro-66MdIt.ttf) italic normal medium normal>) = 11.145\n",
      "DEBUG:matplotlib.font_manager:findfont: score(<Font 'ESSTIXSixteen' (ESSTIX16.TTF) normal normal 400 normal>) = 10.05\n",
      "DEBUG:matplotlib.font_manager:findfont: score(<Font 'Lucida Console' (lucon.ttf) normal normal 400 normal>) = 10.05\n",
      "DEBUG:matplotlib.font_manager:findfont: score(<Font 'Constantia' (constanb.ttf) normal normal bold normal>) = 10.335\n",
      "DEBUG:matplotlib.font_manager:findfont: score(<Font 'Book Antiqua' (ANTQUABI.TTF) italic normal book normal>) = 11.05\n",
      "DEBUG:matplotlib.font_manager:findfont: score(<Font 'HP Simplified' (HPSimplified_LtIt.ttf) italic normal light normal>) = 11.24\n",
      "DEBUG:matplotlib.font_manager:findfont: score(<Font 'Georgia' (georgia.ttf) normal normal 400 normal>) = 10.05\n",
      "DEBUG:matplotlib.font_manager:findfont: score(<Font 'Neue Haas Grotesk Text Pro' (NHaasGroteskTXPro-55Rg.ttf) normal normal 400 normal>) = 10.05\n",
      "DEBUG:matplotlib.font_manager:findfont: score(<Font 'OCR A Extended' (OCRAEXT.TTF) normal normal 400 normal>) = 10.05\n",
      "DEBUG:matplotlib.font_manager:findfont: score(<Font 'Georgia Pro' (GeorgiaPro-CondSemiBold.ttf) normal normal semibold condensed>) = 10.44\n",
      "DEBUG:matplotlib.font_manager:findfont: score(<Font 'Blackadder ITC' (ITCBLKAD.TTF) normal normal black normal>) = 10.525\n",
      "DEBUG:matplotlib.font_manager:findfont: score(<Font 'Lucida Bright' (LBRITEI.TTF) italic normal 400 normal>) = 11.05\n",
      "DEBUG:matplotlib.font_manager:findfont: score(<Font 'SimSun' (simsun.ttc) normal normal 400 normal>) = 10.05\n",
      "DEBUG:matplotlib.font_manager:findfont: score(<Font 'Arial Nova' (ArialNova.ttf) normal normal 400 normal>) = 10.05\n",
      "DEBUG:matplotlib.font_manager:findfont: score(<Font 'Georgia Pro' (GeorgiaPro-Light.ttf) normal normal light normal>) = 10.24\n",
      "DEBUG:matplotlib.font_manager:findfont: score(<Font 'Rockwell' (ROCKB.TTF) normal normal bold normal>) = 10.335\n",
      "DEBUG:matplotlib.font_manager:findfont: score(<Font 'Verdana Pro' (VerdanaPro-Black.ttf) normal normal black normal>) = 10.525\n",
      "DEBUG:matplotlib.font_manager:findfont: score(<Font 'Copperplate Gothic Bold' (COPRGTB.TTF) normal normal bold normal>) = 10.335\n",
      "DEBUG:matplotlib.font_manager:findfont: score(<Font 'Segoe UI' (seguisbi.ttf) italic normal semibold normal>) = 11.24\n",
      "DEBUG:matplotlib.font_manager:findfont: score(<Font 'Verdana Pro' (VerdanaPro-CondLightItalic.ttf) italic normal light condensed>) = 11.44\n",
      "DEBUG:matplotlib.font_manager:findfont: score(<Font 'Vivaldi' (VIVALDII.TTF) italic normal 400 normal>) = 11.05\n",
      "DEBUG:matplotlib.font_manager:findfont: score(<Font 'SWScrps' (swscrps.ttf) normal normal 400 normal>) = 10.05\n",
      "DEBUG:matplotlib.font_manager:findfont: score(<Font 'Poor Richard' (POORICH.TTF) normal normal 400 normal>) = 10.05\n",
      "DEBUG:matplotlib.font_manager:findfont: score(<Font 'Ebrima' (ebrima.ttf) normal normal 400 normal>) = 10.05\n",
      "DEBUG:matplotlib.font_manager:findfont: score(<Font 'Courant' (COO_____.ttf) italic normal 400 normal>) = 11.05\n",
      "DEBUG:matplotlib.font_manager:findfont: score(<Font 'Arial' (ARIALNBI.TTF) italic normal bold condensed>) = 7.8986363636363635\n",
      "DEBUG:matplotlib.font_manager:findfont: score(<Font 'Helonia' (HEO_____.ttf) italic normal 400 normal>) = 11.05\n",
      "DEBUG:matplotlib.font_manager:findfont: score(<Font 'Lucida Sans' (LSANSI.TTF) italic normal 400 normal>) = 11.05\n",
      "DEBUG:matplotlib.font_manager:findfont: score(<Font 'Lucida Bright' (LBRITEDI.TTF) italic normal demibold normal>) = 11.24\n",
      "DEBUG:matplotlib.font_manager:findfont: score(<Font 'Calibri' (calibrili.ttf) italic normal light normal>) = 11.24\n",
      "DEBUG:matplotlib.font_manager:findfont: score(<Font 'SWIsop1' (swisop1.ttf) normal normal 400 normal>) = 10.05\n",
      "DEBUG:matplotlib.font_manager:findfont: score(<Font 'Segoe UI' (seguisb.ttf) normal normal semibold normal>) = 10.24\n",
      "DEBUG:matplotlib.font_manager:findfont: score(<Font 'SWIsop3' (swisop3.ttf) normal normal 400 normal>) = 10.05\n",
      "DEBUG:matplotlib.font_manager:findfont: score(<Font 'DejaVu Serif' (DejaVuSerifCondensed.ttf) normal normal 400 condensed>) = 10.25\n",
      "DEBUG:matplotlib.font_manager:findfont: score(<Font 'Consolas' (consolai.ttf) italic normal 400 normal>) = 11.05\n",
      "DEBUG:matplotlib.font_manager:findfont: score(<Font 'Courant' (COBO____.ttf) italic normal bold normal>) = 11.335\n",
      "DEBUG:matplotlib.font_manager:findfont: score(<Font 'Verdana Pro' (VerdanaPro-CondRegular.ttf) normal normal 400 condensed>) = 10.25\n",
      "DEBUG:matplotlib.font_manager:findfont: score(<Font 'Microsoft Yi Baiti' (msyi.ttf) normal normal 400 normal>) = 10.05\n",
      "DEBUG:matplotlib.font_manager:findfont: score(<Font 'Century Gothic' (GOTHIC.TTF) normal normal 400 normal>) = 10.05\n",
      "DEBUG:matplotlib.font_manager:findfont: score(<Font 'ESSTIXNine' (ESSTIX9_.TTF) normal normal 400 normal>) = 10.05\n",
      "DEBUG:matplotlib.font_manager:findfont: score(<Font 'Thames' (THBI____.ttf) italic normal bold normal>) = 11.335\n",
      "DEBUG:matplotlib.font_manager:findfont: score(<Font 'Adobe Pi Std' (adobepistd.otf) normal normal 400 normal>) = 10.05\n",
      "DEBUG:matplotlib.font_manager:findfont: score(<Font 'Palatino Linotype' (palai.ttf) italic normal 400 normal>) = 11.05\n",
      "DEBUG:matplotlib.font_manager:findfont: score(<Font 'SWGDT' (swgdt.ttf) normal normal 400 normal>) = 10.05\n"
     ]
    },
    {
     "name": "stderr",
     "output_type": "stream",
     "text": [
      "DEBUG:matplotlib.font_manager:findfont: score(<Font 'SWTxt' (swtxt.ttf) normal normal 400 normal>) = 10.05\n",
      "DEBUG:matplotlib.font_manager:findfont: score(<Font 'Californian FB' (CALIFB.TTF) normal normal bold normal>) = 10.335\n",
      "DEBUG:matplotlib.font_manager:findfont: score(<Font 'Rockwell Nova' (RockwellNovaCond.ttf) normal normal 400 condensed>) = 10.25\n",
      "DEBUG:matplotlib.font_manager:findfont: score(<Font 'Algerian' (ALGER.TTF) normal normal 400 normal>) = 10.05\n",
      "DEBUG:matplotlib.font_manager:findfont: score(<Font 'MT Extra' (MTEXTRA.TTF) normal normal 400 normal>) = 10.05\n",
      "DEBUG:matplotlib.font_manager:findfont: score(<Font 'Adobe Song Std' (adobesongstd-light.otf) normal normal 400 normal>) = 10.05\n",
      "DEBUG:matplotlib.font_manager:findfont: score(<Font 'Candara' (Candara.ttf) normal normal 400 normal>) = 10.05\n",
      "DEBUG:matplotlib.font_manager:findfont: score(<Font 'Franklin Gothic Demi' (FRADMIT.TTF) italic normal demi normal>) = 11.24\n",
      "DEBUG:matplotlib.font_manager:findfont: score(<Font 'Parchment' (PARCHM.TTF) normal normal 400 normal>) = 10.05\n",
      "DEBUG:matplotlib.font_manager:findfont: score(<Font 'Segoe UI' (segoeuib.ttf) normal normal bold normal>) = 10.335\n",
      "DEBUG:matplotlib.font_manager:findfont: score(<Font 'SimSun-ExtB' (simsunb.ttf) normal normal 400 normal>) = 10.05\n",
      "DEBUG:matplotlib.font_manager:findfont: score(<Font 'Goudy Old Style' (GOUDOSB.TTF) normal normal bold normal>) = 10.335\n",
      "DEBUG:matplotlib.font_manager:findfont: score(<Font 'Rockwell Nova' (RockwellNovaCond-Bold.ttf) normal normal bold condensed>) = 10.535\n",
      "DEBUG:matplotlib.font_manager:findfont: score(<Font 'Georgia Pro' (GeorgiaPro-Black.ttf) normal normal black normal>) = 10.525\n",
      "DEBUG:matplotlib.font_manager:findfont: score(<Font 'Bodoni MT' (BOD_CBI.TTF) italic normal bold condensed>) = 11.535\n",
      "DEBUG:matplotlib.font_manager:findfont: score(<Font 'Georgia Pro' (GeorgiaPro-CondLight.ttf) normal normal light condensed>) = 10.44\n",
      "DEBUG:matplotlib.font_manager:findfont: score(<Font 'Imprint MT Shadow' (IMPRISHA.TTF) normal normal 400 normal>) = 10.05\n",
      "DEBUG:matplotlib.font_manager:findfont: score(<Font 'Adobe Myungjo Std' (adobemyungjostd-medium.otf) normal normal 400 normal>) = 10.05\n",
      "DEBUG:matplotlib.font_manager:findfont: score(<Font 'Microsoft Tai Le' (taile.ttf) normal normal 400 normal>) = 10.05\n",
      "DEBUG:matplotlib.font_manager:findfont: score(<Font 'Thames' (THI_____.ttf) italic normal 400 normal>) = 11.05\n",
      "DEBUG:matplotlib.font_manager:findfont: score(<Font 'Nirmala UI' (Nirmala.ttf) normal normal 400 normal>) = 10.05\n",
      "DEBUG:matplotlib.font_manager:findfont: score(<Font 'MV Boli' (mvboli.ttf) normal normal 400 normal>) = 10.05\n",
      "DEBUG:matplotlib.font_manager:findfont: score(<Font 'HoloLens MDL2 Assets' (holomdl2.ttf) normal normal 400 normal>) = 10.05\n",
      "DEBUG:matplotlib.font_manager:findfont: score(<Font 'Stencil' (STENCIL.TTF) normal normal 400 normal>) = 10.05\n",
      "DEBUG:matplotlib.font_manager:findfont: score(<Font 'Adobe Devanagari' (AdobeDevanagari-BoldItalic.otf) italic normal bold normal>) = 11.335\n",
      "DEBUG:matplotlib.font_manager:findfont: score(<Font 'DejaVu Sans' (DejaVuSansCondensed-Bold.ttf) normal normal bold condensed>) = 0.5349999999999999\n",
      "DEBUG:matplotlib.font_manager:findfont: score(<Font 'Arial' (ariali.ttf) italic normal 400 normal>) = 7.413636363636363\n",
      "DEBUG:matplotlib.font_manager:findfont: score(<Font 'Goudy Old Style' (GOUDOSI.TTF) italic normal 400 normal>) = 11.05\n",
      "DEBUG:matplotlib.font_manager:findfont: score(<Font 'Gill Sans Nova' (GillSansCondLightItNova.ttf) italic normal 400 condensed>) = 11.25\n",
      "DEBUG:matplotlib.font_manager:findfont: score(<Font 'SWSimp' (swsimp.ttf) normal normal 400 normal>) = 10.05\n",
      "DEBUG:matplotlib.font_manager:findfont: score(<Font 'Courier Std' (courierstd-boldoblique.otf) oblique normal bold normal>) = 11.335\n",
      "DEBUG:matplotlib.font_manager:findfont: score(<Font 'Lucida Bright' (LBRITED.TTF) normal normal demibold normal>) = 10.24\n",
      "DEBUG:matplotlib.font_manager:findfont: score(<Font 'Microsoft JhengHei' (msjhbd.ttc) normal normal bold normal>) = 10.335\n",
      "DEBUG:matplotlib.font_manager:findfont: score(<Font 'Gill Sans Nova' (GillSansItNova.ttf) italic normal 400 normal>) = 11.05\n",
      "DEBUG:matplotlib.font_manager:findfont: score(<Font 'Arial' (arialbi.ttf) italic normal bold normal>) = 7.698636363636363\n",
      "DEBUG:matplotlib.font_manager:findfont: score(<Font 'Arial' (ariblk.ttf) normal normal black normal>) = 6.888636363636364\n",
      "DEBUG:matplotlib.font_manager:findfont: score(<Font 'Leelawadee' (LEELAWAD.TTF) normal normal 400 normal>) = 10.05\n",
      "DEBUG:matplotlib.font_manager:findfont: score(<Font 'Georgia' (georgiaz.ttf) italic normal bold normal>) = 11.335\n",
      "DEBUG:matplotlib.font_manager:findfont: score(<Font 'Tahoma' (tahomabd.ttf) normal normal bold normal>) = 10.335\n",
      "DEBUG:matplotlib.font_manager:findfont: score(<Font 'Georgia Pro' (GeorgiaPro-Bold.ttf) normal normal bold normal>) = 10.335\n",
      "DEBUG:matplotlib.font_manager:findfont: score(<Font 'Bookman Old Style' (BOOKOSB.TTF) normal normal book normal>) = 10.05\n",
      "DEBUG:matplotlib.font_manager:findfont: score(<Font 'Calisto MT' (CALISTB.TTF) normal normal bold normal>) = 10.335\n",
      "DEBUG:matplotlib.font_manager:findfont: score(<Font 'Cambria' (cambriai.ttf) italic normal 400 normal>) = 11.05\n",
      "DEBUG:matplotlib.font_manager:findfont: score(<Font 'Comic Sans MS' (comic.ttf) normal normal 400 normal>) = 10.05\n",
      "DEBUG:matplotlib.font_manager:findfont: score(<Font 'Neue Haas Grotesk Text Pro' (NHaasGroteskTXPro-65Md.ttf) normal normal medium normal>) = 10.145\n",
      "DEBUG:matplotlib.font_manager:findfont: score(<Font 'HYSWLongFangSong' (hyswlongfangsong.ttf) normal normal 400 normal>) = 10.05\n",
      "DEBUG:matplotlib.font_manager:findfont: score(<Font 'Rockwell' (ROCKBI.TTF) italic normal bold normal>) = 11.335\n",
      "DEBUG:matplotlib.font_manager:findfont: score(<Font 'Gill Sans MT' (GILBI___.TTF) italic normal bold normal>) = 11.335\n",
      "DEBUG:matplotlib.font_manager:findfont: score(<Font 'SWIsop2' (swisop2.ttf) normal normal 400 normal>) = 10.05\n",
      "DEBUG:matplotlib.font_manager:findfont: score(<Font 'Malgun Gothic' (malgunbd.ttf) normal normal bold normal>) = 10.335\n",
      "DEBUG:matplotlib.font_manager:findfont: score(<Font 'Haettenschweiler' (HATTEN.TTF) normal normal 400 normal>) = 10.05\n",
      "DEBUG:matplotlib.font_manager:findfont: score(<Font 'Verdana Pro' (VerdanaPro-SemiBoldItalic.ttf) italic normal semibold normal>) = 11.24\n",
      "DEBUG:matplotlib.font_manager:findfont: score(<Font 'Verdana Pro' (VerdanaPro-CondBlackItalic.ttf) italic normal black condensed>) = 11.725\n",
      "DEBUG:matplotlib.font_manager:findfont: score(<Font 'Ravie' (RAVIE.TTF) normal normal 400 normal>) = 10.05\n",
      "DEBUG:matplotlib.font_manager:findfont: score(<Font 'Agency FB' (AGENCYB.TTF) normal normal bold normal>) = 10.335\n",
      "DEBUG:matplotlib.font_manager:findfont: score(<Font 'Calisto MT' (CALISTI.TTF) italic normal 400 normal>) = 11.05\n",
      "DEBUG:matplotlib.font_manager:findfont: score(<Font 'Dubai' (DUBAI-MEDIUM.TTF) normal normal medium normal>) = 10.145\n",
      "DEBUG:matplotlib.font_manager:findfont: score(<Font 'Century Gothic' (GOTHICBI.TTF) italic normal bold normal>) = 11.335\n",
      "DEBUG:matplotlib.font_manager:findfont: score(<Font 'Rockwell' (ROCKI.TTF) italic normal 400 normal>) = 11.05\n",
      "DEBUG:matplotlib.font_manager:findfont: score(<Font 'Pristina' (PRISTINA.TTF) normal normal 400 normal>) = 10.05\n",
      "DEBUG:matplotlib.font_manager:findfont: score(<Font 'Lucida Sans' (LSANSDI.TTF) italic normal demibold normal>) = 11.24\n",
      "DEBUG:matplotlib.font_manager:findfont: score(<Font 'SWComp' (swcomp.ttf) normal normal 400 normal>) = 10.05\n",
      "DEBUG:matplotlib.font_manager:findfont: score(<Font 'Lucida Fax' (LFAX.TTF) normal normal regular normal>) = 10.05\n",
      "DEBUG:matplotlib.font_manager:findfont: score(<Font 'Bodoni MT' (BOD_B.TTF) normal normal bold normal>) = 10.335\n",
      "DEBUG:matplotlib.font_manager:findfont: score(<Font 'Courier Std' (courierstd-oblique.otf) oblique normal medium normal>) = 11.145\n",
      "DEBUG:matplotlib.font_manager:findfont: score(<Font 'Mongolian Baiti' (monbaiti.ttf) normal normal 400 normal>) = 10.05\n",
      "DEBUG:matplotlib.font_manager:findfont: score(<Font 'Myanmar Text' (mmrtextb.ttf) normal normal bold normal>) = 10.335\n",
      "DEBUG:matplotlib.font_manager:findfont: score(<Font 'Engravers MT' (ENGR.TTF) normal normal 400 normal>) = 10.05\n"
     ]
    },
    {
     "name": "stderr",
     "output_type": "stream",
     "text": [
      "DEBUG:matplotlib.font_manager:findfont: score(<Font 'Leelawadee UI' (LeelaUIb.ttf) normal normal bold normal>) = 10.335\n",
      "DEBUG:matplotlib.font_manager:findfont: score(<Font 'Segoe Script' (segoesc.ttf) normal normal 400 normal>) = 10.05\n",
      "DEBUG:matplotlib.font_manager:findfont: score(<Font 'Bell MT' (BELLB.TTF) normal normal bold normal>) = 10.335\n",
      "DEBUG:matplotlib.font_manager:findfont: score(<Font 'Times New Roman' (times.ttf) normal normal roman normal>) = 10.145\n",
      "DEBUG:matplotlib.font_manager:findfont: score(<Font 'Courier Std' (courierstd.otf) normal normal medium normal>) = 10.145\n",
      "DEBUG:matplotlib.font_manager:findfont: score(<Font 'Georgia Pro' (GeorgiaPro-Italic.ttf) italic normal 400 normal>) = 11.05\n",
      "DEBUG:matplotlib.font_manager:findfont: score(<Font 'Gill Sans MT' (GIL_____.TTF) normal normal 400 normal>) = 10.05\n",
      "DEBUG:matplotlib.font_manager:findfont: score(<Font 'Georgia Pro' (GeorgiaPro-CondLightItalic.ttf) italic normal light condensed>) = 11.44\n",
      "DEBUG:matplotlib.font_manager:findfont: score(<Font 'Segoe UI' (seguisli.ttf) italic normal light normal>) = 11.24\n",
      "DEBUG:matplotlib.font_manager:findfont: score(<Font 'MaplePi' (MaplePi.ttf) normal normal 400 normal>) = 10.05\n",
      "DEBUG:matplotlib.font_manager:findfont: score(<Font 'Symbol' (symbol.ttf) normal normal 400 normal>) = 10.05\n",
      "DEBUG:matplotlib.font_manager:findfont: score(<Font 'SWGothg' (swgothg.ttf) normal normal 400 normal>) = 10.05\n",
      "DEBUG:matplotlib.font_manager:findfont: score(<Font 'Kozuka Gothic Pr6N' (kozgopr6n-medium.otf) normal normal 400 normal>) = 10.05\n",
      "DEBUG:matplotlib.font_manager:findfont: score(<Font 'Bell MT' (BELL.TTF) normal normal 400 normal>) = 10.05\n",
      "DEBUG:matplotlib.font_manager:findfont: score(<Font 'Ebrima' (ebrimabd.ttf) normal normal bold normal>) = 10.335\n",
      "DEBUG:matplotlib.font_manager:findfont: score(<Font 'Century Schoolbook' (SCHLBKBI.TTF) italic normal book normal>) = 11.05\n",
      "DEBUG:matplotlib.font_manager:findfont: score(<Font 'Adobe Devanagari' (AdobeDevanagari-Regular.otf) normal normal 400 normal>) = 10.05\n",
      "DEBUG:matplotlib.font_manager:findfont: score(<Font 'Adobe Heiti Std' (adobeheitistd-regular.otf) normal normal 400 normal>) = 10.05\n",
      "DEBUG:matplotlib.font_manager:findfont: score(<Font 'Calibri' (calibril.ttf) normal normal light normal>) = 10.24\n",
      "DEBUG:matplotlib.font_manager:findfont: score(<Font 'Microsoft YaHei' (msyhl.ttc) normal normal light normal>) = 10.24\n",
      "DEBUG:matplotlib.font_manager:findfont: score(<Font 'SWMeteo' (swmeteo.ttf) normal normal 400 normal>) = 10.05\n",
      "DEBUG:matplotlib.font_manager:findfont: Matching :family=sans-serif:style=normal:variant=normal:weight=normal:stretch=normal:size=10.0 to DejaVu Sans ('c:\\\\users\\\\pak_l\\\\appdata\\\\local\\\\programs\\\\python\\\\python37\\\\lib\\\\site-packages\\\\matplotlib\\\\mpl-data\\\\fonts\\\\ttf\\\\DejaVuSans.ttf') with score of 0.050000.\n"
     ]
    },
    {
     "data": {
      "image/png": "[encoded data removed]",
      "text/plain": [
       "<Figure size 432x288 with 1 Axes>"
      ]
     },
     "metadata": {
      "needs_background": "light"
     },
     "output_type": "display_data"
    }
   ],
   "source": [
    "import matplotlib.pyplot as plt\n",
    "import numpy as np\n",
    "\n",
    "plt.figure(1)\n",
    "plt.plot(data) #veranderen naar echte value plot\n",
    "plt.show()"
   ]
  },
  {
   "cell_type": "code",
   "execution_count": 84,
   "metadata": {},
   "outputs": [
    {
     "data": {
      "application/vnd.jupyter.widget-view+json": {
       "model_id": "d8636d5712bd4be19c480e4fd66c95d2",
       "version_major": 2,
       "version_minor": 0
      },
      "text/plain": [
       "IntSlider(value=0)"
      ]
     },
     "metadata": {},
     "output_type": "display_data"
    },
    {
     "data": {
      "application/vnd.jupyter.widget-view+json": {
       "model_id": "d65e4cf8ff764ac2b362a4d039717fa0",
       "version_major": 2,
       "version_minor": 0
      },
      "text/plain": [
       "IntText(value=0)"
      ]
     },
     "metadata": {},
     "output_type": "display_data"
    },
    {
     "data": {
      "text/plain": [
       "Link(source=(IntSlider(value=0), 'value'), target=(IntText(value=0), 'value'))"
      ]
     },
     "metadata": {},
     "output_type": "display_data"
    }
   ],
   "source": [
    "slider = widgets.IntSlider()\n",
    "text = widgets.IntText()\n",
    "display(slider, text)\n",
    "widgets.jslink((slider, 'value'), (text, 'value'))"
   ]
  },
  {
   "cell_type": "code",
   "execution_count": 152,
   "metadata": {},
   "outputs": [
    {
     "data": {
      "application/vnd.jupyter.widget-view+json": {
       "model_id": "d7c18d97f70e4c7183030594540aebdb",
       "version_major": 2,
       "version_minor": 0
      },
      "text/plain": [
       "ToggleButtons(button_style='info', description='Deviation', options=('10%', '50%', '100%'), tooltips=('+- 10% …"
      ]
     },
     "metadata": {},
     "output_type": "display_data"
    }
   ],
   "source": [
    "a = widgets.ToggleButtons()\n",
    "widgets.ToggleButtons(\n",
    "    options=['10%', '50%', '100%'],\n",
    "    description='Deviation',\n",
    "    disabled=False,\n",
    "    button_style='info', # 'success', 'info', 'warning', 'danger' or ''\n",
    "    tooltips=['+- 10% from initial velocity', '+- 50% from initial velocity', '+- 100% from initial velocity'],\n",
    ")"
   ]
  },
  {
   "cell_type": "code",
   "execution_count": 159,
   "metadata": {},
   "outputs": [
    {
     "data": {
      "application/vnd.jupyter.widget-view+json": {
       "model_id": "80bd741524564de3bc91cfeaff875a2a",
       "version_major": 2,
       "version_minor": 0
      },
      "text/plain": [
       "IntSlider(value=0)"
      ]
     },
     "metadata": {},
     "output_type": "display_data"
    },
    {
     "data": {
      "application/vnd.jupyter.widget-view+json": {
       "model_id": "af317c9c34c54280a5ebaa619c9557d3",
       "version_major": 2,
       "version_minor": 0
      },
      "text/plain": [
       "Output()"
      ]
     },
     "metadata": {},
     "output_type": "display_data"
    }
   ],
   "source": [
    "int_range = widgets.IntSlider()\n",
    "output2 = widgets.Output()\n",
    "\n",
    "display(int_range, output2)\n",
    "\n",
    "def on_value_change(change):\n",
    "    with output2:\n",
    "        print(change['new'])\n",
    "        return output2\n",
    "\n",
    "int_range.observe(on_value_change, names='value')"
   ]
  },
  {
   "cell_type": "code",
   "execution_count": 89,
   "metadata": {},
   "outputs": [
    {
     "data": {
      "text/html": [
       "<div>\n",
       "<style scoped>\n",
       "    .dataframe tbody tr th:only-of-type {\n",
       "        vertical-align: middle;\n",
       "    }\n",
       "\n",
       "    .dataframe tbody tr th {\n",
       "        vertical-align: top;\n",
       "    }\n",
       "\n",
       "    .dataframe thead th {\n",
       "        text-align: right;\n",
       "    }\n",
       "</style>\n",
       "<table border=\"1\" class=\"dataframe\">\n",
       "  <thead>\n",
       "    <tr style=\"text-align: right;\">\n",
       "      <th></th>\n",
       "      <th>v</th>\n",
       "    </tr>\n",
       "  </thead>\n",
       "  <tbody>\n",
       "    <tr>\n",
       "      <th>1970-01-01 00:00:00.001</th>\n",
       "      <td>1.0</td>\n",
       "    </tr>\n",
       "    <tr>\n",
       "      <th>1970-01-01 00:00:00.002</th>\n",
       "      <td>2.0</td>\n",
       "    </tr>\n",
       "    <tr>\n",
       "      <th>1970-01-01 00:00:00.003</th>\n",
       "      <td>3.0</td>\n",
       "    </tr>\n",
       "    <tr>\n",
       "      <th>1970-01-01 00:00:00.004</th>\n",
       "      <td>4.0</td>\n",
       "    </tr>\n",
       "    <tr>\n",
       "      <th>1970-01-01 00:00:00.005</th>\n",
       "      <td>5.0</td>\n",
       "    </tr>\n",
       "    <tr>\n",
       "      <th>1970-01-01 00:00:00.006</th>\n",
       "      <td>6.0</td>\n",
       "    </tr>\n",
       "    <tr>\n",
       "      <th>1970-01-01 00:00:00.007</th>\n",
       "      <td>7.0</td>\n",
       "    </tr>\n",
       "    <tr>\n",
       "      <th>1970-01-01 00:00:00.008</th>\n",
       "      <td>8.0</td>\n",
       "    </tr>\n",
       "    <tr>\n",
       "      <th>1970-01-01 00:00:00.009</th>\n",
       "      <td>9.0</td>\n",
       "    </tr>\n",
       "    <tr>\n",
       "      <th>1970-01-01 00:00:00.010</th>\n",
       "      <td>10.0</td>\n",
       "    </tr>\n",
       "  </tbody>\n",
       "</table>\n",
       "</div>"
      ],
      "text/plain": [
       "                            v\n",
       "1970-01-01 00:00:00.001   1.0\n",
       "1970-01-01 00:00:00.002   2.0\n",
       "1970-01-01 00:00:00.003   3.0\n",
       "1970-01-01 00:00:00.004   4.0\n",
       "1970-01-01 00:00:00.005   5.0\n",
       "1970-01-01 00:00:00.006   6.0\n",
       "1970-01-01 00:00:00.007   7.0\n",
       "1970-01-01 00:00:00.008   8.0\n",
       "1970-01-01 00:00:00.009   9.0\n",
       "1970-01-01 00:00:00.010  10.0"
      ]
     },
     "execution_count": 89,
     "metadata": {},
     "output_type": "execute_result"
    }
   ],
   "source": [
    "from numpy import genfromtxt\n",
    "import pandas as pd\n",
    "data = (genfromtxt('test.csv', delimiter=','))\n",
    "data_frame = pd.DataFrame(data[:,1:], index = pd.DatetimeIndex(pd.to_datetime(data[:,0], unit='ms')), columns = ['v'])\n",
    "data_frame"
   ]
  },
  {
   "cell_type": "code",
   "execution_count": 90,
   "metadata": {},
   "outputs": [
    {
     "data": {
      "application/vnd.jupyter.widget-view+json": {
       "model_id": "758076631dee4611bd3fc1f445c88f26",
       "version_major": 2,
       "version_minor": 0
      },
      "text/plain": [
       "IntSlider(value=0)"
      ]
     },
     "metadata": {},
     "output_type": "display_data"
    }
   ],
   "source": [
    "from IPython.display import display\n",
    "slider = widgets.IntSlider()\n",
    "display(slider)"
   ]
  },
  {
   "cell_type": "code",
   "execution_count": 206,
   "metadata": {
    "scrolled": true
   },
   "outputs": [
    {
     "data": {
      "application/vnd.jupyter.widget-view+json": {
       "model_id": "d0dab7ec40a140bea3eac94a49418ece",
       "version_major": 2,
       "version_minor": 0
      },
      "text/plain": [
       "HBox(children=(VBox(children=(IntSlider(value=0, description='Deviation'),)), Output()))"
      ]
     },
     "metadata": {},
     "output_type": "display_data"
    }
   ],
   "source": [
    "#a = widgets.FloatSlider()\n",
    "#text = widgets.FloatText()\n",
    "#display(a, text)\n",
    "#widgets.jslink((a, 'value'), (text, 'value'))\n",
    "\n",
    "\n",
    "a = widgets.IntSlider(description='Deviation')\n",
    "def f(a):\n",
    "    print('{}'.format(a, a))\n",
    "    return out\n",
    "\n",
    "out = widgets.interactive_output(f, {'a': a})\n",
    "\n",
    "widgets.HBox([widgets.VBox([a]), out])\n"
   ]
  },
  {
   "cell_type": "code",
   "execution_count": 92,
   "metadata": {},
   "outputs": [
    {
     "data": {
      "application/vnd.jupyter.widget-view+json": {
       "model_id": "61c379242841407d8104894508e0d18d",
       "version_major": 2,
       "version_minor": 0
      },
      "text/plain": [
       "Button(description='Test', style=ButtonStyle())"
      ]
     },
     "metadata": {},
     "output_type": "display_data"
    },
    {
     "name": "stdout",
     "output_type": "stream",
     "text": [
      "Er is op me geklikt (Test)\n",
      "Er is op me geklikt (Test)\n"
     ]
    }
   ],
   "source": [
    "btn = widgets.Button(description='Test')\n",
    "display(btn)\n",
    "def btn_eventhandler(obj):\n",
    "    print('Er is op me geklikt ({})'.format(obj.description))\n",
    "btn.on_click(btn_eventhandler)"
   ]
  },
  {
   "cell_type": "code",
   "execution_count": 93,
   "metadata": {
    "pycharm": {
     "name": "#%%\n"
    }
   },
   "outputs": [
    {
     "ename": "AttributeError",
     "evalue": "'NoneType' object has no attribute 'values'",
     "output_type": "error",
     "traceback": [
      "\u001b[1;31m---------------------------------------------------------------------------\u001b[0m",
      "\u001b[1;31mAttributeError\u001b[0m                            Traceback (most recent call last)",
      "\u001b[1;32m<ipython-input-93-ef450828b6b3>\u001b[0m in \u001b[0;36m<module>\u001b[1;34m\u001b[0m\n\u001b[0;32m      3\u001b[0m \u001b[1;32mfrom\u001b[0m \u001b[0mmatplotlib\u001b[0m\u001b[1;33m.\u001b[0m\u001b[0mpyplot\u001b[0m \u001b[1;32mimport\u001b[0m \u001b[0mfigure\u001b[0m\u001b[1;33m\u001b[0m\u001b[1;33m\u001b[0m\u001b[0m\n\u001b[0;32m      4\u001b[0m \u001b[1;32mfrom\u001b[0m \u001b[0mnumpy\u001b[0m \u001b[1;32mimport\u001b[0m \u001b[0mma\u001b[0m\u001b[1;33m\u001b[0m\u001b[1;33m\u001b[0m\u001b[0m\n\u001b[1;32m----> 5\u001b[1;33m \u001b[0mdata\u001b[0m \u001b[1;33m=\u001b[0m \u001b[0mnp\u001b[0m\u001b[1;33m.\u001b[0m\u001b[0marray\u001b[0m\u001b[1;33m(\u001b[0m\u001b[0mmy_property\u001b[0m\u001b[1;33m.\u001b[0m\u001b[0mvalues\u001b[0m\u001b[1;33m)\u001b[0m\u001b[1;33m\u001b[0m\u001b[1;33m\u001b[0m\u001b[0m\n\u001b[0m",
      "\u001b[1;31mAttributeError\u001b[0m: 'NoneType' object has no attribute 'values'"
     ]
    }
   ],
   "source": [
    "import numpy as np\n",
    "import matplotlib.pyplot as plt\n",
    "from matplotlib.pyplot import figure\n",
    "from numpy import ma\n",
    "data = np.array(my_property.values)"
   ]
  },
  {
   "cell_type": "code",
   "execution_count": 207,
   "metadata": {},
   "outputs": [
    {
     "ename": "TypeError",
     "evalue": "'IntSlider' object is not subscriptable",
     "output_type": "error",
     "traceback": [
      "\u001b[1;31m---------------------------------------------------------------------------\u001b[0m",
      "\u001b[1;31mTypeError\u001b[0m                                 Traceback (most recent call last)",
      "\u001b[1;32m<ipython-input-207-5e1c94726fa1>\u001b[0m in \u001b[0;36m<module>\u001b[1;34m\u001b[0m\n\u001b[1;32m----> 1\u001b[1;33m \u001b[0mb\u001b[0m \u001b[1;33m=\u001b[0m \u001b[0mmap\u001b[0m\u001b[1;33m(\u001b[0m\u001b[0mfloat\u001b[0m\u001b[1;33m,\u001b[0m \u001b[0ma\u001b[0m\u001b[1;33m[\u001b[0m\u001b[1;36m0\u001b[0m\u001b[1;33m]\u001b[0m\u001b[1;33m.\u001b[0m\u001b[0msplit\u001b[0m\u001b[1;33m(\u001b[0m\u001b[1;34m\"*\"\u001b[0m\u001b[1;33m)\u001b[0m\u001b[1;33m)\u001b[0m\u001b[1;33m\u001b[0m\u001b[1;33m\u001b[0m\u001b[0m\n\u001b[0m",
      "\u001b[1;31mTypeError\u001b[0m: 'IntSlider' object is not subscriptable"
     ]
    }
   ],
   "source": [
    "#b = map(float, a[0].split(\"*\"))"
   ]
  },
  {
   "cell_type": "code",
   "execution_count": 208,
   "metadata": {
    "pycharm": {
     "name": "#%%\n"
    },
    "scrolled": true
   },
   "outputs": [
    {
     "ename": "TypeError",
     "evalue": "float() argument must be a string or a number, not 'list'",
     "output_type": "error",
     "traceback": [
      "\u001b[1;31m---------------------------------------------------------------------------\u001b[0m",
      "\u001b[1;31mTypeError\u001b[0m                                 Traceback (most recent call last)",
      "\u001b[1;32m<ipython-input-208-4e29a1919c6a>\u001b[0m in \u001b[0;36m<module>\u001b[1;34m\u001b[0m\n\u001b[0;32m      1\u001b[0m \u001b[0mfigure\u001b[0m\u001b[1;33m(\u001b[0m\u001b[0mnum\u001b[0m\u001b[1;33m=\u001b[0m\u001b[1;32mNone\u001b[0m\u001b[1;33m,\u001b[0m \u001b[0mfigsize\u001b[0m\u001b[1;33m=\u001b[0m\u001b[1;33m(\u001b[0m\u001b[1;36m15\u001b[0m\u001b[1;33m,\u001b[0m \u001b[1;36m5\u001b[0m\u001b[1;33m)\u001b[0m\u001b[1;33m)\u001b[0m\u001b[1;33m\u001b[0m\u001b[1;33m\u001b[0m\u001b[0m\n\u001b[0;32m      2\u001b[0m \u001b[0mt\u001b[0m \u001b[1;33m=\u001b[0m \u001b[0mdata_frame\u001b[0m\u001b[1;33m.\u001b[0m\u001b[0mindex\u001b[0m\u001b[1;33m\u001b[0m\u001b[1;33m\u001b[0m\u001b[0m\n\u001b[1;32m----> 3\u001b[1;33m \u001b[0mplt\u001b[0m\u001b[1;33m.\u001b[0m\u001b[0mplot\u001b[0m\u001b[1;33m(\u001b[0m\u001b[0mt\u001b[0m\u001b[1;33m,\u001b[0m \u001b[1;33m(\u001b[0m\u001b[0mdata_frame\u001b[0m\u001b[1;33m.\u001b[0m\u001b[0mv\u001b[0m \u001b[1;33m*\u001b[0m \u001b[0mfloat\u001b[0m\u001b[1;33m(\u001b[0m\u001b[1;33m[\u001b[0m\u001b[0mout\u001b[0m\u001b[1;33m]\u001b[0m\u001b[1;33m)\u001b[0m\u001b[1;33m)\u001b[0m\u001b[1;33m)\u001b[0m\u001b[1;33m\u001b[0m\u001b[1;33m\u001b[0m\u001b[0m\n\u001b[0m",
      "\u001b[1;31mTypeError\u001b[0m: float() argument must be a string or a number, not 'list'"
     ]
    },
    {
     "data": {
      "text/plain": [
       "<Figure size 1080x360 with 0 Axes>"
      ]
     },
     "metadata": {},
     "output_type": "display_data"
    }
   ],
   "source": [
    "figure(num=None, figsize=(15, 5))\n",
    "t = data_frame.index\n",
    "plt.plot(t, (data_frame.v * float([out])))"
   ]
  },
  {
   "cell_type": "code",
   "execution_count": 101,
   "metadata": {
    "pycharm": {
     "name": "#%%\n"
    }
   },
   "outputs": [
    {
     "data": {
      "image/png": "[encoded data removed]",
      "text/plain": [
       "<Figure size 432x288 with 1 Axes>"
      ]
     },
     "metadata": {
      "needs_background": "light"
     },
     "output_type": "display_data"
    }
   ],
   "source": [
    "plt.hist(data[:,1:])\n",
    "plt.show()"
   ]
  },
  {
   "cell_type": "code",
   "execution_count": 191,
   "metadata": {},
   "outputs": [
    {
     "data": {
      "application/vnd.jupyter.widget-view+json": {
       "model_id": "bd1b51b7996f477980333052c7afd305",
       "version_major": 2,
       "version_minor": 0
      },
      "text/plain": [
       "HBox(children=(VBox(children=(IntSlider(value=0, description='a'),)), Output()))"
      ]
     },
     "metadata": {},
     "output_type": "display_data"
    }
   ],
   "source": [
    "a = widgets.IntSlider(description='a')\n",
    "def f(a):\n",
    "    print('{}'.format(a, a))\n",
    "\n",
    "out = widgets.interactive_output(f, {'a': a})\n",
    "\n",
    "widgets.HBox([widgets.VBox([a]), out])"
   ]
  },
  {
   "cell_type": "markdown",
   "metadata": {},
   "source": [
    "# Generate statistics with NumPy and Pandas"
   ]
  },
  {
   "cell_type": "code",
   "execution_count": 27,
   "metadata": {},
   "outputs": [],
   "source": [
    "import numpy as np\n",
    "from scipy.stats import kurtosis, skew"
   ]
  },
  {
   "cell_type": "code",
   "execution_count": 28,
   "metadata": {},
   "outputs": [
    {
     "data": {
      "text/plain": [
       "array([1.])"
      ]
     },
     "execution_count": 28,
     "metadata": {},
     "output_type": "execute_result"
    }
   ],
   "source": [
    "np.min(data[:,1:4], axis=0)"
   ]
  },
  {
   "cell_type": "code",
   "execution_count": 29,
   "metadata": {},
   "outputs": [
    {
     "data": {
      "text/plain": [
       "array([0.])"
      ]
     },
     "execution_count": 29,
     "metadata": {},
     "output_type": "execute_result"
    }
   ],
   "source": [
    "skew(data[:,1:4])"
   ]
  },
  {
   "cell_type": "markdown",
   "metadata": {},
   "source": [
    "You can select a column (slice) of data, or a subset of data. In the example below we select rows\n",
    "from 10 to 20 (10 in total) and the colum 1 to x (i.e skiping the first column representing the time)."
   ]
  },
  {
   "cell_type": "code",
   "execution_count": 32,
   "metadata": {},
   "outputs": [
    {
     "data": {
      "text/plain": [
       "array([[1., 1.],\n",
       "       [2., 2.],\n",
       "       [3., 3.],\n",
       "       [4., 4.],\n",
       "       [5., 5.]])"
      ]
     },
     "execution_count": 32,
     "metadata": {},
     "output_type": "execute_result"
    }
   ],
   "source": [
    "data[:5,:]"
   ]
  },
  {
   "cell_type": "markdown",
   "metadata": {},
   "source": [
    "Out of the box, Pandas give you some statistics, do not forget to convert your array into a DataFrame."
   ]
  },
  {
   "cell_type": "code",
   "execution_count": 33,
   "metadata": {
    "scrolled": true
   },
   "outputs": [
    {
     "data": {
      "text/html": [
       "<div>\n",
       "<style scoped>\n",
       "    .dataframe tbody tr th:only-of-type {\n",
       "        vertical-align: middle;\n",
       "    }\n",
       "\n",
       "    .dataframe tbody tr th {\n",
       "        vertical-align: top;\n",
       "    }\n",
       "\n",
       "    .dataframe thead th {\n",
       "        text-align: right;\n",
       "    }\n",
       "</style>\n",
       "<table border=\"1\" class=\"dataframe\">\n",
       "  <thead>\n",
       "    <tr style=\"text-align: right;\">\n",
       "      <th></th>\n",
       "      <th>0</th>\n",
       "    </tr>\n",
       "  </thead>\n",
       "  <tbody>\n",
       "    <tr>\n",
       "      <th>count</th>\n",
       "      <td>10.00000</td>\n",
       "    </tr>\n",
       "    <tr>\n",
       "      <th>mean</th>\n",
       "      <td>5.50000</td>\n",
       "    </tr>\n",
       "    <tr>\n",
       "      <th>std</th>\n",
       "      <td>3.02765</td>\n",
       "    </tr>\n",
       "    <tr>\n",
       "      <th>min</th>\n",
       "      <td>1.00000</td>\n",
       "    </tr>\n",
       "    <tr>\n",
       "      <th>25%</th>\n",
       "      <td>3.25000</td>\n",
       "    </tr>\n",
       "    <tr>\n",
       "      <th>50%</th>\n",
       "      <td>5.50000</td>\n",
       "    </tr>\n",
       "    <tr>\n",
       "      <th>75%</th>\n",
       "      <td>7.75000</td>\n",
       "    </tr>\n",
       "    <tr>\n",
       "      <th>max</th>\n",
       "      <td>10.00000</td>\n",
       "    </tr>\n",
       "  </tbody>\n",
       "</table>\n",
       "</div>"
      ],
      "text/plain": [
       "              0\n",
       "count  10.00000\n",
       "mean    5.50000\n",
       "std     3.02765\n",
       "min     1.00000\n",
       "25%     3.25000\n",
       "50%     5.50000\n",
       "75%     7.75000\n",
       "max    10.00000"
      ]
     },
     "execution_count": 33,
     "metadata": {},
     "output_type": "execute_result"
    }
   ],
   "source": [
    "data_frame = pd.DataFrame(data[:,1:], index = pd.DatetimeIndex(pd.to_datetime(data[:,0], unit='ms')))\n",
    "pd.DataFrame.describe(data_frame)"
   ]
  },
  {
   "cell_type": "code",
   "execution_count": 40,
   "metadata": {},
   "outputs": [
    {
     "data": {
      "text/html": [
       "<div>\n",
       "<style scoped>\n",
       "    .dataframe tbody tr th:only-of-type {\n",
       "        vertical-align: middle;\n",
       "    }\n",
       "\n",
       "    .dataframe tbody tr th {\n",
       "        vertical-align: top;\n",
       "    }\n",
       "\n",
       "    .dataframe thead th {\n",
       "        text-align: right;\n",
       "    }\n",
       "</style>\n",
       "<table border=\"1\" class=\"dataframe\">\n",
       "  <thead>\n",
       "    <tr style=\"text-align: right;\">\n",
       "      <th></th>\n",
       "      <th>0</th>\n",
       "    </tr>\n",
       "  </thead>\n",
       "  <tbody>\n",
       "    <tr>\n",
       "      <th>1970-01-01 00:00:00.001</th>\n",
       "      <td>NaN</td>\n",
       "    </tr>\n",
       "    <tr>\n",
       "      <th>1970-01-01 00:00:00.002</th>\n",
       "      <td>NaN</td>\n",
       "    </tr>\n",
       "    <tr>\n",
       "      <th>1970-01-01 00:00:00.003</th>\n",
       "      <td>NaN</td>\n",
       "    </tr>\n",
       "    <tr>\n",
       "      <th>1970-01-01 00:00:00.004</th>\n",
       "      <td>NaN</td>\n",
       "    </tr>\n",
       "    <tr>\n",
       "      <th>1970-01-01 00:00:00.005</th>\n",
       "      <td>NaN</td>\n",
       "    </tr>\n",
       "    <tr>\n",
       "      <th>1970-01-01 00:00:00.006</th>\n",
       "      <td>NaN</td>\n",
       "    </tr>\n",
       "    <tr>\n",
       "      <th>1970-01-01 00:00:00.007</th>\n",
       "      <td>NaN</td>\n",
       "    </tr>\n",
       "    <tr>\n",
       "      <th>1970-01-01 00:00:00.008</th>\n",
       "      <td>NaN</td>\n",
       "    </tr>\n",
       "    <tr>\n",
       "      <th>1970-01-01 00:00:00.009</th>\n",
       "      <td>NaN</td>\n",
       "    </tr>\n",
       "    <tr>\n",
       "      <th>1970-01-01 00:00:00.010</th>\n",
       "      <td>3.02765</td>\n",
       "    </tr>\n",
       "  </tbody>\n",
       "</table>\n",
       "</div>"
      ],
      "text/plain": [
       "                               0\n",
       "1970-01-01 00:00:00.001      NaN\n",
       "1970-01-01 00:00:00.002      NaN\n",
       "1970-01-01 00:00:00.003      NaN\n",
       "1970-01-01 00:00:00.004      NaN\n",
       "1970-01-01 00:00:00.005      NaN\n",
       "1970-01-01 00:00:00.006      NaN\n",
       "1970-01-01 00:00:00.007      NaN\n",
       "1970-01-01 00:00:00.008      NaN\n",
       "1970-01-01 00:00:00.009      NaN\n",
       "1970-01-01 00:00:00.010  3.02765"
      ]
     },
     "execution_count": 40,
     "metadata": {},
     "output_type": "execute_result"
    }
   ],
   "source": [
    "data_frame.rolling(10).std()"
   ]
  },
  {
   "cell_type": "markdown",
   "metadata": {},
   "source": [
    "# Rolling / Sliding Window\n",
    "To apply statistics on a sliding (or rolling) window, we can use the rolling() function of a data frame. In the example below, we roll with a window size of 4 elements to apply a skew()"
   ]
  },
  {
   "cell_type": "code",
   "execution_count": 41,
   "metadata": {},
   "outputs": [
    {
     "data": {
      "image/png": "[encoded data removed]",
      "text/plain": [
       "<Figure size 432x288 with 1 Axes>"
      ]
     },
     "metadata": {
      "needs_background": "light"
     },
     "output_type": "display_data"
    }
   ],
   "source": [
    "rolling2s = data_frame.rolling('2s').std()\n",
    "plt.plot(rolling2s)\n",
    "plt.show()"
   ]
  },
  {
   "cell_type": "code",
   "execution_count": 20,
   "metadata": {},
   "outputs": [
    {
     "data": {
      "image/png": "[encoded data removed]",
      "text/plain": [
       "<Figure size 432x288 with 1 Axes>"
      ]
     },
     "metadata": {
      "needs_background": "light"
     },
     "output_type": "display_data"
    }
   ],
   "source": [
    "rolling100_data_points = data_frame.rolling(100).skew()\n",
    "plt.plot(rolling100_data_points)\n",
    "plt.show()"
   ]
  },
  {
   "cell_type": "markdown",
   "metadata": {},
   "source": [
    "# Zero Crossing"
   ]
  },
  {
   "cell_type": "code",
   "execution_count": 21,
   "metadata": {},
   "outputs": [
    {
     "data": {
      "image/png": "[encoded data removed]",
      "text/plain": [
       "<Figure size 432x288 with 1 Axes>"
      ]
     },
     "metadata": {
      "needs_background": "light"
     },
     "output_type": "display_data"
    }
   ],
   "source": [
    "plt.hist(np.where(np.diff(np.sign(data[:,1]))))\n",
    "plt.show()"
   ]
  },
  {
   "cell_type": "markdown",
   "metadata": {},
   "source": [
    "https://docs.scipy.org/doc/scipy/reference/stats.html#discrete-distributions"
   ]
  }
 ],
 "metadata": {
  "kernelspec": {
   "display_name": "Python 3",
   "language": "python",
   "name": "python3"
  },
  "language_info": {
   "codemirror_mode": {
    "name": "ipython",
    "version": 3
   },
   "file_extension": ".py",
   "mimetype": "text/x-python",
   "name": "python",
   "nbconvert_exporter": "python",
   "pygments_lexer": "ipython3",
   "version": "3.7.4"
  },
  "pycharm": {
   "stem_cell": {
    "cell_type": "raw",
    "metadata": {
     "collapsed": false
    },
    "source": []
   }
  },
  "widgets": {
   "application/vnd.jupyter.widget-state+json": {
    "state": {},
    "version_major": 2,
    "version_minor": 0
   }
  }
 },
 "nbformat": 4,
 "nbformat_minor": 2
}
